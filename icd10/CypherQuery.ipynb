{
  "nbformat": 4,
  "nbformat_minor": 0,
  "metadata": {
    "colab": {
      "provenance": [],
      "authorship_tag": "ABX9TyP7x9g2FvyqnRi40ASdb0pU",
      "include_colab_link": true
    },
    "kernelspec": {
      "name": "python3",
      "display_name": "Python 3"
    },
    "language_info": {
      "name": "python"
    }
  },
  "cells": [
    {
      "cell_type": "markdown",
      "metadata": {
        "id": "view-in-github",
        "colab_type": "text"
      },
      "source": [
        "<a href=\"https://colab.research.google.com/github/nxxk23/AI-Engineer/blob/main/icd10/CypherQuery.ipynb\" target=\"_parent\"><img src=\"https://colab.research.google.com/assets/colab-badge.svg\" alt=\"Open In Colab\"/></a>"
      ]
    },
    {
      "cell_type": "code",
      "execution_count": null,
      "metadata": {
        "colab": {
          "base_uri": "https://localhost:8080/"
        },
        "id": "3ledMtWCVaB0",
        "outputId": "597fa013-f5f6-48bc-8bbf-126d76cb7259"
      },
      "outputs": [
        {
          "output_type": "stream",
          "name": "stdout",
          "text": [
            "\u001b[?25l   \u001b[90m━━━━━━━━━━━━━━━━━━━━━━━━━━━━━━━━━━━━━━━━\u001b[0m \u001b[32m0.0/312.3 kB\u001b[0m \u001b[31m?\u001b[0m eta \u001b[36m-:--:--\u001b[0m\r\u001b[2K   \u001b[91m━━━━━━━━━━━━━━━\u001b[0m\u001b[91m╸\u001b[0m\u001b[90m━━━━━━━━━━━━━━━━━━━━━━━━\u001b[0m \u001b[32m122.9/312.3 kB\u001b[0m \u001b[31m3.5 MB/s\u001b[0m eta \u001b[36m0:00:01\u001b[0m\r\u001b[2K   \u001b[90m━━━━━━━━━━━━━━━━━━━━━━━━━━━━━━━━━━━━━━━━\u001b[0m \u001b[32m312.3/312.3 kB\u001b[0m \u001b[31m4.4 MB/s\u001b[0m eta \u001b[36m0:00:00\u001b[0m\n",
            "\u001b[?25h"
          ]
        }
      ],
      "source": [
        "!pip -q install neo4j"
      ]
    },
    {
      "cell_type": "code",
      "source": [
        "from neo4j import GraphDatabase\n",
        "\n",
        "# Neo4j Aura connection details\n",
        "NEO4J_URI = \"neo4j+s://test-neo4j.manageai.co.th:7687\"  # Updated to use 'neo4j+s://' protocol\n",
        "NEO4J_USERNAME = \"neo4j\"\n",
        "NEO4J_PASSWORD = \"iRU8ElhtDhoe0XdM72c0muzWY\"\n",
        "\n",
        "# Create a connection function\n",
        "def connect_to_neo4j():\n",
        "    return GraphDatabase.driver(NEO4J_URI, auth=(NEO4J_USERNAME, NEO4J_PASSWORD))\n",
        "\n",
        "# Initialize the driver\n",
        "driver = connect_to_neo4j()"
      ],
      "metadata": {
        "id": "snZoF0m1Z2si"
      },
      "execution_count": null,
      "outputs": []
    },
    {
      "cell_type": "code",
      "source": [
        "import json\n",
        "\n",
        "def search_icd10(query):\n",
        "    with driver.session() as session:\n",
        "        result = session.run(\"\"\"\n",
        "            CALL db.index.fulltext.queryNodes(\"ICD10Search\", $query) YIELD node, score\n",
        "            RETURN node.code AS code, node.descriptions_en AS descriptions_en, node.descriptions_th AS descriptions_th, score\n",
        "        \"\"\", {\"query\": query})  # Pass the query in a dictionary\n",
        "\n",
        "        # Convert results to a list of dictionaries\n",
        "        return [record.data() for record in result]"
      ],
      "metadata": {
        "id": "RSHmu8prZ7qv"
      },
      "execution_count": null,
      "outputs": []
    },
    {
      "cell_type": "code",
      "source": [
        "# Example usage\n",
        "query_text = \"covid โควิด\"\n",
        "results = search_icd10(query_text)\n",
        "\n",
        "# Print the results in JSON format\n",
        "print(json.dumps(results, indent=4, ensure_ascii=False))"
      ],
      "metadata": {
        "colab": {
          "base_uri": "https://localhost:8080/"
        },
        "id": "rMONAO7radLi",
        "outputId": "97aa3b8c-86a8-4f57-d092-87e7a77ee462"
      },
      "execution_count": null,
      "outputs": [
        {
          "output_type": "stream",
          "name": "stdout",
          "text": [
            "[\n",
            "    {\n",
            "        \"code\": \"U071\",\n",
            "        \"descriptions_en\": \"COVID-19, virus identified\",\n",
            "        \"descriptions_th\": \"โควิด-19 ระบุเชื้อไวรัส\",\n",
            "        \"score\": 9.599483489990234\n",
            "    },\n",
            "    {\n",
            "        \"code\": \"U072\",\n",
            "        \"descriptions_en\": \"COVID-19, virus not identified\",\n",
            "        \"descriptions_th\": \"โควิด-19 ไม่ระบุเชื้อไวรัส\",\n",
            "        \"score\": 9.35251235961914\n",
            "    },\n",
            "    {\n",
            "        \"code\": \"U109\",\n",
            "        \"descriptions_en\": \"Multisystem inflammatory syndrome associated with COVID-19, unspecified\",\n",
            "        \"descriptions_th\": \"กลุ่มอาการอักเสบหลายระบบที่เกี่ยวข้องกับ โควิด-19, ไม่ระบุรายละเอียด\",\n",
            "        \"score\": 8.229043006896973\n",
            "    },\n",
            "    {\n",
            "        \"code\": \"U099\",\n",
            "        \"descriptions_en\": \"Post COVID-19 condition, unspecified\",\n",
            "        \"descriptions_th\": \"ภาวะหลังจากติดเชื้อโควิด-19, ไม่ระบุรายละเอียด\",\n",
            "        \"score\": 5.033233642578125\n",
            "    },\n",
            "    {\n",
            "        \"code\": \"U089\",\n",
            "        \"descriptions_en\": \"Personal history of COVID-19, unspecified\",\n",
            "        \"descriptions_th\": \"ประวัติส่วนตัวเคยติดเชื้อโควิด-19, ไม่ระบุรายละเอียด\",\n",
            "        \"score\": 4.808332443237305\n",
            "    },\n",
            "    {\n",
            "        \"code\": \"U119\",\n",
            "        \"descriptions_en\": \"Need for immunization against COVID-19, unspecified\",\n",
            "        \"descriptions_th\": \"ต้องการก่อภูมิคุ้มกันต่อโรคโควิด 19 ไม่ระบุรายละเอียด\",\n",
            "        \"score\": 4.602670669555664\n",
            "    },\n",
            "    {\n",
            "        \"code\": \"U129\",\n",
            "        \"descriptions_en\": \"COVID-19 vaccines causing adverse effects in therapeutic use, unspecified\",\n",
            "        \"descriptions_th\": \"ผลข้างเคียงจากการได้รับวัคซีนโควิด 19 ที่ใช้ในการรักษา ไม่ระบุรายละเอียด\",\n",
            "        \"score\": 4.0792388916015625\n",
            "    }\n",
            "]\n"
          ]
        }
      ]
    },
    {
      "cell_type": "code",
      "source": [
        "# Example usage\n",
        "query_text = \"covid โควิด\"\n",
        "results = search_icd10(query_text)\n",
        "\n",
        "# Print the results\n",
        "for record in results:\n",
        "    print(f\"Code: {record['code']}, EN: {record['descriptions_en']}, TH: {record['descriptions_th']}\")"
      ],
      "metadata": {
        "colab": {
          "base_uri": "https://localhost:8080/"
        },
        "id": "IaJ_FqdBaCol",
        "outputId": "7476bc01-c8f1-413e-f53e-8ba397578291"
      },
      "execution_count": null,
      "outputs": [
        {
          "output_type": "stream",
          "name": "stdout",
          "text": [
            "Code: U071, EN: COVID-19, virus identified, TH: โควิด-19 ระบุเชื้อไวรัส\n",
            "Code: U072, EN: COVID-19, virus not identified, TH: โควิด-19 ไม่ระบุเชื้อไวรัส\n",
            "Code: U109, EN: Multisystem inflammatory syndrome associated with COVID-19, unspecified, TH: กลุ่มอาการอักเสบหลายระบบที่เกี่ยวข้องกับ โควิด-19, ไม่ระบุรายละเอียด\n",
            "Code: U099, EN: Post COVID-19 condition, unspecified, TH: ภาวะหลังจากติดเชื้อโควิด-19, ไม่ระบุรายละเอียด\n",
            "Code: U089, EN: Personal history of COVID-19, unspecified, TH: ประวัติส่วนตัวเคยติดเชื้อโควิด-19, ไม่ระบุรายละเอียด\n",
            "Code: U119, EN: Need for immunization against COVID-19, unspecified, TH: ต้องการก่อภูมิคุ้มกันต่อโรคโควิด 19 ไม่ระบุรายละเอียด\n",
            "Code: U129, EN: COVID-19 vaccines causing adverse effects in therapeutic use, unspecified, TH: ผลข้างเคียงจากการได้รับวัคซีนโควิด 19 ที่ใช้ในการรักษา ไม่ระบุรายละเอียด\n"
          ]
        }
      ]
    },
    {
      "cell_type": "code",
      "source": [],
      "metadata": {
        "id": "SXAGtNxyaOln"
      },
      "execution_count": null,
      "outputs": []
    }
  ]
}