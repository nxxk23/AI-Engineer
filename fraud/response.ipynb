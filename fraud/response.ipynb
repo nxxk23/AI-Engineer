{
  "nbformat": 4,
  "nbformat_minor": 0,
  "metadata": {
    "colab": {
      "provenance": [],
      "authorship_tag": "ABX9TyPHYadlCbj3ku9XI4UySiCE",
      "include_colab_link": true
    },
    "kernelspec": {
      "name": "python3",
      "display_name": "Python 3"
    },
    "language_info": {
      "name": "python"
    }
  },
  "cells": [
    {
      "cell_type": "markdown",
      "metadata": {
        "id": "view-in-github",
        "colab_type": "text"
      },
      "source": [
        "<a href=\"https://colab.research.google.com/github/nxxk23/AI-Engineer/blob/main/fraud/response.ipynb\" target=\"_parent\"><img src=\"https://colab.research.google.com/assets/colab-badge.svg\" alt=\"Open In Colab\"/></a>"
      ]
    },
    {
      "cell_type": "code",
      "execution_count": 1,
      "metadata": {
        "colab": {
          "base_uri": "https://localhost:8080/"
        },
        "id": "vwcbFI81av5j",
        "outputId": "273aa356-2342-4154-cc31-6838564c8f53"
      },
      "outputs": [
        {
          "output_type": "stream",
          "name": "stdout",
          "text": [
            "Mounted at /content/drive\n"
          ]
        }
      ],
      "source": [
        "from google.colab import drive\n",
        "drive.mount('/content/drive')"
      ]
    },
    {
      "cell_type": "code",
      "source": [
        "import pandas as pd\n",
        "import json as js\n",
        "import re"
      ],
      "metadata": {
        "id": "CWgphGWMcyke"
      },
      "execution_count": 2,
      "outputs": []
    },
    {
      "cell_type": "code",
      "source": [
        "hospital = pd.read_csv('/content/drive/MyDrive/AIEngineer/fraud/health_office.csv')\n",
        "hospital.columns"
      ],
      "metadata": {
        "colab": {
          "base_uri": "https://localhost:8080/"
        },
        "id": "bNH859jTdl9K",
        "outputId": "7e8cf835-a215-4cb6-f1f4-3372f1082003"
      },
      "execution_count": 15,
      "outputs": [
        {
          "output_type": "stream",
          "name": "stderr",
          "text": [
            "<ipython-input-15-d69fde0a6e6e>:1: DtypeWarning: Columns (21) have mixed types. Specify dtype option on import or set low_memory=False.\n",
            "  hospital = pd.read_csv('/content/drive/MyDrive/AIEngineer/fraud/health_office.csv')\n"
          ]
        },
        {
          "output_type": "execute_result",
          "data": {
            "text/plain": [
              "Index(['ชื่อ', 'รหัส 9 หลักใหม่', 'รหัส 9 หลัก', 'รหัส 5 หลัก',\n",
              "       'เลขอนุญาตให้ประกอบสถานบริการสุขภาพ 11 หลัก', 'ประเภทองค์กร',\n",
              "       'ประเภทหน่วยบริการสุขภาพ', 'สังกัด', 'แผนก/กรม', 'ระดับโรงพยาบาล',\n",
              "       'เตียงที่ใช้จริง', 'สถานะการใช้งาน', 'เขตบริการ', 'ที่อยู่',\n",
              "       'รหัสจังหวัด', 'จังหวัด', 'รหัสอำเภอ', 'อำเภอ/เขต', 'รหัสตำบล',\n",
              "       'ตำบล/แขวง', 'หมู่', 'รหัสไปรษณีย์', 'แม่ข่าย', 'วันที่ก่อตั้ง',\n",
              "       'วันที่ปิดบริการ', 'อัพเดตล่าสุด(เริ่ม 05/09/2566)'],\n",
              "      dtype='object')"
            ]
          },
          "metadata": {},
          "execution_count": 15
        }
      ]
    },
    {
      "cell_type": "code",
      "source": [
        "data = pd.read_csv('/content/drive/MyDrive/AIEngineer/fraud/opd_discharge_August_2024.csv')\n",
        "cols_to_drop = [col for col in data.columns if col.endswith('_txt')]\n",
        "data = data.drop(columns=cols_to_drop)\n",
        "df = data[data['claim_status'].isin(['Approve', 'Decline'])]\n",
        "print(df['claim_status'].value_counts())"
      ],
      "metadata": {
        "colab": {
          "base_uri": "https://localhost:8080/"
        },
        "id": "1tQG8N41c_Ds",
        "outputId": "87f26120-0244-4778-e592-5333b84943fc"
      },
      "execution_count": 16,
      "outputs": [
        {
          "output_type": "stream",
          "name": "stdout",
          "text": [
            "claim_status\n",
            "Approve    15581\n",
            "Decline      184\n",
            "Name: count, dtype: int64\n"
          ]
        }
      ]
    },
    {
      "cell_type": "code",
      "source": [
        "df['hospital_code'] = df['hospital_code'].astype(str)\n",
        "hospital['hospital_code'] = hospital['รหัส 5 หลัก'].str.replace('=\"', '').str.replace('\"', '')\n",
        "hospital = hospital[['hospital_code', 'ชื่อ']].rename(columns={'ชื่อ': 'hospital_name'})\n",
        "df = df.merge(hospital, on='hospital_code', how='left')"
      ],
      "metadata": {
        "colab": {
          "base_uri": "https://localhost:8080/"
        },
        "id": "Cz9BQzPueqKE",
        "outputId": "6e16ed8d-d007-4c66-a4c1-ebdceabe780f"
      },
      "execution_count": 17,
      "outputs": [
        {
          "output_type": "stream",
          "name": "stderr",
          "text": [
            "<ipython-input-17-83a06c097e2e>:1: SettingWithCopyWarning: \n",
            "A value is trying to be set on a copy of a slice from a DataFrame.\n",
            "Try using .loc[row_indexer,col_indexer] = value instead\n",
            "\n",
            "See the caveats in the documentation: https://pandas.pydata.org/pandas-docs/stable/user_guide/indexing.html#returning-a-view-versus-a-copy\n",
            "  df['hospital_code'] = df['hospital_code'].astype(str)\n"
          ]
        }
      ]
    },
    {
      "cell_type": "code",
      "source": [
        "hospital[hospital['hospital_code'] == '40765']"
      ],
      "metadata": {
        "colab": {
          "base_uri": "https://localhost:8080/",
          "height": 81
        },
        "id": "MDqwT_qHilPY",
        "outputId": "cd369ee8-8f25-4293-b220-c138cb7c3b26"
      },
      "execution_count": 37,
      "outputs": [
        {
          "output_type": "execute_result",
          "data": {
            "text/plain": [
              "     hospital_code                                   hospital_name\n",
              "1394         40765  โรงพยาบาลทั่วไปขนาดใหญ่เกษมราษฎร์ รัตนาธิเบศร์"
            ],
            "text/html": [
              "\n",
              "  <div id=\"df-75676552-e8e4-4641-91a6-aa1c40275088\" class=\"colab-df-container\">\n",
              "    <div>\n",
              "<style scoped>\n",
              "    .dataframe tbody tr th:only-of-type {\n",
              "        vertical-align: middle;\n",
              "    }\n",
              "\n",
              "    .dataframe tbody tr th {\n",
              "        vertical-align: top;\n",
              "    }\n",
              "\n",
              "    .dataframe thead th {\n",
              "        text-align: right;\n",
              "    }\n",
              "</style>\n",
              "<table border=\"1\" class=\"dataframe\">\n",
              "  <thead>\n",
              "    <tr style=\"text-align: right;\">\n",
              "      <th></th>\n",
              "      <th>hospital_code</th>\n",
              "      <th>hospital_name</th>\n",
              "    </tr>\n",
              "  </thead>\n",
              "  <tbody>\n",
              "    <tr>\n",
              "      <th>1394</th>\n",
              "      <td>40765</td>\n",
              "      <td>โรงพยาบาลทั่วไปขนาดใหญ่เกษมราษฎร์ รัตนาธิเบศร์</td>\n",
              "    </tr>\n",
              "  </tbody>\n",
              "</table>\n",
              "</div>\n",
              "    <div class=\"colab-df-buttons\">\n",
              "\n",
              "  <div class=\"colab-df-container\">\n",
              "    <button class=\"colab-df-convert\" onclick=\"convertToInteractive('df-75676552-e8e4-4641-91a6-aa1c40275088')\"\n",
              "            title=\"Convert this dataframe to an interactive table.\"\n",
              "            style=\"display:none;\">\n",
              "\n",
              "  <svg xmlns=\"http://www.w3.org/2000/svg\" height=\"24px\" viewBox=\"0 -960 960 960\">\n",
              "    <path d=\"M120-120v-720h720v720H120Zm60-500h600v-160H180v160Zm220 220h160v-160H400v160Zm0 220h160v-160H400v160ZM180-400h160v-160H180v160Zm440 0h160v-160H620v160ZM180-180h160v-160H180v160Zm440 0h160v-160H620v160Z\"/>\n",
              "  </svg>\n",
              "    </button>\n",
              "\n",
              "  <style>\n",
              "    .colab-df-container {\n",
              "      display:flex;\n",
              "      gap: 12px;\n",
              "    }\n",
              "\n",
              "    .colab-df-convert {\n",
              "      background-color: #E8F0FE;\n",
              "      border: none;\n",
              "      border-radius: 50%;\n",
              "      cursor: pointer;\n",
              "      display: none;\n",
              "      fill: #1967D2;\n",
              "      height: 32px;\n",
              "      padding: 0 0 0 0;\n",
              "      width: 32px;\n",
              "    }\n",
              "\n",
              "    .colab-df-convert:hover {\n",
              "      background-color: #E2EBFA;\n",
              "      box-shadow: 0px 1px 2px rgba(60, 64, 67, 0.3), 0px 1px 3px 1px rgba(60, 64, 67, 0.15);\n",
              "      fill: #174EA6;\n",
              "    }\n",
              "\n",
              "    .colab-df-buttons div {\n",
              "      margin-bottom: 4px;\n",
              "    }\n",
              "\n",
              "    [theme=dark] .colab-df-convert {\n",
              "      background-color: #3B4455;\n",
              "      fill: #D2E3FC;\n",
              "    }\n",
              "\n",
              "    [theme=dark] .colab-df-convert:hover {\n",
              "      background-color: #434B5C;\n",
              "      box-shadow: 0px 1px 3px 1px rgba(0, 0, 0, 0.15);\n",
              "      filter: drop-shadow(0px 1px 2px rgba(0, 0, 0, 0.3));\n",
              "      fill: #FFFFFF;\n",
              "    }\n",
              "  </style>\n",
              "\n",
              "    <script>\n",
              "      const buttonEl =\n",
              "        document.querySelector('#df-75676552-e8e4-4641-91a6-aa1c40275088 button.colab-df-convert');\n",
              "      buttonEl.style.display =\n",
              "        google.colab.kernel.accessAllowed ? 'block' : 'none';\n",
              "\n",
              "      async function convertToInteractive(key) {\n",
              "        const element = document.querySelector('#df-75676552-e8e4-4641-91a6-aa1c40275088');\n",
              "        const dataTable =\n",
              "          await google.colab.kernel.invokeFunction('convertToInteractive',\n",
              "                                                    [key], {});\n",
              "        if (!dataTable) return;\n",
              "\n",
              "        const docLinkHtml = 'Like what you see? Visit the ' +\n",
              "          '<a target=\"_blank\" href=https://colab.research.google.com/notebooks/data_table.ipynb>data table notebook</a>'\n",
              "          + ' to learn more about interactive tables.';\n",
              "        element.innerHTML = '';\n",
              "        dataTable['output_type'] = 'display_data';\n",
              "        await google.colab.output.renderOutput(dataTable, element);\n",
              "        const docLink = document.createElement('div');\n",
              "        docLink.innerHTML = docLinkHtml;\n",
              "        element.appendChild(docLink);\n",
              "      }\n",
              "    </script>\n",
              "  </div>\n",
              "\n",
              "\n",
              "    </div>\n",
              "  </div>\n"
            ],
            "application/vnd.google.colaboratory.intrinsic+json": {
              "type": "dataframe",
              "summary": "{\n  \"name\": \"hospital[hospital['hospital_code'] == '40765']\",\n  \"rows\": 1,\n  \"fields\": [\n    {\n      \"column\": \"hospital_code\",\n      \"properties\": {\n        \"dtype\": \"string\",\n        \"num_unique_values\": 1,\n        \"samples\": [\n          \"40765\"\n        ],\n        \"semantic_type\": \"\",\n        \"description\": \"\"\n      }\n    },\n    {\n      \"column\": \"hospital_name\",\n      \"properties\": {\n        \"dtype\": \"string\",\n        \"num_unique_values\": 1,\n        \"samples\": [\n          \"\\u0e42\\u0e23\\u0e07\\u0e1e\\u0e22\\u0e32\\u0e1a\\u0e32\\u0e25\\u0e17\\u0e31\\u0e48\\u0e27\\u0e44\\u0e1b\\u0e02\\u0e19\\u0e32\\u0e14\\u0e43\\u0e2b\\u0e0d\\u0e48\\u0e40\\u0e01\\u0e29\\u0e21\\u0e23\\u0e32\\u0e29\\u0e0e\\u0e23\\u0e4c \\u0e23\\u0e31\\u0e15\\u0e19\\u0e32\\u0e18\\u0e34\\u0e40\\u0e1a\\u0e28\\u0e23\\u0e4c\"\n        ],\n        \"semantic_type\": \"\",\n        \"description\": \"\"\n      }\n    }\n  ]\n}"
            }
          },
          "metadata": {},
          "execution_count": 37
        }
      ]
    },
    {
      "cell_type": "code",
      "source": [
        "df[df['order_item'] != '[]'][['hospital_code', 'hospital_name', 'cid', 'insurance', 'claim_status', 'diagnosis', 'billing', 'order_item', 'response']]"
      ],
      "metadata": {
        "id": "X84FmPsQdiLj"
      },
      "execution_count": 40,
      "outputs": []
    },
    {
      "cell_type": "code",
      "source": [
        "decline = focus[focus['claim_status'].astype(str)=='Decline']\n",
        "decline['insurance'].value_counts()"
      ],
      "metadata": {
        "colab": {
          "base_uri": "https://localhost:8080/",
          "height": 241
        },
        "id": "sXj9VhKMi5H7",
        "outputId": "d957fcc6-3e4d-4ff7-b427-ad086ae64757"
      },
      "execution_count": 76,
      "outputs": [
        {
          "output_type": "execute_result",
          "data": {
            "text/plain": [
              "insurance\n",
              "tli    23\n",
              "aia    19\n",
              "mtl    12\n",
              "fwd     3\n",
              "Name: count, dtype: int64"
            ],
            "text/html": [
              "<div>\n",
              "<style scoped>\n",
              "    .dataframe tbody tr th:only-of-type {\n",
              "        vertical-align: middle;\n",
              "    }\n",
              "\n",
              "    .dataframe tbody tr th {\n",
              "        vertical-align: top;\n",
              "    }\n",
              "\n",
              "    .dataframe thead th {\n",
              "        text-align: right;\n",
              "    }\n",
              "</style>\n",
              "<table border=\"1\" class=\"dataframe\">\n",
              "  <thead>\n",
              "    <tr style=\"text-align: right;\">\n",
              "      <th></th>\n",
              "      <th>count</th>\n",
              "    </tr>\n",
              "    <tr>\n",
              "      <th>insurance</th>\n",
              "      <th></th>\n",
              "    </tr>\n",
              "  </thead>\n",
              "  <tbody>\n",
              "    <tr>\n",
              "      <th>tli</th>\n",
              "      <td>23</td>\n",
              "    </tr>\n",
              "    <tr>\n",
              "      <th>aia</th>\n",
              "      <td>19</td>\n",
              "    </tr>\n",
              "    <tr>\n",
              "      <th>mtl</th>\n",
              "      <td>12</td>\n",
              "    </tr>\n",
              "    <tr>\n",
              "      <th>fwd</th>\n",
              "      <td>3</td>\n",
              "    </tr>\n",
              "  </tbody>\n",
              "</table>\n",
              "</div><br><label><b>dtype:</b> int64</label>"
            ]
          },
          "metadata": {},
          "execution_count": 76
        }
      ]
    },
    {
      "cell_type": "markdown",
      "source": [
        "## **❗case: decline**\n",
        "- **tli**: เข้าข้อยกเว้น, ICD10 อยู่ในกลุ่มโรค\n",
        "\n",
        "- **aia**: ไม่สามารถเคลมได้ เนื่องจากสัญญาเพิ่มเติมสิ้นผลบังคับ, เบิกซ้ำซ้อนมากกว่า 1 ครั้ง/วัน, ต้องการข้อมูลทางการแพทย์เพิ่มเติม, ผลประโยชน์คุ้มครองเฉพาะค่ารักษาพยาบาลกรณีอุบัติเหตุ\n",
        "\n",
        "- **mtl**: กรุณาสำรองจ่ายและส่งเอกสารการเคลมให้กับบริษัทฯโดยตรง, โรคมีระยะเวลาการรอคอย 180 วัน, ส่ง fax claim, เงื่อนไขโรคยกเว้นเฉพาะรายบุคคล, โรคที่เข้าข่ายในเงื่อนไขข้อยกเว้นกรมธรรม์สัญญาสุขภาพ\n",
        "\n",
        "- **fwd**: copay == ผู้ป่วยต้องจ่ายเอง"
      ],
      "metadata": {
        "id": "IxiHPT2KlDbM"
      }
    },
    {
      "cell_type": "code",
      "source": [
        "js.loads(decline[decline['insurance']=='fwd']['response'].iloc[2])"
      ],
      "metadata": {
        "id": "gt0Y84HnkvYn"
      },
      "execution_count": null,
      "outputs": []
    },
    {
      "cell_type": "code",
      "source": [
        "approve = focus[focus['claim_status'].astype(str)=='Approve']\n",
        "approve['insurance'].value_counts()"
      ],
      "metadata": {
        "colab": {
          "base_uri": "https://localhost:8080/",
          "height": 241
        },
        "id": "UuNmphavm1U8",
        "outputId": "9f9eabe6-b1d1-4b16-8146-b90d92d3e2e5"
      },
      "execution_count": 115,
      "outputs": [
        {
          "output_type": "execute_result",
          "data": {
            "text/plain": [
              "insurance\n",
              "mtl    2068\n",
              "aia    1572\n",
              "fwd     868\n",
              "tli     265\n",
              "Name: count, dtype: int64"
            ],
            "text/html": [
              "<div>\n",
              "<style scoped>\n",
              "    .dataframe tbody tr th:only-of-type {\n",
              "        vertical-align: middle;\n",
              "    }\n",
              "\n",
              "    .dataframe tbody tr th {\n",
              "        vertical-align: top;\n",
              "    }\n",
              "\n",
              "    .dataframe thead th {\n",
              "        text-align: right;\n",
              "    }\n",
              "</style>\n",
              "<table border=\"1\" class=\"dataframe\">\n",
              "  <thead>\n",
              "    <tr style=\"text-align: right;\">\n",
              "      <th></th>\n",
              "      <th>count</th>\n",
              "    </tr>\n",
              "    <tr>\n",
              "      <th>insurance</th>\n",
              "      <th></th>\n",
              "    </tr>\n",
              "  </thead>\n",
              "  <tbody>\n",
              "    <tr>\n",
              "      <th>mtl</th>\n",
              "      <td>2068</td>\n",
              "    </tr>\n",
              "    <tr>\n",
              "      <th>aia</th>\n",
              "      <td>1572</td>\n",
              "    </tr>\n",
              "    <tr>\n",
              "      <th>fwd</th>\n",
              "      <td>868</td>\n",
              "    </tr>\n",
              "    <tr>\n",
              "      <th>tli</th>\n",
              "      <td>265</td>\n",
              "    </tr>\n",
              "  </tbody>\n",
              "</table>\n",
              "</div><br><label><b>dtype:</b> int64</label>"
            ]
          },
          "metadata": {},
          "execution_count": 115
        }
      ]
    },
    {
      "cell_type": "code",
      "source": [
        "js.loads(approve[approve['insurance']=='aia']['response'].iloc[0])"
      ],
      "metadata": {
        "colab": {
          "base_uri": "https://localhost:8080/"
        },
        "id": "BsQWBzM3m8RC",
        "outputId": "b2036286-11a0-44bc-c958-b77677cfcb7b"
      },
      "execution_count": 120,
      "outputs": [
        {
          "output_type": "execute_result",
          "data": {
            "text/plain": [
              "{'detail': [],\n",
              " 'claim_no': 'C029322630',\n",
              " 'insurer_detail': [{'claim_no': 'C029322630',\n",
              "   'non_cover': '',\n",
              "   'benefit_code': 'HS',\n",
              "   'copay_amount': '',\n",
              "   'coverage_code': 'ME สัญญาเพิ่มเติมมีสิทธิ์ใช้บริการเรียกร้องสินไหม',\n",
              "   'excess_amount': '',\n",
              "   'policy_number': 'P260294452',\n",
              "   'insurance_type': '',\n",
              "   'order_sequence': '1',\n",
              "   'trailer_number': '',\n",
              "   'approved_amount': '',\n",
              "   'result_description': ''},\n",
              "  {'claim_no': 'C029322630',\n",
              "   'non_cover': '',\n",
              "   'benefit_code': 'HS',\n",
              "   'copay_amount': '',\n",
              "   'coverage_code': 'ME ไม่สามารถใช้บริการเรียกร้องสินไหมได้',\n",
              "   'excess_amount': '',\n",
              "   'policy_number': 'P318183114',\n",
              "   'insurance_type': '',\n",
              "   'order_sequence': '2',\n",
              "   'trailer_number': '',\n",
              "   'approved_amount': '',\n",
              "   'result_description': ''},\n",
              "  {'claim_no': 'C029322630',\n",
              "   'non_cover': '',\n",
              "   'benefit_code': 'HS',\n",
              "   'copay_amount': '',\n",
              "   'coverage_code': 'ME สัญญาเพิ่มเติมมีสิทธิ์ใช้บริการเรียกร้องสินไหม',\n",
              "   'excess_amount': '',\n",
              "   'policy_number': 'P328402393',\n",
              "   'insurance_type': '',\n",
              "   'order_sequence': '3',\n",
              "   'trailer_number': '',\n",
              "   'approved_amount': '',\n",
              "   'result_description': ''},\n",
              "  {'claim_no': 'C029322630',\n",
              "   'non_cover': '',\n",
              "   'benefit_code': 'HS',\n",
              "   'copay_amount': '',\n",
              "   'coverage_code': 'ME ไม่สามารถใช้บริการเรียกร้องสินไหมได้',\n",
              "   'excess_amount': '',\n",
              "   'policy_number': 'P332434823',\n",
              "   'insurance_type': '',\n",
              "   'order_sequence': '4',\n",
              "   'trailer_number': '',\n",
              "   'approved_amount': '',\n",
              "   'result_description': ''},\n",
              "  {'claim_no': 'C029322630',\n",
              "   'non_cover': '',\n",
              "   'benefit_code': 'HS',\n",
              "   'copay_amount': '',\n",
              "   'coverage_code': 'ME สัญญาเพิ่มเติมมีสิทธิ์ใช้บริการเรียกร้องสินไหม',\n",
              "   'excess_amount': '',\n",
              "   'policy_number': 'P332948801',\n",
              "   'insurance_type': '',\n",
              "   'order_sequence': '5',\n",
              "   'trailer_number': '',\n",
              "   'approved_amount': '',\n",
              "   'result_description': ''},\n",
              "  {'claim_no': 'C029322630',\n",
              "   'non_cover': '',\n",
              "   'benefit_code': 'HS',\n",
              "   'copay_amount': '',\n",
              "   'coverage_code': 'H&S ไม่สามารถใช้บริการเรียกร้องสินไหมได้ เนื่องจากสัญญาเพิ่มเติมสิ้นผลบังคับ',\n",
              "   'excess_amount': '',\n",
              "   'policy_number': 'T006862611',\n",
              "   'insurance_type': '',\n",
              "   'order_sequence': '6',\n",
              "   'trailer_number': '',\n",
              "   'approved_amount': '',\n",
              "   'result_description': ''},\n",
              "  {'claim_no': 'C029322630',\n",
              "   'non_cover': '',\n",
              "   'benefit_code': 'HS',\n",
              "   'copay_amount': '',\n",
              "   'coverage_code': 'H&S ไม่สามารถใช้บริการเรียกร้องสินไหมได้ เนื่องจากสัญญาเพิ่มเติมสิ้นผลบังคับ',\n",
              "   'excess_amount': '',\n",
              "   'policy_number': 'T064194279',\n",
              "   'insurance_type': '',\n",
              "   'order_sequence': '7',\n",
              "   'trailer_number': '',\n",
              "   'approved_amount': '',\n",
              "   'result_description': ''},\n",
              "  {'claim_no': 'C029322630',\n",
              "   'non_cover': '',\n",
              "   'benefit_code': 'HS',\n",
              "   'copay_amount': '',\n",
              "   'coverage_code': 'H&S Plus gold ไม่สามารถใช้บริการเรียกร้องสินไหมได้ เนื่องจากสัญญาเพิ่มเติมสิ้นผลบังคับ',\n",
              "   'excess_amount': '',\n",
              "   'policy_number': 'T212943955',\n",
              "   'insurance_type': '',\n",
              "   'order_sequence': '8',\n",
              "   'trailer_number': '',\n",
              "   'approved_amount': '',\n",
              "   'result_description': ''},\n",
              "  {'claim_no': 'C029322630',\n",
              "   'non_cover': '',\n",
              "   'benefit_code': 'HS',\n",
              "   'copay_amount': '',\n",
              "   'coverage_code': 'H&S ไม่สามารถใช้บริการเรียกร้องสินไหมได้ เนื่องจากสัญญาเพิ่มเติมสิ้นผลบังคับ',\n",
              "   'excess_amount': '',\n",
              "   'policy_number': 'T215995683',\n",
              "   'insurance_type': '',\n",
              "   'order_sequence': '9',\n",
              "   'trailer_number': '',\n",
              "   'approved_amount': '',\n",
              "   'result_description': ''},\n",
              "  {'claim_no': 'C029322630',\n",
              "   'non_cover': '',\n",
              "   'benefit_code': 'HS',\n",
              "   'copay_amount': '',\n",
              "   'coverage_code': 'H&S Plus gold ไม่สามารถใช้บริการเรียกร้องสินไหมได้ เนื่องจากสัญญาเพิ่มเติมสิ้นผลบังคับ',\n",
              "   'excess_amount': '',\n",
              "   'policy_number': 'T215995683',\n",
              "   'insurance_type': '',\n",
              "   'order_sequence': '10',\n",
              "   'trailer_number': '',\n",
              "   'approved_amount': '',\n",
              "   'result_description': ''},\n",
              "  {'claim_no': 'C029322630',\n",
              "   'non_cover': '',\n",
              "   'benefit_code': 'HS',\n",
              "   'copay_amount': '',\n",
              "   'coverage_code': 'Health happy ไม่สามารถใช้บริการเรียกร้องสินไหมได้ เนื่องจากสัญญาเพิ่มเติมสิ้นผลบังคับ',\n",
              "   'excess_amount': '',\n",
              "   'policy_number': 'T224099693',\n",
              "   'insurance_type': '',\n",
              "   'order_sequence': '11',\n",
              "   'trailer_number': '',\n",
              "   'approved_amount': '',\n",
              "   'result_description': ''},\n",
              "  {'claim_no': 'C029322630',\n",
              "   'non_cover': '',\n",
              "   'benefit_code': 'HS',\n",
              "   'copay_amount': '',\n",
              "   'coverage_code': 'Health happy ไม่สามารถใช้บริการเรียกร้องสินไหมได้ เนื่องจากสัญญาเพิ่มเติมสิ้นผลบังคับ',\n",
              "   'excess_amount': '',\n",
              "   'policy_number': 'T240556275',\n",
              "   'insurance_type': '',\n",
              "   'order_sequence': '12',\n",
              "   'trailer_number': '',\n",
              "   'approved_amount': '',\n",
              "   'result_description': ''},\n",
              "  {'claim_no': 'C029322630',\n",
              "   'non_cover': '',\n",
              "   'benefit_code': 'HS',\n",
              "   'copay_amount': '',\n",
              "   'coverage_code': 'H&S ไม่สามารถใช้บริการเรียกร้องสินไหมได้ เนื่องจากสัญญาเพิ่มเติมสิ้นผลบังคับ',\n",
              "   'excess_amount': '',\n",
              "   'policy_number': 'T301046213',\n",
              "   'insurance_type': '',\n",
              "   'order_sequence': '13',\n",
              "   'trailer_number': '',\n",
              "   'approved_amount': '',\n",
              "   'result_description': ''},\n",
              "  {'claim_no': 'C029322630',\n",
              "   'non_cover': '',\n",
              "   'benefit_code': 'HS',\n",
              "   'copay_amount': '',\n",
              "   'coverage_code': 'H&S สัญญาเพิ่มเติมมีสิทธิ์ใช้บริการเรียกร้องสินไหม',\n",
              "   'excess_amount': '',\n",
              "   'policy_number': 'T301046242',\n",
              "   'insurance_type': '',\n",
              "   'order_sequence': '14',\n",
              "   'trailer_number': '',\n",
              "   'approved_amount': '',\n",
              "   'result_description': ''}],\n",
              " 'transaction_no': 'b7bcbd74-a574-48b0-be97-8f91b1be501f',\n",
              " 'final_pss_score': '0',\n",
              " 'transaction_uid': 'e7f6ff9b-7c1c-4253-8173-cab1f917d0c5',\n",
              " 'total_excess_amount': '',\n",
              " 'total_approved_amount': '4358.00'}"
            ]
          },
          "metadata": {},
          "execution_count": 120
        }
      ]
    }
  ]
}