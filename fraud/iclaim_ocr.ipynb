{
  "nbformat": 4,
  "nbformat_minor": 0,
  "metadata": {
    "colab": {
      "provenance": [],
      "gpuType": "T4",
      "authorship_tag": "ABX9TyNJVOPMHJNrusC/yifK9F0f",
      "include_colab_link": true
    },
    "kernelspec": {
      "name": "python3",
      "display_name": "Python 3"
    },
    "language_info": {
      "name": "python"
    },
    "accelerator": "GPU"
  },
  "cells": [
    {
      "cell_type": "markdown",
      "metadata": {
        "id": "view-in-github",
        "colab_type": "text"
      },
      "source": [
        "<a href=\"https://colab.research.google.com/github/nxxk23/AI-Engineer/blob/main/fraud/iclaim_ocr.ipynb\" target=\"_parent\"><img src=\"https://colab.research.google.com/assets/colab-badge.svg\" alt=\"Open In Colab\"/></a>"
      ]
    },
    {
      "cell_type": "code",
      "execution_count": 22,
      "metadata": {
        "colab": {
          "base_uri": "https://localhost:8080/"
        },
        "id": "MUaJXATYL9ck",
        "outputId": "2cdb1c03-eccf-47e9-bc25-cb2952d7dabb"
      },
      "outputs": [
        {
          "output_type": "stream",
          "name": "stdout",
          "text": [
            "Reading package lists... Done\n",
            "Building dependency tree... Done\n",
            "Reading state information... Done\n",
            "E: Unable to locate package tesseract-ocr-th\n",
            "Reading package lists... Done\n",
            "Building dependency tree... Done\n",
            "Reading state information... Done\n",
            "ghostscript is already the newest version (9.55.0~dfsg1-0ubuntu5.9).\n",
            "0 upgraded, 0 newly installed, 0 to remove and 49 not upgraded.\n"
          ]
        }
      ],
      "source": [
        "!pip -q install easyocr gradio pythainlp pytesseract opencv-python-headless pdf2image ghostscript\n",
        "!apt-get install tesseract-ocr tesseract-ocr-th\n",
        "!sudo apt-get install ghostscript"
      ]
    },
    {
      "cell_type": "code",
      "source": [
        "import os\n",
        "import re\n",
        "import cv2\n",
        "import easyocr\n",
        "import pytesseract\n",
        "from pdf2image import convert_from_path\n",
        "from pythainlp import word_tokenize\n",
        "from pythainlp.tag import NER\n",
        "import gradio as gr\n",
        "from PIL import Image"
      ],
      "metadata": {
        "id": "DMoF7Ns_MA9h"
      },
      "execution_count": 20,
      "outputs": []
    },
    {
      "cell_type": "code",
      "source": [
        "from google.colab import drive\n",
        "drive.mount('/content/drive')"
      ],
      "metadata": {
        "colab": {
          "base_uri": "https://localhost:8080/"
        },
        "id": "bhA4YkQWNXZS",
        "outputId": "7a5cd64f-7a5c-4747-b7d3-831a5f8cb93f"
      },
      "execution_count": 3,
      "outputs": [
        {
          "output_type": "stream",
          "name": "stdout",
          "text": [
            "Mounted at /content/drive\n"
          ]
        }
      ]
    },
    {
      "cell_type": "code",
      "source": [
        "!pip -q install pythainlp PyPDF2 pdfplumber deepcut thaispellcheck oskut sefr_cut transformers torch khanaa pymupdf pytesseract pdf2image"
      ],
      "metadata": {
        "colab": {
          "base_uri": "https://localhost:8080/"
        },
        "id": "81XBzK7iVBh2",
        "outputId": "4f152ea3-ea8a-4cd3-8042-f6ed4462ad27"
      },
      "execution_count": 26,
      "outputs": [
        {
          "output_type": "stream",
          "name": "stdout",
          "text": [
            "\u001b[2K     \u001b[90m━━━━━━━━━━━━━━━━━━━━━━━━━━━━━━━━━━━━━━━━\u001b[0m \u001b[32m42.0/42.0 kB\u001b[0m \u001b[31m2.8 MB/s\u001b[0m eta \u001b[36m0:00:00\u001b[0m\n",
            "\u001b[2K     \u001b[90m━━━━━━━━━━━━━━━━━━━━━━━━━━━━━━━━━━━━━━━━\u001b[0m \u001b[32m48.5/48.5 kB\u001b[0m \u001b[31m3.5 MB/s\u001b[0m eta \u001b[36m0:00:00\u001b[0m\n",
            "\u001b[2K     \u001b[90m━━━━━━━━━━━━━━━━━━━━━━━━━━━━━━━━━━━━━━━━\u001b[0m \u001b[32m312.1/312.1 kB\u001b[0m \u001b[31m20.8 MB/s\u001b[0m eta \u001b[36m0:00:00\u001b[0m\n",
            "\u001b[?25h  Preparing metadata (setup.py) ... \u001b[?25l\u001b[?25hdone\n",
            "\u001b[2K   \u001b[90m━━━━━━━━━━━━━━━━━━━━━━━━━━━━━━━━━━━━━━━━\u001b[0m \u001b[32m232.6/232.6 kB\u001b[0m \u001b[31m14.4 MB/s\u001b[0m eta \u001b[36m0:00:00\u001b[0m\n",
            "\u001b[2K   \u001b[90m━━━━━━━━━━━━━━━━━━━━━━━━━━━━━━━━━━━━━━━━\u001b[0m \u001b[32m59.2/59.2 kB\u001b[0m \u001b[31m4.4 MB/s\u001b[0m eta \u001b[36m0:00:00\u001b[0m\n",
            "\u001b[2K   \u001b[90m━━━━━━━━━━━━━━━━━━━━━━━━━━━━━━━━━━━━━━━━\u001b[0m \u001b[32m5.6/5.6 MB\u001b[0m \u001b[31m71.4 MB/s\u001b[0m eta \u001b[36m0:00:00\u001b[0m\n",
            "\u001b[2K   \u001b[90m━━━━━━━━━━━━━━━━━━━━━━━━━━━━━━━━━━━━━━━━\u001b[0m \u001b[32m2.0/2.0 MB\u001b[0m \u001b[31m50.3 MB/s\u001b[0m eta \u001b[36m0:00:00\u001b[0m\n",
            "\u001b[2K   \u001b[90m━━━━━━━━━━━━━━━━━━━━━━━━━━━━━━━━━━━━━━━━\u001b[0m \u001b[32m235.6/235.6 kB\u001b[0m \u001b[31m19.0 MB/s\u001b[0m eta \u001b[36m0:00:00\u001b[0m\n",
            "\u001b[2K   \u001b[90m━━━━━━━━━━━━━━━━━━━━━━━━━━━━━━━━━━━━━━━━\u001b[0m \u001b[32m44.2/44.2 MB\u001b[0m \u001b[31m2.9 MB/s\u001b[0m eta \u001b[36m0:00:00\u001b[0m\n",
            "\u001b[2K   \u001b[90m━━━━━━━━━━━━━━━━━━━━━━━━━━━━━━━━━━━━━━━━\u001b[0m \u001b[32m8.7/8.7 MB\u001b[0m \u001b[31m6.1 MB/s\u001b[0m eta \u001b[36m0:00:00\u001b[0m\n",
            "\u001b[2K   \u001b[90m━━━━━━━━━━━━━━━━━━━━━━━━━━━━━━━━━━━━━━━━\u001b[0m \u001b[32m19.8/19.8 MB\u001b[0m \u001b[31m49.5 MB/s\u001b[0m eta \u001b[36m0:00:00\u001b[0m\n",
            "\u001b[2K   \u001b[90m━━━━━━━━━━━━━━━━━━━━━━━━━━━━━━━━━━━━━━━━\u001b[0m \u001b[32m2.8/2.8 MB\u001b[0m \u001b[31m81.5 MB/s\u001b[0m eta \u001b[36m0:00:00\u001b[0m\n",
            "\u001b[2K   \u001b[90m━━━━━━━━━━━━━━━━━━━━━━━━━━━━━━━━━━━━━━━━\u001b[0m \u001b[32m1.2/1.2 MB\u001b[0m \u001b[31m46.5 MB/s\u001b[0m eta \u001b[36m0:00:00\u001b[0m\n",
            "\u001b[?25h  Building wheel for pyahocorasick (setup.py) ... \u001b[?25l\u001b[?25hdone\n"
          ]
        }
      ]
    },
    {
      "cell_type": "code",
      "source": [
        "from PyPDF2 import PdfReader\n",
        "from pythainlp.tokenize import word_tokenize\n",
        "from pythainlp.spell import spell\n",
        "import re\n",
        "from pythainlp.spell import correct\n",
        "import thaispellcheck\n",
        "import sys\n",
        "import oskut\n",
        "import sefr_cut\n",
        "import numpy as np\n",
        "import thaispellcheck\n",
        "import pdfplumber\n",
        "import fitz"
      ],
      "metadata": {
        "id": "3Sdqq6cXU-fd"
      },
      "execution_count": 27,
      "outputs": []
    },
    {
      "cell_type": "code",
      "source": [
        "import pdfplumber\n",
        "\n",
        "# Load the PDF and extract text using pdfplumber\n",
        "with pdfplumber.open(\"/content/drive/MyDrive/AIEngineer/fraud/ocr-document/ข้อมูลผู้ป่วยนอก 06a6bf5d-09ce-4f51-aa83-7860621733e4.pdf\") as pdf:\n",
        "    all_text = \"\"  # Initialize an empty string to store all text\n",
        "    for page in pdf.pages:  # Iterate through all pages\n",
        "        text = page.extract_text()  # Extract text from the current page\n",
        "        all_text += text  # Concatenate the extracted text\n",
        "\n",
        "print(all_text)  # Print the combined text from all pages"
      ],
      "metadata": {
        "colab": {
          "base_uri": "https://localhost:8080/"
        },
        "id": "XUDHuW-BTn1Z",
        "outputId": "344a275f-0a06-4b2b-a221-ab3eb94313fb"
      },
      "execution_count": 29,
      "outputs": [
        {
          "output_type": "stream",
          "name": "stdout",
          "text": [
            "ข้อมูลผู้ป่วยนอก\n",
            "ข้อมูลส่วนตัว\n",
            "เลขบัตรประชาชน : 5800100075111\n",
            "ชื่อ - นามสกุล : นาย จารุณี สุขเกษม รหัสผู้ป่วย (HN) : test12345667\n",
            "ข้อมูลกรมธรรม์\n",
            "หมายเลขกรมธรรม์ : GT-000834-00-005456-00 หมายเลขธุรกรรม : 06a6bf5d-09ce-4f51-aa83-7860621733e4\n",
            "บริษัทประกัน : พรูเด็นเชียลประกันชีวิต เลขที่อ้างอิงจากบริษัทประกัน : ICLM202411046573\n",
            "ข้อมูลส่งเคลม\n",
            "ประเภทการรักษา : เจ็บป่วย ประเภทการเข้ารักษา : เข้ารักษาครั้งแรก\n",
            "อาการสำคัญที่เข้ามาโรงพยาบาล : เจ็บคอ ไปถึงหู\n",
            "ข้อวินิจฉัยโรค : Acute hepatitis B with delta-agent (coinfection) with hepatic coma\n",
            "การเจ็บป่วยนี้เกี่ยวข้องกับสิ่งแวดล้อมอื่น\n",
            "ไม่เกี่ยวข้องกับปัจจัยสิ่งแวดล้อมอื่นๆ\n",
            "Diagnosis Type Diagnosis (ICD10)\n",
            "1 โรคหลักที่ให้การรักษา (PP) B160 - ตับอักเสบ บี แบบเฉียบพลัน มีเดลดา-เอเจนต์ (ติดเชื้อร่วมด้วย) และมีภาวะโคม่าจากตับ\n",
            "(Acute hepatitis B with delta-agent (coinfection) with hepatic coma)\n",
            "การทำหัตถการ/ผ่าตัด\n",
            "ไม่ทำหัตถการ\n",
            "สัญญาณชีพจร\n",
            "รายการที่ 1\n",
            "อุณหภูมิในร่างกาย (°C ) ความดันโลหิตค่าบน (mmHg) ความดันโลหิตค่าล่าง (mmHg) ชีพจร (bpm)\n",
            "75.0 125 80 120\n",
            "ความเข้มข้นของออกซิเจนในเลือด (%) อัตราการหายใจ (min) คะแนนความเจ็บปวด (score) วันเวลาที่วัดสัญญาณชีพ\n",
            "99 20 40 25/09/2023 14:41 น.แพทย์ผู้ดูแล\n",
            "รายการที่ 1\n",
            "เลขใบประกอบวิชาชีพแพทย์ : 10005 ตำแหน่ง : แพทย์เจ้าของไข้ (OWNER)\n",
            "ชื่อแพทย์ผู้ดูแล : Test นามสกุลแพทย์ผู้ดูแล : Careprovider\n",
            "หมายเหตุ : -\n",
            "เลขที่ใบแจ้งหนี้ : -\n",
            "เอกสาร\n",
            "ไม่มีเอกสาร\n",
            "รายการค่ารักษาพยาบาล\n",
            "ลำดับ หมวดหมู่ค่าบริการ จำนวนเงิน(ก่อนหักส่วนลด) ส่วนลด จำนวนเงิน(หลังหักส่วนลด) SIMB\n",
            "1 1.1.1(3) Outpatient Medication ค่ายาผู้ป่วยนอก\n",
            "P00803040004 Nasonex nasal 0 577.78 57.78 520.00 BG202 1.1.1(3)\n",
            "spray (140 000504\n",
            "dose)\n",
            "(Mometasone)\n",
            "รวม 577.78 57.78 520.00\n",
            "รวมค่ารักษาพยาบาลทั้งหมด 577.78 57.78 520\n"
          ]
        }
      ]
    },
    {
      "cell_type": "code",
      "source": [
        "import pdfplumber\n",
        "import re\n",
        "import gradio as gr\n",
        "\n",
        "def extract_text_from_pdf(pdf_path):\n",
        "    all_text = \"\"\n",
        "    with pdfplumber.open(pdf_path) as pdf:\n",
        "        for page in pdf.pages:\n",
        "            text = page.extract_text()\n",
        "            if text:\n",
        "                all_text += text\n",
        "    return all_text\n",
        "\n",
        "def parse_patient_info(text):\n",
        "    patient_info = {}\n",
        "\n",
        "    patient_info['personal_info'] = re.search(r'ข้อมูลผู้ป่วยนอก\\s*ข้อมูลส่วนตัว\\s*(.*?)ข้อมูลกรมธรรม์', text, re.DOTALL).group(1).strip()\n",
        "    patient_info['insurance_info'] = re.search(r'ข้อมูลกรมธรรม์\\s*(.*?)ข้อมูลส่งเคลม', text, re.DOTALL).group(1).strip()\n",
        "    patient_info['claim_info'] = re.search(r'ข้อมูลส่งเคลม\\s*(.*?)ข้อวินิจฉัยโรค', text, re.DOTALL).group(1).strip()\n",
        "    patient_info['diagnosis'] = re.search(r'ข้อวินิจฉัยโรค\\s*(.*?)การทำหัตถการ/ผ่าตัด', text, re.DOTALL).group(1).strip()\n",
        "    patient_info['surgery'] = re.search(r'การทำหัตถการ/ผ่าตัด\\s*(.*?)สัญญาณชีพจร', text, re.DOTALL).group(1).strip()\n",
        "    patient_info['vital_signs'] = re.search(r'สัญญาณชีพจร\\s*(.*?)แพทย์ผู้ดูแล', text, re.DOTALL).group(1).strip()\n",
        "    patient_info['doctor_info'] = re.search(r'แพทย์ผู้ดูแล\\s*(.*?)เอกสาร', text, re.DOTALL).group(1).strip()\n",
        "    patient_info['documents'] = re.search(r'เอกสาร\\s*(.*?)รายการค่ารักษาพยาบาล', text, re.DOTALL).group(1).strip()\n",
        "    patient_info['medical_costs'] = re.search(r'รายการค่ารักษาพยาบาล\\s*(.*?)รวมค่ารักษาพยาบาลทั้งหมด', text, re.DOTALL).group(1).strip()\n",
        "\n",
        "    return patient_info\n",
        "\n",
        "def process_pdf(file):\n",
        "    text = extract_text_from_pdf(file.name)\n",
        "    patient_info = parse_patient_info(text)\n",
        "\n",
        "    return (\n",
        "        patient_info['personal_info'],\n",
        "        patient_info['insurance_info'],\n",
        "        patient_info['claim_info'],\n",
        "        patient_info['diagnosis'],\n",
        "        patient_info['surgery'],\n",
        "        patient_info['vital_signs'],\n",
        "        patient_info['doctor_info'],\n",
        "        patient_info['documents'],\n",
        "        patient_info['medical_costs']\n",
        "    )\n",
        "\n",
        "# สร้างอินเทอร์เฟซ Gradio โดยมีช่องข้อมูลครบถ้วนตามที่ต้องการ\n",
        "iface = gr.Interface(\n",
        "    fn=process_pdf,\n",
        "    inputs=gr.File(label=\"อัปโหลดไฟล์ PDF\"),\n",
        "    outputs=[\n",
        "        gr.Textbox(label=\"ข้อมูลส่วนตัว\", lines=2, placeholder=\"แสดงข้อมูลส่วนตัวที่ดึงมา\"),\n",
        "        gr.Textbox(label=\"ข้อมูลกรมธรรม์\", lines=2, placeholder=\"แสดงข้อมูลกรมธรรม์ที่ดึงมา\"),\n",
        "        gr.Textbox(label=\"ข้อมูลส่งเคลม\", lines=2, placeholder=\"แสดงข้อมูลส่งเคลมที่ดึงมา\"),\n",
        "        gr.Textbox(label=\"ข้อวินิจฉัยโรค\", lines=2, placeholder=\"แสดงข้อวินิจฉัยโรคที่ดึงมา\"),\n",
        "        gr.Textbox(label=\"การทำหัตถการ/ผ่าตัด\", lines=2, placeholder=\"แสดงการทำหัตถการ/ผ่าตัดที่ดึงมา\"),\n",
        "        gr.Textbox(label=\"สัญญาณชีพจร\", lines=2, placeholder=\"แสดงสัญญาณชีพจรที่ดึงมา\"),\n",
        "        gr.Textbox(label=\"แพทย์ผู้ดูแล\", lines=2, placeholder=\"แสดงข้อมูลแพทย์ที่ดึงมา\"),\n",
        "        gr.Textbox(label=\"เอกสาร\", lines=2, placeholder=\"แสดงเอกสารที่ดึงมา\"),\n",
        "        gr.Textbox(label=\"รายการค่ารักษาพยาบาล\", lines=2, placeholder=\"แสดงรายการค่ารักษาพยาบาลที่ดึงมา\")\n",
        "    ],\n",
        "    title=\"ระบบ OCR สำหรับข้อมูลผู้ป่วย\",\n",
        "    description=\"อัปโหลดเอกสาร PDF และระบบจะ OCR เพื่อดึงข้อมูลที่ต้องการ\"\n",
        ")\n",
        "\n",
        "iface.launch(debug=True)"
      ],
      "metadata": {
        "colab": {
          "base_uri": "https://localhost:8080/",
          "height": 680
        },
        "id": "QxwcWEH6WNQC",
        "outputId": "4bf4f5aa-f2a5-44b4-e2a7-af9f040f711f"
      },
      "execution_count": 34,
      "outputs": [
        {
          "output_type": "stream",
          "name": "stdout",
          "text": [
            "Running Gradio in a Colab notebook requires sharing enabled. Automatically setting `share=True` (you can turn this off by setting `share=False` in `launch()` explicitly).\n",
            "\n",
            "Colab notebook detected. This cell will run indefinitely so that you can see errors and logs. To turn off, set debug=False in launch().\n",
            "* Running on public URL: https://03958d338a387d97d4.gradio.live\n",
            "\n",
            "This share link expires in 72 hours. For free permanent hosting and GPU upgrades, run `gradio deploy` from the terminal in the working directory to deploy to Hugging Face Spaces (https://huggingface.co/spaces)\n"
          ]
        },
        {
          "output_type": "display_data",
          "data": {
            "text/plain": [
              "<IPython.core.display.HTML object>"
            ],
            "text/html": [
              "<div><iframe src=\"https://03958d338a387d97d4.gradio.live\" width=\"100%\" height=\"500\" allow=\"autoplay; camera; microphone; clipboard-read; clipboard-write;\" frameborder=\"0\" allowfullscreen></iframe></div>"
            ]
          },
          "metadata": {}
        },
        {
          "output_type": "stream",
          "name": "stdout",
          "text": [
            "Keyboard interruption in main thread... closing server.\n",
            "Killing tunnel 127.0.0.1:7861 <> https://03958d338a387d97d4.gradio.live\n"
          ]
        },
        {
          "output_type": "execute_result",
          "data": {
            "text/plain": []
          },
          "metadata": {},
          "execution_count": 34
        }
      ]
    },
    {
      "cell_type": "code",
      "source": [
        "!pip -q install pdfplumber pytesseract Pillow gradio"
      ],
      "metadata": {
        "id": "5yuVH6JHeKPC"
      },
      "execution_count": 41,
      "outputs": []
    },
    {
      "cell_type": "code",
      "source": [
        "import pdfplumber\n",
        "import re\n",
        "import gradio as gr\n",
        "import pytesseract\n",
        "from PIL import Image\n",
        "\n",
        "def extract_text_from_pdf(pdf_path):\n",
        "    all_text = \"\"\n",
        "    with pdfplumber.open(pdf_path) as pdf:\n",
        "        for page in pdf.pages:\n",
        "            text = page.extract_text()\n",
        "            if text:\n",
        "                all_text += text\n",
        "    return all_text\n",
        "\n",
        "def extract_text_from_image(image):\n",
        "    text = pytesseract.image_to_string(image, lang='tha')  # Use pytesseract to extract text from the image\n",
        "    return text\n",
        "\n",
        "def parse_patient_info(text):\n",
        "    patient_info = {}\n",
        "\n",
        "    patient_info['personal_info'] = re.search(r'ข้อมูลผู้ป่วยนอก\\s*ข้อมูลส่วนตัว\\s*(.*?)ข้อมูลกรมธรรม์', text, re.DOTALL).group(1).strip()\n",
        "    patient_info['insurance_info'] = re.search(r'ข้อมูลกรมธรรม์\\s*(.*?)ข้อมูลส่งเคลม', text, re.DOTALL).group(1).strip()\n",
        "    patient_info['claim_info'] = re.search(r'ข้อมูลส่งเคลม\\s*(.*?)ข้อวินิจฉัยโรค', text, re.DOTALL).group(1).strip()\n",
        "    patient_info['diagnosis'] = re.search(r'ข้อวินิจฉัยโรค\\s*(.*?)การทำหัตถการ/ผ่าตัด', text, re.DOTALL).group(1).strip()\n",
        "    patient_info['surgery'] = re.search(r'การทำหัตถการ/ผ่าตัด\\s*(.*?)สัญญาณชีพจร', text, re.DOTALL).group(1).strip()\n",
        "    patient_info['vital_signs'] = re.search(r'สัญญาณชีพจร\\s*(.*?)แพทย์ผู้ดูแล', text, re.DOTALL).group(1).strip()\n",
        "    patient_info['doctor_info'] = re.search(r'แพทย์ผู้ดูแล\\s*(.*?)เอกสาร', text, re.DOTALL).group(1).strip()\n",
        "    patient_info['documents'] = re.search(r'เอกสาร\\s*(.*?)รายการค่ารักษาพยาบาล', text, re.DOTALL).group(1).strip()\n",
        "    patient_info['medical_costs'] = re.search(r'รายการค่ารักษาพยาบาล\\s*(.*?)รวมค่ารักษาพยาบาลทั้งหมด', text, re.DOTALL).group(1).strip()\n",
        "\n",
        "    return patient_info\n",
        "\n",
        "def process_input(input_data, method):\n",
        "    if method == \"อัปโหลดไฟล์ PDF\":  # If it's a PDF file\n",
        "        text = extract_text_from_pdf(input_data.name)\n",
        "    else:  # If it's an image scanned\n",
        "        text = extract_text_from_image(input_data)\n",
        "\n",
        "    patient_info = parse_patient_info(text)\n",
        "\n",
        "    return (\n",
        "        patient_info['personal_info'],\n",
        "        patient_info['insurance_info'],\n",
        "        patient_info['claim_info'],\n",
        "        patient_info['diagnosis'],\n",
        "        patient_info['surgery'],\n",
        "        patient_info['vital_signs'],\n",
        "        patient_info['doctor_info'],\n",
        "        patient_info['documents'],\n",
        "        patient_info['medical_costs']\n",
        "    )\n",
        "\n",
        "# Create Gradio interface with the required fields\n",
        "with gr.Blocks() as iface:\n",
        "    with gr.Row():\n",
        "        pdf_input = gr.File(label=\"อัปโหลดไฟล์ PDF\", type=\"filepath\")\n",
        "        image_input = gr.Image(label=\"สแกนเอกสาร\", type=\"pil\", sources=\"webcam\")\n",
        "\n",
        "    # Output textboxes\n",
        "    output_boxes = [\n",
        "        gr.Textbox(label=\"ข้อมูลส่วนตัว\", lines=2, placeholder=\"แสดงข้อมูลส่วนตัวที่ดึงมา\"),\n",
        "        gr.Textbox(label=\"ข้อมูลกรมธรรม์\", lines=2, placeholder=\"แสดงข้อมูลกรมธรรม์ที่ดึงมา\"),\n",
        "        gr.Textbox(label=\"ข้อมูลส่งเคลม\", lines=2, placeholder=\"แสดงข้อมูลส่งเคลมที่ดึงมา\"),\n",
        "        gr.Textbox(label=\"ข้อวินิจฉัยโรค\", lines=2, placeholder=\"แสดงข้อวินิจฉัยโรคที่ดึงมา\"),\n",
        "        gr.Textbox(label=\"การทำหัตถการ/ผ่าตัด\", lines=2, placeholder=\"แสดงการทำหัตถการ/ผ่าตัดที่ดึงมา\"),\n",
        "        gr.Textbox(label=\"สัญญาณชีพจร\", lines=2, placeholder=\"แสดงสัญญาณชีพจรที่ดึงมา\"),\n",
        "        gr.Textbox(label=\"แพทย์ผู้ดูแล\", lines=2, placeholder=\"แสดงข้อมูลแพทย์ที่ดึงมา\"),\n",
        "        gr.Textbox(label=\"เอกสาร\", lines=2, placeholder=\"แสดงเอกสารที่ดึงมา\"),\n",
        "        gr.Textbox(label=\"รายการค่ารักษาพยาบาล\", lines=2, placeholder=\"แสดงรายการค่ารักษาพยาบาลที่ดึงมา\")\n",
        "    ]\n",
        "\n",
        "    submit_btn = gr.Button(\"ประมวลผล\")\n",
        "\n",
        "    # Process the input based on which input is provided\n",
        "    submit_btn.click(process_input, inputs=[pdf_input, gr.Textbox(visible=False)], outputs=output_boxes)  # Pass a dummy input for pdf_input\n",
        "    submit_btn.click(process_input, inputs=[image_input, gr.Textbox(value=\"สแกนเอกสาร\", visible=False)], outputs=output_boxes)  # Pass a dummy input for image_input\n",
        "\n",
        "iface.launch(debug=True)\n"
      ],
      "metadata": {
        "id": "U995liuOeQyF"
      },
      "execution_count": null,
      "outputs": []
    },
    {
      "cell_type": "code",
      "source": [],
      "metadata": {
        "id": "cWMSem52b1Bo"
      },
      "execution_count": null,
      "outputs": []
    }
  ]
}