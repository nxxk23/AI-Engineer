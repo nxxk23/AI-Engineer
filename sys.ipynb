{
  "nbformat": 4,
  "nbformat_minor": 0,
  "metadata": {
    "colab": {
      "provenance": [],
      "authorship_tag": "ABX9TyOSm8YHpB1lXa0Tv1lXVz3u",
      "include_colab_link": true
    },
    "kernelspec": {
      "name": "python3",
      "display_name": "Python 3"
    },
    "language_info": {
      "name": "python"
    }
  },
  "cells": [
    {
      "cell_type": "markdown",
      "metadata": {
        "id": "view-in-github",
        "colab_type": "text"
      },
      "source": [
        "<a href=\"https://colab.research.google.com/github/nxxk23/AI-Engineer/blob/main/sys.ipynb\" target=\"_parent\"><img src=\"https://colab.research.google.com/assets/colab-badge.svg\" alt=\"Open In Colab\"/></a>"
      ]
    },
    {
      "cell_type": "code",
      "source": [
        "from google.colab import drive\n",
        "drive.mount('/content/drive')"
      ],
      "metadata": {
        "colab": {
          "base_uri": "https://localhost:8080/"
        },
        "id": "iObjdwyr9D3e",
        "outputId": "663429ac-be51-41b9-9b7a-864c2688fcce"
      },
      "execution_count": 1,
      "outputs": [
        {
          "output_type": "stream",
          "name": "stdout",
          "text": [
            "Mounted at /content/drive\n"
          ]
        }
      ]
    },
    {
      "cell_type": "code",
      "source": [
        "!pip -q install gradio"
      ],
      "metadata": {
        "colab": {
          "base_uri": "https://localhost:8080/"
        },
        "id": "DNcRNVFA9Q-r",
        "outputId": "42cc584a-7ee4-43de-8c2b-ac3d132eb35e"
      },
      "execution_count": 3,
      "outputs": [
        {
          "output_type": "stream",
          "name": "stdout",
          "text": [
            "\u001b[2K   \u001b[90m━━━━━━━━━━━━━━━━━━━━━━━━━━━━━━━━━━━━━━━━\u001b[0m \u001b[32m57.8/57.8 MB\u001b[0m \u001b[31m9.8 MB/s\u001b[0m eta \u001b[36m0:00:00\u001b[0m\n",
            "\u001b[2K   \u001b[90m━━━━━━━━━━━━━━━━━━━━━━━━━━━━━━━━━━━━━━━━\u001b[0m \u001b[32m321.9/321.9 kB\u001b[0m \u001b[31m7.3 MB/s\u001b[0m eta \u001b[36m0:00:00\u001b[0m\n",
            "\u001b[2K   \u001b[90m━━━━━━━━━━━━━━━━━━━━━━━━━━━━━━━━━━━━━━━━\u001b[0m \u001b[32m94.8/94.8 kB\u001b[0m \u001b[31m7.7 MB/s\u001b[0m eta \u001b[36m0:00:00\u001b[0m\n",
            "\u001b[2K   \u001b[90m━━━━━━━━━━━━━━━━━━━━━━━━━━━━━━━━━━━━━━━━\u001b[0m \u001b[32m464.1/464.1 kB\u001b[0m \u001b[31m29.0 MB/s\u001b[0m eta \u001b[36m0:00:00\u001b[0m\n",
            "\u001b[2K   \u001b[90m━━━━━━━━━━━━━━━━━━━━━━━━━━━━━━━━━━━━━━━━\u001b[0m \u001b[32m12.4/12.4 MB\u001b[0m \u001b[31m40.5 MB/s\u001b[0m eta \u001b[36m0:00:00\u001b[0m\n",
            "\u001b[2K   \u001b[90m━━━━━━━━━━━━━━━━━━━━━━━━━━━━━━━━━━━━━━━━\u001b[0m \u001b[32m71.5/71.5 kB\u001b[0m \u001b[31m6.4 MB/s\u001b[0m eta \u001b[36m0:00:00\u001b[0m\n",
            "\u001b[2K   \u001b[90m━━━━━━━━━━━━━━━━━━━━━━━━━━━━━━━━━━━━━━━━\u001b[0m \u001b[32m62.3/62.3 kB\u001b[0m \u001b[31m4.7 MB/s\u001b[0m eta \u001b[36m0:00:00\u001b[0m\n",
            "\u001b[?25h"
          ]
        }
      ]
    },
    {
      "cell_type": "code",
      "source": [
        "import gradio as gr\n",
        "import pandas as pd\n",
        "\n",
        "cache = []  # List to store table rows\n",
        "files = {}  # Dictionary to store files associated with each row\n",
        "users = {\"admin\": \"admin123\", \"user\": \"user123\"}\n",
        "current_user = None\n",
        "\n",
        "\n",
        "def login(username, password):\n",
        "    global current_user\n",
        "    if username in users and users[username] == password:\n",
        "        current_user = username\n",
        "        return f\"Welcome, {username}!\", gr.update(visible=True)\n",
        "    return \"Invalid username or password\", gr.update(visible=False)\n",
        "\n",
        "\n",
        "def add_entry(order, project_id, project_name, amount, used, file):\n",
        "    if current_user != \"admin\":\n",
        "        return \"Permission denied\"\n",
        "    remaining = float(amount) - float(used)\n",
        "\n",
        "    # Attach the file if available\n",
        "    file_name = \"No file attached\"\n",
        "    if file is not None:\n",
        "        files[order] = file.name\n",
        "        file_name = f\"Attached: {file.name}\"\n",
        "\n",
        "    cache.append([order, project_id, project_name, amount, used, remaining, file_name])\n",
        "    df = pd.DataFrame(cache, columns=[\"ลำดับ\", \"รหัสโครงการ\", \"ชื่อโครงการ\", \"จำนวนเงิน\", \"ใช้แล้ว\", \"คงเหลือ\", \"ไฟล์แนบ\"])\n",
        "    return df\n",
        "\n",
        "\n",
        "def get_table():\n",
        "    df = pd.DataFrame(cache, columns=[\"ลำดับ\", \"รหัสโครงการ\", \"ชื่อโครงการ\", \"จำนวนเงิน\", \"ใช้แล้ว\", \"คงเหลือ\", \"ไฟล์แนบ\"])\n",
        "    return df\n",
        "\n",
        "\n",
        "def download_file(order):\n",
        "    if order in files:\n",
        "        file_path = files[order]\n",
        "        return file_path  # Gradio will allow downloading the file\n",
        "    return \"No file attached\"\n",
        "\n",
        "\n",
        "with gr.Blocks() as demo:\n",
        "    with gr.Tab(\"Log In\"):\n",
        "        with gr.Row():\n",
        "            with gr.Column(scale=1):\n",
        "                gr.Markdown(\"## Welcome Workers🏥!\", elem_id=\"welcome-header\")\n",
        "            with gr.Column(scale=2):\n",
        "                gr.Markdown(\"### Log In\", elem_id=\"login-header\")\n",
        "                username = gr.Textbox(label=\"Username\", placeholder=\"username\", elem_id=\"username-box\")\n",
        "                password = gr.Textbox(label=\"Password\", type=\"password\", placeholder=\"********\", elem_id=\"password-box\")\n",
        "                login_button = gr.Button(\"Log In\", elem_id=\"login-button\")\n",
        "                login_output = gr.Textbox(label=\"Status\", interactive=False, elem_id=\"login-status\", visible=False)\n",
        "                login_button.click(login, inputs=[username, password], outputs=[login_output, gr.State(False)])\n",
        "\n",
        "    with gr.Tab(\"ทะเบียนคุม\", visible=False) as tab_register:\n",
        "        gr.Markdown(\"## ทะเบียนคุม\")\n",
        "        table_output = gr.Dataframe(headers=[\"ลำดับ\", \"รหัสโครงการ\", \"ชื่อโครงการ\", \"จำนวนเงิน\", \"ใช้แล้ว\", \"คงเหลือ\", \"ไฟล์แนบ\"], interactive=False)\n",
        "        admin_controls = gr.Column(visible=False)\n",
        "        with admin_controls:\n",
        "            with gr.Row():\n",
        "                order = gr.Textbox(label=\"ลำดับ\")\n",
        "                project_id = gr.Textbox(label=\"รหัสโครงการ\")\n",
        "                project_name = gr.Textbox(label=\"ชื่อโครงการ\")\n",
        "                amount = gr.Textbox(label=\"จำนวนเงิน\")\n",
        "                used = gr.Textbox(label=\"ใช้แล้ว\")\n",
        "                file_input = gr.File(label=\"Select File\")\n",
        "            add_button = gr.Button(\"เพิ่มข้อมูล\")\n",
        "            add_button.click(add_entry, inputs=[order, project_id, project_name, amount, used, file_input], outputs=table_output)\n",
        "\n",
        "        # For User tab (only for users to see download)\n",
        "        user_controls = gr.Column(visible=False)\n",
        "        with user_controls:\n",
        "            download_order = gr.Textbox(label=\"Download from ลำดับ\")\n",
        "            download_button = gr.Button(\"Download File\")\n",
        "            download_output = gr.File(label=\"Download\", interactive=False)\n",
        "            download_button.click(download_file, inputs=[download_order], outputs=download_output)\n",
        "\n",
        "    def show_tab(username, password):\n",
        "        if username in users and users[username] == password:\n",
        "            if username == \"admin\":\n",
        "                return f\"Welcome, {username}!\", gr.update(visible=True), gr.update(visible=True), get_table(), gr.update(visible=False)\n",
        "            return f\"Welcome, {username}!\", gr.update(visible=True), gr.update(visible=False), get_table(), gr.update(visible=True)\n",
        "        return \"Invalid username or password\", gr.update(visible=False), gr.update(visible=False), None, gr.update(visible=False)\n",
        "\n",
        "    login_button.click(show_tab, inputs=[username, password], outputs=[login_output, tab_register, admin_controls, table_output, user_controls])\n",
        "\n",
        "    demo.css = \"\"\"\n",
        "    #welcome-header {\n",
        "        font-size: 2rem;\n",
        "        font-weight: bold;\n",
        "        color: #1e88e5;\n",
        "    }\n",
        "    #login-header {\n",
        "        font-size: 1.5rem;\n",
        "        font-weight: bold;\n",
        "    }\n",
        "    #username-box, #password-box {\n",
        "        margin-bottom: 1rem;\n",
        "    }\n",
        "    #login-button {\n",
        "        background-color: #000000;\n",
        "        color: white;\n",
        "        font-weight: bold;\n",
        "        border-radius: 5px;\n",
        "    }\n",
        "    \"\"\"\n",
        "\n",
        "demo.launch(debug=True)\n"
      ],
      "metadata": {
        "colab": {
          "base_uri": "https://localhost:8080/",
          "height": 1000
        },
        "id": "ux9QtLZW9E1M",
        "outputId": "c35115af-db1a-4eac-80f5-0987466e223d"
      },
      "execution_count": 29,
      "outputs": [
        {
          "output_type": "stream",
          "name": "stdout",
          "text": [
            "Running Gradio in a Colab notebook requires sharing enabled. Automatically setting `share=True` (you can turn this off by setting `share=False` in `launch()` explicitly).\n",
            "\n",
            "Colab notebook detected. This cell will run indefinitely so that you can see errors and logs. To turn off, set debug=False in launch().\n",
            "* Running on public URL: https://538429ff58a2c17c0e.gradio.live\n",
            "\n",
            "This share link expires in 72 hours. For free permanent hosting and GPU upgrades, run `gradio deploy` from the terminal in the working directory to deploy to Hugging Face Spaces (https://huggingface.co/spaces)\n"
          ]
        },
        {
          "output_type": "display_data",
          "data": {
            "text/plain": [
              "<IPython.core.display.HTML object>"
            ],
            "text/html": [
              "<div><iframe src=\"https://538429ff58a2c17c0e.gradio.live\" width=\"100%\" height=\"500\" allow=\"autoplay; camera; microphone; clipboard-read; clipboard-write;\" frameborder=\"0\" allowfullscreen></iframe></div>"
            ]
          },
          "metadata": {}
        },
        {
          "output_type": "stream",
          "name": "stderr",
          "text": [
            "Traceback (most recent call last):\n",
            "  File \"/usr/local/lib/python3.11/dist-packages/gradio/queueing.py\", line 625, in process_events\n",
            "    response = await route_utils.call_process_api(\n",
            "               ^^^^^^^^^^^^^^^^^^^^^^^^^^^^^^^^^^^\n",
            "  File \"/usr/local/lib/python3.11/dist-packages/gradio/route_utils.py\", line 322, in call_process_api\n",
            "    output = await app.get_blocks().process_api(\n",
            "             ^^^^^^^^^^^^^^^^^^^^^^^^^^^^^^^^^^^\n",
            "  File \"/usr/local/lib/python3.11/dist-packages/gradio/blocks.py\", line 2088, in process_api\n",
            "    result = await self.call_function(\n",
            "             ^^^^^^^^^^^^^^^^^^^^^^^^^\n",
            "  File \"/usr/local/lib/python3.11/dist-packages/gradio/blocks.py\", line 1635, in call_function\n",
            "    prediction = await anyio.to_thread.run_sync(  # type: ignore\n",
            "                 ^^^^^^^^^^^^^^^^^^^^^^^^^^^^^^^^^^^^^^^^^^^^^^^\n",
            "  File \"/usr/local/lib/python3.11/dist-packages/anyio/to_thread.py\", line 33, in run_sync\n",
            "    return await get_asynclib().run_sync_in_worker_thread(\n",
            "           ^^^^^^^^^^^^^^^^^^^^^^^^^^^^^^^^^^^^^^^^^^^^^^^\n",
            "  File \"/usr/local/lib/python3.11/dist-packages/anyio/_backends/_asyncio.py\", line 877, in run_sync_in_worker_thread\n",
            "    return await future\n",
            "           ^^^^^^^^^^^^\n",
            "  File \"/usr/local/lib/python3.11/dist-packages/anyio/_backends/_asyncio.py\", line 807, in run\n",
            "    result = context.run(func, *args)\n",
            "             ^^^^^^^^^^^^^^^^^^^^^^^^\n",
            "  File \"/usr/local/lib/python3.11/dist-packages/gradio/utils.py\", line 883, in wrapper\n",
            "    response = f(*args, **kwargs)\n",
            "               ^^^^^^^^^^^^^^^^^^\n",
            "  File \"<ipython-input-29-8079e29c6dc3>\", line 21, in add_entry\n",
            "    remaining = float(amount) - float(used)\n",
            "                                ^^^^^^^^^^^\n",
            "ValueError: could not convert string to float: ''\n"
          ]
        },
        {
          "output_type": "stream",
          "name": "stdout",
          "text": [
            "Keyboard interruption in main thread... closing server.\n",
            "Killing tunnel 127.0.0.1:7861 <> https://538429ff58a2c17c0e.gradio.live\n"
          ]
        },
        {
          "output_type": "execute_result",
          "data": {
            "text/plain": []
          },
          "metadata": {},
          "execution_count": 29
        }
      ]
    },
    {
      "cell_type": "code",
      "source": [
        "# The correct credentials for admin are:\n",
        "# Username: admin\n",
        "# Password: admin123\n",
        "\n",
        "# The correct credentials for user are:\n",
        "# Username: user\n",
        "# Password: user123"
      ],
      "metadata": {
        "id": "mcsySQJ8Bn4i"
      },
      "execution_count": null,
      "outputs": []
    },
    {
      "cell_type": "code",
      "source": [],
      "metadata": {
        "id": "WHiN3oFa9QQr"
      },
      "execution_count": null,
      "outputs": []
    }
  ]
}