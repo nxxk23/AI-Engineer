{
  "nbformat": 4,
  "nbformat_minor": 0,
  "metadata": {
    "colab": {
      "provenance": [],
      "gpuType": "T4",
      "include_colab_link": true
    },
    "kernelspec": {
      "name": "python3",
      "display_name": "Python 3"
    },
    "language_info": {
      "name": "python"
    },
    "accelerator": "GPU"
  },
  "cells": [
    {
      "cell_type": "markdown",
      "metadata": {
        "id": "view-in-github",
        "colab_type": "text"
      },
      "source": [
        "<a href=\"https://colab.research.google.com/github/nxxk23/AI-Engineer/blob/main/BertModel.ipynb\" target=\"_parent\"><img src=\"https://colab.research.google.com/assets/colab-badge.svg\" alt=\"Open In Colab\"/></a>"
      ]
    },
    {
      "cell_type": "code",
      "source": [
        "%pip install accelerate -U"
      ],
      "metadata": {
        "colab": {
          "base_uri": "https://localhost:8080/"
        },
        "collapsed": true,
        "id": "eqii6YnZI363",
        "outputId": "59f25c96-0ac4-42d6-d535-92d9f1155497"
      },
      "execution_count": 1,
      "outputs": [
        {
          "output_type": "stream",
          "name": "stdout",
          "text": [
            "Requirement already satisfied: accelerate in /usr/local/lib/python3.10/dist-packages (0.31.0)\n",
            "Requirement already satisfied: numpy>=1.17 in /usr/local/lib/python3.10/dist-packages (from accelerate) (1.25.2)\n",
            "Requirement already satisfied: packaging>=20.0 in /usr/local/lib/python3.10/dist-packages (from accelerate) (24.1)\n",
            "Requirement already satisfied: psutil in /usr/local/lib/python3.10/dist-packages (from accelerate) (5.9.5)\n",
            "Requirement already satisfied: pyyaml in /usr/local/lib/python3.10/dist-packages (from accelerate) (6.0.1)\n",
            "Requirement already satisfied: torch>=1.10.0 in /usr/local/lib/python3.10/dist-packages (from accelerate) (2.3.0+cu121)\n",
            "Requirement already satisfied: huggingface-hub in /usr/local/lib/python3.10/dist-packages (from accelerate) (0.23.4)\n",
            "Requirement already satisfied: safetensors>=0.3.1 in /usr/local/lib/python3.10/dist-packages (from accelerate) (0.4.3)\n",
            "Requirement already satisfied: filelock in /usr/local/lib/python3.10/dist-packages (from torch>=1.10.0->accelerate) (3.15.3)\n",
            "Requirement already satisfied: typing-extensions>=4.8.0 in /usr/local/lib/python3.10/dist-packages (from torch>=1.10.0->accelerate) (4.12.2)\n",
            "Requirement already satisfied: sympy in /usr/local/lib/python3.10/dist-packages (from torch>=1.10.0->accelerate) (1.12.1)\n",
            "Requirement already satisfied: networkx in /usr/local/lib/python3.10/dist-packages (from torch>=1.10.0->accelerate) (3.3)\n",
            "Requirement already satisfied: jinja2 in /usr/local/lib/python3.10/dist-packages (from torch>=1.10.0->accelerate) (3.1.4)\n",
            "Requirement already satisfied: fsspec in /usr/local/lib/python3.10/dist-packages (from torch>=1.10.0->accelerate) (2023.6.0)\n",
            "Requirement already satisfied: nvidia-cuda-nvrtc-cu12==12.1.105 in /usr/local/lib/python3.10/dist-packages (from torch>=1.10.0->accelerate) (12.1.105)\n",
            "Requirement already satisfied: nvidia-cuda-runtime-cu12==12.1.105 in /usr/local/lib/python3.10/dist-packages (from torch>=1.10.0->accelerate) (12.1.105)\n",
            "Requirement already satisfied: nvidia-cuda-cupti-cu12==12.1.105 in /usr/local/lib/python3.10/dist-packages (from torch>=1.10.0->accelerate) (12.1.105)\n",
            "Requirement already satisfied: nvidia-cudnn-cu12==8.9.2.26 in /usr/local/lib/python3.10/dist-packages (from torch>=1.10.0->accelerate) (8.9.2.26)\n",
            "Requirement already satisfied: nvidia-cublas-cu12==12.1.3.1 in /usr/local/lib/python3.10/dist-packages (from torch>=1.10.0->accelerate) (12.1.3.1)\n",
            "Requirement already satisfied: nvidia-cufft-cu12==11.0.2.54 in /usr/local/lib/python3.10/dist-packages (from torch>=1.10.0->accelerate) (11.0.2.54)\n",
            "Requirement already satisfied: nvidia-curand-cu12==10.3.2.106 in /usr/local/lib/python3.10/dist-packages (from torch>=1.10.0->accelerate) (10.3.2.106)\n",
            "Requirement already satisfied: nvidia-cusolver-cu12==11.4.5.107 in /usr/local/lib/python3.10/dist-packages (from torch>=1.10.0->accelerate) (11.4.5.107)\n",
            "Requirement already satisfied: nvidia-cusparse-cu12==12.1.0.106 in /usr/local/lib/python3.10/dist-packages (from torch>=1.10.0->accelerate) (12.1.0.106)\n",
            "Requirement already satisfied: nvidia-nccl-cu12==2.20.5 in /usr/local/lib/python3.10/dist-packages (from torch>=1.10.0->accelerate) (2.20.5)\n",
            "Requirement already satisfied: nvidia-nvtx-cu12==12.1.105 in /usr/local/lib/python3.10/dist-packages (from torch>=1.10.0->accelerate) (12.1.105)\n",
            "Requirement already satisfied: triton==2.3.0 in /usr/local/lib/python3.10/dist-packages (from torch>=1.10.0->accelerate) (2.3.0)\n",
            "Requirement already satisfied: nvidia-nvjitlink-cu12 in /usr/local/lib/python3.10/dist-packages (from nvidia-cusolver-cu12==11.4.5.107->torch>=1.10.0->accelerate) (12.5.40)\n",
            "Requirement already satisfied: requests in /usr/local/lib/python3.10/dist-packages (from huggingface-hub->accelerate) (2.31.0)\n",
            "Requirement already satisfied: tqdm>=4.42.1 in /usr/local/lib/python3.10/dist-packages (from huggingface-hub->accelerate) (4.66.4)\n",
            "Requirement already satisfied: MarkupSafe>=2.0 in /usr/local/lib/python3.10/dist-packages (from jinja2->torch>=1.10.0->accelerate) (2.1.5)\n",
            "Requirement already satisfied: charset-normalizer<4,>=2 in /usr/local/lib/python3.10/dist-packages (from requests->huggingface-hub->accelerate) (3.3.2)\n",
            "Requirement already satisfied: idna<4,>=2.5 in /usr/local/lib/python3.10/dist-packages (from requests->huggingface-hub->accelerate) (3.7)\n",
            "Requirement already satisfied: urllib3<3,>=1.21.1 in /usr/local/lib/python3.10/dist-packages (from requests->huggingface-hub->accelerate) (2.0.7)\n",
            "Requirement already satisfied: certifi>=2017.4.17 in /usr/local/lib/python3.10/dist-packages (from requests->huggingface-hub->accelerate) (2024.6.2)\n",
            "Requirement already satisfied: mpmath<1.4.0,>=1.1.0 in /usr/local/lib/python3.10/dist-packages (from sympy->torch>=1.10.0->accelerate) (1.3.0)\n"
          ]
        }
      ]
    },
    {
      "cell_type": "code",
      "source": [
        "!pip install transformers torch"
      ],
      "metadata": {
        "collapsed": true,
        "colab": {
          "base_uri": "https://localhost:8080/"
        },
        "id": "Mx61Ot83FQpf",
        "outputId": "a3da19df-d1c6-4373-9fef-721134ae32c2"
      },
      "execution_count": 2,
      "outputs": [
        {
          "output_type": "stream",
          "name": "stdout",
          "text": [
            "Requirement already satisfied: transformers in /usr/local/lib/python3.10/dist-packages (4.41.2)\n",
            "Requirement already satisfied: torch in /usr/local/lib/python3.10/dist-packages (2.3.0+cu121)\n",
            "Requirement already satisfied: filelock in /usr/local/lib/python3.10/dist-packages (from transformers) (3.15.3)\n",
            "Requirement already satisfied: huggingface-hub<1.0,>=0.23.0 in /usr/local/lib/python3.10/dist-packages (from transformers) (0.23.4)\n",
            "Requirement already satisfied: numpy>=1.17 in /usr/local/lib/python3.10/dist-packages (from transformers) (1.25.2)\n",
            "Requirement already satisfied: packaging>=20.0 in /usr/local/lib/python3.10/dist-packages (from transformers) (24.1)\n",
            "Requirement already satisfied: pyyaml>=5.1 in /usr/local/lib/python3.10/dist-packages (from transformers) (6.0.1)\n",
            "Requirement already satisfied: regex!=2019.12.17 in /usr/local/lib/python3.10/dist-packages (from transformers) (2024.5.15)\n",
            "Requirement already satisfied: requests in /usr/local/lib/python3.10/dist-packages (from transformers) (2.31.0)\n",
            "Requirement already satisfied: tokenizers<0.20,>=0.19 in /usr/local/lib/python3.10/dist-packages (from transformers) (0.19.1)\n",
            "Requirement already satisfied: safetensors>=0.4.1 in /usr/local/lib/python3.10/dist-packages (from transformers) (0.4.3)\n",
            "Requirement already satisfied: tqdm>=4.27 in /usr/local/lib/python3.10/dist-packages (from transformers) (4.66.4)\n",
            "Requirement already satisfied: typing-extensions>=4.8.0 in /usr/local/lib/python3.10/dist-packages (from torch) (4.12.2)\n",
            "Requirement already satisfied: sympy in /usr/local/lib/python3.10/dist-packages (from torch) (1.12.1)\n",
            "Requirement already satisfied: networkx in /usr/local/lib/python3.10/dist-packages (from torch) (3.3)\n",
            "Requirement already satisfied: jinja2 in /usr/local/lib/python3.10/dist-packages (from torch) (3.1.4)\n",
            "Requirement already satisfied: fsspec in /usr/local/lib/python3.10/dist-packages (from torch) (2023.6.0)\n",
            "Requirement already satisfied: nvidia-cuda-nvrtc-cu12==12.1.105 in /usr/local/lib/python3.10/dist-packages (from torch) (12.1.105)\n",
            "Requirement already satisfied: nvidia-cuda-runtime-cu12==12.1.105 in /usr/local/lib/python3.10/dist-packages (from torch) (12.1.105)\n",
            "Requirement already satisfied: nvidia-cuda-cupti-cu12==12.1.105 in /usr/local/lib/python3.10/dist-packages (from torch) (12.1.105)\n",
            "Requirement already satisfied: nvidia-cudnn-cu12==8.9.2.26 in /usr/local/lib/python3.10/dist-packages (from torch) (8.9.2.26)\n",
            "Requirement already satisfied: nvidia-cublas-cu12==12.1.3.1 in /usr/local/lib/python3.10/dist-packages (from torch) (12.1.3.1)\n",
            "Requirement already satisfied: nvidia-cufft-cu12==11.0.2.54 in /usr/local/lib/python3.10/dist-packages (from torch) (11.0.2.54)\n",
            "Requirement already satisfied: nvidia-curand-cu12==10.3.2.106 in /usr/local/lib/python3.10/dist-packages (from torch) (10.3.2.106)\n",
            "Requirement already satisfied: nvidia-cusolver-cu12==11.4.5.107 in /usr/local/lib/python3.10/dist-packages (from torch) (11.4.5.107)\n",
            "Requirement already satisfied: nvidia-cusparse-cu12==12.1.0.106 in /usr/local/lib/python3.10/dist-packages (from torch) (12.1.0.106)\n",
            "Requirement already satisfied: nvidia-nccl-cu12==2.20.5 in /usr/local/lib/python3.10/dist-packages (from torch) (2.20.5)\n",
            "Requirement already satisfied: nvidia-nvtx-cu12==12.1.105 in /usr/local/lib/python3.10/dist-packages (from torch) (12.1.105)\n",
            "Requirement already satisfied: triton==2.3.0 in /usr/local/lib/python3.10/dist-packages (from torch) (2.3.0)\n",
            "Requirement already satisfied: nvidia-nvjitlink-cu12 in /usr/local/lib/python3.10/dist-packages (from nvidia-cusolver-cu12==11.4.5.107->torch) (12.5.40)\n",
            "Requirement already satisfied: MarkupSafe>=2.0 in /usr/local/lib/python3.10/dist-packages (from jinja2->torch) (2.1.5)\n",
            "Requirement already satisfied: charset-normalizer<4,>=2 in /usr/local/lib/python3.10/dist-packages (from requests->transformers) (3.3.2)\n",
            "Requirement already satisfied: idna<4,>=2.5 in /usr/local/lib/python3.10/dist-packages (from requests->transformers) (3.7)\n",
            "Requirement already satisfied: urllib3<3,>=1.21.1 in /usr/local/lib/python3.10/dist-packages (from requests->transformers) (2.0.7)\n",
            "Requirement already satisfied: certifi>=2017.4.17 in /usr/local/lib/python3.10/dist-packages (from requests->transformers) (2024.6.2)\n",
            "Requirement already satisfied: mpmath<1.4.0,>=1.1.0 in /usr/local/lib/python3.10/dist-packages (from sympy->torch) (1.3.0)\n"
          ]
        }
      ]
    },
    {
      "cell_type": "code",
      "source": [
        "from google.colab import drive\n",
        "drive.mount('/content/drive')"
      ],
      "metadata": {
        "colab": {
          "base_uri": "https://localhost:8080/"
        },
        "id": "ElCeT5pmEJB5",
        "outputId": "1780b2a2-94e6-434e-df16-1653073b7ebc"
      },
      "execution_count": 3,
      "outputs": [
        {
          "output_type": "stream",
          "name": "stdout",
          "text": [
            "Drive already mounted at /content/drive; to attempt to forcibly remount, call drive.mount(\"/content/drive\", force_remount=True).\n"
          ]
        }
      ]
    },
    {
      "cell_type": "code",
      "execution_count": 4,
      "metadata": {
        "colab": {
          "base_uri": "https://localhost:8080/",
          "height": 451
        },
        "id": "XQQBB-kKD94p",
        "outputId": "717569fc-3349-4ed9-ee93-92863f95ebc1"
      },
      "outputs": [
        {
          "output_type": "execute_result",
          "data": {
            "text/plain": [
              "                                             subject  \\\n",
              "0  Interlink : MA วันที่ 15 กรกฎาคม 2565 เวลา 00....   \n",
              "1  [Closed]Promessy Corporation : แจ้งตรวจสอบเครื...   \n",
              "2  BAAC : รบกวนเข้าไปเก็บตัวกล่องสัญญาณที่สาขาสาร...   \n",
              "3  Transform You : แจ้งขอข้อมูล Lun ดังนี้ Offsit...   \n",
              "4  GSB[SD] : แบบคำขอเปลี่ยนแปลงทรัพยากรบน GSB Clo...   \n",
              "\n",
              "                                         description ticket_type  \\\n",
              "0  From: \"NQM Interlink Telecom\" <nqm@interlinkte...     Request   \n",
              "1  From: Werachat Nawaroongruang <werachat.nawaro...     Request   \n",
              "2  รับสายลูกค้าคุณสุริยา เบอร์ 0818863505 แจ้งมีต...     Request   \n",
              "3  From: \"Teerayut Saowamok\" <teerayut.sa@transfo...     Request   \n",
              "4  From: Servicedesk <servicedesk@inetms.co.th>\\n...     Request   \n",
              "\n",
              "                                       clean_subject  \\\n",
              "0  ma     น      น   cid  inextbaac   สาขา หน่วยบ...   \n",
              "1  promessy corporation   ตรวจสอบเครื่อง ip     r...   \n",
              "2  รบกวนเข้าไปเก็บตัวกล่องสัญญาณที่สาขาสารภี เนื่...   \n",
              "3  ขอข้อมูล lun ดังนี้ offsite อยู่ที่ idc ไหนและ...   \n",
              "4  แบบคำขอเปลี่ยนแปลงทรัพยากรบน gsb cloud based s...   \n",
              "\n",
              "                                   clean_description  \\\n",
              "0  เรื่อง ขอกำหนดการปรับปรุงการให้บริการ บริษัท ไ...   \n",
              "1  inet team เครื่อง private ip     ได้มีการ rest...   \n",
              "2  รับสายลูกค้าคุณสุริยา เบอร์  มีตัวกล่องอุปกรณ์...   \n",
              "3  noc รบกวนเปิดเคสประสานงานทีม op cloud ทางทีม t...   \n",
              "4  noc ครับ subject    internal  gsb  sr   รับ  ร...   \n",
              "\n",
              "                                   tokenized_subject  \\\n",
              "0  ['ma', 'น', 'น', 'cid', 'inextbaac', 'สาขา', '...   \n",
              "1  ['promessy', 'corporation', 'ตรวจสอบ', 'เครื่อ...   \n",
              "2  ['รบกวน', 'เข้าไป', 'เก็บตัว', 'กล่อง', 'สัญญา...   \n",
              "3  ['ขอ', 'ข้อมูล', 'lun', 'ดังนี้', 'offsite', '...   \n",
              "4  ['แบบ', 'คำขอ', 'เปลี่ยนแปลง', 'ทรัพยากร', 'บน...   \n",
              "\n",
              "                               tokenized_description  \\\n",
              "0  ['เรื่อง', 'ขอ', 'กำหนด', 'การปรับปรุง', 'การ'...   \n",
              "1  ['inet', 'team', 'เครื่อง', 'private', 'ip', '...   \n",
              "2  ['รับสาย', 'ลูกค้า', 'คุณ', 'สุริยา', 'เบอร์',...   \n",
              "3  ['noc', 'รบกวน', 'เปิด', 'เคส', 'ประสานงาน', '...   \n",
              "4  ['noc', 'ครับ', 'subject', 'internal', 'gsb', ...   \n",
              "\n",
              "                                     meaning_subject  \\\n",
              "0  ['inextbaac', 'cid', 'สาขา', 'หน่วยบุรีรัมย์',...   \n",
              "1  ['ip', 'restart', 'ตรวจสอบเครื่อง', 'โดยไม่ทรา...   \n",
              "2  ['เข้าไป', 'สารภี', 'เนื่องจากมีการย้ายอาคารไป...   \n",
              "3  ['ดังนี้', 'full', 'อยู่ที่', 'ไหนและ', 'offsi...   \n",
              "4  ['แบบคำขอเปลี่ยนแปลงทรัพยากรบน', 'กรมการปกครอง...   \n",
              "\n",
              "                                 meaning_description  \n",
              "0  ['ท่าน', 'สิ้นสุดดำเนินการ', 'ปรับปรุง', 'ขอจั...  \n",
              "1  ['team', 'ได้มีการ', 'รบกวนเช็คให้หน่อยครับ', ...  \n",
              "2  ['เข้าไป', 'เดิม', 'โทร', 'เพชร', 'ตัว', 'สุภา...  \n",
              "3  ['full', 'aci', 'เคส', 'sas', 'op', 'offsite',...  \n",
              "4  ['อายุการใช้งาน', 'ทรัพยากร', 'gsb', 'gateway'...  "
            ],
            "text/html": [
              "\n",
              "  <div id=\"df-b537eb43-a02c-4bb4-8a68-4a0f373b9509\" class=\"colab-df-container\">\n",
              "    <div>\n",
              "<style scoped>\n",
              "    .dataframe tbody tr th:only-of-type {\n",
              "        vertical-align: middle;\n",
              "    }\n",
              "\n",
              "    .dataframe tbody tr th {\n",
              "        vertical-align: top;\n",
              "    }\n",
              "\n",
              "    .dataframe thead th {\n",
              "        text-align: right;\n",
              "    }\n",
              "</style>\n",
              "<table border=\"1\" class=\"dataframe\">\n",
              "  <thead>\n",
              "    <tr style=\"text-align: right;\">\n",
              "      <th></th>\n",
              "      <th>subject</th>\n",
              "      <th>description</th>\n",
              "      <th>ticket_type</th>\n",
              "      <th>clean_subject</th>\n",
              "      <th>clean_description</th>\n",
              "      <th>tokenized_subject</th>\n",
              "      <th>tokenized_description</th>\n",
              "      <th>meaning_subject</th>\n",
              "      <th>meaning_description</th>\n",
              "    </tr>\n",
              "  </thead>\n",
              "  <tbody>\n",
              "    <tr>\n",
              "      <th>0</th>\n",
              "      <td>Interlink : MA วันที่ 15 กรกฎาคม 2565 เวลา 00....</td>\n",
              "      <td>From: \"NQM Interlink Telecom\" &lt;nqm@interlinkte...</td>\n",
              "      <td>Request</td>\n",
              "      <td>ma     น      น   cid  inextbaac   สาขา หน่วยบ...</td>\n",
              "      <td>เรื่อง ขอกำหนดการปรับปรุงการให้บริการ บริษัท ไ...</td>\n",
              "      <td>['ma', 'น', 'น', 'cid', 'inextbaac', 'สาขา', '...</td>\n",
              "      <td>['เรื่อง', 'ขอ', 'กำหนด', 'การปรับปรุง', 'การ'...</td>\n",
              "      <td>['inextbaac', 'cid', 'สาขา', 'หน่วยบุรีรัมย์',...</td>\n",
              "      <td>['ท่าน', 'สิ้นสุดดำเนินการ', 'ปรับปรุง', 'ขอจั...</td>\n",
              "    </tr>\n",
              "    <tr>\n",
              "      <th>1</th>\n",
              "      <td>[Closed]Promessy Corporation : แจ้งตรวจสอบเครื...</td>\n",
              "      <td>From: Werachat Nawaroongruang &lt;werachat.nawaro...</td>\n",
              "      <td>Request</td>\n",
              "      <td>promessy corporation   ตรวจสอบเครื่อง ip     r...</td>\n",
              "      <td>inet team เครื่อง private ip     ได้มีการ rest...</td>\n",
              "      <td>['promessy', 'corporation', 'ตรวจสอบ', 'เครื่อ...</td>\n",
              "      <td>['inet', 'team', 'เครื่อง', 'private', 'ip', '...</td>\n",
              "      <td>['ip', 'restart', 'ตรวจสอบเครื่อง', 'โดยไม่ทรา...</td>\n",
              "      <td>['team', 'ได้มีการ', 'รบกวนเช็คให้หน่อยครับ', ...</td>\n",
              "    </tr>\n",
              "    <tr>\n",
              "      <th>2</th>\n",
              "      <td>BAAC : รบกวนเข้าไปเก็บตัวกล่องสัญญาณที่สาขาสาร...</td>\n",
              "      <td>รับสายลูกค้าคุณสุริยา เบอร์ 0818863505 แจ้งมีต...</td>\n",
              "      <td>Request</td>\n",
              "      <td>รบกวนเข้าไปเก็บตัวกล่องสัญญาณที่สาขาสารภี เนื่...</td>\n",
              "      <td>รับสายลูกค้าคุณสุริยา เบอร์  มีตัวกล่องอุปกรณ์...</td>\n",
              "      <td>['รบกวน', 'เข้าไป', 'เก็บตัว', 'กล่อง', 'สัญญา...</td>\n",
              "      <td>['รับสาย', 'ลูกค้า', 'คุณ', 'สุริยา', 'เบอร์',...</td>\n",
              "      <td>['เข้าไป', 'สารภี', 'เนื่องจากมีการย้ายอาคารไป...</td>\n",
              "      <td>['เข้าไป', 'เดิม', 'โทร', 'เพชร', 'ตัว', 'สุภา...</td>\n",
              "    </tr>\n",
              "    <tr>\n",
              "      <th>3</th>\n",
              "      <td>Transform You : แจ้งขอข้อมูล Lun ดังนี้ Offsit...</td>\n",
              "      <td>From: \"Teerayut Saowamok\" &lt;teerayut.sa@transfo...</td>\n",
              "      <td>Request</td>\n",
              "      <td>ขอข้อมูล lun ดังนี้ offsite อยู่ที่ idc ไหนและ...</td>\n",
              "      <td>noc รบกวนเปิดเคสประสานงานทีม op cloud ทางทีม t...</td>\n",
              "      <td>['ขอ', 'ข้อมูล', 'lun', 'ดังนี้', 'offsite', '...</td>\n",
              "      <td>['noc', 'รบกวน', 'เปิด', 'เคส', 'ประสานงาน', '...</td>\n",
              "      <td>['ดังนี้', 'full', 'อยู่ที่', 'ไหนและ', 'offsi...</td>\n",
              "      <td>['full', 'aci', 'เคส', 'sas', 'op', 'offsite',...</td>\n",
              "    </tr>\n",
              "    <tr>\n",
              "      <th>4</th>\n",
              "      <td>GSB[SD] : แบบคำขอเปลี่ยนแปลงทรัพยากรบน GSB Clo...</td>\n",
              "      <td>From: Servicedesk &lt;servicedesk@inetms.co.th&gt;\\n...</td>\n",
              "      <td>Request</td>\n",
              "      <td>แบบคำขอเปลี่ยนแปลงทรัพยากรบน gsb cloud based s...</td>\n",
              "      <td>noc ครับ subject    internal  gsb  sr   รับ  ร...</td>\n",
              "      <td>['แบบ', 'คำขอ', 'เปลี่ยนแปลง', 'ทรัพยากร', 'บน...</td>\n",
              "      <td>['noc', 'ครับ', 'subject', 'internal', 'gsb', ...</td>\n",
              "      <td>['แบบคำขอเปลี่ยนแปลงทรัพยากรบน', 'กรมการปกครอง...</td>\n",
              "      <td>['อายุการใช้งาน', 'ทรัพยากร', 'gsb', 'gateway'...</td>\n",
              "    </tr>\n",
              "  </tbody>\n",
              "</table>\n",
              "</div>\n",
              "    <div class=\"colab-df-buttons\">\n",
              "\n",
              "  <div class=\"colab-df-container\">\n",
              "    <button class=\"colab-df-convert\" onclick=\"convertToInteractive('df-b537eb43-a02c-4bb4-8a68-4a0f373b9509')\"\n",
              "            title=\"Convert this dataframe to an interactive table.\"\n",
              "            style=\"display:none;\">\n",
              "\n",
              "  <svg xmlns=\"http://www.w3.org/2000/svg\" height=\"24px\" viewBox=\"0 -960 960 960\">\n",
              "    <path d=\"M120-120v-720h720v720H120Zm60-500h600v-160H180v160Zm220 220h160v-160H400v160Zm0 220h160v-160H400v160ZM180-400h160v-160H180v160Zm440 0h160v-160H620v160ZM180-180h160v-160H180v160Zm440 0h160v-160H620v160Z\"/>\n",
              "  </svg>\n",
              "    </button>\n",
              "\n",
              "  <style>\n",
              "    .colab-df-container {\n",
              "      display:flex;\n",
              "      gap: 12px;\n",
              "    }\n",
              "\n",
              "    .colab-df-convert {\n",
              "      background-color: #E8F0FE;\n",
              "      border: none;\n",
              "      border-radius: 50%;\n",
              "      cursor: pointer;\n",
              "      display: none;\n",
              "      fill: #1967D2;\n",
              "      height: 32px;\n",
              "      padding: 0 0 0 0;\n",
              "      width: 32px;\n",
              "    }\n",
              "\n",
              "    .colab-df-convert:hover {\n",
              "      background-color: #E2EBFA;\n",
              "      box-shadow: 0px 1px 2px rgba(60, 64, 67, 0.3), 0px 1px 3px 1px rgba(60, 64, 67, 0.15);\n",
              "      fill: #174EA6;\n",
              "    }\n",
              "\n",
              "    .colab-df-buttons div {\n",
              "      margin-bottom: 4px;\n",
              "    }\n",
              "\n",
              "    [theme=dark] .colab-df-convert {\n",
              "      background-color: #3B4455;\n",
              "      fill: #D2E3FC;\n",
              "    }\n",
              "\n",
              "    [theme=dark] .colab-df-convert:hover {\n",
              "      background-color: #434B5C;\n",
              "      box-shadow: 0px 1px 3px 1px rgba(0, 0, 0, 0.15);\n",
              "      filter: drop-shadow(0px 1px 2px rgba(0, 0, 0, 0.3));\n",
              "      fill: #FFFFFF;\n",
              "    }\n",
              "  </style>\n",
              "\n",
              "    <script>\n",
              "      const buttonEl =\n",
              "        document.querySelector('#df-b537eb43-a02c-4bb4-8a68-4a0f373b9509 button.colab-df-convert');\n",
              "      buttonEl.style.display =\n",
              "        google.colab.kernel.accessAllowed ? 'block' : 'none';\n",
              "\n",
              "      async function convertToInteractive(key) {\n",
              "        const element = document.querySelector('#df-b537eb43-a02c-4bb4-8a68-4a0f373b9509');\n",
              "        const dataTable =\n",
              "          await google.colab.kernel.invokeFunction('convertToInteractive',\n",
              "                                                    [key], {});\n",
              "        if (!dataTable) return;\n",
              "\n",
              "        const docLinkHtml = 'Like what you see? Visit the ' +\n",
              "          '<a target=\"_blank\" href=https://colab.research.google.com/notebooks/data_table.ipynb>data table notebook</a>'\n",
              "          + ' to learn more about interactive tables.';\n",
              "        element.innerHTML = '';\n",
              "        dataTable['output_type'] = 'display_data';\n",
              "        await google.colab.output.renderOutput(dataTable, element);\n",
              "        const docLink = document.createElement('div');\n",
              "        docLink.innerHTML = docLinkHtml;\n",
              "        element.appendChild(docLink);\n",
              "      }\n",
              "    </script>\n",
              "  </div>\n",
              "\n",
              "\n",
              "<div id=\"df-2dd8b322-42d7-422d-87a8-f82151bfdc79\">\n",
              "  <button class=\"colab-df-quickchart\" onclick=\"quickchart('df-2dd8b322-42d7-422d-87a8-f82151bfdc79')\"\n",
              "            title=\"Suggest charts\"\n",
              "            style=\"display:none;\">\n",
              "\n",
              "<svg xmlns=\"http://www.w3.org/2000/svg\" height=\"24px\"viewBox=\"0 0 24 24\"\n",
              "     width=\"24px\">\n",
              "    <g>\n",
              "        <path d=\"M19 3H5c-1.1 0-2 .9-2 2v14c0 1.1.9 2 2 2h14c1.1 0 2-.9 2-2V5c0-1.1-.9-2-2-2zM9 17H7v-7h2v7zm4 0h-2V7h2v10zm4 0h-2v-4h2v4z\"/>\n",
              "    </g>\n",
              "</svg>\n",
              "  </button>\n",
              "\n",
              "<style>\n",
              "  .colab-df-quickchart {\n",
              "      --bg-color: #E8F0FE;\n",
              "      --fill-color: #1967D2;\n",
              "      --hover-bg-color: #E2EBFA;\n",
              "      --hover-fill-color: #174EA6;\n",
              "      --disabled-fill-color: #AAA;\n",
              "      --disabled-bg-color: #DDD;\n",
              "  }\n",
              "\n",
              "  [theme=dark] .colab-df-quickchart {\n",
              "      --bg-color: #3B4455;\n",
              "      --fill-color: #D2E3FC;\n",
              "      --hover-bg-color: #434B5C;\n",
              "      --hover-fill-color: #FFFFFF;\n",
              "      --disabled-bg-color: #3B4455;\n",
              "      --disabled-fill-color: #666;\n",
              "  }\n",
              "\n",
              "  .colab-df-quickchart {\n",
              "    background-color: var(--bg-color);\n",
              "    border: none;\n",
              "    border-radius: 50%;\n",
              "    cursor: pointer;\n",
              "    display: none;\n",
              "    fill: var(--fill-color);\n",
              "    height: 32px;\n",
              "    padding: 0;\n",
              "    width: 32px;\n",
              "  }\n",
              "\n",
              "  .colab-df-quickchart:hover {\n",
              "    background-color: var(--hover-bg-color);\n",
              "    box-shadow: 0 1px 2px rgba(60, 64, 67, 0.3), 0 1px 3px 1px rgba(60, 64, 67, 0.15);\n",
              "    fill: var(--button-hover-fill-color);\n",
              "  }\n",
              "\n",
              "  .colab-df-quickchart-complete:disabled,\n",
              "  .colab-df-quickchart-complete:disabled:hover {\n",
              "    background-color: var(--disabled-bg-color);\n",
              "    fill: var(--disabled-fill-color);\n",
              "    box-shadow: none;\n",
              "  }\n",
              "\n",
              "  .colab-df-spinner {\n",
              "    border: 2px solid var(--fill-color);\n",
              "    border-color: transparent;\n",
              "    border-bottom-color: var(--fill-color);\n",
              "    animation:\n",
              "      spin 1s steps(1) infinite;\n",
              "  }\n",
              "\n",
              "  @keyframes spin {\n",
              "    0% {\n",
              "      border-color: transparent;\n",
              "      border-bottom-color: var(--fill-color);\n",
              "      border-left-color: var(--fill-color);\n",
              "    }\n",
              "    20% {\n",
              "      border-color: transparent;\n",
              "      border-left-color: var(--fill-color);\n",
              "      border-top-color: var(--fill-color);\n",
              "    }\n",
              "    30% {\n",
              "      border-color: transparent;\n",
              "      border-left-color: var(--fill-color);\n",
              "      border-top-color: var(--fill-color);\n",
              "      border-right-color: var(--fill-color);\n",
              "    }\n",
              "    40% {\n",
              "      border-color: transparent;\n",
              "      border-right-color: var(--fill-color);\n",
              "      border-top-color: var(--fill-color);\n",
              "    }\n",
              "    60% {\n",
              "      border-color: transparent;\n",
              "      border-right-color: var(--fill-color);\n",
              "    }\n",
              "    80% {\n",
              "      border-color: transparent;\n",
              "      border-right-color: var(--fill-color);\n",
              "      border-bottom-color: var(--fill-color);\n",
              "    }\n",
              "    90% {\n",
              "      border-color: transparent;\n",
              "      border-bottom-color: var(--fill-color);\n",
              "    }\n",
              "  }\n",
              "</style>\n",
              "\n",
              "  <script>\n",
              "    async function quickchart(key) {\n",
              "      const quickchartButtonEl =\n",
              "        document.querySelector('#' + key + ' button');\n",
              "      quickchartButtonEl.disabled = true;  // To prevent multiple clicks.\n",
              "      quickchartButtonEl.classList.add('colab-df-spinner');\n",
              "      try {\n",
              "        const charts = await google.colab.kernel.invokeFunction(\n",
              "            'suggestCharts', [key], {});\n",
              "      } catch (error) {\n",
              "        console.error('Error during call to suggestCharts:', error);\n",
              "      }\n",
              "      quickchartButtonEl.classList.remove('colab-df-spinner');\n",
              "      quickchartButtonEl.classList.add('colab-df-quickchart-complete');\n",
              "    }\n",
              "    (() => {\n",
              "      let quickchartButtonEl =\n",
              "        document.querySelector('#df-2dd8b322-42d7-422d-87a8-f82151bfdc79 button');\n",
              "      quickchartButtonEl.style.display =\n",
              "        google.colab.kernel.accessAllowed ? 'block' : 'none';\n",
              "    })();\n",
              "  </script>\n",
              "</div>\n",
              "\n",
              "    </div>\n",
              "  </div>\n"
            ],
            "application/vnd.google.colaboratory.intrinsic+json": {
              "type": "dataframe",
              "variable_name": "df"
            }
          },
          "metadata": {},
          "execution_count": 4
        }
      ],
      "source": [
        "import pandas as pd\n",
        "df = pd.read_csv(\"/content/drive/MyDrive/AIEngineer/data.csv\")\n",
        "df = df.drop(columns=['Unnamed: 0'])\n",
        "df.head(5)"
      ]
    },
    {
      "cell_type": "code",
      "source": [
        "import pandas as pd\n",
        "import torch\n",
        "from transformers import BertTokenizer, BertForSequenceClassification, Trainer, TrainingArguments\n",
        "from sklearn.model_selection import train_test_split\n",
        "from sklearn.metrics import accuracy_score\n",
        "import torch.nn as nn\n",
        "from sklearn.metrics import classification_report\n",
        "import transformers\n",
        "from transformers import AutoModel, BertTokenizerFast"
      ],
      "metadata": {
        "id": "dWAimyKVFphQ"
      },
      "execution_count": 5,
      "outputs": []
    },
    {
      "cell_type": "code",
      "source": [
        "df['sentence'] = df['clean_subject'] + ' ' + df['clean_description']\n",
        "df['sentence'].loc[0]"
      ],
      "metadata": {
        "colab": {
          "base_uri": "https://localhost:8080/",
          "height": 145
        },
        "id": "_-5pVSn3mu-g",
        "outputId": "36cc6e44-654e-433b-b41d-72f6d8f555c0"
      },
      "execution_count": 6,
      "outputs": [
        {
          "output_type": "execute_result",
          "data": {
            "text/plain": [
              "'ma     น      น   cid  inextbaac   สาขา หน่วยบุรีรัมย์ เรื่อง ขอกำหนดการปรับปรุงการให้บริการ บริษัท ไอเน็กซ์ บรอดแบนด์ จำกัด ขอจัดส่งจดหมายปรับปรุงการบริการวงจร จำนวน  วงจร วัตถุประ์การดำเนินการ   ปรับปรุงบริการโครงข่าย เนื่องจากจะดำเนินการ replace อุปกรณ์ภายใน node พื้นที่ดำเนินการ   node บุรีรัมย์ site interlink วัน เริ่มดำเนินการ       น  วัน สิ้นสุดดำเนินการ       น  ระยะกระทบ   กระทบบริการไม่เกิน   ชั่วโมง รายละเอียดทั้งหมดตาม เอกสารแนบมา จึงมาโปรดทราบความจำเป็นดังกล่าว และบริษัทฯ ขออภัยในความไม่สะดวกในครั้งนี้ หากท่านมีข้อสงสัยหรือต้องการข้อมูลเพิ่มเติม โปรดติดต่อตามหมายเลขด้านล่าง หรือ reply mail กลับมาที่'"
            ],
            "application/vnd.google.colaboratory.intrinsic+json": {
              "type": "string"
            }
          },
          "metadata": {},
          "execution_count": 6
        }
      ]
    },
    {
      "cell_type": "code",
      "source": [
        "data = df[['ticket_type','sentence']]\n",
        "data.head(5)"
      ],
      "metadata": {
        "colab": {
          "base_uri": "https://localhost:8080/",
          "height": 206
        },
        "id": "UBdCnR6VnDpK",
        "outputId": "aa6b5666-bab5-4af1-a8f0-6b7abed5174b"
      },
      "execution_count": 7,
      "outputs": [
        {
          "output_type": "execute_result",
          "data": {
            "text/plain": [
              "  ticket_type                                           sentence\n",
              "0     Request  ma     น      น   cid  inextbaac   สาขา หน่วยบ...\n",
              "1     Request  promessy corporation   ตรวจสอบเครื่อง ip     r...\n",
              "2     Request  รบกวนเข้าไปเก็บตัวกล่องสัญญาณที่สาขาสารภี เนื่...\n",
              "3     Request  ขอข้อมูล lun ดังนี้ offsite อยู่ที่ idc ไหนและ...\n",
              "4     Request  แบบคำขอเปลี่ยนแปลงทรัพยากรบน gsb cloud based s..."
            ],
            "text/html": [
              "\n",
              "  <div id=\"df-07272a7a-a844-49c1-a6c2-251cf985f7d5\" class=\"colab-df-container\">\n",
              "    <div>\n",
              "<style scoped>\n",
              "    .dataframe tbody tr th:only-of-type {\n",
              "        vertical-align: middle;\n",
              "    }\n",
              "\n",
              "    .dataframe tbody tr th {\n",
              "        vertical-align: top;\n",
              "    }\n",
              "\n",
              "    .dataframe thead th {\n",
              "        text-align: right;\n",
              "    }\n",
              "</style>\n",
              "<table border=\"1\" class=\"dataframe\">\n",
              "  <thead>\n",
              "    <tr style=\"text-align: right;\">\n",
              "      <th></th>\n",
              "      <th>ticket_type</th>\n",
              "      <th>sentence</th>\n",
              "    </tr>\n",
              "  </thead>\n",
              "  <tbody>\n",
              "    <tr>\n",
              "      <th>0</th>\n",
              "      <td>Request</td>\n",
              "      <td>ma     น      น   cid  inextbaac   สาขา หน่วยบ...</td>\n",
              "    </tr>\n",
              "    <tr>\n",
              "      <th>1</th>\n",
              "      <td>Request</td>\n",
              "      <td>promessy corporation   ตรวจสอบเครื่อง ip     r...</td>\n",
              "    </tr>\n",
              "    <tr>\n",
              "      <th>2</th>\n",
              "      <td>Request</td>\n",
              "      <td>รบกวนเข้าไปเก็บตัวกล่องสัญญาณที่สาขาสารภี เนื่...</td>\n",
              "    </tr>\n",
              "    <tr>\n",
              "      <th>3</th>\n",
              "      <td>Request</td>\n",
              "      <td>ขอข้อมูล lun ดังนี้ offsite อยู่ที่ idc ไหนและ...</td>\n",
              "    </tr>\n",
              "    <tr>\n",
              "      <th>4</th>\n",
              "      <td>Request</td>\n",
              "      <td>แบบคำขอเปลี่ยนแปลงทรัพยากรบน gsb cloud based s...</td>\n",
              "    </tr>\n",
              "  </tbody>\n",
              "</table>\n",
              "</div>\n",
              "    <div class=\"colab-df-buttons\">\n",
              "\n",
              "  <div class=\"colab-df-container\">\n",
              "    <button class=\"colab-df-convert\" onclick=\"convertToInteractive('df-07272a7a-a844-49c1-a6c2-251cf985f7d5')\"\n",
              "            title=\"Convert this dataframe to an interactive table.\"\n",
              "            style=\"display:none;\">\n",
              "\n",
              "  <svg xmlns=\"http://www.w3.org/2000/svg\" height=\"24px\" viewBox=\"0 -960 960 960\">\n",
              "    <path d=\"M120-120v-720h720v720H120Zm60-500h600v-160H180v160Zm220 220h160v-160H400v160Zm0 220h160v-160H400v160ZM180-400h160v-160H180v160Zm440 0h160v-160H620v160ZM180-180h160v-160H180v160Zm440 0h160v-160H620v160Z\"/>\n",
              "  </svg>\n",
              "    </button>\n",
              "\n",
              "  <style>\n",
              "    .colab-df-container {\n",
              "      display:flex;\n",
              "      gap: 12px;\n",
              "    }\n",
              "\n",
              "    .colab-df-convert {\n",
              "      background-color: #E8F0FE;\n",
              "      border: none;\n",
              "      border-radius: 50%;\n",
              "      cursor: pointer;\n",
              "      display: none;\n",
              "      fill: #1967D2;\n",
              "      height: 32px;\n",
              "      padding: 0 0 0 0;\n",
              "      width: 32px;\n",
              "    }\n",
              "\n",
              "    .colab-df-convert:hover {\n",
              "      background-color: #E2EBFA;\n",
              "      box-shadow: 0px 1px 2px rgba(60, 64, 67, 0.3), 0px 1px 3px 1px rgba(60, 64, 67, 0.15);\n",
              "      fill: #174EA6;\n",
              "    }\n",
              "\n",
              "    .colab-df-buttons div {\n",
              "      margin-bottom: 4px;\n",
              "    }\n",
              "\n",
              "    [theme=dark] .colab-df-convert {\n",
              "      background-color: #3B4455;\n",
              "      fill: #D2E3FC;\n",
              "    }\n",
              "\n",
              "    [theme=dark] .colab-df-convert:hover {\n",
              "      background-color: #434B5C;\n",
              "      box-shadow: 0px 1px 3px 1px rgba(0, 0, 0, 0.15);\n",
              "      filter: drop-shadow(0px 1px 2px rgba(0, 0, 0, 0.3));\n",
              "      fill: #FFFFFF;\n",
              "    }\n",
              "  </style>\n",
              "\n",
              "    <script>\n",
              "      const buttonEl =\n",
              "        document.querySelector('#df-07272a7a-a844-49c1-a6c2-251cf985f7d5 button.colab-df-convert');\n",
              "      buttonEl.style.display =\n",
              "        google.colab.kernel.accessAllowed ? 'block' : 'none';\n",
              "\n",
              "      async function convertToInteractive(key) {\n",
              "        const element = document.querySelector('#df-07272a7a-a844-49c1-a6c2-251cf985f7d5');\n",
              "        const dataTable =\n",
              "          await google.colab.kernel.invokeFunction('convertToInteractive',\n",
              "                                                    [key], {});\n",
              "        if (!dataTable) return;\n",
              "\n",
              "        const docLinkHtml = 'Like what you see? Visit the ' +\n",
              "          '<a target=\"_blank\" href=https://colab.research.google.com/notebooks/data_table.ipynb>data table notebook</a>'\n",
              "          + ' to learn more about interactive tables.';\n",
              "        element.innerHTML = '';\n",
              "        dataTable['output_type'] = 'display_data';\n",
              "        await google.colab.output.renderOutput(dataTable, element);\n",
              "        const docLink = document.createElement('div');\n",
              "        docLink.innerHTML = docLinkHtml;\n",
              "        element.appendChild(docLink);\n",
              "      }\n",
              "    </script>\n",
              "  </div>\n",
              "\n",
              "\n",
              "<div id=\"df-9f996208-94fb-485d-9492-39bc05a04969\">\n",
              "  <button class=\"colab-df-quickchart\" onclick=\"quickchart('df-9f996208-94fb-485d-9492-39bc05a04969')\"\n",
              "            title=\"Suggest charts\"\n",
              "            style=\"display:none;\">\n",
              "\n",
              "<svg xmlns=\"http://www.w3.org/2000/svg\" height=\"24px\"viewBox=\"0 0 24 24\"\n",
              "     width=\"24px\">\n",
              "    <g>\n",
              "        <path d=\"M19 3H5c-1.1 0-2 .9-2 2v14c0 1.1.9 2 2 2h14c1.1 0 2-.9 2-2V5c0-1.1-.9-2-2-2zM9 17H7v-7h2v7zm4 0h-2V7h2v10zm4 0h-2v-4h2v4z\"/>\n",
              "    </g>\n",
              "</svg>\n",
              "  </button>\n",
              "\n",
              "<style>\n",
              "  .colab-df-quickchart {\n",
              "      --bg-color: #E8F0FE;\n",
              "      --fill-color: #1967D2;\n",
              "      --hover-bg-color: #E2EBFA;\n",
              "      --hover-fill-color: #174EA6;\n",
              "      --disabled-fill-color: #AAA;\n",
              "      --disabled-bg-color: #DDD;\n",
              "  }\n",
              "\n",
              "  [theme=dark] .colab-df-quickchart {\n",
              "      --bg-color: #3B4455;\n",
              "      --fill-color: #D2E3FC;\n",
              "      --hover-bg-color: #434B5C;\n",
              "      --hover-fill-color: #FFFFFF;\n",
              "      --disabled-bg-color: #3B4455;\n",
              "      --disabled-fill-color: #666;\n",
              "  }\n",
              "\n",
              "  .colab-df-quickchart {\n",
              "    background-color: var(--bg-color);\n",
              "    border: none;\n",
              "    border-radius: 50%;\n",
              "    cursor: pointer;\n",
              "    display: none;\n",
              "    fill: var(--fill-color);\n",
              "    height: 32px;\n",
              "    padding: 0;\n",
              "    width: 32px;\n",
              "  }\n",
              "\n",
              "  .colab-df-quickchart:hover {\n",
              "    background-color: var(--hover-bg-color);\n",
              "    box-shadow: 0 1px 2px rgba(60, 64, 67, 0.3), 0 1px 3px 1px rgba(60, 64, 67, 0.15);\n",
              "    fill: var(--button-hover-fill-color);\n",
              "  }\n",
              "\n",
              "  .colab-df-quickchart-complete:disabled,\n",
              "  .colab-df-quickchart-complete:disabled:hover {\n",
              "    background-color: var(--disabled-bg-color);\n",
              "    fill: var(--disabled-fill-color);\n",
              "    box-shadow: none;\n",
              "  }\n",
              "\n",
              "  .colab-df-spinner {\n",
              "    border: 2px solid var(--fill-color);\n",
              "    border-color: transparent;\n",
              "    border-bottom-color: var(--fill-color);\n",
              "    animation:\n",
              "      spin 1s steps(1) infinite;\n",
              "  }\n",
              "\n",
              "  @keyframes spin {\n",
              "    0% {\n",
              "      border-color: transparent;\n",
              "      border-bottom-color: var(--fill-color);\n",
              "      border-left-color: var(--fill-color);\n",
              "    }\n",
              "    20% {\n",
              "      border-color: transparent;\n",
              "      border-left-color: var(--fill-color);\n",
              "      border-top-color: var(--fill-color);\n",
              "    }\n",
              "    30% {\n",
              "      border-color: transparent;\n",
              "      border-left-color: var(--fill-color);\n",
              "      border-top-color: var(--fill-color);\n",
              "      border-right-color: var(--fill-color);\n",
              "    }\n",
              "    40% {\n",
              "      border-color: transparent;\n",
              "      border-right-color: var(--fill-color);\n",
              "      border-top-color: var(--fill-color);\n",
              "    }\n",
              "    60% {\n",
              "      border-color: transparent;\n",
              "      border-right-color: var(--fill-color);\n",
              "    }\n",
              "    80% {\n",
              "      border-color: transparent;\n",
              "      border-right-color: var(--fill-color);\n",
              "      border-bottom-color: var(--fill-color);\n",
              "    }\n",
              "    90% {\n",
              "      border-color: transparent;\n",
              "      border-bottom-color: var(--fill-color);\n",
              "    }\n",
              "  }\n",
              "</style>\n",
              "\n",
              "  <script>\n",
              "    async function quickchart(key) {\n",
              "      const quickchartButtonEl =\n",
              "        document.querySelector('#' + key + ' button');\n",
              "      quickchartButtonEl.disabled = true;  // To prevent multiple clicks.\n",
              "      quickchartButtonEl.classList.add('colab-df-spinner');\n",
              "      try {\n",
              "        const charts = await google.colab.kernel.invokeFunction(\n",
              "            'suggestCharts', [key], {});\n",
              "      } catch (error) {\n",
              "        console.error('Error during call to suggestCharts:', error);\n",
              "      }\n",
              "      quickchartButtonEl.classList.remove('colab-df-spinner');\n",
              "      quickchartButtonEl.classList.add('colab-df-quickchart-complete');\n",
              "    }\n",
              "    (() => {\n",
              "      let quickchartButtonEl =\n",
              "        document.querySelector('#df-9f996208-94fb-485d-9492-39bc05a04969 button');\n",
              "      quickchartButtonEl.style.display =\n",
              "        google.colab.kernel.accessAllowed ? 'block' : 'none';\n",
              "    })();\n",
              "  </script>\n",
              "</div>\n",
              "\n",
              "    </div>\n",
              "  </div>\n"
            ],
            "application/vnd.google.colaboratory.intrinsic+json": {
              "type": "dataframe",
              "variable_name": "data"
            }
          },
          "metadata": {},
          "execution_count": 7
        }
      ]
    },
    {
      "cell_type": "code",
      "source": [
        "data = data[data['ticket_type'] != 'Problem'] #Drop Class Problem"
      ],
      "metadata": {
        "id": "MbyeC3_s0z4q"
      },
      "execution_count": 8,
      "outputs": []
    },
    {
      "cell_type": "code",
      "source": [
        "data.dropna(subset=['sentence'], inplace=True)"
      ],
      "metadata": {
        "id": "bZRIJoLPo_JY"
      },
      "execution_count": 9,
      "outputs": []
    },
    {
      "cell_type": "code",
      "source": [
        "# check class distribution\n",
        "data['ticket_type'].value_counts(normalize = True)"
      ],
      "metadata": {
        "colab": {
          "base_uri": "https://localhost:8080/"
        },
        "id": "5Rtbez6tmt0P",
        "outputId": "144ab246-60d6-46a8-bd98-6c6abe0529b5"
      },
      "execution_count": 10,
      "outputs": [
        {
          "output_type": "execute_result",
          "data": {
            "text/plain": [
              "ticket_type\n",
              "Request     0.584616\n",
              "Incident    0.415384\n",
              "Name: proportion, dtype: float64"
            ]
          },
          "metadata": {},
          "execution_count": 10
        }
      ]
    },
    {
      "cell_type": "code",
      "source": [
        "data.isnull().sum()"
      ],
      "metadata": {
        "colab": {
          "base_uri": "https://localhost:8080/"
        },
        "id": "Ue_qHDK2pYyK",
        "outputId": "7cab3b6e-1b91-4646-c35a-7122f369e96d"
      },
      "execution_count": 11,
      "outputs": [
        {
          "output_type": "execute_result",
          "data": {
            "text/plain": [
              "ticket_type    0\n",
              "sentence       0\n",
              "dtype: int64"
            ]
          },
          "metadata": {},
          "execution_count": 11
        }
      ]
    },
    {
      "cell_type": "markdown",
      "source": [
        "## **BERT**"
      ],
      "metadata": {
        "id": "mwSkC7YG6a6I"
      }
    },
    {
      "cell_type": "code",
      "source": [
        "train_text, temp_text, train_labels, temp_labels = train_test_split(data['sentence'], data['ticket_type'],\n",
        "                                                                    random_state=2018,\n",
        "                                                                    test_size=0.3,\n",
        "                                                                    stratify=data['ticket_type'])\n",
        "\n",
        "val_text, test_text, val_labels, test_labels = train_test_split(temp_text, temp_labels,\n",
        "                                                                random_state=2018,\n",
        "                                                                test_size=0.3,\n",
        "                                                                stratify=temp_labels)"
      ],
      "metadata": {
        "id": "lUIT4OWwFxIm"
      },
      "execution_count": 12,
      "outputs": []
    },
    {
      "cell_type": "code",
      "source": [
        "# get length of all the messages in the train set\n",
        "seq_len = [len(i.split()) for i in train_text]\n",
        "\n",
        "pd.Series(seq_len).hist(bins = 30)"
      ],
      "metadata": {
        "colab": {
          "base_uri": "https://localhost:8080/",
          "height": 448
        },
        "id": "Nay3Eiq4ngf9",
        "outputId": "53e4aea2-28ae-4c3f-bbe5-f52daee88dbf"
      },
      "execution_count": 13,
      "outputs": [
        {
          "output_type": "execute_result",
          "data": {
            "text/plain": [
              "<Axes: >"
            ]
          },
          "metadata": {},
          "execution_count": 13
        },
        {
          "output_type": "display_data",
          "data": {
            "text/plain": [
              "<Figure size 640x480 with 1 Axes>"
            ],
            "image/png": "[encoded data removed]"
          },
          "metadata": {}
        }
      ]
    },
    {
      "cell_type": "code",
      "source": [
        "from transformers import BertModel, BertTokenizer\n",
        "bert = BertModel.from_pretrained('bert-base-uncased')\n",
        "tokenizer = BertTokenizer.from_pretrained('bert-base-uncased')\n",
        "\n",
        "# Set device (GPU if available, otherwise CPU)\n",
        "device = torch.device('cuda' if torch.cuda.is_available() else 'cpu')\n",
        "bert.to(device)"
      ],
      "metadata": {
        "id": "ZiTFNFQWEeeK",
        "outputId": "f395ce49-46dd-469b-86ae-f6b3b201cd67",
        "colab": {
          "base_uri": "https://localhost:8080/"
        },
        "collapsed": true
      },
      "execution_count": 14,
      "outputs": [
        {
          "output_type": "stream",
          "name": "stderr",
          "text": [
            "/usr/local/lib/python3.10/dist-packages/huggingface_hub/utils/_token.py:89: UserWarning: \n",
            "The secret `HF_TOKEN` does not exist in your Colab secrets.\n",
            "To authenticate with the Hugging Face Hub, create a token in your settings tab (https://huggingface.co/settings/tokens), set it as secret in your Google Colab and restart your session.\n",
            "You will be able to reuse this secret in all of your notebooks.\n",
            "Please note that authentication is recommended but still optional to access public models or datasets.\n",
            "  warnings.warn(\n"
          ]
        },
        {
          "output_type": "execute_result",
          "data": {
            "text/plain": [
              "BertModel(\n",
              "  (embeddings): BertEmbeddings(\n",
              "    (word_embeddings): Embedding(30522, 768, padding_idx=0)\n",
              "    (position_embeddings): Embedding(512, 768)\n",
              "    (token_type_embeddings): Embedding(2, 768)\n",
              "    (LayerNorm): LayerNorm((768,), eps=1e-12, elementwise_affine=True)\n",
              "    (dropout): Dropout(p=0.1, inplace=False)\n",
              "  )\n",
              "  (encoder): BertEncoder(\n",
              "    (layer): ModuleList(\n",
              "      (0-11): 12 x BertLayer(\n",
              "        (attention): BertAttention(\n",
              "          (self): BertSdpaSelfAttention(\n",
              "            (query): Linear(in_features=768, out_features=768, bias=True)\n",
              "            (key): Linear(in_features=768, out_features=768, bias=True)\n",
              "            (value): Linear(in_features=768, out_features=768, bias=True)\n",
              "            (dropout): Dropout(p=0.1, inplace=False)\n",
              "          )\n",
              "          (output): BertSelfOutput(\n",
              "            (dense): Linear(in_features=768, out_features=768, bias=True)\n",
              "            (LayerNorm): LayerNorm((768,), eps=1e-12, elementwise_affine=True)\n",
              "            (dropout): Dropout(p=0.1, inplace=False)\n",
              "          )\n",
              "        )\n",
              "        (intermediate): BertIntermediate(\n",
              "          (dense): Linear(in_features=768, out_features=3072, bias=True)\n",
              "          (intermediate_act_fn): GELUActivation()\n",
              "        )\n",
              "        (output): BertOutput(\n",
              "          (dense): Linear(in_features=3072, out_features=768, bias=True)\n",
              "          (LayerNorm): LayerNorm((768,), eps=1e-12, elementwise_affine=True)\n",
              "          (dropout): Dropout(p=0.1, inplace=False)\n",
              "        )\n",
              "      )\n",
              "    )\n",
              "  )\n",
              "  (pooler): BertPooler(\n",
              "    (dense): Linear(in_features=768, out_features=768, bias=True)\n",
              "    (activation): Tanh()\n",
              "  )\n",
              ")"
            ]
          },
          "metadata": {},
          "execution_count": 14
        }
      ]
    },
    {
      "cell_type": "code",
      "source": [
        "from transformers import BertTokenizer\n",
        "import torch\n",
        "\n",
        "# Load BERT tokenizer\n",
        "tokenizer = BertTokenizer.from_pretrained('bert-base-uncased')\n",
        "\n",
        "# Define a function to preprocess text for BERT\n",
        "def preprocess_text(texts, max_length=100):\n",
        "    # Tokenize input texts\n",
        "    tokens = tokenizer.batch_encode_plus(\n",
        "        texts.tolist(),\n",
        "        max_length=max_length,\n",
        "        pad_to_max_length=True,\n",
        "        truncation=True\n",
        "    )\n",
        "\n",
        "    # Convert tokens to PyTorch tensors\n",
        "    seq = torch.tensor(tokens['input_ids'], dtype=torch.long)\n",
        "    mask = torch.tensor(tokens['attention_mask'], dtype=torch.long)\n",
        "\n",
        "    return seq, mask"
      ],
      "metadata": {
        "id": "tRrhpc2r8i3W"
      },
      "execution_count": 15,
      "outputs": []
    },
    {
      "cell_type": "code",
      "source": [
        "# tokenize and encode sequences in the training set\n",
        "tokens_train = tokenizer.batch_encode_plus(\n",
        "    train_text.tolist(),\n",
        "    max_length = 100,\n",
        "    pad_to_max_length=True,\n",
        "    truncation=True\n",
        ")\n",
        "\n",
        "# tokenize and encode sequences in the validation set\n",
        "tokens_val = tokenizer.batch_encode_plus(\n",
        "    val_text.tolist(),\n",
        "    max_length = 100,\n",
        "    pad_to_max_length=True,\n",
        "    truncation=True\n",
        ")\n",
        "\n",
        "# tokenize and encode sequences in the test set\n",
        "tokens_test = tokenizer.batch_encode_plus(\n",
        "    test_text.tolist(),\n",
        "    max_length = 100,\n",
        "    pad_to_max_length=True,\n",
        "    truncation=True\n",
        ")"
      ],
      "metadata": {
        "colab": {
          "base_uri": "https://localhost:8080/"
        },
        "id": "4xKHXwz7pkt4",
        "outputId": "edff33f1-e4c8-42e2-dfff-0aa64db02b2d"
      },
      "execution_count": 16,
      "outputs": [
        {
          "output_type": "stream",
          "name": "stderr",
          "text": [
            "/usr/local/lib/python3.10/dist-packages/transformers/tokenization_utils_base.py:2699: FutureWarning: The `pad_to_max_length` argument is deprecated and will be removed in a future version, use `padding=True` or `padding='longest'` to pad to the longest sequence in the batch, or use `padding='max_length'` to pad to a max length. In this case, you can give a specific length with `max_length` (e.g. `max_length=45`) or leave max_length to None to pad to the maximal input size of the model (e.g. 512 for Bert).\n",
            "  warnings.warn(\n"
          ]
        }
      ]
    },
    {
      "cell_type": "code",
      "source": [
        "from sklearn.preprocessing import LabelEncoder\n",
        "\n",
        "# Initialize the LabelEncoder\n",
        "le = LabelEncoder()\n",
        "\n",
        "# Fit and transform the labels\n",
        "train_labels = le.fit_transform(train_labels)\n",
        "val_labels = le.transform(val_labels)\n",
        "test_labels = le.transform(test_labels)"
      ],
      "metadata": {
        "id": "xT-y6GyVqq8l"
      },
      "execution_count": 17,
      "outputs": []
    },
    {
      "cell_type": "code",
      "source": [
        "import torch\n",
        "\n",
        "# Convert lists to tensors\n",
        "train_seq = torch.tensor(tokens_train['input_ids'], dtype=torch.long)\n",
        "train_mask = torch.tensor(tokens_train['attention_mask'], dtype=torch.long)\n",
        "train_y = torch.tensor(train_labels, dtype=torch.long)\n",
        "\n",
        "val_seq = torch.tensor(tokens_val['input_ids'], dtype=torch.long)\n",
        "val_mask = torch.tensor(tokens_val['attention_mask'], dtype=torch.long)\n",
        "val_y = torch.tensor(val_labels, dtype=torch.long)\n",
        "\n",
        "test_seq = torch.tensor(tokens_test['input_ids'], dtype=torch.long)\n",
        "test_mask = torch.tensor(tokens_test['attention_mask'], dtype=torch.long)\n",
        "test_y = torch.tensor(test_labels, dtype=torch.long)\n"
      ],
      "metadata": {
        "id": "ZEu1kUcspmEM"
      },
      "execution_count": 18,
      "outputs": []
    },
    {
      "cell_type": "code",
      "source": [
        "from torch.utils.data import TensorDataset, DataLoader, RandomSampler, SequentialSampler\n",
        "\n",
        "# Batch size\n",
        "batch_size = 16\n",
        "\n",
        "# Create TensorDataset for training data\n",
        "train_data = TensorDataset(train_seq, train_mask, train_y)\n",
        "# Create a RandomSampler for training data\n",
        "train_sampler = RandomSampler(train_data)\n",
        "# Create DataLoader for training data\n",
        "train_dataloader = DataLoader(train_data, sampler=train_sampler, batch_size=batch_size)\n",
        "\n",
        "val_data = TensorDataset(val_seq, val_mask, val_y)\n",
        "val_sampler = SequentialSampler(val_data)\n",
        "val_dataloader = DataLoader(val_data, sampler=val_sampler, batch_size=batch_size)\n",
        "\n",
        "# (Optional) Create TensorDataset and DataLoader for test data if needed\n",
        "# test_data = TensorDataset(test_seq, test_mask, test_y)\n",
        "# test_sampler = SequentialSampler(test_data)\n",
        "# test_dataloader = DataLoader(test_data, sampler=test_sampler, batch_size=batch_size)\n"
      ],
      "metadata": {
        "id": "mghlEXMqp850"
      },
      "execution_count": 19,
      "outputs": []
    },
    {
      "cell_type": "code",
      "source": [
        "!pip install captum"
      ],
      "metadata": {
        "collapsed": true,
        "id": "MnLdwW-HEHe1",
        "outputId": "395fd8eb-d470-40fa-b357-7ba55b2d0825",
        "colab": {
          "base_uri": "https://localhost:8080/"
        }
      },
      "execution_count": 20,
      "outputs": [
        {
          "output_type": "stream",
          "name": "stdout",
          "text": [
            "Requirement already satisfied: captum in /usr/local/lib/python3.10/dist-packages (0.7.0)\n",
            "Requirement already satisfied: matplotlib in /usr/local/lib/python3.10/dist-packages (from captum) (3.7.1)\n",
            "Requirement already satisfied: numpy in /usr/local/lib/python3.10/dist-packages (from captum) (1.25.2)\n",
            "Requirement already satisfied: torch>=1.6 in /usr/local/lib/python3.10/dist-packages (from captum) (2.3.0+cu121)\n",
            "Requirement already satisfied: tqdm in /usr/local/lib/python3.10/dist-packages (from captum) (4.66.4)\n",
            "Requirement already satisfied: filelock in /usr/local/lib/python3.10/dist-packages (from torch>=1.6->captum) (3.15.3)\n",
            "Requirement already satisfied: typing-extensions>=4.8.0 in /usr/local/lib/python3.10/dist-packages (from torch>=1.6->captum) (4.12.2)\n",
            "Requirement already satisfied: sympy in /usr/local/lib/python3.10/dist-packages (from torch>=1.6->captum) (1.12.1)\n",
            "Requirement already satisfied: networkx in /usr/local/lib/python3.10/dist-packages (from torch>=1.6->captum) (3.3)\n",
            "Requirement already satisfied: jinja2 in /usr/local/lib/python3.10/dist-packages (from torch>=1.6->captum) (3.1.4)\n",
            "Requirement already satisfied: fsspec in /usr/local/lib/python3.10/dist-packages (from torch>=1.6->captum) (2023.6.0)\n",
            "Requirement already satisfied: nvidia-cuda-nvrtc-cu12==12.1.105 in /usr/local/lib/python3.10/dist-packages (from torch>=1.6->captum) (12.1.105)\n",
            "Requirement already satisfied: nvidia-cuda-runtime-cu12==12.1.105 in /usr/local/lib/python3.10/dist-packages (from torch>=1.6->captum) (12.1.105)\n",
            "Requirement already satisfied: nvidia-cuda-cupti-cu12==12.1.105 in /usr/local/lib/python3.10/dist-packages (from torch>=1.6->captum) (12.1.105)\n",
            "Requirement already satisfied: nvidia-cudnn-cu12==8.9.2.26 in /usr/local/lib/python3.10/dist-packages (from torch>=1.6->captum) (8.9.2.26)\n",
            "Requirement already satisfied: nvidia-cublas-cu12==12.1.3.1 in /usr/local/lib/python3.10/dist-packages (from torch>=1.6->captum) (12.1.3.1)\n",
            "Requirement already satisfied: nvidia-cufft-cu12==11.0.2.54 in /usr/local/lib/python3.10/dist-packages (from torch>=1.6->captum) (11.0.2.54)\n",
            "Requirement already satisfied: nvidia-curand-cu12==10.3.2.106 in /usr/local/lib/python3.10/dist-packages (from torch>=1.6->captum) (10.3.2.106)\n",
            "Requirement already satisfied: nvidia-cusolver-cu12==11.4.5.107 in /usr/local/lib/python3.10/dist-packages (from torch>=1.6->captum) (11.4.5.107)\n",
            "Requirement already satisfied: nvidia-cusparse-cu12==12.1.0.106 in /usr/local/lib/python3.10/dist-packages (from torch>=1.6->captum) (12.1.0.106)\n",
            "Requirement already satisfied: nvidia-nccl-cu12==2.20.5 in /usr/local/lib/python3.10/dist-packages (from torch>=1.6->captum) (2.20.5)\n",
            "Requirement already satisfied: nvidia-nvtx-cu12==12.1.105 in /usr/local/lib/python3.10/dist-packages (from torch>=1.6->captum) (12.1.105)\n",
            "Requirement already satisfied: triton==2.3.0 in /usr/local/lib/python3.10/dist-packages (from torch>=1.6->captum) (2.3.0)\n",
            "Requirement already satisfied: nvidia-nvjitlink-cu12 in /usr/local/lib/python3.10/dist-packages (from nvidia-cusolver-cu12==11.4.5.107->torch>=1.6->captum) (12.5.40)\n",
            "Requirement already satisfied: contourpy>=1.0.1 in /usr/local/lib/python3.10/dist-packages (from matplotlib->captum) (1.2.1)\n",
            "Requirement already satisfied: cycler>=0.10 in /usr/local/lib/python3.10/dist-packages (from matplotlib->captum) (0.12.1)\n",
            "Requirement already satisfied: fonttools>=4.22.0 in /usr/local/lib/python3.10/dist-packages (from matplotlib->captum) (4.53.0)\n",
            "Requirement already satisfied: kiwisolver>=1.0.1 in /usr/local/lib/python3.10/dist-packages (from matplotlib->captum) (1.4.5)\n",
            "Requirement already satisfied: packaging>=20.0 in /usr/local/lib/python3.10/dist-packages (from matplotlib->captum) (24.1)\n",
            "Requirement already satisfied: pillow>=6.2.0 in /usr/local/lib/python3.10/dist-packages (from matplotlib->captum) (9.4.0)\n",
            "Requirement already satisfied: pyparsing>=2.3.1 in /usr/local/lib/python3.10/dist-packages (from matplotlib->captum) (3.1.2)\n",
            "Requirement already satisfied: python-dateutil>=2.7 in /usr/local/lib/python3.10/dist-packages (from matplotlib->captum) (2.8.2)\n",
            "Requirement already satisfied: six>=1.5 in /usr/local/lib/python3.10/dist-packages (from python-dateutil>=2.7->matplotlib->captum) (1.16.0)\n",
            "Requirement already satisfied: MarkupSafe>=2.0 in /usr/local/lib/python3.10/dist-packages (from jinja2->torch>=1.6->captum) (2.1.5)\n",
            "Requirement already satisfied: mpmath<1.4.0,>=1.1.0 in /usr/local/lib/python3.10/dist-packages (from sympy->torch>=1.6->captum) (1.3.0)\n"
          ]
        }
      ]
    },
    {
      "cell_type": "markdown",
      "source": [
        "### **define**"
      ],
      "metadata": {
        "id": "eY-7ZMWkk7fI"
      }
    },
    {
      "cell_type": "code",
      "source": [
        "import torch\n",
        "import torch.nn as nn\n",
        "from transformers import BertModel, BertTokenizer\n",
        "from captum.attr import IntegratedGradients"
      ],
      "metadata": {
        "id": "2gahAxsaEFu4"
      },
      "execution_count": 21,
      "outputs": []
    },
    {
      "cell_type": "code",
      "source": [
        "# Freeze all the parameters\n",
        "for param in bert.parameters():\n",
        "    param.requires_grad = False\n",
        "\n",
        "class BERT_Arch(nn.Module):\n",
        "    def __init__(self, bert):\n",
        "        super(BERT_Arch, self).__init__()\n",
        "\n",
        "        self.bert = bert\n",
        "        self.dropout = nn.Dropout(0.1)\n",
        "        self.relu = nn.ReLU()\n",
        "        self.fc1 = nn.Linear(768, 512)\n",
        "        self.fc2 = nn.Linear(512, 2)  # Adjusted for 2 classes (0 and 1)\n",
        "        self.softmax = nn.LogSoftmax(dim=1)\n",
        "\n",
        "    def forward(self, input_ids, attention_mask=None):\n",
        "        outputs = self.bert(input_ids, attention_mask=attention_mask)\n",
        "        cls_hs = outputs.pooler_output\n",
        "        x = self.dropout(cls_hs)\n",
        "        x = self.fc1(x)\n",
        "        x = self.relu(x)\n",
        "        x = self.dropout(x)\n",
        "        x = self.fc2(x)\n",
        "        x = self.softmax(x)\n",
        "        return x\n",
        "\n",
        "# Initialize the BERT architecture with the pre-trained BERT\n",
        "model = BERT_Arch(bert)\n",
        "model.to(device)"
      ],
      "metadata": {
        "id": "OK6YJPjSRxr3",
        "outputId": "f6a393f9-784e-45d4-d846-360f3d654f10",
        "colab": {
          "base_uri": "https://localhost:8080/"
        },
        "collapsed": true
      },
      "execution_count": 22,
      "outputs": [
        {
          "output_type": "execute_result",
          "data": {
            "text/plain": [
              "BERT_Arch(\n",
              "  (bert): BertModel(\n",
              "    (embeddings): BertEmbeddings(\n",
              "      (word_embeddings): Embedding(30522, 768, padding_idx=0)\n",
              "      (position_embeddings): Embedding(512, 768)\n",
              "      (token_type_embeddings): Embedding(2, 768)\n",
              "      (LayerNorm): LayerNorm((768,), eps=1e-12, elementwise_affine=True)\n",
              "      (dropout): Dropout(p=0.1, inplace=False)\n",
              "    )\n",
              "    (encoder): BertEncoder(\n",
              "      (layer): ModuleList(\n",
              "        (0-11): 12 x BertLayer(\n",
              "          (attention): BertAttention(\n",
              "            (self): BertSdpaSelfAttention(\n",
              "              (query): Linear(in_features=768, out_features=768, bias=True)\n",
              "              (key): Linear(in_features=768, out_features=768, bias=True)\n",
              "              (value): Linear(in_features=768, out_features=768, bias=True)\n",
              "              (dropout): Dropout(p=0.1, inplace=False)\n",
              "            )\n",
              "            (output): BertSelfOutput(\n",
              "              (dense): Linear(in_features=768, out_features=768, bias=True)\n",
              "              (LayerNorm): LayerNorm((768,), eps=1e-12, elementwise_affine=True)\n",
              "              (dropout): Dropout(p=0.1, inplace=False)\n",
              "            )\n",
              "          )\n",
              "          (intermediate): BertIntermediate(\n",
              "            (dense): Linear(in_features=768, out_features=3072, bias=True)\n",
              "            (intermediate_act_fn): GELUActivation()\n",
              "          )\n",
              "          (output): BertOutput(\n",
              "            (dense): Linear(in_features=3072, out_features=768, bias=True)\n",
              "            (LayerNorm): LayerNorm((768,), eps=1e-12, elementwise_affine=True)\n",
              "            (dropout): Dropout(p=0.1, inplace=False)\n",
              "          )\n",
              "        )\n",
              "      )\n",
              "    )\n",
              "    (pooler): BertPooler(\n",
              "      (dense): Linear(in_features=768, out_features=768, bias=True)\n",
              "      (activation): Tanh()\n",
              "    )\n",
              "  )\n",
              "  (dropout): Dropout(p=0.1, inplace=False)\n",
              "  (relu): ReLU()\n",
              "  (fc1): Linear(in_features=768, out_features=512, bias=True)\n",
              "  (fc2): Linear(in_features=512, out_features=2, bias=True)\n",
              "  (softmax): LogSoftmax(dim=1)\n",
              ")"
            ]
          },
          "metadata": {},
          "execution_count": 22
        }
      ]
    },
    {
      "cell_type": "code",
      "source": [
        "import numpy as np\n",
        "np.unique(train_labels)"
      ],
      "metadata": {
        "id": "3oZTtObZuy__",
        "outputId": "c389010a-d6c5-477f-b3f9-fc88b5cefd47",
        "colab": {
          "base_uri": "https://localhost:8080/"
        }
      },
      "execution_count": 23,
      "outputs": [
        {
          "output_type": "execute_result",
          "data": {
            "text/plain": [
              "array([0, 1])"
            ]
          },
          "metadata": {},
          "execution_count": 23
        }
      ]
    },
    {
      "cell_type": "code",
      "source": [
        "# optimizer from hugging face transformers\n",
        "from transformers import AdamW\n",
        "from sklearn.utils.class_weight import compute_class_weight\n",
        "import numpy as np\n",
        "\n",
        "# define the optimizer\n",
        "optimizer = AdamW(model.parameters(),lr = 1e-5)\n",
        "\n",
        "# Compute the class weights\n",
        "class_weights = compute_class_weight(class_weight='balanced', classes=np.unique(train_labels), y=train_labels)\n",
        "\n",
        "print('Class Weights:', class_weights)\n"
      ],
      "metadata": {
        "id": "9lRgS3UlrU8N",
        "outputId": "b727de6a-0d2d-4de8-c9a2-7beded1a65da",
        "colab": {
          "base_uri": "https://localhost:8080/"
        }
      },
      "execution_count": 24,
      "outputs": [
        {
          "output_type": "stream",
          "name": "stdout",
          "text": [
            "Class Weights: [1.20371091 0.85525952]\n"
          ]
        },
        {
          "output_type": "stream",
          "name": "stderr",
          "text": [
            "/usr/local/lib/python3.10/dist-packages/transformers/optimization.py:588: FutureWarning: This implementation of AdamW is deprecated and will be removed in a future version. Use the PyTorch implementation torch.optim.AdamW instead, or set `no_deprecation_warning=True` to disable this warning\n",
            "  warnings.warn(\n"
          ]
        }
      ]
    },
    {
      "cell_type": "code",
      "source": [
        "# converting list of class weights to a tensor\n",
        "weights= torch.tensor(class_weights,dtype=torch.float)\n",
        "\n",
        "# push to GPU\n",
        "weights = weights.to(device)\n",
        "\n",
        "# define the loss function\n",
        "cross_entropy  = nn.NLLLoss(weight=weights)\n",
        "\n",
        "# number of training epochs\n",
        "epochs = 5"
      ],
      "metadata": {
        "id": "RFoGO5zSrm4S"
      },
      "execution_count": 25,
      "outputs": []
    },
    {
      "cell_type": "code",
      "source": [
        "import time"
      ],
      "metadata": {
        "id": "yybajj_ZvuvV"
      },
      "execution_count": 26,
      "outputs": []
    },
    {
      "cell_type": "code",
      "source": [
        "# Function to train the model\n",
        "def train():\n",
        "    model.train()\n",
        "    total_loss, total_accuracy = 0, 0\n",
        "\n",
        "    # Empty list to save model predictions\n",
        "    total_preds = []\n",
        "\n",
        "    # Iterate over batches\n",
        "    for step, batch in enumerate(train_dataloader):\n",
        "\n",
        "        # Progress update after every 50 batches\n",
        "        if step % 50 == 0 and not step == 0:\n",
        "            print('  Batch {:>5,}  of  {:>5,}.'.format(step, len(train_dataloader)))\n",
        "\n",
        "        # Push the batch to GPU\n",
        "        batch = [r.to(device) for r in batch]\n",
        "        sent_id, mask, labels = batch\n",
        "\n",
        "        # Clear previously calculated gradients\n",
        "        optimizer.zero_grad()\n",
        "\n",
        "        # Get model predictions for the current batch\n",
        "        preds = model(sent_id, mask)\n",
        "\n",
        "        # Compute the loss between actual and predicted values\n",
        "        loss = cross_entropy(preds, labels)\n",
        "\n",
        "        # Add on to the total loss\n",
        "        total_loss += loss.item()\n",
        "\n",
        "        # Backward pass to calculate the gradients\n",
        "        loss.backward()\n",
        "\n",
        "        # Clip the gradients to 1.0 to prevent the exploding gradient problem\n",
        "        torch.nn.utils.clip_grad_norm_(model.parameters(), 1.0)\n",
        "\n",
        "        # Update parameters\n",
        "        optimizer.step()\n",
        "\n",
        "        # Model predictions are stored on GPU, so push them to CPU\n",
        "        preds = preds.detach().cpu().numpy()\n",
        "\n",
        "        # Append the model predictions\n",
        "        total_preds.append(preds)\n",
        "\n",
        "    # Compute the training loss of the epoch\n",
        "    avg_loss = total_loss / len(train_dataloader)\n",
        "\n",
        "    # Predictions are in the form of (no. of batches, size of batch, no. of classes).\n",
        "    # Reshape the predictions in the form of (number of samples, no. of classes)\n",
        "    total_preds = np.concatenate(total_preds, axis=0)\n",
        "\n",
        "    # Return the loss and predictions\n",
        "    return avg_loss, total_preds"
      ],
      "metadata": {
        "id": "NR8fKUUkrsxf"
      },
      "execution_count": 27,
      "outputs": []
    },
    {
      "cell_type": "code",
      "source": [
        "# Function for evaluating the model\n",
        "def evaluate():\n",
        "    print(\"\\nEvaluating...\")\n",
        "\n",
        "    # Deactivate dropout layers\n",
        "    model.eval()\n",
        "\n",
        "    total_loss, total_accuracy = 0, 0\n",
        "\n",
        "    # Empty list to save the model predictions\n",
        "    total_preds = []\n",
        "\n",
        "    # Iterate over batches\n",
        "    for step, batch in enumerate(val_dataloader):\n",
        "\n",
        "        # Progress update every 50 batches\n",
        "        if step % 50 == 0 and not step == 0:\n",
        "            print('  Batch {:>5,}  of  {:>5,}.'.format(step, len(val_dataloader)))\n",
        "\n",
        "        # Push the batch to GPU\n",
        "        batch = [t.to(device) for t in batch]\n",
        "        sent_id, mask, labels = batch\n",
        "\n",
        "        # Deactivate autograd\n",
        "        with torch.no_grad():\n",
        "\n",
        "            # Model predictions\n",
        "            preds = model(sent_id, mask)\n",
        "\n",
        "            # Compute the validation loss between actual and predicted values\n",
        "            loss = cross_entropy(preds, labels)\n",
        "\n",
        "            total_loss += loss.item()\n",
        "\n",
        "            preds = preds.detach().cpu().numpy()\n",
        "\n",
        "            total_preds.append(preds)\n",
        "\n",
        "    # Compute the validation loss of the epoch\n",
        "    avg_loss = total_loss / len(val_dataloader)\n",
        "\n",
        "    # Reshape the predictions in the form of (number of samples, no. of classes)\n",
        "    total_preds = np.concatenate(total_preds, axis=0)\n",
        "\n",
        "    return avg_loss, total_preds"
      ],
      "metadata": {
        "id": "dlEWW2MVrwiF"
      },
      "execution_count": 28,
      "outputs": []
    },
    {
      "cell_type": "markdown",
      "source": [
        "### **train**"
      ],
      "metadata": {
        "id": "AyxQvx5CSvw3"
      }
    },
    {
      "cell_type": "code",
      "source": [
        "# Set initial loss to infinity\n",
        "best_valid_loss = float('inf')\n",
        "\n",
        "# Define the number of epochs\n",
        "epochs = 1\n",
        "\n",
        "# Empty lists to store training and validation loss of each epoch\n",
        "train_losses = []\n",
        "valid_losses = []\n",
        "\n",
        "# For each epoch\n",
        "for epoch in range(epochs):\n",
        "\n",
        "    print(f'\\n Epoch {epoch + 1} / {epochs}')\n",
        "\n",
        "    # Train the model\n",
        "    train_loss, _ = train()\n",
        "\n",
        "    # Evaluate the model\n",
        "    valid_loss, _ = evaluate()\n",
        "\n",
        "    # Save the best model\n",
        "    if valid_loss < best_valid_loss:\n",
        "        best_valid_loss = valid_loss\n",
        "        torch.save(model.state_dict(), 'saved_weights.pt')\n",
        "\n",
        "    # Append training and validation loss\n",
        "    train_losses.append(train_loss)\n",
        "    valid_losses.append(valid_loss)\n",
        "\n",
        "    print(f'\\nTraining Loss: {train_loss:.3f}')\n",
        "    print(f'Validation Loss: {valid_loss:.3f}')\n"
      ],
      "metadata": {
        "id": "lwIWEWqNr2IY",
        "outputId": "a327aff9-6b36-4d4e-9d28-b56a43ad933e",
        "colab": {
          "base_uri": "https://localhost:8080/"
        }
      },
      "execution_count": 29,
      "outputs": [
        {
          "output_type": "stream",
          "name": "stdout",
          "text": [
            "\n",
            " Epoch 1 / 1\n",
            "  Batch    50  of  9,663.\n",
            "  Batch   100  of  9,663.\n",
            "  Batch   150  of  9,663.\n",
            "  Batch   200  of  9,663.\n",
            "  Batch   250  of  9,663.\n",
            "  Batch   300  of  9,663.\n",
            "  Batch   350  of  9,663.\n",
            "  Batch   400  of  9,663.\n",
            "  Batch   450  of  9,663.\n",
            "  Batch   500  of  9,663.\n",
            "  Batch   550  of  9,663.\n",
            "  Batch   600  of  9,663.\n",
            "  Batch   650  of  9,663.\n",
            "  Batch   700  of  9,663.\n",
            "  Batch   750  of  9,663.\n",
            "  Batch   800  of  9,663.\n",
            "  Batch   850  of  9,663.\n",
            "  Batch   900  of  9,663.\n",
            "  Batch   950  of  9,663.\n",
            "  Batch 1,000  of  9,663.\n",
            "  Batch 1,050  of  9,663.\n",
            "  Batch 1,100  of  9,663.\n",
            "  Batch 1,150  of  9,663.\n",
            "  Batch 1,200  of  9,663.\n",
            "  Batch 1,250  of  9,663.\n",
            "  Batch 1,300  of  9,663.\n",
            "  Batch 1,350  of  9,663.\n",
            "  Batch 1,400  of  9,663.\n",
            "  Batch 1,450  of  9,663.\n",
            "  Batch 1,500  of  9,663.\n",
            "  Batch 1,550  of  9,663.\n",
            "  Batch 1,600  of  9,663.\n",
            "  Batch 1,650  of  9,663.\n",
            "  Batch 1,700  of  9,663.\n",
            "  Batch 1,750  of  9,663.\n",
            "  Batch 1,800  of  9,663.\n",
            "  Batch 1,850  of  9,663.\n",
            "  Batch 1,900  of  9,663.\n",
            "  Batch 1,950  of  9,663.\n",
            "  Batch 2,000  of  9,663.\n",
            "  Batch 2,050  of  9,663.\n",
            "  Batch 2,100  of  9,663.\n",
            "  Batch 2,150  of  9,663.\n",
            "  Batch 2,200  of  9,663.\n",
            "  Batch 2,250  of  9,663.\n",
            "  Batch 2,300  of  9,663.\n",
            "  Batch 2,350  of  9,663.\n",
            "  Batch 2,400  of  9,663.\n",
            "  Batch 2,450  of  9,663.\n",
            "  Batch 2,500  of  9,663.\n",
            "  Batch 2,550  of  9,663.\n",
            "  Batch 2,600  of  9,663.\n",
            "  Batch 2,650  of  9,663.\n",
            "  Batch 2,700  of  9,663.\n",
            "  Batch 2,750  of  9,663.\n",
            "  Batch 2,800  of  9,663.\n",
            "  Batch 2,850  of  9,663.\n",
            "  Batch 2,900  of  9,663.\n",
            "  Batch 2,950  of  9,663.\n",
            "  Batch 3,000  of  9,663.\n",
            "  Batch 3,050  of  9,663.\n",
            "  Batch 3,100  of  9,663.\n",
            "  Batch 3,150  of  9,663.\n",
            "  Batch 3,200  of  9,663.\n",
            "  Batch 3,250  of  9,663.\n",
            "  Batch 3,300  of  9,663.\n",
            "  Batch 3,350  of  9,663.\n",
            "  Batch 3,400  of  9,663.\n",
            "  Batch 3,450  of  9,663.\n",
            "  Batch 3,500  of  9,663.\n",
            "  Batch 3,550  of  9,663.\n",
            "  Batch 3,600  of  9,663.\n",
            "  Batch 3,650  of  9,663.\n",
            "  Batch 3,700  of  9,663.\n",
            "  Batch 3,750  of  9,663.\n",
            "  Batch 3,800  of  9,663.\n",
            "  Batch 3,850  of  9,663.\n",
            "  Batch 3,900  of  9,663.\n",
            "  Batch 3,950  of  9,663.\n",
            "  Batch 4,000  of  9,663.\n",
            "  Batch 4,050  of  9,663.\n",
            "  Batch 4,100  of  9,663.\n",
            "  Batch 4,150  of  9,663.\n",
            "  Batch 4,200  of  9,663.\n",
            "  Batch 4,250  of  9,663.\n",
            "  Batch 4,300  of  9,663.\n",
            "  Batch 4,350  of  9,663.\n",
            "  Batch 4,400  of  9,663.\n",
            "  Batch 4,450  of  9,663.\n",
            "  Batch 4,500  of  9,663.\n",
            "  Batch 4,550  of  9,663.\n",
            "  Batch 4,600  of  9,663.\n",
            "  Batch 4,650  of  9,663.\n",
            "  Batch 4,700  of  9,663.\n",
            "  Batch 4,750  of  9,663.\n",
            "  Batch 4,800  of  9,663.\n",
            "  Batch 4,850  of  9,663.\n",
            "  Batch 4,900  of  9,663.\n",
            "  Batch 4,950  of  9,663.\n",
            "  Batch 5,000  of  9,663.\n",
            "  Batch 5,050  of  9,663.\n",
            "  Batch 5,100  of  9,663.\n",
            "  Batch 5,150  of  9,663.\n",
            "  Batch 5,200  of  9,663.\n",
            "  Batch 5,250  of  9,663.\n",
            "  Batch 5,300  of  9,663.\n",
            "  Batch 5,350  of  9,663.\n",
            "  Batch 5,400  of  9,663.\n",
            "  Batch 5,450  of  9,663.\n",
            "  Batch 5,500  of  9,663.\n",
            "  Batch 5,550  of  9,663.\n",
            "  Batch 5,600  of  9,663.\n",
            "  Batch 5,650  of  9,663.\n",
            "  Batch 5,700  of  9,663.\n",
            "  Batch 5,750  of  9,663.\n",
            "  Batch 5,800  of  9,663.\n",
            "  Batch 5,850  of  9,663.\n",
            "  Batch 5,900  of  9,663.\n",
            "  Batch 5,950  of  9,663.\n",
            "  Batch 6,000  of  9,663.\n",
            "  Batch 6,050  of  9,663.\n",
            "  Batch 6,100  of  9,663.\n",
            "  Batch 6,150  of  9,663.\n",
            "  Batch 6,200  of  9,663.\n",
            "  Batch 6,250  of  9,663.\n",
            "  Batch 6,300  of  9,663.\n",
            "  Batch 6,350  of  9,663.\n",
            "  Batch 6,400  of  9,663.\n",
            "  Batch 6,450  of  9,663.\n",
            "  Batch 6,500  of  9,663.\n",
            "  Batch 6,550  of  9,663.\n",
            "  Batch 6,600  of  9,663.\n",
            "  Batch 6,650  of  9,663.\n",
            "  Batch 6,700  of  9,663.\n",
            "  Batch 6,750  of  9,663.\n",
            "  Batch 6,800  of  9,663.\n",
            "  Batch 6,850  of  9,663.\n",
            "  Batch 6,900  of  9,663.\n",
            "  Batch 6,950  of  9,663.\n",
            "  Batch 7,000  of  9,663.\n",
            "  Batch 7,050  of  9,663.\n",
            "  Batch 7,100  of  9,663.\n",
            "  Batch 7,150  of  9,663.\n",
            "  Batch 7,200  of  9,663.\n",
            "  Batch 7,250  of  9,663.\n",
            "  Batch 7,300  of  9,663.\n",
            "  Batch 7,350  of  9,663.\n",
            "  Batch 7,400  of  9,663.\n",
            "  Batch 7,450  of  9,663.\n",
            "  Batch 7,500  of  9,663.\n",
            "  Batch 7,550  of  9,663.\n",
            "  Batch 7,600  of  9,663.\n",
            "  Batch 7,650  of  9,663.\n",
            "  Batch 7,700  of  9,663.\n",
            "  Batch 7,750  of  9,663.\n",
            "  Batch 7,800  of  9,663.\n",
            "  Batch 7,850  of  9,663.\n",
            "  Batch 7,900  of  9,663.\n",
            "  Batch 7,950  of  9,663.\n",
            "  Batch 8,000  of  9,663.\n",
            "  Batch 8,050  of  9,663.\n",
            "  Batch 8,100  of  9,663.\n",
            "  Batch 8,150  of  9,663.\n",
            "  Batch 8,200  of  9,663.\n",
            "  Batch 8,250  of  9,663.\n",
            "  Batch 8,300  of  9,663.\n",
            "  Batch 8,350  of  9,663.\n",
            "  Batch 8,400  of  9,663.\n",
            "  Batch 8,450  of  9,663.\n",
            "  Batch 8,500  of  9,663.\n",
            "  Batch 8,550  of  9,663.\n",
            "  Batch 8,600  of  9,663.\n",
            "  Batch 8,650  of  9,663.\n",
            "  Batch 8,700  of  9,663.\n",
            "  Batch 8,750  of  9,663.\n",
            "  Batch 8,800  of  9,663.\n",
            "  Batch 8,850  of  9,663.\n",
            "  Batch 8,900  of  9,663.\n",
            "  Batch 8,950  of  9,663.\n",
            "  Batch 9,000  of  9,663.\n",
            "  Batch 9,050  of  9,663.\n",
            "  Batch 9,100  of  9,663.\n",
            "  Batch 9,150  of  9,663.\n",
            "  Batch 9,200  of  9,663.\n",
            "  Batch 9,250  of  9,663.\n",
            "  Batch 9,300  of  9,663.\n",
            "  Batch 9,350  of  9,663.\n",
            "  Batch 9,400  of  9,663.\n",
            "  Batch 9,450  of  9,663.\n",
            "  Batch 9,500  of  9,663.\n",
            "  Batch 9,550  of  9,663.\n",
            "  Batch 9,600  of  9,663.\n",
            "  Batch 9,650  of  9,663.\n",
            "\n",
            "Evaluating...\n",
            "  Batch    50  of  2,899.\n",
            "  Batch   100  of  2,899.\n",
            "  Batch   150  of  2,899.\n",
            "  Batch   200  of  2,899.\n",
            "  Batch   250  of  2,899.\n",
            "  Batch   300  of  2,899.\n",
            "  Batch   350  of  2,899.\n",
            "  Batch   400  of  2,899.\n",
            "  Batch   450  of  2,899.\n",
            "  Batch   500  of  2,899.\n",
            "  Batch   550  of  2,899.\n",
            "  Batch   600  of  2,899.\n",
            "  Batch   650  of  2,899.\n",
            "  Batch   700  of  2,899.\n",
            "  Batch   750  of  2,899.\n",
            "  Batch   800  of  2,899.\n",
            "  Batch   850  of  2,899.\n",
            "  Batch   900  of  2,899.\n",
            "  Batch   950  of  2,899.\n",
            "  Batch 1,000  of  2,899.\n",
            "  Batch 1,050  of  2,899.\n",
            "  Batch 1,100  of  2,899.\n",
            "  Batch 1,150  of  2,899.\n",
            "  Batch 1,200  of  2,899.\n",
            "  Batch 1,250  of  2,899.\n",
            "  Batch 1,300  of  2,899.\n",
            "  Batch 1,350  of  2,899.\n",
            "  Batch 1,400  of  2,899.\n",
            "  Batch 1,450  of  2,899.\n",
            "  Batch 1,500  of  2,899.\n",
            "  Batch 1,550  of  2,899.\n",
            "  Batch 1,600  of  2,899.\n",
            "  Batch 1,650  of  2,899.\n",
            "  Batch 1,700  of  2,899.\n",
            "  Batch 1,750  of  2,899.\n",
            "  Batch 1,800  of  2,899.\n",
            "  Batch 1,850  of  2,899.\n",
            "  Batch 1,900  of  2,899.\n",
            "  Batch 1,950  of  2,899.\n",
            "  Batch 2,000  of  2,899.\n",
            "  Batch 2,050  of  2,899.\n",
            "  Batch 2,100  of  2,899.\n",
            "  Batch 2,150  of  2,899.\n",
            "  Batch 2,200  of  2,899.\n",
            "  Batch 2,250  of  2,899.\n",
            "  Batch 2,300  of  2,899.\n",
            "  Batch 2,350  of  2,899.\n",
            "  Batch 2,400  of  2,899.\n",
            "  Batch 2,450  of  2,899.\n",
            "  Batch 2,500  of  2,899.\n",
            "  Batch 2,550  of  2,899.\n",
            "  Batch 2,600  of  2,899.\n",
            "  Batch 2,650  of  2,899.\n",
            "  Batch 2,700  of  2,899.\n",
            "  Batch 2,750  of  2,899.\n",
            "  Batch 2,800  of  2,899.\n",
            "  Batch 2,850  of  2,899.\n",
            "\n",
            "Training Loss: 0.582\n",
            "Validation Loss: 0.510\n"
          ]
        }
      ]
    },
    {
      "cell_type": "markdown",
      "source": [
        "### **model performance**"
      ],
      "metadata": {
        "id": "wAGC_nDKxzA6"
      }
    },
    {
      "cell_type": "code",
      "source": [
        "batch_size = 8\n",
        "\n",
        "# Initialize lists to store predictions\n",
        "preds_list = []\n",
        "\n",
        "# Iterate over batches of test data\n",
        "for i in range(0, len(test_seq), batch_size):\n",
        "    # Get batch tensors\n",
        "    batch_seq = test_seq[i:i+batch_size].to(device)\n",
        "    batch_mask = test_mask[i:i+batch_size].to(device)\n",
        "\n",
        "    # Perform inference\n",
        "    with torch.no_grad():\n",
        "        batch_preds = model(batch_seq, batch_mask)\n",
        "        batch_preds = batch_preds.detach().cpu().numpy()\n",
        "\n",
        "    # Append batch predictions to list\n",
        "    preds_list.append(batch_preds)\n",
        "\n",
        "# Concatenate all batch predictions\n",
        "preds = np.concatenate(preds_list, axis=0)\n",
        "\n",
        "# Calculate final predictions\n",
        "preds = np.argmax(preds, axis=1)"
      ],
      "metadata": {
        "collapsed": true,
        "id": "9NVrf790xuNn"
      },
      "execution_count": 30,
      "outputs": []
    },
    {
      "cell_type": "code",
      "source": [
        "# Decode encoded labels to original labels\n",
        "original_labels = le.inverse_transform(test_y)\n",
        "\n",
        "# Convert original_labels to integers if they are strings\n",
        "if isinstance(original_labels[0], str):\n",
        "    original_labels = le.transform(original_labels)\n",
        "\n",
        "# Print classification report with original labels\n",
        "print(classification_report(original_labels, preds))"
      ],
      "metadata": {
        "id": "8JFOBUqQ4soj",
        "outputId": "4aa1a328-6186-4c01-bed0-7a44c91f65f8",
        "colab": {
          "base_uri": "https://localhost:8080/"
        }
      },
      "execution_count": 31,
      "outputs": [
        {
          "output_type": "stream",
          "name": "stdout",
          "text": [
            "              precision    recall  f1-score   support\n",
            "\n",
            "           0       0.80      0.68      0.73      8257\n",
            "           1       0.79      0.88      0.83     11620\n",
            "\n",
            "    accuracy                           0.79     19877\n",
            "   macro avg       0.79      0.78      0.78     19877\n",
            "weighted avg       0.79      0.79      0.79     19877\n",
            "\n"
          ]
        }
      ]
    },
    {
      "cell_type": "markdown",
      "source": [
        "### model interpret"
      ],
      "metadata": {
        "id": "iVAU5cInxwLX"
      }
    },
    {
      "cell_type": "code",
      "source": [
        "# Load the saved model weights\n",
        "model.load_state_dict(torch.load('saved_weights.pt'))\n",
        "model.eval()  # Set the model to evaluation mode"
      ],
      "metadata": {
        "collapsed": true,
        "id": "-0R8NnzOi3vm",
        "outputId": "4b0cf21c-45e6-47cd-aeb3-6fb7185a5cae",
        "colab": {
          "base_uri": "https://localhost:8080/"
        }
      },
      "execution_count": 32,
      "outputs": [
        {
          "output_type": "execute_result",
          "data": {
            "text/plain": [
              "BERT_Arch(\n",
              "  (bert): BertModel(\n",
              "    (embeddings): BertEmbeddings(\n",
              "      (word_embeddings): Embedding(30522, 768, padding_idx=0)\n",
              "      (position_embeddings): Embedding(512, 768)\n",
              "      (token_type_embeddings): Embedding(2, 768)\n",
              "      (LayerNorm): LayerNorm((768,), eps=1e-12, elementwise_affine=True)\n",
              "      (dropout): Dropout(p=0.1, inplace=False)\n",
              "    )\n",
              "    (encoder): BertEncoder(\n",
              "      (layer): ModuleList(\n",
              "        (0-11): 12 x BertLayer(\n",
              "          (attention): BertAttention(\n",
              "            (self): BertSdpaSelfAttention(\n",
              "              (query): Linear(in_features=768, out_features=768, bias=True)\n",
              "              (key): Linear(in_features=768, out_features=768, bias=True)\n",
              "              (value): Linear(in_features=768, out_features=768, bias=True)\n",
              "              (dropout): Dropout(p=0.1, inplace=False)\n",
              "            )\n",
              "            (output): BertSelfOutput(\n",
              "              (dense): Linear(in_features=768, out_features=768, bias=True)\n",
              "              (LayerNorm): LayerNorm((768,), eps=1e-12, elementwise_affine=True)\n",
              "              (dropout): Dropout(p=0.1, inplace=False)\n",
              "            )\n",
              "          )\n",
              "          (intermediate): BertIntermediate(\n",
              "            (dense): Linear(in_features=768, out_features=3072, bias=True)\n",
              "            (intermediate_act_fn): GELUActivation()\n",
              "          )\n",
              "          (output): BertOutput(\n",
              "            (dense): Linear(in_features=3072, out_features=768, bias=True)\n",
              "            (LayerNorm): LayerNorm((768,), eps=1e-12, elementwise_affine=True)\n",
              "            (dropout): Dropout(p=0.1, inplace=False)\n",
              "          )\n",
              "        )\n",
              "      )\n",
              "    )\n",
              "    (pooler): BertPooler(\n",
              "      (dense): Linear(in_features=768, out_features=768, bias=True)\n",
              "      (activation): Tanh()\n",
              "    )\n",
              "  )\n",
              "  (dropout): Dropout(p=0.1, inplace=False)\n",
              "  (relu): ReLU()\n",
              "  (fc1): Linear(in_features=768, out_features=512, bias=True)\n",
              "  (fc2): Linear(in_features=512, out_features=2, bias=True)\n",
              "  (softmax): LogSoftmax(dim=1)\n",
              ")"
            ]
          },
          "metadata": {},
          "execution_count": 32
        }
      ]
    },
    {
      "cell_type": "code",
      "source": [
        "from sklearn.preprocessing import LabelEncoder\n",
        "\n",
        "# Assuming you used LabelEncoder to encode your classes\n",
        "label_encoder = LabelEncoder()\n",
        "label_encoder.fit(data['ticket_type'])\n",
        "\n",
        "# Print the mapping of classes to integer labels\n",
        "for class_label, class_index in zip(label_encoder.classes_, label_encoder.transform(label_encoder.classes_)):\n",
        "    print(f'Class: {class_label}, Encoded as: {class_index}')\n"
      ],
      "metadata": {
        "id": "lBj-Rr2tJdgk",
        "outputId": "6029550e-bea1-4c8a-8470-169eddd90061",
        "colab": {
          "base_uri": "https://localhost:8080/"
        }
      },
      "execution_count": 33,
      "outputs": [
        {
          "output_type": "stream",
          "name": "stdout",
          "text": [
            "Class: Incident, Encoded as: 0\n",
            "Class: Request, Encoded as: 1\n"
          ]
        }
      ]
    },
    {
      "cell_type": "code",
      "source": [
        "# Example sentences\n",
        "example_sentences = [\n",
        "    \"รบกวนเข้าไปเก็บตัวกล่องสัญญาณที่สาขาสารภี\", #request\n",
        "    \"Incident baac  inextbaac    inext ตรวจสอบพบวงจร\", #incident\n",
        "    \"op cloud   noc ได้รับ alert\", #incident\n",
        "    \"ขอยกเลิก user   reset password noc ขอยกเลิก user vpn ตามรูป จาก  user ให้เหลือเง\", #request\n",
        "    \"กรุณาส่งรายละเอียดด้านล่างให้กับ Team [INET_CSIRT] และ cc [INET_CO-CSIRT] เพื่อตรวจสอบและแก้ไขปัญหาต่อไป\", #request\n",
        "    \"ขอยกเลิก user vpn ตามรูป จาก 5 user ให้เหลือเพียง 2 user และทำการ reset password ให้หน่อยครับเนื่องจากต้องการ ดึง user คืนจาก vender ที่ให้ใช้งานอยู่ขอบคุณครับ\"\n",
        "]\n",
        "\n",
        "# Tokenize and encode the example sentences\n",
        "inputs = tokenizer(example_sentences, padding=True, truncation=True, return_tensors=\"pt\")\n",
        "input_ids = inputs['input_ids'].to(device)\n",
        "attention_mask = inputs['attention_mask'].to(device)\n"
      ],
      "metadata": {
        "id": "RnpR9TOxTDHY"
      },
      "execution_count": 59,
      "outputs": []
    },
    {
      "cell_type": "code",
      "source": [
        "# Predict\n",
        "with torch.no_grad():\n",
        "    outputs = model(input_ids, attention_mask)\n",
        "    predictions = torch.argmax(outputs, dim=1)\n",
        "\n",
        "# Define a dictionary to map class indices to labels\n",
        "label_mapping = {0: 'Incident', 1: 'Request'}\n",
        "\n",
        "# Convert predictions to labels\n",
        "predicted_labels = [label_mapping[label.item()] for label in predictions]\n",
        "\n",
        "# Print results\n",
        "for sentence, label in zip(example_sentences, predicted_labels):\n",
        "    print(f\"Email: {sentence}\")\n",
        "    print(f\"Ticket_type: {label}\")\n",
        "    print(f\"----------------------------------\")"
      ],
      "metadata": {
        "id": "Nhx-7JYBAgdx",
        "outputId": "2233c7cb-923c-45b4-e980-ec56e7a76344",
        "colab": {
          "base_uri": "https://localhost:8080/"
        }
      },
      "execution_count": 60,
      "outputs": [
        {
          "output_type": "stream",
          "name": "stdout",
          "text": [
            "Email: รบกวนเข้าไปเก็บตัวกล่องสัญญาณที่สาขาสารภี\n",
            "Ticket_type: Request\n",
            "----------------------------------\n",
            "Email: Incident baac  inextbaac    inext ตรวจสอบพบวงจร\n",
            "Ticket_type: Incident\n",
            "----------------------------------\n",
            "Email: op cloud   noc ได้รับ alert\n",
            "Ticket_type: Incident\n",
            "----------------------------------\n",
            "Email: ขอยกเลิก user   reset password noc ขอยกเลิก user vpn ตามรูป จาก  user ให้เหลือเง\n",
            "Ticket_type: Request\n",
            "----------------------------------\n",
            "Email: กรุณาส่งรายละเอียดด้านล่างให้กับ Team [INET_CSIRT] และ cc [INET_CO-CSIRT] เพื่อตรวจสอบและแก้ไขปัญหาต่อไป\n",
            "Ticket_type: Request\n",
            "----------------------------------\n",
            "Email: ขอยกเลิก user vpn ตามรูป จาก 5 user ให้เหลือเพียง 2 user และทำการ reset password ให้หน่อยครับเนื่องจากต้องการ ดึง user คืนจาก vender ที่ให้ใช้งานอยู่ขอบคุณครับ\n",
            "Ticket_type: Request\n",
            "----------------------------------\n"
          ]
        }
      ]
    },
    {
      "cell_type": "code",
      "source": [
        "from sklearn.model_selection import train_test_split\n",
        "import torch\n",
        "\n",
        "# Load the saved model weights\n",
        "model.load_state_dict(torch.load('/content/drive/MyDrive/AIEngineer/bert.pt'))\n",
        "model.eval()  # Set the model to evaluation mode\n",
        "\n",
        "# Tokenize and encode the test sentences (first 20 examples)\n",
        "inputs = tokenizer(test_text[:15].tolist(), padding=True, truncation=True, return_tensors=\"pt\")\n",
        "input_ids = inputs['input_ids'].to(device)\n",
        "attention_mask = inputs['attention_mask'].to(device)\n",
        "\n",
        "# Predict\n",
        "with torch.no_grad():\n",
        "    outputs = model(input_ids, attention_mask)\n",
        "    predictions = torch.argmax(outputs, dim=1)\n",
        "\n",
        "# Define a dictionary to map class indices to labels\n",
        "label_mapping = {0: 'Incident', 1: 'Request'}\n",
        "\n",
        "# Convert predictions to labels\n",
        "predicted_labels = [label_mapping[label.item()] for label in predictions]\n",
        "\n",
        "# Convert test_labels to string based on label_mapping\n",
        "test_labels_str = [label_mapping[label] for label in test_labels[:15]]\n",
        "\n",
        "# Calculate accuracy\n",
        "correct = sum(1 for true_label, predicted_label in zip(test_labels_str, predicted_labels) if true_label == predicted_label)\n",
        "total = len(test_labels_str)\n",
        "accuracy = correct / total * 100\n",
        "\n",
        "print(f\"Accuracy on examples: {accuracy:.2f}%\")\n",
        "\n",
        "# Display predictions and true labels\n",
        "print(\"\\n\")\n",
        "for idx, (sentence, true_label, predicted_label) in enumerate(zip(test_text[:20], test_labels_str, predicted_labels), 1):\n",
        "    print(f\"Example {idx}:\")\n",
        "    print(f\"Sentence: {sentence}\")\n",
        "    print(f\"True Label: {true_label}\")\n",
        "    print(f\"Predicted Label: {predicted_label}\")\n",
        "    print(\"----------------------------------\")\n"
      ],
      "metadata": {
        "id": "8_nW1xgqjDUU",
        "outputId": "0b9172f1-8cbc-4551-9404-97c56ae6c01a",
        "colab": {
          "base_uri": "https://localhost:8080/"
        }
      },
      "execution_count": 75,
      "outputs": [
        {
          "output_type": "stream",
          "name": "stdout",
          "text": [
            "Accuracy on examples: 73.33%\n",
            "\n",
            "\n",
            "Example 1:\n",
            "Sentence: p d k  engineering   ขอเปิด port support ขอเปิด port เพิ่มเติม  in out ครับ\n",
            "True Label: Request\n",
            "Predicted Label: Request\n",
            "----------------------------------\n",
            "Example 2:\n",
            "Sentence: noc ได้รับ alert   system notification from fi aci idc  b   environment major         gmt   thermal condition on chassis  is upper non recoverable เมื่อ  march      am af ssivl feffb       gmt   ucs  series fabric interconnect  n af ssivl feffb  true true false        gmt   thermal condition on chassis  is upper non recoverable environment major cisco ucs  series fabric interconnect inet srb inet fi aci idc  b ait   ait ucs fi up   ssivl sam content file\n",
            "True Label: Incident\n",
            "Predicted Label: Incident\n",
            "----------------------------------\n",
            "Example 3:\n",
            "Sentence: singha estate mnsp   รบกวนrestore vm spmsdbip     และ ดำเนินการ clone vm ที่ restore ในข้อ noc รบกวนประสานงานทีม nx cloud ดำเนินการดังนี้ค่ะ   restore vm spmsdbip     โดยใช้ back up ของเที่ยงคืน    ที่ผ่าน่ะ   ดำเนินการ clone vm ที่ restore ในข้อ  เพื่อใช้แทน vm spmsweb ip         ค่ะ\n",
            "True Label: Request\n",
            "Predicted Label: Request\n",
            "----------------------------------\n",
            "Example 4:\n",
            "Sentence: op nw oneid   ขอ map domain dev idconnect one th approved ครับ best regard patcharapong prohmwichai mobile     email  mandala communication company limited                                          from  to  cc  sent   april      pm subject  ขอ map domain dev idconnect one th พี่เต้ย และทีม noc ค่ะ ขออนุมัติการ map domain โดยมีรายละเอียดดังนี้ค่ะ ทีม one id ขอ map domain   dev idconnect one th ไปยัง ip       ค่ะ\n",
            "True Label: Request\n",
            "Predicted Label: Incident\n",
            "----------------------------------\n",
            "Example 5:\n",
            "Sentence: access inet idc          น ทีม noc ครับ subject   internal  scg  sr  ขอเปิดเคสเข้า vendor inet ได้ขอเข้า data center srb ในการนำเข้าอุปกรณ์ controllers พร้อมสายพ่วง และเข้าติดตั้ง อุปกรณ์ chassis รบกวนประสานงานทีม idc ตามรายละเอียดด้านล่่างและไฟล์แนบด้วยครับ\n",
            "True Label: Request\n",
            "Predicted Label: Request\n",
            "----------------------------------\n",
            "Example 6:\n",
            "Sentence: ขอใบเสนอราคา e mail ผู้ให้บริการ ขอใบเสนอราคา e mail  account ครับ mr jakkrapong riengpakdee it staff thai okawa co ltd   moo wha eastern seaboard industrial estate tambol tasit amphur pluakdaeng rayong  thailand email   tel       ext  fax       mobile\n",
            "True Label: Request\n",
            "Predicted Label: Request\n",
            "----------------------------------\n",
            "Example 7:\n",
            "Sentence: noc ได้รับ daily alert    smart monitor dashboard มีสถานะ   fail    ประจำ    เมื่อ   a m line notify daily alert     smart monitor dashboard ประจำ         สถานการณ์   ปกติ จำนวน vm ทั้งหมด    จำนวนรวม vm down    จำนวนรวม vm up    เ  ปิดเคส p owner   cloud    line notify daily alert   backup configuration virtual firewall ประจำ      total       success      fail     เปิดเคส p owner   op vfw\n",
            "True Label: Incident\n",
            "Predicted Label: Incident\n",
            "----------------------------------\n",
            "Example 8:\n",
            "Sentence: allow port  for dear support please allow fw policy port  for public ip      methee wiwattanapaisal cns   customer network support ericsson ltd  cu th customer support th floor suntower b   vibhavadee rangsit road chatuchak thailand  phone     mobile     www ericsson com\n",
            "True Label: Request\n",
            "Predicted Label: Request\n",
            "----------------------------------\n",
            "Example 9:\n",
            "Sentence: op nx mappoint asia   noc ได้รับ alert vm   mls hvss sl prd ip              vm   mls hvss sl prd ip            มีสถานะ ping down เมื่อ  march      pm prtg network monitor sensor ping       probe internal prtg probes  btt lnv ahv dom   group  mnsp  mappoint asia logistic solution        device  idc  tst lnv ahv dom  mappoint   mls hvss sl prd    ip   new status at       pm   down last message  request timed out last scan  last up  last down  uptime  downtime  coverage  sensor type  interval   s  h  m  s         ping  s scan now acknowledge alarm pause resume pause for  minutes pause for  minutes pause for  hours graph graph graph channel last value downtime maximum no data minimum no data packet loss no data ping time no data device comments system analysis  iis other names  qsr app system info  hardware  intel family  model  stepping  at at compatible   software  windows version   hardware  intel family  model  stepping  at at compatible   software  windows version   hardware  intel family  model  stepping  at at compatible   software  windows version   hardware  intel family  model  stepping  at at compatible   software  windows version   hardware  intel family  model  stepping  at at compatible   software  windows version   hardware  intel family  model  stepping  at at compatible   software  windows version   history       pm down request timed out       pm unknown no data since       pm don't want to receive this email? please edit the notification triggers of this sensor or edit your notification template settings  sent       pm to by prtg network monitor ( prtg network monitor         paessler ag\n",
            "True Label: Incident\n",
            "Predicted Label: Incident\n",
            "----------------------------------\n",
            "Example 10:\n",
            "Sentence: op sec inet internal soc    ตรวจสอบพบเหตุการณ์การเชื่อมต่อมาจากอุปกรณ์ที่มี ip blacklist ภายนอกองค์กรมายังอุปกรณ์ภายในองค์กร หมายเลข ip เครื่องต้นทาง      หมายเลข ip เครื่องเป้าหมาย activity   inbound communication with blacklist ip address ผู้ใช้บริการ subject   auto   inet  inc   inet  medium   alert  suspicious activity   inbound communication with blacklist ip address                                                                                          กรุณาส่งรายละเอียดด้านล่างให้กับหน่วยงานที่เกี่ยวข้องเพื่อตรวจสอบและแก้ไขปัญหาต่อไป ประเภทของภัยคุกคาม  inbound communication with blacklist ip address ความหมายของภัยคุกคาม  เกิดเหตุการณ์การเชื่อมต่อมาจากอุปกรณ์ที่มี ip blacklist ภายนอกองค์กรมายังอุปกรณ์ภายในองค์กร หมายเลข ip เครื่องต้นทาง      หมายเลข ip เครื่องเป้าหมาย      hostname อุปกรณ์ที่พบ log  sfw โปรโตคอล  tcp หมายเลข port เครื่องเป้าหมาย   action  pass ตรวจสอบพบวัน         อุปกรณ์ที่ใช้ตรวจจับเหตุการณ์  ระบบ siem application  criteria  medium เหตุการณ์ที่ตรวจพบ   ตรวจพบ ip     ซึ่งเป็น ip blacklist ทำการติดต่อมายังหมายเลข ip       ที่หมายเลข port ปลายทาง    tcp ผลการวิเคราะห์ สาเหตุที่เป็นไปได้   มีการโจมตีเข้ามายังเครื่องภายในองค์กร   มีการเปิดใช้งาน service ที่สามารถเข้าได้จากภายนอก ผลกระทบ   หารื่องเป้าหมายมีช่องโหว่ จะวามเสี่ยงสูงที่จะถูกโจมตีได้ง่ายรวมไปการถูกขโมยข้อมูล วิธีการตรวจสอบและแก้ไข   ดำเนินการตรวจสอบเครื่องเป้าหมายว่าวามจำเป็นที่จะต้องใช้งาน port  tcp หรือไม่ หากไม่วามจำเป็นให้ดำเนินการปิดการใช้งาน   หากวามจำเป็นต้องใช้งานพอร์ต  tcp ให้พิจารณาทำการอนุญาตให้เฉพาะหมายเลข ip ที่ไว้ใจสามารถเข้าหมายเลข port และ service นั้นได้   ทำ policy firewall ให้อนุญาตเข้าเฉพาะหมายเลข port ที่เครื่องภายในองค์กรเปิดให้บริการ   แนะนำให้เข้าใช้งานผ่าน vpn เมื่อต้องการเข้าใช้งานระบบภายในองค์กร เพื่อคัดกรองการใช้งานที่ไม่ปกติจากเน็ตเวิร์คภายนอก ข้อมูลอ้างอิง\n",
            "True Label: Incident\n",
            "Predicted Label: Incident\n",
            "----------------------------------\n",
            "Example 11:\n",
            "Sentence: รบกวนตรวจสอบเน็ต เขต  ให้ด้วยครับ เข้า ไม่ได้ noi ฝากตรวจสอบเน็ต เขต  ให้ด้วยครับ เข้า ไม่ได้   อังอังลูกเปาบุ้นจิ้น  ทาง inext รับทราบข้อมูลค่ะ ประสานงานทีมตรวจสอบให้ค่ะ\n",
            "True Label: Incident\n",
            "Predicted Label: Request\n",
            "----------------------------------\n",
            "Example 12:\n",
            "Sentence: op nw inet internal soc    ตรวจพบเหตุการณ์การเชื่อมต่อมาจากอุปกรณ์ที่มี ip blacklist ภายนอกองค์กรมายังอุปกรณ์ภายในองค์กร หมายเลข ip เครื่องเป้าหมาย inbound communication with blacklist ip address กรุณาส่งรายละเอียดด้านล่างให้กับหน่วยงานที่เกี่ยวข้องเพื่อตรวจสอบและแก้ไขปัญหาต่อไป                                                                                          ประเภทของภัยคุกคาม  inbound communication with blacklist ip address ความหมายของภัยคุกคาม  เกิดเหตุการณ์การเชื่อมต่อมาจากอุปกรณ์ที่มี ip blacklist ภายนอกองค์กรมายังอุปกรณ์ภายในองค์กร หมายเลข ip เครื่องต้นทาง      หมายเลข ip เครื่องเป้าหมาย      hostname อุปกรณ์ที่พบ log  fw btt fg c โปรโตคอล  udp หมายเลข port เครื่องเป้าหมาย   action  pass ตรวจสอบพบวัน         อุปกรณ์ที่ใช้ตรวจจับเหตุการณ์  ระบบ siem application  traffic criteria  medium เหตุการณ์ที่ตรวจพบ   ตรวจพบ ip       ซึ่งเป็น ip blacklist ทำการติดต่อมายังหมายเลข ip         ที่หมายเลข port ปลายทาง       udp  ผลการวิเคราะห์ สาเหตุที่เป็นไปได้   มีการโจมตีเข้ามายังเครื่องภายในองค์กร   มีการเปิดใช้งาน service ที่สามารถเข้าได้จากภายนอก ผลกระทบ   หารื่องเป้าหมายมีช่องโหว่ จะวามเสี่ยงสูงที่จะถูกโจมตีได้ง่ายรวมไปการถูกขโมยข้อมูล วิธีการตรวจสอบและแก้ไข   ดำเนินการตรวจสอบเครื่องเป้าหมายว่าวามจำเป็นที่จะต้องใช้งาน port     udp  หรือไม่ หากไม่วามจำเป็นให้ดำเนินการปิดการใช้งาน   หากวามจำเป็นต้องใช้งานพอร์ต     udp  ให้พิจารณาทำการอนุญาตให้เฉพาะหมายเลข ip ที่ไว้ใจสามารถเข้าหมายเลข port และ service นั้นได้   ทำ policy firewall ให้อนุญาตเข้าเฉพาะหมายเลข port ที่เครื่องภายในองค์กรเปิดให้บริการ   แนะนำให้เข้าใช้งานผ่าน vpn เมื่อต้องการเข้าใช้งานระบบภายในองค์กร เพื่อคัดกรองการใช้งานที่ไม่ปกติจากเน็ตเวิร์คภายนอก ข้อมูลอ้างอิง\n",
            "True Label: Incident\n",
            "Predicted Label: Request\n",
            "----------------------------------\n",
            "Example 13:\n",
            "Sentence: เพิ่มชื่อเข้าไปใน เมลหลักของ modernpos co th เจ้าหน้าที่ จากที่ บริษัท โมเดิร์น พอส จำกัด สัญญาบริการขาดช่วงไป เพราะไม่ได้ดำเนินการต่อสัญญา ณ ตอนนี้ได้ดำเนินการต่อสัญญาใหม่แล้ว แต่หลังจากที่เมลใช้ได้แล้ว พบว่า อีเมลของ หลุดออกจากเมลหลักของบริษัท จึงขอรบกวนเจ้าหน้าที่ แอดอีเมลของ เข้าไปใน ให้ด้วยค่ะ\n",
            "True Label: Request\n",
            "Predicted Label: Request\n",
            "----------------------------------\n",
            "Example 14:\n",
            "Sentence: ลงทะเบียนคอมพิวเตอร์ ลงทะเบียน smart phone\n",
            "True Label: Request\n",
            "Predicted Label: Request\n",
            "----------------------------------\n",
            "Example 15:\n",
            "Sentence: op sec eyelink vision  cloud computing    รบกวนจัดทำ policy opnsense nw vfw srb opnsense eyelink noc รบกวนประสานงานทีม op sec assign ip public เพื่อจัดทำ policy สำหรับลูกค้า บริษัท อายลิ้งค์ วิชั่น จำกัด โดยมีรายละเอียดดังนี้ครับ opnsense nw vfw srb opnsense eyelink policy std  source destination nat ip type nat   dnat )   nat service action       any    xxx snat           icmp allow thailand    xxx     dnat    allow    dns    icmp thailand    xxx     dnat port    allow policy deep source destination nat ip type nat   dnat )   nat service           xxx   dnat tcp       icmp policy smart monitor source destination nat ip type nat   dnat )   nat service          xxx   dnat icmp             policy zabbix agent source destination nat ip type nat   dnat )   nat service action              xxx snat   all                         best regard sittidet j  cloud computing internet thailand public company limited network operations call center   tel     hotline   tel     e mail   inet home page   facebook   www facebook com inetclub\n",
            "True Label: Request\n",
            "Predicted Label: Incident\n",
            "----------------------------------\n"
          ]
        }
      ]
    },
    {
      "cell_type": "markdown",
      "source": [
        "### **save model**"
      ],
      "metadata": {
        "id": "EBBoaEBhb-HF"
      }
    },
    {
      "cell_type": "code",
      "source": [
        "# Define the path where the model weights will be saved\n",
        "path = '/content/drive/MyDrive/AIEngineer/bert.pt'\n",
        "\n",
        "# Save the model weights\n",
        "torch.save(model.state_dict(), path)\n",
        "\n",
        "print(f\"Model weights saved successfully to '{path}'\")"
      ],
      "metadata": {
        "id": "J7xfXJZrr6KY",
        "outputId": "a345490e-f848-4e48-cdee-5060c45a90c5",
        "colab": {
          "base_uri": "https://localhost:8080/"
        }
      },
      "execution_count": 40,
      "outputs": [
        {
          "output_type": "stream",
          "name": "stdout",
          "text": [
            "Model weights saved successfully to '/content/drive/MyDrive/AIEngineer/bert.pt'\n"
          ]
        }
      ]
    },
    {
      "cell_type": "code",
      "source": [],
      "metadata": {
        "id": "5YsR0hjOLTIu"
      },
      "execution_count": 40,
      "outputs": []
    }
  ]
}