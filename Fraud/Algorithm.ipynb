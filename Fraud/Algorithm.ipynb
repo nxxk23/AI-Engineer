{
  "nbformat": 4,
  "nbformat_minor": 0,
  "metadata": {
    "colab": {
      "provenance": [],
      "mount_file_id": "https://github.com/nxxk23/AI-Engineer/blob/main/Fraud/Algorithm.ipynb",
      "authorship_tag": "ABX9TyMaQnz+Ji6KWCqDLkToy1Sx",
      "include_colab_link": true
    },
    "kernelspec": {
      "name": "python3",
      "display_name": "Python 3"
    },
    "language_info": {
      "name": "python"
    }
  },
  "cells": [
    {
      "cell_type": "markdown",
      "metadata": {
        "id": "view-in-github",
        "colab_type": "text"
      },
      "source": [
        "<a href=\"https://colab.research.google.com/github/nxxk23/AI-Engineer/blob/main/Fraud/Algorithm.ipynb\" target=\"_parent\"><img src=\"https://colab.research.google.com/assets/colab-badge.svg\" alt=\"Open In Colab\"/></a>"
      ]
    },
    {
      "cell_type": "code",
      "execution_count": 2,
      "metadata": {
        "id": "T1jbiYzi_dBy"
      },
      "outputs": [],
      "source": [
        "import pandas as pd\n",
        "db = pd.read_csv('/content/drive/MyDrive/AIEngineer/estimator-med-cost/ราคากลางของบิลแต่ละประเภทในแต่ละโรค.csv')\n",
        "db = db[['simb_billing_code','local_billing_name','PP','EC','OT','CM','CP','mean']]"
      ]
    },
    {
      "cell_type": "code",
      "source": [
        "db"
      ],
      "metadata": {
        "id": "XlDjRs_uMyBf"
      },
      "execution_count": null,
      "outputs": []
    },
    {
      "cell_type": "code",
      "source": [
        "!pip -q install gradio pandas"
      ],
      "metadata": {
        "id": "Oz6b-dbJPB8Y"
      },
      "execution_count": null,
      "outputs": []
    },
    {
      "cell_type": "code",
      "source": [
        "import pandas as pd\n",
        "import gradio as gr"
      ],
      "metadata": {
        "id": "X1BVYHMISNO5"
      },
      "execution_count": 7,
      "outputs": []
    },
    {
      "cell_type": "code",
      "source": [
        "# ฟังก์ชันสำหรับการค้นหาข้อมูลจากฐานข้อมูล\n",
        "def search_medical_cost(input_json):\n",
        "    diagnosis_list = eval(input_json)\n",
        "    query = create_query(diagnosis_list)\n",
        "\n",
        "    search_results = []\n",
        "    for index, row in db.iterrows():\n",
        "        match = True\n",
        "        for dx_type, icd10_code in query.items():\n",
        "            if icd10_code == \"-\":\n",
        "                if row[dx_type] != \"-\":\n",
        "                    match = False\n",
        "                    break\n",
        "            else:\n",
        "                if not any(code in row[dx_type] for code in icd10_code):\n",
        "                    match = False\n",
        "                    break\n",
        "\n",
        "        if match:\n",
        "            search_results.append(row)\n",
        "\n",
        "    return pd.DataFrame(search_results)\n",
        "\n",
        "def create_query(real_icd10):\n",
        "    query = {\"PP\": \"-\", 'EC': '-', 'OT': '-', 'CM': '-', 'CP': '-'}\n",
        "\n",
        "    for item in real_icd10:\n",
        "        dx_type = item['dx_type']\n",
        "        icd10_code = item['icd10']\n",
        "        if dx_type in query:\n",
        "            if query[dx_type] == \"-\":\n",
        "                query[dx_type] = [icd10_code]\n",
        "            elif isinstance(query[dx_type], list):\n",
        "                if icd10_code not in query[dx_type]:\n",
        "                    query[dx_type].append(icd10_code)\n",
        "            else:\n",
        "                query[dx_type] = [query[dx_type], icd10_code]\n",
        "    return query\n",
        "\n",
        "def summarize(selected_rows, total_sum):\n",
        "    if selected_rows is None or len(selected_rows) == 0:\n",
        "        return \"No rows selected.\", total_sum\n",
        "    total_sum += selected_rows[\"mean\"].sum()\n",
        "    return f\"Selected rows added. Current total: {total_sum:.2f} THB\", total_sum\n",
        "\n",
        "# Gradio UI Setup\n",
        "with gr.Blocks() as demo:\n",
        "    gr.Markdown(\"### Medical Cost Estimation Demo 📟\")\n",
        "\n",
        "    input_json = gr.Textbox(\n",
        "        label=\"Enter Diagnosis JSON\",\n",
        "        placeholder='[{\"icd10\": \"S500\", \"dx_name\": \"Contusion of elbow\", \"dx_type\": \"PP\"}, ...]'\n",
        "    )\n",
        "    search_button = gr.Button(\"Search\")\n",
        "    output_table = gr.DataFrame(\n",
        "        headers=[\"simb_billing_code\", \"local_billing_name\", \"PP\", \"EC\", \"OT\", \"CM\", \"CP\", \"mean\"],\n",
        "        interactive=True\n",
        "    )\n",
        "    summary_text = gr.Textbox(label=\"Summary\", interactive=False)\n",
        "    def process_input(input_json):\n",
        "        search_results_df = search_medical_cost(input_json)\n",
        "        return search_results_df, \"Review the table and select rows for summarization.\"\n",
        "\n",
        "    total_sum = 0\n",
        "    search_button.click(process_input, inputs=[input_json], outputs=[output_table, summary_text])\n",
        "demo.launch(debug=True)"
      ],
      "metadata": {
        "colab": {
          "base_uri": "https://localhost:8080/",
          "height": 1000
        },
        "id": "oOQHlMmHNPXG",
        "outputId": "62c04734-9b25-4fe5-9b9e-7f343b163f4e"
      },
      "execution_count": 44,
      "outputs": [
        {
          "output_type": "stream",
          "name": "stdout",
          "text": [
            "Running Gradio in a Colab notebook requires sharing enabled. Automatically setting `share=True` (you can turn this off by setting `share=False` in `launch()` explicitly).\n",
            "\n",
            "Colab notebook detected. This cell will run indefinitely so that you can see errors and logs. To turn off, set debug=False in launch().\n",
            "* Running on public URL: https://21103cc055b3b60377.gradio.live\n",
            "\n",
            "This share link expires in 72 hours. For free permanent hosting and GPU upgrades, run `gradio deploy` from the terminal in the working directory to deploy to Hugging Face Spaces (https://huggingface.co/spaces)\n"
          ]
        },
        {
          "output_type": "display_data",
          "data": {
            "text/plain": [
              "<IPython.core.display.HTML object>"
            ],
            "text/html": [
              "<div><iframe src=\"https://21103cc055b3b60377.gradio.live\" width=\"100%\" height=\"500\" allow=\"autoplay; camera; microphone; clipboard-read; clipboard-write;\" frameborder=\"0\" allowfullscreen></iframe></div>"
            ]
          },
          "metadata": {}
        },
        {
          "output_type": "stream",
          "name": "stderr",
          "text": [
            "Traceback (most recent call last):\n",
            "  File \"/usr/local/lib/python3.10/dist-packages/gradio/queueing.py\", line 625, in process_events\n",
            "    response = await route_utils.call_process_api(\n",
            "  File \"/usr/local/lib/python3.10/dist-packages/gradio/route_utils.py\", line 322, in call_process_api\n",
            "    output = await app.get_blocks().process_api(\n",
            "  File \"/usr/local/lib/python3.10/dist-packages/gradio/blocks.py\", line 2045, in process_api\n",
            "    result = await self.call_function(\n",
            "  File \"/usr/local/lib/python3.10/dist-packages/gradio/blocks.py\", line 1592, in call_function\n",
            "    prediction = await anyio.to_thread.run_sync(  # type: ignore\n",
            "  File \"/usr/local/lib/python3.10/dist-packages/anyio/to_thread.py\", line 33, in run_sync\n",
            "    return await get_asynclib().run_sync_in_worker_thread(\n",
            "  File \"/usr/local/lib/python3.10/dist-packages/anyio/_backends/_asyncio.py\", line 877, in run_sync_in_worker_thread\n",
            "    return await future\n",
            "  File \"/usr/local/lib/python3.10/dist-packages/anyio/_backends/_asyncio.py\", line 807, in run\n",
            "    result = context.run(func, *args)\n",
            "  File \"/usr/local/lib/python3.10/dist-packages/gradio/utils.py\", line 870, in wrapper\n",
            "    response = f(*args, **kwargs)\n",
            "  File \"<ipython-input-44-6e8e9b90d238>\", line 66, in process_input\n",
            "    search_results_df = search_medical_cost(input_json)  # ฟังก์ชันนี้คืนค่าเป็น DataFrame เดียว\n",
            "  File \"<ipython-input-44-6e8e9b90d238>\", line 3, in search_medical_cost\n",
            "    diagnosis_list = eval(input_json)  # แปลงข้อมูล JSON ที่ได้รับ\n",
            "  File \"<string>\", line 1\n",
            "    [{\"icd10\": \"S500\", \"dx_name\": \"Contusion of elbow\", \"dx_type\": \"PP\"}, {\"icd10\": \"W200\", \"dx_name\": \"Struck by thrown, projected or falling object\", \"dx_type\": \"EC\"]]\n",
            "                                                                                                                                                                       ^\n",
            "SyntaxError: closing parenthesis ']' does not match opening parenthesis '{'\n"
          ]
        },
        {
          "output_type": "stream",
          "name": "stdout",
          "text": [
            "Keyboard interruption in main thread... closing server.\n",
            "Killing tunnel 127.0.0.1:7860 <> https://21103cc055b3b60377.gradio.live\n"
          ]
        },
        {
          "output_type": "execute_result",
          "data": {
            "text/plain": []
          },
          "metadata": {},
          "execution_count": 44
        }
      ]
    },
    {
      "cell_type": "code",
      "source": [
        "[{\"icd10\": \"S500\", \"dx_name\": \"Contusion of elbow\", \"dx_type\": \"PP\"}, {\"icd10\": \"W200\", \"dx_name\": \"Struck by thrown, projected or falling object\", \"dx_type\": \"EC\"}, {\"icd10\": \"S300\", \"dx_name\": \"Contusion of lower back and pelvis\", \"dx_type\": \"OT\"}, {\"icd10\": \"S400\", \"dx_name\": \"Contusion of shoulder and upper arm\", \"dx_type\": \"OT\"}]"
      ],
      "metadata": {
        "id": "pFIkgfhIQafS"
      },
      "execution_count": null,
      "outputs": []
    }
  ]
}