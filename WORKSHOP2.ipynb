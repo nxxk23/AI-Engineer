{
  "nbformat": 4,
  "nbformat_minor": 0,
  "metadata": {
    "colab": {
      "provenance": [],
      "mount_file_id": "1ed1hM0x_l9HXtxOAcf-b0z4TR-nB6lf3",
      "authorship_tag": "ABX9TyPdbxNR19HvT18u0K4jgb6l",
      "include_colab_link": true
    },
    "kernelspec": {
      "name": "python3",
      "display_name": "Python 3"
    },
    "language_info": {
      "name": "python"
    }
  },
  "cells": [
    {
      "cell_type": "markdown",
      "metadata": {
        "id": "view-in-github",
        "colab_type": "text"
      },
      "source": [
        "<a href=\"https://colab.research.google.com/github/nxxk23/AI-Engineer/blob/main/WORKSHOP2.ipynb\" target=\"_parent\"><img src=\"https://colab.research.google.com/assets/colab-badge.svg\" alt=\"Open In Colab\"/></a>"
      ]
    },
    {
      "cell_type": "code",
      "execution_count": 1,
      "metadata": {
        "colab": {
          "base_uri": "https://localhost:8080/"
        },
        "id": "cH2Yt1utqR05",
        "outputId": "62deb1d9-77cd-4bf5-95e7-731b711d7d4a"
      },
      "outputs": [
        {
          "output_type": "stream",
          "name": "stdout",
          "text": [
            "<class 'pandas.core.frame.DataFrame'>\n",
            "RangeIndex: 294239 entries, 0 to 294238\n",
            "Data columns (total 13 columns):\n",
            " #   Column   Non-Null Count   Dtype  \n",
            "---  ------   --------------   -----  \n",
            " 0   HCODE    294239 non-null  int64  \n",
            " 1   SEX      243462 non-null  float64\n",
            " 2   DOB      294239 non-null  object \n",
            " 3   DATEADM  294239 non-null  object \n",
            " 4   TIMEADM  294238 non-null  float64\n",
            " 5   DATEDSC  294239 non-null  object \n",
            " 6   TIMEDSC  294238 non-null  float64\n",
            " 7   RW       294238 non-null  float64\n",
            " 8   DRG      294238 non-null  float64\n",
            " 9   DISCHT   294150 non-null  float64\n",
            " 10  PDX      294238 non-null  object \n",
            " 11  SDXs     294239 non-null  object \n",
            " 12  PROCs    294239 non-null  object \n",
            "dtypes: float64(6), int64(1), object(6)\n",
            "memory usage: 29.2+ MB\n"
          ]
        },
        {
          "output_type": "execute_result",
          "data": {
            "text/plain": [
              "(None,\n",
              "    HCODE  SEX         DOB     DATEADM  TIMEADM     DATEDSC  TIMEDSC      RW  \\\n",
              " 0  11446  2.0  30/01/1945  10/11/2022    736.0  13/11/2022   1700.0  0.4004   \n",
              " 1  11446  2.0  22/07/2015  09/11/2022   1745.0  13/11/2022   1800.0  0.5661   \n",
              " 2  11446  2.0  01/01/1992  10/11/2022   1712.0  14/11/2022   1830.0  1.3929   \n",
              " 3  11446  1.0  21/08/2019  09/11/2022    253.0  11/11/2022   1700.0  0.5661   \n",
              " 4  11446  2.0  10/07/1961  09/11/2022   1502.0  12/11/2022   1700.0  2.2459   \n",
              " \n",
              "        DRG  DISCHT    PDX                      SDXs     PROCs  \n",
              " 0   4590.0     1.0   J209                   ['I10']        []  \n",
              " 1   4520.0     1.0   J189                        []        []  \n",
              " 2  14010.0     1.0   O339  ['O820', 'U501', 'Z370']   ['741']  \n",
              " 3   4520.0     1.0   J189                        []        []  \n",
              " 4   8140.0     1.0  S8280                 ['W0199']  ['7936']  )"
            ]
          },
          "metadata": {},
          "execution_count": 1
        }
      ],
      "source": [
        "import pandas as pd\n",
        "\n",
        "# Load the dataset\n",
        "file_path = '/content/drive/MyDrive/AIEngineer/drg.csv'\n",
        "\n",
        "# Reading the CSV file into a DataFrame\n",
        "df = pd.read_csv(file_path)\n",
        "\n",
        "# Checking the basic info about the DataFrame\n",
        "df_info = df.info()\n",
        "\n",
        "# Check the first few rows to understand the structure\n",
        "df_head = df.head()\n",
        "\n",
        "df_info, df_head"
      ]
    },
    {
      "cell_type": "markdown",
      "source": [
        "# change data format\n",
        "> numerical data : ลดขนาดลง\n",
        "\n",
        "> categorical data\n",
        "\n",
        "> datetime data"
      ],
      "metadata": {
        "id": "pW4puhrDrT1a"
      }
    },
    {
      "cell_type": "code",
      "source": [
        "import pandas as pd\n",
        "import numpy as np\n",
        "\n",
        "# Convert date columns to datetime format\n",
        "df['DOB'] = pd.to_datetime(df['DOB'], format='%d/%m/%Y', errors='coerce')\n",
        "df['DATEADM'] = pd.to_datetime(df['DATEADM'], format='%d/%m/%Y', errors='coerce')\n",
        "df['DATEDSC'] = pd.to_datetime(df['DATEDSC'], format='%d/%m/%Y', errors='coerce')\n",
        "\n",
        "# Convert float64 to float32 where appropriate\n",
        "float_cols = ['SEX', 'TIMEADM', 'TIMEDSC', 'RW', 'DRG', 'DISCHT']\n",
        "df[float_cols] = df[float_cols].astype('float32')\n",
        "\n",
        "# Convert categorical columns to 'category' data type\n",
        "df['SEX'] = df['SEX'].astype('category')\n",
        "df['PDX'] = df['PDX'].astype('category')\n",
        "df['SDXs'] = df['SDXs'].astype('category')\n",
        "df['PROCs'] = df['PROCs'].astype('category')\n",
        "\n",
        "# Convert 'HCODE' to int32 (since it's always an integer)\n",
        "df['HCODE'] = df['HCODE'].astype('int32')\n",
        "\n",
        "# Fill missing values (if needed) or handle them (e.g., drop them)\n",
        "df['SEX'].fillna(-1, inplace=True)  # Example handling for missing SEX\n",
        "df.dropna(subset=['TIMEADM', 'TIMEDSC', 'RW', 'DRG', 'DISCHT'], inplace=True)\n",
        "\n",
        "# Save the cleaned dataset as a Pa"
      ],
      "metadata": {
        "id": "lzPPccBmqu4B"
      },
      "execution_count": null,
      "outputs": []
    }
  ]
}