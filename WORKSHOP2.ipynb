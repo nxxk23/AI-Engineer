{
  "nbformat": 4,
  "nbformat_minor": 0,
  "metadata": {
    "colab": {
      "provenance": [],
      "mount_file_id": "1ed1hM0x_l9HXtxOAcf-b0z4TR-nB6lf3",
      "authorship_tag": "ABX9TyPvvlg3OnUzM5ft17+jrXJ7",
      "include_colab_link": true
    },
    "kernelspec": {
      "name": "python3",
      "display_name": "Python 3"
    },
    "language_info": {
      "name": "python"
    }
  },
  "cells": [
    {
      "cell_type": "markdown",
      "metadata": {
        "id": "view-in-github",
        "colab_type": "text"
      },
      "source": [
        "<a href=\"https://colab.research.google.com/github/nxxk23/AI-Engineer/blob/main/WORKSHOP2.ipynb\" target=\"_parent\"><img src=\"https://colab.research.google.com/assets/colab-badge.svg\" alt=\"Open In Colab\"/></a>"
      ]
    },
    {
      "cell_type": "code",
      "execution_count": 1,
      "metadata": {
        "colab": {
          "base_uri": "https://localhost:8080/"
        },
        "id": "cH2Yt1utqR05",
        "outputId": "80e3c22a-7448-4d78-f542-c96b628206cd"
      },
      "outputs": [
        {
          "output_type": "stream",
          "name": "stdout",
          "text": [
            "Initial memory usage:\n",
            "136147289\n",
            "<class 'pandas.core.frame.DataFrame'>\n",
            "RangeIndex: 294239 entries, 0 to 294238\n",
            "Data columns (total 13 columns):\n",
            " #   Column   Non-Null Count   Dtype  \n",
            "---  ------   --------------   -----  \n",
            " 0   HCODE    294239 non-null  int64  \n",
            " 1   SEX      243462 non-null  float64\n",
            " 2   DOB      294239 non-null  object \n",
            " 3   DATEADM  294239 non-null  object \n",
            " 4   TIMEADM  294238 non-null  float64\n",
            " 5   DATEDSC  294239 non-null  object \n",
            " 6   TIMEDSC  294238 non-null  float64\n",
            " 7   RW       294238 non-null  float64\n",
            " 8   DRG      294238 non-null  float64\n",
            " 9   DISCHT   294150 non-null  float64\n",
            " 10  PDX      294238 non-null  object \n",
            " 11  SDXs     294239 non-null  object \n",
            " 12  PROCs    294239 non-null  object \n",
            "dtypes: float64(6), int64(1), object(6)\n",
            "memory usage: 29.2+ MB\n",
            "None\n"
          ]
        }
      ],
      "source": [
        "import pandas as pd\n",
        "\n",
        "# Load the dataset\n",
        "file_path = '/content/drive/MyDrive/AIEngineer/drg.csv'\n",
        "df = pd.read_csv(file_path)\n",
        "\n",
        "# Initial memory usage\n",
        "print(\"Initial memory usage:\")\n",
        "print(df.memory_usage(deep=True).sum())\n",
        "print(df.info())"
      ]
    },
    {
      "cell_type": "code",
      "source": [
        "import pandas as pd\n",
        "\n",
        "# Load the dataset\n",
        "file_path = '/content/drive/MyDrive/AIEngineer/drg.csv'\n",
        "df = pd.read_csv(file_path)\n",
        "\n",
        "# Initial memory usage\n",
        "print(\"Initial memory usage:\")\n",
        "print(df.memory_usage(deep=True).sum())\n",
        "\n",
        "# Convert data types\n",
        "df['HCODE'] = df['HCODE'].astype('int16')\n",
        "df['SEX'] = df['SEX'].astype('category')\n",
        "\n",
        "# Convert floating point columns to float16 if appropriate\n",
        "df['TIMEADM'] = df['TIMEADM'].astype('float16')\n",
        "df['TIMEDSC'] = df['TIMEDSC'].astype('float16')\n",
        "df['RW'] = df['RW'].astype('float16')\n",
        "df['DRG'] = df['DRG'].astype('float16')\n",
        "df['DISCHT'] = df['DISCHT'].astype('float16')\n",
        "\n",
        "# Convert date columns to datetime\n",
        "df['DOB'] = pd.to_datetime(df['DOB'], format='%d/%m/%Y', errors='coerce')\n",
        "df['DATEADM'] = pd.to_datetime(df['DATEADM'], format='%d/%m/%Y', errors='coerce')\n",
        "df['DATEDSC'] = pd.to_datetime(df['DATEDSC'], format='%d/%m/%Y', errors='coerce')\n",
        "\n",
        "# Handle missing values for categorical columns\n",
        "for col in ['SEX', 'PDX', 'SDXs', 'PROCs']:\n",
        "    df[col] = df[col].astype('category')  # Ensure the column is of category type\n",
        "    df[col] = df[col].cat.add_categories('Unknown')  # Add 'Unknown' to the categories\n",
        "    df[col].fillna('Unknown', inplace=True)  # Fill missing values\n",
        "\n",
        "# Handle missing values for numeric columns\n",
        "df['TIMEADM'].fillna(-1, inplace=True)\n",
        "df['TIMEDSC'].fillna(-1, inplace=True)\n",
        "df['RW'].fillna(-1, inplace=True)\n",
        "df['DRG'].fillna(-1, inplace=True)\n",
        "df['DISCHT'].fillna(-1, inplace=True)\n",
        "\n",
        "# Verify memory usage\n",
        "print(\"Memory usage after optimization:\")\n",
        "print(df.memory_usage(deep=True).sum())"
      ],
      "metadata": {
        "id": "LxI7fbNCUuHB",
        "outputId": "27acca47-8bad-45c2-f4ac-00745200c207",
        "colab": {
          "base_uri": "https://localhost:8080/"
        }
      },
      "execution_count": 2,
      "outputs": [
        {
          "output_type": "stream",
          "name": "stdout",
          "text": [
            "Initial memory usage:\n",
            "136147289\n",
            "Memory usage after optimization:\n",
            "34368990\n"
          ]
        }
      ]
    },
    {
      "cell_type": "code",
      "source": [
        "import os\n",
        "\n",
        "# Define the file paths\n",
        "csv_gz_path = '/content/optimized_data.csv.gz'\n",
        "parquet_path = '/content/optimized_data.parquet'\n",
        "feather_path = '/content/optimized_data.feather'\n",
        "\n",
        "# Save as CSV with gzip compression\n",
        "df.to_csv(csv_gz_path, index=False, compression='gzip')\n",
        "\n",
        "# Convert float16 to float32 for Parquet compatibility\n",
        "df_parquet_feather = df.copy()\n",
        "float_cols = df.select_dtypes(include=['float16']).columns\n",
        "df_parquet_feather[float_cols] = df_parquet_feather[float_cols].astype('float32')\n",
        "\n",
        "# Convert all categorical columns to string (including 'SEX')\n",
        "categorical_cols = df_parquet_feather.select_dtypes(include=['category']).columns\n",
        "df_parquet_feather[categorical_cols] = df_parquet_feather[categorical_cols].astype(str)\n",
        "\n",
        "# Save as Parquet with float32 for compatibility\n",
        "df_parquet_feather.to_parquet(parquet_path, index=False)\n",
        "\n",
        "# Save as Feather after converting categorical columns to strings\n",
        "df_parquet_feather.to_feather(feather_path)\n",
        "\n",
        "# Function to get file size in MB\n",
        "def get_file_size(path):\n",
        "    return os.path.getsize(path) / (1024 * 1024)  # Size in MB\n",
        "\n",
        "# Compare file sizes\n",
        "print(f\"CSV (gzip) size: {get_file_size(csv_gz_path):.2f} MB\")\n",
        "print(f\"Parquet size: {get_file_size(parquet_path):.2f} MB\")\n",
        "print(f\"Feather size: {get_file_size(feather_path):.2f} MB\")\n"
      ],
      "metadata": {
        "id": "G1idBk0oXvhB",
        "outputId": "5e2edd7f-9c6a-4b6c-d2c3-e7017c0c09fb",
        "colab": {
          "base_uri": "https://localhost:8080/"
        }
      },
      "execution_count": 4,
      "outputs": [
        {
          "output_type": "stream",
          "name": "stdout",
          "text": [
            "CSV (gzip) size: 6.95 MB\n",
            "Parquet size: 7.40 MB\n",
            "Feather size: 15.40 MB\n"
          ]
        }
      ]
    },
    {
      "cell_type": "markdown",
      "source": [
        "## **solved**"
      ],
      "metadata": {
        "id": "sErRpla3aBKD"
      }
    },
    {
      "cell_type": "code",
      "source": [
        "import pandas as pd\n",
        "\n",
        "# Load the dataset\n",
        "file_path = '/content/drive/MyDrive/AIEngineer/drg.csv'\n",
        "df = pd.read_csv(file_path)\n",
        "\n",
        "# Initial memory usage\n",
        "print(\"Initial memory usage:\")\n",
        "print(df.memory_usage(deep=True).sum())\n",
        "\n",
        "# Convert data types\n",
        "df['HCODE'] = df['HCODE'].astype('int16')\n",
        "df['SEX'] = df['SEX'].astype('category')\n",
        "\n",
        "# Convert floating point columns to float16 if appropriate\n",
        "df['TIMEADM'] = df['TIMEADM'].astype('float16')\n",
        "df['TIMEDSC'] = df['TIMEDSC'].astype('float16')\n",
        "df['RW'] = df['RW'].astype('float16')\n",
        "df['DRG'] = df['DRG'].astype('float16')\n",
        "df['DISCHT'] = df['DISCHT'].astype('float16')\n",
        "\n",
        "# Convert date columns to datetime\n",
        "df['DOB'] = pd.to_datetime(df['DOB'], format='%d/%m/%Y', errors='coerce')\n",
        "df['DATEADM'] = pd.to_datetime(df['DATEADM'], format='%d/%m/%Y', errors='coerce')\n",
        "df['DATEDSC'] = pd.to_datetime(df['DATEDSC'], format='%d/%m/%Y', errors='coerce')\n",
        "\n",
        "# Handle missing values for categorical columns\n",
        "for col in ['SEX', 'PDX', 'SDXs', 'PROCs']:\n",
        "    df[col] = df[col].astype('category')  # Ensure the column is of category type\n",
        "    df[col] = df[col].cat.add_categories('Unknown')  # Add 'Unknown' to the categories\n",
        "    df[col].fillna('Unknown', inplace=True)  # Fill missing values\n",
        "\n",
        "# Handle missing values for numeric columns\n",
        "df['TIMEADM'].fillna(-1, inplace=True)\n",
        "df['TIMEDSC'].fillna(-1, inplace=True)\n",
        "df['RW'].fillna(-1, inplace=True)\n",
        "df['DRG'].fillna(-1, inplace=True)\n",
        "df['DISCHT'].fillna(-1, inplace=True)\n",
        "\n",
        "# Verify memory usage after optimization\n",
        "print(\"Memory usage after optimization:\")\n",
        "print(df.memory_usage(deep=True).sum())\n",
        "\n",
        "# Save the optimized DataFrame as a gzip-compressed CSV\n",
        "optimized_csv_gz_path = '/content/optimized_drg_data.csv.gz'\n",
        "df.to_csv(optimized_csv_gz_path, index=False, compression='gzip')\n",
        "\n",
        "# Function to get file size in MB\n",
        "def get_file_size(path):\n",
        "    return os.path.getsize(path) / (1024 * 1024)  # Size in MB\n",
        "\n",
        "# Compare file sizes\n",
        "print(f\"CSV (gzip) size: {get_file_size(csv_gz_path):.2f} MB\")"
      ],
      "metadata": {
        "id": "Bn5UNggyWt0Q",
        "outputId": "1702a2e1-e60f-4cd7-c8cb-2a043f666df7",
        "colab": {
          "base_uri": "https://localhost:8080/"
        }
      },
      "execution_count": 5,
      "outputs": [
        {
          "output_type": "stream",
          "name": "stdout",
          "text": [
            "Initial memory usage:\n",
            "136147289\n",
            "Memory usage after optimization:\n",
            "34368990\n",
            "CSV (gzip) size: 6.95 MB\n"
          ]
        }
      ]
    }
  ]
}