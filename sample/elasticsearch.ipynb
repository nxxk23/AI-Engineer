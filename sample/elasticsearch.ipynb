{
  "nbformat": 4,
  "nbformat_minor": 0,
  "metadata": {
    "colab": {
      "provenance": [],
      "gpuType": "T4",
      "mount_file_id": "1azNyFy1epPdgwbWx2WUe5R4wy1ExgOiK",
      "authorship_tag": "ABX9TyNBQDwSVq3oEa5Vs40l96qY",
      "include_colab_link": true
    },
    "kernelspec": {
      "name": "python3",
      "display_name": "Python 3"
    },
    "language_info": {
      "name": "python"
    },
    "accelerator": "GPU"
  },
  "cells": [
    {
      "cell_type": "markdown",
      "metadata": {
        "id": "view-in-github",
        "colab_type": "text"
      },
      "source": [
        "<a href=\"https://colab.research.google.com/github/nxxk23/AI-Engineer/blob/main/sample/elasticsearch.ipynb\" target=\"_parent\"><img src=\"https://colab.research.google.com/assets/colab-badge.svg\" alt=\"Open In Colab\"/></a>"
      ]
    },
    {
      "cell_type": "code",
      "execution_count": 1,
      "metadata": {
        "colab": {
          "base_uri": "https://localhost:8080/"
        },
        "id": "KqdMgYAUSq-c",
        "outputId": "947176af-0b18-41a3-bbe0-d9e3dcdddb45"
      },
      "outputs": [
        {
          "output_type": "stream",
          "name": "stdout",
          "text": [
            "\u001b[?25l   \u001b[90m━━━━━━━━━━━━━━━━━━━━━━━━━━━━━━━━━━━━━━━━\u001b[0m \u001b[32m0.0/524.6 kB\u001b[0m \u001b[31m?\u001b[0m eta \u001b[36m-:--:--\u001b[0m\r\u001b[2K   \u001b[90m━━━━━━━━━━━━━━━━━━━━━━━━━━━━━━━━━━━━━━━━\u001b[0m \u001b[32m524.6/524.6 kB\u001b[0m \u001b[31m23.6 MB/s\u001b[0m eta \u001b[36m0:00:00\u001b[0m\n",
            "\u001b[?25h\u001b[?25l   \u001b[90m━━━━━━━━━━━━━━━━━━━━━━━━━━━━━━━━━━━━━━━━\u001b[0m \u001b[32m0.0/245.3 kB\u001b[0m \u001b[31m?\u001b[0m eta \u001b[36m-:--:--\u001b[0m\r\u001b[2K   \u001b[90m━━━━━━━━━━━━━━━━━━━━━━━━━━━━━━━━━━━━━━━━\u001b[0m \u001b[32m245.3/245.3 kB\u001b[0m \u001b[31m16.2 MB/s\u001b[0m eta \u001b[36m0:00:00\u001b[0m\n",
            "\u001b[?25h\u001b[?25l   \u001b[90m━━━━━━━━━━━━━━━━━━━━━━━━━━━━━━━━━━━━━━━━\u001b[0m \u001b[32m0.0/64.4 kB\u001b[0m \u001b[31m?\u001b[0m eta \u001b[36m-:--:--\u001b[0m\r\u001b[2K   \u001b[90m━━━━━━━━━━━━━━━━━━━━━━━━━━━━━━━━━━━━━━━━\u001b[0m \u001b[32m64.4/64.4 kB\u001b[0m \u001b[31m4.0 MB/s\u001b[0m eta \u001b[36m0:00:00\u001b[0m\n",
            "\u001b[?25h"
          ]
        }
      ],
      "source": [
        "!pip -q install elasticsearch pandas transformers torch sentence_transformers"
      ]
    },
    {
      "cell_type": "code",
      "source": [
        "from elasticsearch import Elasticsearch\n",
        "import pandas as pd\n",
        "from transformers import AutoTokenizer, AutoModel\n",
        "import torch\n",
        "import torch.nn.functional as F\n",
        "from sentence_transformers import SentenceTransformer"
      ],
      "metadata": {
        "id": "Jfh-yXN6VhBO"
      },
      "execution_count": 2,
      "outputs": []
    },
    {
      "cell_type": "code",
      "source": [
        "# Load the DataFrame\n",
        "df = pd.read_excel('/content/drive/MyDrive/AIEngineer/elasticsearch/jobdb.xlsx')\n",
        "df"
      ],
      "metadata": {
        "colab": {
          "base_uri": "https://localhost:8080/",
          "height": 848
        },
        "collapsed": true,
        "id": "H430xTRWVjXS",
        "outputId": "c346ee91-389b-4a6e-b37e-7aaa0a72f8c2"
      },
      "execution_count": 6,
      "outputs": [
        {
          "output_type": "execute_result",
          "data": {
            "text/plain": [
              "   No                      Position  \\\n",
              "0   1              Network Engineer   \n",
              "1   2            Software Developer   \n",
              "2   3         IT Support Specialist   \n",
              "3   4  Digital Marketing Specialist   \n",
              "4   5               Project Manager   \n",
              "5   6          System Administrator   \n",
              "6   7              Business Analyst   \n",
              "7   8      Cybersecurity Specialist   \n",
              "8   9                Data Scientist   \n",
              "9  10                 Sales Manager   \n",
              "\n",
              "                                         Description  \\\n",
              "0  Responsible for managing and maintaining the c...   \n",
              "1  Develop and maintain web-based applications an...   \n",
              "2  Provide technical assistance and support to co...   \n",
              "3  Plan, execute, and optimize digital marketing ...   \n",
              "4  Oversee and coordinate the successful executio...   \n",
              "5  Manage and maintain the company's server infra...   \n",
              "6  Analyze business processes and data to provide...   \n",
              "7  Ensure the company’s digital assets and networ...   \n",
              "8  Use advanced data analytics and machine learni...   \n",
              "9  Lead the sales team and drive revenue growth b...   \n",
              "\n",
              "                                    Responsibilities  \\\n",
              "0  Design, implement, and maintain network system...   \n",
              "1  Write clean, scalable code for web application...   \n",
              "2  Diagnose hardware, software, and network probl...   \n",
              "3  Develop and manage online marketing campaigns ...   \n",
              "4  Develop project plans, timelines, and budgets....   \n",
              "5  Install, configure, and maintain server hardwa...   \n",
              "6  Gather and document business requirements from...   \n",
              "7  Implement security measures and protocols.\\nMo...   \n",
              "8  Collect, process, and analyze large datasets.\\...   \n",
              "9  Develop and implement sales strategies.\\nLead ...   \n",
              "\n",
              "                                       Qualification  \n",
              "0  Bachelor’s degree in Computer Science, Informa...  \n",
              "1  Bachelor’s degree in Computer Science, Softwar...  \n",
              "2  Diploma or Bachelor’s degree in Information Te...  \n",
              "3  Bachelor’s degree in Marketing, Communications...  \n",
              "4  Bachelor’s degree in Business, IT, or a relate...  \n",
              "5  Bachelor’s degree in Information Technology, C...  \n",
              "6  Bachelor’s degree in Business, Economics, or r...  \n",
              "7  Bachelor’s degree in Cybersecurity, Informatio...  \n",
              "8  Bachelor’s or Master’s degree in Data Science,...  \n",
              "9  Bachelor’s degree in Business, Marketing, or r...  "
            ],
            "text/html": [
              "\n",
              "  <div id=\"df-2aab13e3-3036-44cb-b895-c832b6a5c798\" class=\"colab-df-container\">\n",
              "    <div>\n",
              "<style scoped>\n",
              "    .dataframe tbody tr th:only-of-type {\n",
              "        vertical-align: middle;\n",
              "    }\n",
              "\n",
              "    .dataframe tbody tr th {\n",
              "        vertical-align: top;\n",
              "    }\n",
              "\n",
              "    .dataframe thead th {\n",
              "        text-align: right;\n",
              "    }\n",
              "</style>\n",
              "<table border=\"1\" class=\"dataframe\">\n",
              "  <thead>\n",
              "    <tr style=\"text-align: right;\">\n",
              "      <th></th>\n",
              "      <th>No</th>\n",
              "      <th>Position</th>\n",
              "      <th>Description</th>\n",
              "      <th>Responsibilities</th>\n",
              "      <th>Qualification</th>\n",
              "    </tr>\n",
              "  </thead>\n",
              "  <tbody>\n",
              "    <tr>\n",
              "      <th>0</th>\n",
              "      <td>1</td>\n",
              "      <td>Network Engineer</td>\n",
              "      <td>Responsible for managing and maintaining the c...</td>\n",
              "      <td>Design, implement, and maintain network system...</td>\n",
              "      <td>Bachelor’s degree in Computer Science, Informa...</td>\n",
              "    </tr>\n",
              "    <tr>\n",
              "      <th>1</th>\n",
              "      <td>2</td>\n",
              "      <td>Software Developer</td>\n",
              "      <td>Develop and maintain web-based applications an...</td>\n",
              "      <td>Write clean, scalable code for web application...</td>\n",
              "      <td>Bachelor’s degree in Computer Science, Softwar...</td>\n",
              "    </tr>\n",
              "    <tr>\n",
              "      <th>2</th>\n",
              "      <td>3</td>\n",
              "      <td>IT Support Specialist</td>\n",
              "      <td>Provide technical assistance and support to co...</td>\n",
              "      <td>Diagnose hardware, software, and network probl...</td>\n",
              "      <td>Diploma or Bachelor’s degree in Information Te...</td>\n",
              "    </tr>\n",
              "    <tr>\n",
              "      <th>3</th>\n",
              "      <td>4</td>\n",
              "      <td>Digital Marketing Specialist</td>\n",
              "      <td>Plan, execute, and optimize digital marketing ...</td>\n",
              "      <td>Develop and manage online marketing campaigns ...</td>\n",
              "      <td>Bachelor’s degree in Marketing, Communications...</td>\n",
              "    </tr>\n",
              "    <tr>\n",
              "      <th>4</th>\n",
              "      <td>5</td>\n",
              "      <td>Project Manager</td>\n",
              "      <td>Oversee and coordinate the successful executio...</td>\n",
              "      <td>Develop project plans, timelines, and budgets....</td>\n",
              "      <td>Bachelor’s degree in Business, IT, or a relate...</td>\n",
              "    </tr>\n",
              "    <tr>\n",
              "      <th>5</th>\n",
              "      <td>6</td>\n",
              "      <td>System Administrator</td>\n",
              "      <td>Manage and maintain the company's server infra...</td>\n",
              "      <td>Install, configure, and maintain server hardwa...</td>\n",
              "      <td>Bachelor’s degree in Information Technology, C...</td>\n",
              "    </tr>\n",
              "    <tr>\n",
              "      <th>6</th>\n",
              "      <td>7</td>\n",
              "      <td>Business Analyst</td>\n",
              "      <td>Analyze business processes and data to provide...</td>\n",
              "      <td>Gather and document business requirements from...</td>\n",
              "      <td>Bachelor’s degree in Business, Economics, or r...</td>\n",
              "    </tr>\n",
              "    <tr>\n",
              "      <th>7</th>\n",
              "      <td>8</td>\n",
              "      <td>Cybersecurity Specialist</td>\n",
              "      <td>Ensure the company’s digital assets and networ...</td>\n",
              "      <td>Implement security measures and protocols.\\nMo...</td>\n",
              "      <td>Bachelor’s degree in Cybersecurity, Informatio...</td>\n",
              "    </tr>\n",
              "    <tr>\n",
              "      <th>8</th>\n",
              "      <td>9</td>\n",
              "      <td>Data Scientist</td>\n",
              "      <td>Use advanced data analytics and machine learni...</td>\n",
              "      <td>Collect, process, and analyze large datasets.\\...</td>\n",
              "      <td>Bachelor’s or Master’s degree in Data Science,...</td>\n",
              "    </tr>\n",
              "    <tr>\n",
              "      <th>9</th>\n",
              "      <td>10</td>\n",
              "      <td>Sales Manager</td>\n",
              "      <td>Lead the sales team and drive revenue growth b...</td>\n",
              "      <td>Develop and implement sales strategies.\\nLead ...</td>\n",
              "      <td>Bachelor’s degree in Business, Marketing, or r...</td>\n",
              "    </tr>\n",
              "  </tbody>\n",
              "</table>\n",
              "</div>\n",
              "    <div class=\"colab-df-buttons\">\n",
              "\n",
              "  <div class=\"colab-df-container\">\n",
              "    <button class=\"colab-df-convert\" onclick=\"convertToInteractive('df-2aab13e3-3036-44cb-b895-c832b6a5c798')\"\n",
              "            title=\"Convert this dataframe to an interactive table.\"\n",
              "            style=\"display:none;\">\n",
              "\n",
              "  <svg xmlns=\"http://www.w3.org/2000/svg\" height=\"24px\" viewBox=\"0 -960 960 960\">\n",
              "    <path d=\"M120-120v-720h720v720H120Zm60-500h600v-160H180v160Zm220 220h160v-160H400v160Zm0 220h160v-160H400v160ZM180-400h160v-160H180v160Zm440 0h160v-160H620v160ZM180-180h160v-160H180v160Zm440 0h160v-160H620v160Z\"/>\n",
              "  </svg>\n",
              "    </button>\n",
              "\n",
              "  <style>\n",
              "    .colab-df-container {\n",
              "      display:flex;\n",
              "      gap: 12px;\n",
              "    }\n",
              "\n",
              "    .colab-df-convert {\n",
              "      background-color: #E8F0FE;\n",
              "      border: none;\n",
              "      border-radius: 50%;\n",
              "      cursor: pointer;\n",
              "      display: none;\n",
              "      fill: #1967D2;\n",
              "      height: 32px;\n",
              "      padding: 0 0 0 0;\n",
              "      width: 32px;\n",
              "    }\n",
              "\n",
              "    .colab-df-convert:hover {\n",
              "      background-color: #E2EBFA;\n",
              "      box-shadow: 0px 1px 2px rgba(60, 64, 67, 0.3), 0px 1px 3px 1px rgba(60, 64, 67, 0.15);\n",
              "      fill: #174EA6;\n",
              "    }\n",
              "\n",
              "    .colab-df-buttons div {\n",
              "      margin-bottom: 4px;\n",
              "    }\n",
              "\n",
              "    [theme=dark] .colab-df-convert {\n",
              "      background-color: #3B4455;\n",
              "      fill: #D2E3FC;\n",
              "    }\n",
              "\n",
              "    [theme=dark] .colab-df-convert:hover {\n",
              "      background-color: #434B5C;\n",
              "      box-shadow: 0px 1px 3px 1px rgba(0, 0, 0, 0.15);\n",
              "      filter: drop-shadow(0px 1px 2px rgba(0, 0, 0, 0.3));\n",
              "      fill: #FFFFFF;\n",
              "    }\n",
              "  </style>\n",
              "\n",
              "    <script>\n",
              "      const buttonEl =\n",
              "        document.querySelector('#df-2aab13e3-3036-44cb-b895-c832b6a5c798 button.colab-df-convert');\n",
              "      buttonEl.style.display =\n",
              "        google.colab.kernel.accessAllowed ? 'block' : 'none';\n",
              "\n",
              "      async function convertToInteractive(key) {\n",
              "        const element = document.querySelector('#df-2aab13e3-3036-44cb-b895-c832b6a5c798');\n",
              "        const dataTable =\n",
              "          await google.colab.kernel.invokeFunction('convertToInteractive',\n",
              "                                                    [key], {});\n",
              "        if (!dataTable) return;\n",
              "\n",
              "        const docLinkHtml = 'Like what you see? Visit the ' +\n",
              "          '<a target=\"_blank\" href=https://colab.research.google.com/notebooks/data_table.ipynb>data table notebook</a>'\n",
              "          + ' to learn more about interactive tables.';\n",
              "        element.innerHTML = '';\n",
              "        dataTable['output_type'] = 'display_data';\n",
              "        await google.colab.output.renderOutput(dataTable, element);\n",
              "        const docLink = document.createElement('div');\n",
              "        docLink.innerHTML = docLinkHtml;\n",
              "        element.appendChild(docLink);\n",
              "      }\n",
              "    </script>\n",
              "  </div>\n",
              "\n",
              "\n",
              "<div id=\"df-c69ba91d-f814-4fb5-a218-4f816e1310e8\">\n",
              "  <button class=\"colab-df-quickchart\" onclick=\"quickchart('df-c69ba91d-f814-4fb5-a218-4f816e1310e8')\"\n",
              "            title=\"Suggest charts\"\n",
              "            style=\"display:none;\">\n",
              "\n",
              "<svg xmlns=\"http://www.w3.org/2000/svg\" height=\"24px\"viewBox=\"0 0 24 24\"\n",
              "     width=\"24px\">\n",
              "    <g>\n",
              "        <path d=\"M19 3H5c-1.1 0-2 .9-2 2v14c0 1.1.9 2 2 2h14c1.1 0 2-.9 2-2V5c0-1.1-.9-2-2-2zM9 17H7v-7h2v7zm4 0h-2V7h2v10zm4 0h-2v-4h2v4z\"/>\n",
              "    </g>\n",
              "</svg>\n",
              "  </button>\n",
              "\n",
              "<style>\n",
              "  .colab-df-quickchart {\n",
              "      --bg-color: #E8F0FE;\n",
              "      --fill-color: #1967D2;\n",
              "      --hover-bg-color: #E2EBFA;\n",
              "      --hover-fill-color: #174EA6;\n",
              "      --disabled-fill-color: #AAA;\n",
              "      --disabled-bg-color: #DDD;\n",
              "  }\n",
              "\n",
              "  [theme=dark] .colab-df-quickchart {\n",
              "      --bg-color: #3B4455;\n",
              "      --fill-color: #D2E3FC;\n",
              "      --hover-bg-color: #434B5C;\n",
              "      --hover-fill-color: #FFFFFF;\n",
              "      --disabled-bg-color: #3B4455;\n",
              "      --disabled-fill-color: #666;\n",
              "  }\n",
              "\n",
              "  .colab-df-quickchart {\n",
              "    background-color: var(--bg-color);\n",
              "    border: none;\n",
              "    border-radius: 50%;\n",
              "    cursor: pointer;\n",
              "    display: none;\n",
              "    fill: var(--fill-color);\n",
              "    height: 32px;\n",
              "    padding: 0;\n",
              "    width: 32px;\n",
              "  }\n",
              "\n",
              "  .colab-df-quickchart:hover {\n",
              "    background-color: var(--hover-bg-color);\n",
              "    box-shadow: 0 1px 2px rgba(60, 64, 67, 0.3), 0 1px 3px 1px rgba(60, 64, 67, 0.15);\n",
              "    fill: var(--button-hover-fill-color);\n",
              "  }\n",
              "\n",
              "  .colab-df-quickchart-complete:disabled,\n",
              "  .colab-df-quickchart-complete:disabled:hover {\n",
              "    background-color: var(--disabled-bg-color);\n",
              "    fill: var(--disabled-fill-color);\n",
              "    box-shadow: none;\n",
              "  }\n",
              "\n",
              "  .colab-df-spinner {\n",
              "    border: 2px solid var(--fill-color);\n",
              "    border-color: transparent;\n",
              "    border-bottom-color: var(--fill-color);\n",
              "    animation:\n",
              "      spin 1s steps(1) infinite;\n",
              "  }\n",
              "\n",
              "  @keyframes spin {\n",
              "    0% {\n",
              "      border-color: transparent;\n",
              "      border-bottom-color: var(--fill-color);\n",
              "      border-left-color: var(--fill-color);\n",
              "    }\n",
              "    20% {\n",
              "      border-color: transparent;\n",
              "      border-left-color: var(--fill-color);\n",
              "      border-top-color: var(--fill-color);\n",
              "    }\n",
              "    30% {\n",
              "      border-color: transparent;\n",
              "      border-left-color: var(--fill-color);\n",
              "      border-top-color: var(--fill-color);\n",
              "      border-right-color: var(--fill-color);\n",
              "    }\n",
              "    40% {\n",
              "      border-color: transparent;\n",
              "      border-right-color: var(--fill-color);\n",
              "      border-top-color: var(--fill-color);\n",
              "    }\n",
              "    60% {\n",
              "      border-color: transparent;\n",
              "      border-right-color: var(--fill-color);\n",
              "    }\n",
              "    80% {\n",
              "      border-color: transparent;\n",
              "      border-right-color: var(--fill-color);\n",
              "      border-bottom-color: var(--fill-color);\n",
              "    }\n",
              "    90% {\n",
              "      border-color: transparent;\n",
              "      border-bottom-color: var(--fill-color);\n",
              "    }\n",
              "  }\n",
              "</style>\n",
              "\n",
              "  <script>\n",
              "    async function quickchart(key) {\n",
              "      const quickchartButtonEl =\n",
              "        document.querySelector('#' + key + ' button');\n",
              "      quickchartButtonEl.disabled = true;  // To prevent multiple clicks.\n",
              "      quickchartButtonEl.classList.add('colab-df-spinner');\n",
              "      try {\n",
              "        const charts = await google.colab.kernel.invokeFunction(\n",
              "            'suggestCharts', [key], {});\n",
              "      } catch (error) {\n",
              "        console.error('Error during call to suggestCharts:', error);\n",
              "      }\n",
              "      quickchartButtonEl.classList.remove('colab-df-spinner');\n",
              "      quickchartButtonEl.classList.add('colab-df-quickchart-complete');\n",
              "    }\n",
              "    (() => {\n",
              "      let quickchartButtonEl =\n",
              "        document.querySelector('#df-c69ba91d-f814-4fb5-a218-4f816e1310e8 button');\n",
              "      quickchartButtonEl.style.display =\n",
              "        google.colab.kernel.accessAllowed ? 'block' : 'none';\n",
              "    })();\n",
              "  </script>\n",
              "</div>\n",
              "\n",
              "  <div id=\"id_b729fa46-ac1c-40c8-bab1-d0ebf3c8e919\">\n",
              "    <style>\n",
              "      .colab-df-generate {\n",
              "        background-color: #E8F0FE;\n",
              "        border: none;\n",
              "        border-radius: 50%;\n",
              "        cursor: pointer;\n",
              "        display: none;\n",
              "        fill: #1967D2;\n",
              "        height: 32px;\n",
              "        padding: 0 0 0 0;\n",
              "        width: 32px;\n",
              "      }\n",
              "\n",
              "      .colab-df-generate:hover {\n",
              "        background-color: #E2EBFA;\n",
              "        box-shadow: 0px 1px 2px rgba(60, 64, 67, 0.3), 0px 1px 3px 1px rgba(60, 64, 67, 0.15);\n",
              "        fill: #174EA6;\n",
              "      }\n",
              "\n",
              "      [theme=dark] .colab-df-generate {\n",
              "        background-color: #3B4455;\n",
              "        fill: #D2E3FC;\n",
              "      }\n",
              "\n",
              "      [theme=dark] .colab-df-generate:hover {\n",
              "        background-color: #434B5C;\n",
              "        box-shadow: 0px 1px 3px 1px rgba(0, 0, 0, 0.15);\n",
              "        filter: drop-shadow(0px 1px 2px rgba(0, 0, 0, 0.3));\n",
              "        fill: #FFFFFF;\n",
              "      }\n",
              "    </style>\n",
              "    <button class=\"colab-df-generate\" onclick=\"generateWithVariable('df')\"\n",
              "            title=\"Generate code using this dataframe.\"\n",
              "            style=\"display:none;\">\n",
              "\n",
              "  <svg xmlns=\"http://www.w3.org/2000/svg\" height=\"24px\"viewBox=\"0 0 24 24\"\n",
              "       width=\"24px\">\n",
              "    <path d=\"M7,19H8.4L18.45,9,17,7.55,7,17.6ZM5,21V16.75L18.45,3.32a2,2,0,0,1,2.83,0l1.4,1.43a1.91,1.91,0,0,1,.58,1.4,1.91,1.91,0,0,1-.58,1.4L9.25,21ZM18.45,9,17,7.55Zm-12,3A5.31,5.31,0,0,0,4.9,8.1,5.31,5.31,0,0,0,1,6.5,5.31,5.31,0,0,0,4.9,4.9,5.31,5.31,0,0,0,6.5,1,5.31,5.31,0,0,0,8.1,4.9,5.31,5.31,0,0,0,12,6.5,5.46,5.46,0,0,0,6.5,12Z\"/>\n",
              "  </svg>\n",
              "    </button>\n",
              "    <script>\n",
              "      (() => {\n",
              "      const buttonEl =\n",
              "        document.querySelector('#id_b729fa46-ac1c-40c8-bab1-d0ebf3c8e919 button.colab-df-generate');\n",
              "      buttonEl.style.display =\n",
              "        google.colab.kernel.accessAllowed ? 'block' : 'none';\n",
              "\n",
              "      buttonEl.onclick = () => {\n",
              "        google.colab.notebook.generateWithVariable('df');\n",
              "      }\n",
              "      })();\n",
              "    </script>\n",
              "  </div>\n",
              "\n",
              "    </div>\n",
              "  </div>\n"
            ],
            "application/vnd.google.colaboratory.intrinsic+json": {
              "type": "dataframe",
              "variable_name": "df",
              "summary": "{\n  \"name\": \"df\",\n  \"rows\": 10,\n  \"fields\": [\n    {\n      \"column\": \"No\",\n      \"properties\": {\n        \"dtype\": \"number\",\n        \"std\": 3,\n        \"min\": 1,\n        \"max\": 10,\n        \"num_unique_values\": 10,\n        \"samples\": [\n          9,\n          2,\n          6\n        ],\n        \"semantic_type\": \"\",\n        \"description\": \"\"\n      }\n    },\n    {\n      \"column\": \"Position\",\n      \"properties\": {\n        \"dtype\": \"string\",\n        \"num_unique_values\": 10,\n        \"samples\": [\n          \"Data Scientist\",\n          \"Software Developer\",\n          \"System Administrator\"\n        ],\n        \"semantic_type\": \"\",\n        \"description\": \"\"\n      }\n    },\n    {\n      \"column\": \"Description\",\n      \"properties\": {\n        \"dtype\": \"string\",\n        \"num_unique_values\": 10,\n        \"samples\": [\n          \"Use advanced data analytics and machine learning techniques to extract insights and support strategic decision-making.\",\n          \"Develop and maintain web-based applications and services to support the company\\u2019s internal and external needs.\",\n          \"Manage and maintain the company's server infrastructure, ensuring high availability and security.\"\n        ],\n        \"semantic_type\": \"\",\n        \"description\": \"\"\n      }\n    },\n    {\n      \"column\": \"Responsibilities\",\n      \"properties\": {\n        \"dtype\": \"string\",\n        \"num_unique_values\": 10,\n        \"samples\": [\n          \"Collect, process, and analyze large datasets.\\nDevelop machine learning models and algorithms.\\nCommunicate findings and insights to stakeholders.\\nCollaborate with other departments to implement data-driven solutions.\\nStay updated with the latest trends in data science and machine learning.\",\n          \"Write clean, scalable code for web applications.\\nCollaborate with product managers and designers to understand user requirements.\\nDebug and troubleshoot software issues.\\nDevelop APIs and integrate third-party services.\\nMaintain documentation and support continuous integration/deployment.\",\n          \"Install, configure, and maintain server hardware and software.\\nMonitor system performance and ensure system reliability.\\nTroubleshoot and resolve system issues.\\nImplement security protocols and maintain system backups.\\nSupport network infrastructure as required.\"\n        ],\n        \"semantic_type\": \"\",\n        \"description\": \"\"\n      }\n    },\n    {\n      \"column\": \"Qualification\",\n      \"properties\": {\n        \"dtype\": \"string\",\n        \"num_unique_values\": 10,\n        \"samples\": [\n          \"Bachelor\\u2019s or Master\\u2019s degree in Data Science, Statistics, Computer Science, or related field.\\nStrong proficiency in Python, R, or similar languages.\\nExperience with data visualization tools (Tableau, Power BI).\\nSolid understanding of machine learning techniques.\\n2-5 years of experience in data science or analytics roles.\",\n          \"Bachelor\\u2019s degree in Computer Science, Software Engineering, or related field.\\nProficient in programming languages such as Java, Python, or JavaScript.\\nExperience with frameworks such as React, Node.js, or Django.\\nStrong understanding of databases (SQL, NoSQL).\\nAbility to work in an agile development environment.\",\n          \"Bachelor\\u2019s degree in Information Technology, Computer Engineering, or related field.\\n3+ years of experience as a system administrator.\\nExperience with Windows Server, Linux, and cloud environments.\\nStrong understanding of security best practices.\\nRelevant certifications (MCSA, RHCE) are a plus.\"\n        ],\n        \"semantic_type\": \"\",\n        \"description\": \"\"\n      }\n    }\n  ]\n}"
            }
          },
          "metadata": {},
          "execution_count": 6
        }
      ]
    },
    {
      "cell_type": "code",
      "source": [
        "df.columns"
      ],
      "metadata": {
        "colab": {
          "base_uri": "https://localhost:8080/"
        },
        "id": "MzrXRMV1wWZN",
        "outputId": "8ba1f037-0e7e-450d-89c4-a315f7554e45"
      },
      "execution_count": 9,
      "outputs": [
        {
          "output_type": "execute_result",
          "data": {
            "text/plain": [
              "Index(['No', 'Position', 'Description', 'Responsibilities', 'Qualification'], dtype='object')"
            ]
          },
          "metadata": {},
          "execution_count": 9
        }
      ]
    },
    {
      "cell_type": "code",
      "source": [
        "mappings = {\n",
        "    \"mappings\": {\n",
        "        \"properties\": {\n",
        "            \"No\": {\"type\": \"integer\"},\n",
        "            \"Position\": {\"type\": \"text\"},\n",
        "            \"Description\": {\"type\": \"text\"},\n",
        "            \"Responsibilities\": {\"type\": \"text\"},\n",
        "            \"Qualification\": {\"type\": \"text\"},\n",
        "            \"embedding\": {\"type\": \"dense_vector\",\"dims\": 384}\n",
        "            }\n",
        "        }\n",
        "    }"
      ],
      "metadata": {
        "id": "89gixfOIWgLZ"
      },
      "execution_count": 10,
      "outputs": []
    },
    {
      "cell_type": "code",
      "source": [
        "# Elasticsearch credentials\n",
        "user = \"natthaphol.po\"\n",
        "passwords = \"cnEM5CeFrG\"\n",
        "\n",
        "# Elasticsearch setup with basic authentication and HTTPS\n",
        "es = Elasticsearch(\n",
        "    hosts=[{'host': 'elk.manageai.co.th', 'port': 443, 'scheme': 'https'}],\n",
        "    basic_auth=(\"natthaphol.po\", \"cnEM5CeFrG\")  # Ensure the credentials are correct\n",
        ")\n",
        "\n",
        "# Load model from HuggingFace Hub\n",
        "tokenizer = AutoTokenizer.from_pretrained('sentence-transformers/all-MiniLM-L6-v2')\n",
        "model = AutoModel.from_pretrained('sentence-transformers/all-MiniLM-L6-v2')\n"
      ],
      "metadata": {
        "colab": {
          "base_uri": "https://localhost:8080/"
        },
        "collapsed": true,
        "id": "GOrelis5WGxf",
        "outputId": "f9a64097-1ab0-4c39-fba6-8886a9f65b04"
      },
      "execution_count": 16,
      "outputs": [
        {
          "output_type": "stream",
          "name": "stderr",
          "text": [
            "/usr/local/lib/python3.10/dist-packages/transformers/tokenization_utils_base.py:1601: FutureWarning: `clean_up_tokenization_spaces` was not set. It will be set to `True` by default. This behavior will be depracted in transformers v4.45, and will be then set to `False` by default. For more details check this issue: https://github.com/huggingface/transformers/issues/31884\n",
            "  warnings.warn(\n"
          ]
        }
      ]
    },
    {
      "cell_type": "code",
      "source": [
        "def test_elasticsearch_connection():\n",
        "    try:\n",
        "        es.ping()\n",
        "        print(\"Connection successful!\")\n",
        "    except Exception as e:\n",
        "        print(f\"Error: {e}\")\n",
        "\n",
        "test_elasticsearch_connection()\n"
      ],
      "metadata": {
        "colab": {
          "base_uri": "https://localhost:8080/"
        },
        "id": "0MlN2wYSznKF",
        "outputId": "aec42af0-af10-424b-bb38-b4bdf74d2c84"
      },
      "execution_count": 19,
      "outputs": [
        {
          "output_type": "stream",
          "name": "stdout",
          "text": [
            "Connection successful!\n"
          ]
        }
      ]
    },
    {
      "cell_type": "code",
      "source": [
        "# Mean Pooling - Take attention mask into account for correct averaging\n",
        "def mean_pooling(model_output, attention_mask):\n",
        "    token_embeddings = model_output[0]  # First element of model_output contains all token embeddings\n",
        "    input_mask_expanded = attention_mask.unsqueeze(-1).expand(token_embeddings.size()).float()\n",
        "    return torch.sum(token_embeddings * input_mask_expanded, 1) / torch.clamp(input_mask_expanded.sum(1), min=1e-9)\n",
        "\n",
        "# Function to encode text to embeddings\n",
        "def rag_encode(text):\n",
        "    encoded_input = tokenizer(text, padding=True, truncation=True, return_tensors='pt')\n",
        "    # Compute token embeddings\n",
        "    with torch.no_grad():\n",
        "        model_output = model(**encoded_input)\n",
        "    # Perform pooling\n",
        "    sentence_embeddings = mean_pooling(model_output, encoded_input['attention_mask'])\n",
        "    # Normalize embeddings\n",
        "    sentence_embeddings = F.normalize(sentence_embeddings, p=2, dim=1)\n",
        "    # Convert tensor to flat list\n",
        "    return sentence_embeddings.squeeze().tolist()  # Flatten to 1D list"
      ],
      "metadata": {
        "id": "hnYDG02RVk0K"
      },
      "execution_count": 11,
      "outputs": []
    },
    {
      "cell_type": "markdown",
      "source": [
        "## embed to es"
      ],
      "metadata": {
        "id": "W0-CYNA-WjTl"
      }
    },
    {
      "cell_type": "code",
      "source": [
        "# Create index with correct mapping\n",
        "def create_index_if_not_exists(index_name):\n",
        "    if not es.indices.exists(index=index_name):  # Only create if the index doesn't exist\n",
        "        es.indices.create(index=index_name, body=mappings)\n",
        "\n",
        "def index_row_by_row(df, index_name):\n",
        "    create_index_if_not_exists(index_name)\n",
        "\n",
        "    # Index each row individually\n",
        "    for _, row in df.iterrows():\n",
        "        try:\n",
        "            # Prepare document for indexing\n",
        "            document = {\n",
        "                \"No\": row['No'],\n",
        "                \"Position\": row['Position'],\n",
        "                \"Description\": row['Description'],\n",
        "                \"Responsibilities\": row['Responsibilities'],\n",
        "                \"Qualification\": row['Qualification'],\n",
        "                \"embedding\": rag_encode(f\"{row['Position']} {row['Description']} {row['Responsibilities']} {row['Qualification']}\")\n",
        "            }\n",
        "\n",
        "            # Index the document\n",
        "            es.index(index=index_name, body=document)\n",
        "        except Exception as e:\n",
        "            print(f\"Error indexing row: {row} - {str(e)}\")\n",
        "\n",
        "# Process and index the DataFrame row by row\n",
        "index_row_by_row(df, 'internal-manageai-jobdb-index')"
      ],
      "metadata": {
        "id": "pOhNRu3FWnm8"
      },
      "execution_count": 23,
      "outputs": []
    },
    {
      "cell_type": "markdown",
      "source": [
        "## Search"
      ],
      "metadata": {
        "id": "CN2f0vRuyd9A"
      }
    },
    {
      "cell_type": "code",
      "source": [
        "# Query Elasticsearch index\n",
        "def query_elasticsearch(index_name, query_body):\n",
        "    try:\n",
        "        response = es.search(index=index_name, body=query_body)\n",
        "        return response['hits']['hits']\n",
        "    except Exception as e:\n",
        "        print(f\"Error querying index: {str(e)}\")\n",
        "        return []\n",
        "\n",
        "# Example query to search documents by Position (job role)\n",
        "def search_by_position(position, index_name):\n",
        "    query_body = {\n",
        "        \"query\": {\n",
        "            \"match\": {\n",
        "                \"Position\": position\n",
        "            }\n",
        "        }\n",
        "    }\n",
        "\n",
        "    results = query_elasticsearch(index_name, query_body)\n",
        "    for result in results:\n",
        "        print(f\"Found document: {result['_source']}\")\n"
      ],
      "metadata": {
        "id": "38TaNI6Ox2Mj"
      },
      "execution_count": 24,
      "outputs": []
    },
    {
      "cell_type": "code",
      "source": [
        "search_by_position(\"Software Developer\", 'internal-manageai-jobdb-index')"
      ],
      "metadata": {
        "colab": {
          "base_uri": "https://localhost:8080/"
        },
        "id": "6SBA0wdoyG-Z",
        "outputId": "2e8a3ada-69a4-4b24-e5c7-93c6f541e905"
      },
      "execution_count": 25,
      "outputs": [
        {
          "output_type": "stream",
          "name": "stdout",
          "text": [
            "Found document: {'No': 2, 'Position': 'Software Developer', 'Description': 'Develop and maintain web-based applications and services to support the company’s internal and external needs.', 'Responsibilities': 'Write clean, scalable code for web applications.\\nCollaborate with product managers and designers to understand user requirements.\\nDebug and troubleshoot software issues.\\nDevelop APIs and integrate third-party services.\\nMaintain documentation and support continuous integration/deployment.', 'Qualification': 'Bachelor’s degree in Computer Science, Software Engineering, or related field.\\nProficient in programming languages such as Java, Python, or JavaScript.\\nExperience with frameworks such as React, Node.js, or Django.\\nStrong understanding of databases (SQL, NoSQL).\\nAbility to work in an agile development environment.', 'embedding': [-0.020841365680098534, -0.006470450200140476, 0.015252257697284222, 0.04488835483789444, -0.022452576085925102, -0.08007542043924332, 0.012467552907764912, 0.028138907626271248, -0.11809690296649933, -0.018004270270466805, -0.05992410331964493, -0.0649164617061615, 0.022093823179602623, 0.003906818572431803, 0.039782796055078506, 0.06601861119270325, -0.03487272933125496, 0.0004066083929501474, 0.042810335755348206, -0.10854285955429077, -0.08045632392168045, 0.03769802674651146, 0.022235115990042686, -0.03889734670519829, -0.0048756045289337635, 0.039632510393857956, 0.018834516406059265, -0.023994849994778633, -0.023152565583586693, -0.049398135393857956, 0.0067866044119000435, -0.010260315611958504, 0.02054266259074211, 0.05424000695347786, 0.010894116945564747, 0.06242992356419563, 0.036994967609643936, -0.10183829814195633, 0.01503362599760294, 0.008367168717086315, -0.06411053985357285, -0.011399057693779469, -0.01831750012934208, -0.08013986796140671, -0.04263495281338692, -0.08556729555130005, -0.012024018913507462, -0.020658669993281364, 0.00990886427462101, -0.005768172442913055, -0.0038843557704240084, -0.057805970311164856, -0.001722462591715157, -0.0338384211063385, -0.023969262838363647, 0.06286541372537613, 0.056583646684885025, 0.018583158031105995, -0.00221252697519958, -0.036862462759017944, 0.03341648727655411, 0.03350113704800606, 0.07111653685569763, 0.052014485001564026, 0.02464812621474266, -0.039816807955503464, -0.054106153547763824, 0.07652966678142548, 0.037075553089380264, -0.04036915302276611, -0.019545624032616615, 0.003591634100303054, -0.08580408245325089, 0.043473172932863235, 0.03618144243955612, -0.07783574610948563, 0.06862892210483551, 0.0040969811379909515, 0.05834018439054489, 0.06298685073852539, 0.016130171716213226, 0.028500284999608994, -0.08444652706384659, 0.10160580277442932, -0.05294392630457878, -0.056447047740221024, 0.06497333198785782, 0.07860784232616425, 0.02992391400039196, 0.03627067059278488, 0.029869433492422104, -0.08791802823543549, -0.00272377859801054, 0.01650310680270195, -0.05993765965104103, 0.0026306824292987585, 0.06650537252426147, -0.04697316884994507, -0.05770450830459595, 0.01479047816246748, -0.008604793809354305, -0.044161658734083176, 0.016826219856739044, 0.026662258431315422, -0.05537719279527664, 0.10008890181779861, 0.019920149818062782, 0.09032069146633148, -0.0040376754477620125, 0.02911306731402874, -0.04171121492981911, 0.025000283494591713, -0.06361716985702515, 0.010281750932335854, 0.039953358471393585, 0.0516163632273674, -0.054768942296504974, 0.059301041066646576, 0.01912916637957096, 0.07901305705308914, 0.05374592915177345, 0.14989307522773743, -0.04760820418596268, -0.08410891890525818, 0.0502774603664875, 0.006658700294792652, 0.0017615902470424771, 2.187306072409364e-33, 0.03475199267268181, 0.03846169635653496, -0.043767835944890976, 0.040716227144002914, 0.07494379580020905, 0.015722226351499557, 0.0450996570289135, 0.07545610517263412, -0.039887718856334686, -0.002396347001194954, 0.029225829988718033, 0.06789682060480118, -0.03769012540578842, 0.02314312942326069, 0.01730862632393837, 0.0007220234256237745, -0.06636559218168259, 0.02189692109823227, 0.02774553745985031, 0.015674015507102013, -0.03340572863817215, -0.05612689629197121, -0.06204275041818619, 0.08327782154083252, 0.03541785106062889, 0.03461026772856712, 0.05006086081266403, 0.0816463828086853, 0.06446325778961182, -0.0006854830426163971, -0.011735321022570133, -0.03562982380390167, -0.11670209467411041, -0.009159117937088013, 0.02508304826915264, 0.021578900516033173, -0.03319717198610306, -0.06834977120161057, 0.027629680931568146, 0.05847899243235588, -0.07851307094097137, 0.04295968636870384, -0.008517344482243061, -0.054253824055194855, 0.004988056141883135, -0.013270690105855465, 0.08345558494329453, 0.016875075176358223, 0.01886158250272274, 0.02726466953754425, -0.06577417999505997, -0.06534600257873535, 0.07008948922157288, 0.06092775985598564, -0.004928723443299532, 0.03665107861161232, 0.09728068113327026, -0.09588531404733658, -0.042448174208402634, 0.020384561270475388, -0.028903836384415627, -0.06593692302703857, -0.030981481075286865, -0.06998438388109207, -0.031876981258392334, -0.022784169763326645, 0.052318278700113297, 0.031449269503355026, 0.16297970712184906, -0.006684927735477686, -0.07047981768846512, -0.015946414321660995, 0.11237362772226334, 0.030421730130910873, -0.1219564899802208, -0.025305945426225662, -0.027239281684160233, -0.07874861359596252, 0.08258645236492157, 0.06974080204963684, 0.006863442249596119, 0.06307404488325119, 0.03830176964402199, -0.03478407487273216, 0.09667214751243591, 0.04288313165307045, -0.0521438829600811, -0.019060848280787468, -0.018798481673002243, 0.04368840530514717, 0.014369577169418335, -0.0386737622320652, 0.012840638868510723, -0.0021922446321696043, 0.0008259021560661495, -4.503379469427648e-33, -0.05520832538604736, 0.0015590506372973323, -0.06490636616945267, 0.05054955929517746, 0.03279319405555725, -0.014844991266727448, 0.005093733314424753, 0.0678655207157135, -0.038718331605196, -0.012742673046886921, -0.023556452244520187, 0.02569708228111267, -0.05757070705294609, 0.05439407750964165, -0.06929277628660202, -0.012184705585241318, -0.01227363757789135, -0.04629773646593094, -0.03095315769314766, -0.001807432621717453, -0.009588977321982384, 0.009295664727687836, -0.019961217418313026, 0.002620290732011199, 0.029443271458148956, -0.022532116621732712, -0.06051914021372795, -0.06851137429475784, 0.012186160311102867, 0.01396050862967968, 0.07906745374202728, 0.03462829440832138, -0.06150436773896217, -0.06626248359680176, 0.02399940975010395, -0.07971261441707611, -0.042406223714351654, -0.027580780908465385, 0.033983226865530014, 0.0624818317592144, 0.074400894343853, -0.03813398629426956, 0.014277718029916286, -0.05402408540248871, -0.0552331916987896, 0.05977553129196167, 0.03509251028299332, 0.037523746490478516, 0.02485400252044201, -0.11927825212478638, 0.032716039568185806, -0.024558406323194504, 0.01623079553246498, -0.017981361597776413, 0.001307798782363534, -0.05143764987587929, 0.024637360125780106, -0.0820012241601944, -0.0044115264900028706, -0.02896038070321083, 0.005875601898878813, 0.027143852785229683, 0.12340886890888214, 0.0710296630859375, -0.05675851181149483, -0.03286523371934891, -0.05352337658405304, 0.07129506766796112, -0.1314682513475418, -0.06388939917087555, 0.020219696685671806, -0.012849544174969196, 0.023629430681467056, -0.007587237749248743, -0.07941234111785889, -0.0701875388622284, -0.10399729013442993, -0.06316282600164413, -0.0009642312070354819, -0.020187553018331528, -0.04693342000246048, -0.029013995081186295, 0.0013823590707033873, 0.0236839447170496, -0.07200978696346283, 0.03426137939095497, -0.0453648678958416, -0.07065685093402863, 0.03800750896334648, -0.11400279402732849, -0.14612306654453278, 0.09086153656244278, -0.10305031388998032, 0.0027921719010919333, -0.014990082010626793, -4.760403982118078e-08, -0.037314217537641525, -0.0037417863495647907, -0.08608316630125046, -0.026060914620757103, -0.009153316728770733, 0.09301642328500748, -0.06634466350078583, 0.01609451323747635, 0.08795154094696045, 0.019083170220255852, -0.0040269712917506695, -0.008897651918232441, -0.05146006867289543, 0.044798534363508224, 0.08726492524147034, 0.018502339720726013, 0.005255098920315504, 0.08380930870771408, 0.0030659802723675966, -0.048067688941955566, 0.061421871185302734, 0.01813877932727337, -0.0705714002251625, 0.04011701047420502, -0.006209217943251133, -0.014315590262413025, 0.01435790304094553, 0.05633110925555229, 0.01594356819987297, 0.04116760566830635, -0.03566734492778778, -0.01968955062329769, -0.0034573902375996113, -0.02255682274699211, 0.050942327827215195, 0.005301567260175943, 0.08447220921516418, -0.07046213001012802, -0.00198160856962204, 0.004941091872751713, -0.052933063358068466, 0.08347008377313614, 0.02126844972372055, -0.0004570156161207706, -0.0579761378467083, -0.001910687773488462, 0.012456891126930714, 0.059611257165670395, -0.0015402946155518293, -0.021683724597096443, 0.009823757223784924, -0.059334028512239456, -0.04279598966240883, -0.008015058934688568, 0.05006750673055649, 0.05490414425730705, 0.0069045089185237885, -0.043885741382837296, -0.03437691554427147, 0.07254812121391296, 0.010751637630164623, -0.04097535461187363, 0.029831523075699806, 0.05515070632100105]}\n"
          ]
        }
      ]
    },
    {
      "cell_type": "code",
      "source": [
        "# Example query to search jobs by Position, Description, and Responsibilities\n",
        "def search_job(position, description, responsibilities, index_name):\n",
        "    query_body = {\n",
        "        \"query\": {\n",
        "            \"bool\": {\n",
        "                \"must\": [\n",
        "                    {\"match\": {\"Position\": position}},\n",
        "                    {\"match\": {\"Description\": description}},\n",
        "                    {\"match\": {\"Responsibilities\": responsibilities}}\n",
        "                ]\n",
        "            }\n",
        "        }\n",
        "    }\n",
        "\n",
        "    results = query_elasticsearch(index_name, query_body)\n",
        "    for result in results:\n",
        "        print(f\"Found document: {result['_source']}\")\n"
      ],
      "metadata": {
        "id": "ba6XyvkEycth"
      },
      "execution_count": 27,
      "outputs": []
    },
    {
      "cell_type": "code",
      "source": [
        "search_job(\"Software Developer\", \"web-based applications\", \"scalable code\", 'internal-manageai-jobdb-index')"
      ],
      "metadata": {
        "colab": {
          "base_uri": "https://localhost:8080/"
        },
        "id": "dk-_4T2VygLn",
        "outputId": "91c7beab-78a8-4242-b08e-781ba47f9c2f"
      },
      "execution_count": 28,
      "outputs": [
        {
          "output_type": "stream",
          "name": "stdout",
          "text": [
            "Found document: {'No': 2, 'Position': 'Software Developer', 'Description': 'Develop and maintain web-based applications and services to support the company’s internal and external needs.', 'Responsibilities': 'Write clean, scalable code for web applications.\\nCollaborate with product managers and designers to understand user requirements.\\nDebug and troubleshoot software issues.\\nDevelop APIs and integrate third-party services.\\nMaintain documentation and support continuous integration/deployment.', 'Qualification': 'Bachelor’s degree in Computer Science, Software Engineering, or related field.\\nProficient in programming languages such as Java, Python, or JavaScript.\\nExperience with frameworks such as React, Node.js, or Django.\\nStrong understanding of databases (SQL, NoSQL).\\nAbility to work in an agile development environment.', 'embedding': [-0.020841365680098534, -0.006470450200140476, 0.015252257697284222, 0.04488835483789444, -0.022452576085925102, -0.08007542043924332, 0.012467552907764912, 0.028138907626271248, -0.11809690296649933, -0.018004270270466805, -0.05992410331964493, -0.0649164617061615, 0.022093823179602623, 0.003906818572431803, 0.039782796055078506, 0.06601861119270325, -0.03487272933125496, 0.0004066083929501474, 0.042810335755348206, -0.10854285955429077, -0.08045632392168045, 0.03769802674651146, 0.022235115990042686, -0.03889734670519829, -0.0048756045289337635, 0.039632510393857956, 0.018834516406059265, -0.023994849994778633, -0.023152565583586693, -0.049398135393857956, 0.0067866044119000435, -0.010260315611958504, 0.02054266259074211, 0.05424000695347786, 0.010894116945564747, 0.06242992356419563, 0.036994967609643936, -0.10183829814195633, 0.01503362599760294, 0.008367168717086315, -0.06411053985357285, -0.011399057693779469, -0.01831750012934208, -0.08013986796140671, -0.04263495281338692, -0.08556729555130005, -0.012024018913507462, -0.020658669993281364, 0.00990886427462101, -0.005768172442913055, -0.0038843557704240084, -0.057805970311164856, -0.001722462591715157, -0.0338384211063385, -0.023969262838363647, 0.06286541372537613, 0.056583646684885025, 0.018583158031105995, -0.00221252697519958, -0.036862462759017944, 0.03341648727655411, 0.03350113704800606, 0.07111653685569763, 0.052014485001564026, 0.02464812621474266, -0.039816807955503464, -0.054106153547763824, 0.07652966678142548, 0.037075553089380264, -0.04036915302276611, -0.019545624032616615, 0.003591634100303054, -0.08580408245325089, 0.043473172932863235, 0.03618144243955612, -0.07783574610948563, 0.06862892210483551, 0.0040969811379909515, 0.05834018439054489, 0.06298685073852539, 0.016130171716213226, 0.028500284999608994, -0.08444652706384659, 0.10160580277442932, -0.05294392630457878, -0.056447047740221024, 0.06497333198785782, 0.07860784232616425, 0.02992391400039196, 0.03627067059278488, 0.029869433492422104, -0.08791802823543549, -0.00272377859801054, 0.01650310680270195, -0.05993765965104103, 0.0026306824292987585, 0.06650537252426147, -0.04697316884994507, -0.05770450830459595, 0.01479047816246748, -0.008604793809354305, -0.044161658734083176, 0.016826219856739044, 0.026662258431315422, -0.05537719279527664, 0.10008890181779861, 0.019920149818062782, 0.09032069146633148, -0.0040376754477620125, 0.02911306731402874, -0.04171121492981911, 0.025000283494591713, -0.06361716985702515, 0.010281750932335854, 0.039953358471393585, 0.0516163632273674, -0.054768942296504974, 0.059301041066646576, 0.01912916637957096, 0.07901305705308914, 0.05374592915177345, 0.14989307522773743, -0.04760820418596268, -0.08410891890525818, 0.0502774603664875, 0.006658700294792652, 0.0017615902470424771, 2.187306072409364e-33, 0.03475199267268181, 0.03846169635653496, -0.043767835944890976, 0.040716227144002914, 0.07494379580020905, 0.015722226351499557, 0.0450996570289135, 0.07545610517263412, -0.039887718856334686, -0.002396347001194954, 0.029225829988718033, 0.06789682060480118, -0.03769012540578842, 0.02314312942326069, 0.01730862632393837, 0.0007220234256237745, -0.06636559218168259, 0.02189692109823227, 0.02774553745985031, 0.015674015507102013, -0.03340572863817215, -0.05612689629197121, -0.06204275041818619, 0.08327782154083252, 0.03541785106062889, 0.03461026772856712, 0.05006086081266403, 0.0816463828086853, 0.06446325778961182, -0.0006854830426163971, -0.011735321022570133, -0.03562982380390167, -0.11670209467411041, -0.009159117937088013, 0.02508304826915264, 0.021578900516033173, -0.03319717198610306, -0.06834977120161057, 0.027629680931568146, 0.05847899243235588, -0.07851307094097137, 0.04295968636870384, -0.008517344482243061, -0.054253824055194855, 0.004988056141883135, -0.013270690105855465, 0.08345558494329453, 0.016875075176358223, 0.01886158250272274, 0.02726466953754425, -0.06577417999505997, -0.06534600257873535, 0.07008948922157288, 0.06092775985598564, -0.004928723443299532, 0.03665107861161232, 0.09728068113327026, -0.09588531404733658, -0.042448174208402634, 0.020384561270475388, -0.028903836384415627, -0.06593692302703857, -0.030981481075286865, -0.06998438388109207, -0.031876981258392334, -0.022784169763326645, 0.052318278700113297, 0.031449269503355026, 0.16297970712184906, -0.006684927735477686, -0.07047981768846512, -0.015946414321660995, 0.11237362772226334, 0.030421730130910873, -0.1219564899802208, -0.025305945426225662, -0.027239281684160233, -0.07874861359596252, 0.08258645236492157, 0.06974080204963684, 0.006863442249596119, 0.06307404488325119, 0.03830176964402199, -0.03478407487273216, 0.09667214751243591, 0.04288313165307045, -0.0521438829600811, -0.019060848280787468, -0.018798481673002243, 0.04368840530514717, 0.014369577169418335, -0.0386737622320652, 0.012840638868510723, -0.0021922446321696043, 0.0008259021560661495, -4.503379469427648e-33, -0.05520832538604736, 0.0015590506372973323, -0.06490636616945267, 0.05054955929517746, 0.03279319405555725, -0.014844991266727448, 0.005093733314424753, 0.0678655207157135, -0.038718331605196, -0.012742673046886921, -0.023556452244520187, 0.02569708228111267, -0.05757070705294609, 0.05439407750964165, -0.06929277628660202, -0.012184705585241318, -0.01227363757789135, -0.04629773646593094, -0.03095315769314766, -0.001807432621717453, -0.009588977321982384, 0.009295664727687836, -0.019961217418313026, 0.002620290732011199, 0.029443271458148956, -0.022532116621732712, -0.06051914021372795, -0.06851137429475784, 0.012186160311102867, 0.01396050862967968, 0.07906745374202728, 0.03462829440832138, -0.06150436773896217, -0.06626248359680176, 0.02399940975010395, -0.07971261441707611, -0.042406223714351654, -0.027580780908465385, 0.033983226865530014, 0.0624818317592144, 0.074400894343853, -0.03813398629426956, 0.014277718029916286, -0.05402408540248871, -0.0552331916987896, 0.05977553129196167, 0.03509251028299332, 0.037523746490478516, 0.02485400252044201, -0.11927825212478638, 0.032716039568185806, -0.024558406323194504, 0.01623079553246498, -0.017981361597776413, 0.001307798782363534, -0.05143764987587929, 0.024637360125780106, -0.0820012241601944, -0.0044115264900028706, -0.02896038070321083, 0.005875601898878813, 0.027143852785229683, 0.12340886890888214, 0.0710296630859375, -0.05675851181149483, -0.03286523371934891, -0.05352337658405304, 0.07129506766796112, -0.1314682513475418, -0.06388939917087555, 0.020219696685671806, -0.012849544174969196, 0.023629430681467056, -0.007587237749248743, -0.07941234111785889, -0.0701875388622284, -0.10399729013442993, -0.06316282600164413, -0.0009642312070354819, -0.020187553018331528, -0.04693342000246048, -0.029013995081186295, 0.0013823590707033873, 0.0236839447170496, -0.07200978696346283, 0.03426137939095497, -0.0453648678958416, -0.07065685093402863, 0.03800750896334648, -0.11400279402732849, -0.14612306654453278, 0.09086153656244278, -0.10305031388998032, 0.0027921719010919333, -0.014990082010626793, -4.760403982118078e-08, -0.037314217537641525, -0.0037417863495647907, -0.08608316630125046, -0.026060914620757103, -0.009153316728770733, 0.09301642328500748, -0.06634466350078583, 0.01609451323747635, 0.08795154094696045, 0.019083170220255852, -0.0040269712917506695, -0.008897651918232441, -0.05146006867289543, 0.044798534363508224, 0.08726492524147034, 0.018502339720726013, 0.005255098920315504, 0.08380930870771408, 0.0030659802723675966, -0.048067688941955566, 0.061421871185302734, 0.01813877932727337, -0.0705714002251625, 0.04011701047420502, -0.006209217943251133, -0.014315590262413025, 0.01435790304094553, 0.05633110925555229, 0.01594356819987297, 0.04116760566830635, -0.03566734492778778, -0.01968955062329769, -0.0034573902375996113, -0.02255682274699211, 0.050942327827215195, 0.005301567260175943, 0.08447220921516418, -0.07046213001012802, -0.00198160856962204, 0.004941091872751713, -0.052933063358068466, 0.08347008377313614, 0.02126844972372055, -0.0004570156161207706, -0.0579761378467083, -0.001910687773488462, 0.012456891126930714, 0.059611257165670395, -0.0015402946155518293, -0.021683724597096443, 0.009823757223784924, -0.059334028512239456, -0.04279598966240883, -0.008015058934688568, 0.05006750673055649, 0.05490414425730705, 0.0069045089185237885, -0.043885741382837296, -0.03437691554427147, 0.07254812121391296, 0.010751637630164623, -0.04097535461187363, 0.029831523075699806, 0.05515070632100105]}\n"
          ]
        }
      ]
    },
    {
      "cell_type": "code",
      "source": [],
      "metadata": {
        "id": "J2jrs-c-4N4t"
      },
      "execution_count": null,
      "outputs": []
    }
  ]
}