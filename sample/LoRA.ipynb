{
  "nbformat": 4,
  "nbformat_minor": 0,
  "metadata": {
    "colab": {
      "provenance": [],
      "authorship_tag": "ABX9TyM140C9YXHjeefun53n9Z4/",
      "include_colab_link": true
    },
    "kernelspec": {
      "name": "python3",
      "display_name": "Python 3"
    },
    "language_info": {
      "name": "python"
    }
  },
  "cells": [
    {
      "cell_type": "markdown",
      "metadata": {
        "id": "view-in-github",
        "colab_type": "text"
      },
      "source": [
        "<a href=\"https://colab.research.google.com/github/nxxk23/AI-Engineer/blob/main/sample/LoRA.ipynb\" target=\"_parent\"><img src=\"https://colab.research.google.com/assets/colab-badge.svg\" alt=\"Open In Colab\"/></a>"
      ]
    },
    {
      "cell_type": "code",
      "execution_count": 1,
      "metadata": {
        "id": "0cs8Yq9NEWXQ"
      },
      "outputs": [],
      "source": [
        "!pip -q install transformers peft accelerate"
      ]
    },
    {
      "cell_type": "code",
      "source": [
        "import torch\n",
        "from transformers import AutoModelForCausalLM, AutoTokenizer\n",
        "from peft import get_peft_model, LoraConfig, TaskType\n",
        "\n",
        "# Load the model and tokenizer\n",
        "model_name = \"EleutherAI/gpt-neo-125M\"\n",
        "tokenizer = AutoTokenizer.from_pretrained(model_name)\n",
        "model_original = AutoModelForCausalLM.from_pretrained(model_name)\n",
        "print(model_original)"
      ],
      "metadata": {
        "colab": {
          "base_uri": "https://localhost:8080/"
        },
        "id": "ZA0CE0SARFy9",
        "outputId": "b7bfe856-a852-4b5b-bed4-af3b67eceae1"
      },
      "execution_count": 2,
      "outputs": [
        {
          "output_type": "stream",
          "name": "stdout",
          "text": [
            "GPTNeoForCausalLM(\n",
            "  (transformer): GPTNeoModel(\n",
            "    (wte): Embedding(50257, 768)\n",
            "    (wpe): Embedding(2048, 768)\n",
            "    (drop): Dropout(p=0.0, inplace=False)\n",
            "    (h): ModuleList(\n",
            "      (0-11): 12 x GPTNeoBlock(\n",
            "        (ln_1): LayerNorm((768,), eps=1e-05, elementwise_affine=True)\n",
            "        (attn): GPTNeoAttention(\n",
            "          (attention): GPTNeoSelfAttention(\n",
            "            (attn_dropout): Dropout(p=0.0, inplace=False)\n",
            "            (resid_dropout): Dropout(p=0.0, inplace=False)\n",
            "            (k_proj): Linear(in_features=768, out_features=768, bias=False)\n",
            "            (v_proj): Linear(in_features=768, out_features=768, bias=False)\n",
            "            (q_proj): Linear(in_features=768, out_features=768, bias=False)\n",
            "            (out_proj): Linear(in_features=768, out_features=768, bias=True)\n",
            "          )\n",
            "        )\n",
            "        (ln_2): LayerNorm((768,), eps=1e-05, elementwise_affine=True)\n",
            "        (mlp): GPTNeoMLP(\n",
            "          (c_fc): Linear(in_features=768, out_features=3072, bias=True)\n",
            "          (c_proj): Linear(in_features=3072, out_features=768, bias=True)\n",
            "          (act): NewGELUActivation()\n",
            "          (dropout): Dropout(p=0.0, inplace=False)\n",
            "        )\n",
            "      )\n",
            "    )\n",
            "    (ln_f): LayerNorm((768,), eps=1e-05, elementwise_affine=True)\n",
            "  )\n",
            "  (lm_head): Linear(in_features=768, out_features=50257, bias=False)\n",
            ")\n"
          ]
        }
      ]
    },
    {
      "cell_type": "code",
      "source": [
        "# Configure LoRA\n",
        "lora_config = LoraConfig(\n",
        "    r=16,  # Rank\n",
        "    lora_alpha=32,\n",
        "    lora_dropout=0.1,\n",
        "    task_type=TaskType.CAUSAL_LM,\n",
        ")\n",
        "\n",
        "# Apply LoRA to the model\n",
        "model = get_peft_model(model_original, lora_config)\n",
        "print(model)"
      ],
      "metadata": {
        "colab": {
          "base_uri": "https://localhost:8080/"
        },
        "id": "aP1ftT2zRa3k",
        "outputId": "97b1d9fc-8e82-4129-b268-fb442a642ae3"
      },
      "execution_count": 3,
      "outputs": [
        {
          "output_type": "stream",
          "name": "stdout",
          "text": [
            "PeftModelForCausalLM(\n",
            "  (base_model): LoraModel(\n",
            "    (model): GPTNeoForCausalLM(\n",
            "      (transformer): GPTNeoModel(\n",
            "        (wte): Embedding(50257, 768)\n",
            "        (wpe): Embedding(2048, 768)\n",
            "        (drop): Dropout(p=0.0, inplace=False)\n",
            "        (h): ModuleList(\n",
            "          (0-11): 12 x GPTNeoBlock(\n",
            "            (ln_1): LayerNorm((768,), eps=1e-05, elementwise_affine=True)\n",
            "            (attn): GPTNeoAttention(\n",
            "              (attention): GPTNeoSelfAttention(\n",
            "                (attn_dropout): Dropout(p=0.0, inplace=False)\n",
            "                (resid_dropout): Dropout(p=0.0, inplace=False)\n",
            "                (k_proj): Linear(in_features=768, out_features=768, bias=False)\n",
            "                (v_proj): lora.Linear(\n",
            "                  (base_layer): Linear(in_features=768, out_features=768, bias=False)\n",
            "                  (lora_dropout): ModuleDict(\n",
            "                    (default): Dropout(p=0.1, inplace=False)\n",
            "                  )\n",
            "                  (lora_A): ModuleDict(\n",
            "                    (default): Linear(in_features=768, out_features=16, bias=False)\n",
            "                  )\n",
            "                  (lora_B): ModuleDict(\n",
            "                    (default): Linear(in_features=16, out_features=768, bias=False)\n",
            "                  )\n",
            "                  (lora_embedding_A): ParameterDict()\n",
            "                  (lora_embedding_B): ParameterDict()\n",
            "                  (lora_magnitude_vector): ModuleDict()\n",
            "                )\n",
            "                (q_proj): lora.Linear(\n",
            "                  (base_layer): Linear(in_features=768, out_features=768, bias=False)\n",
            "                  (lora_dropout): ModuleDict(\n",
            "                    (default): Dropout(p=0.1, inplace=False)\n",
            "                  )\n",
            "                  (lora_A): ModuleDict(\n",
            "                    (default): Linear(in_features=768, out_features=16, bias=False)\n",
            "                  )\n",
            "                  (lora_B): ModuleDict(\n",
            "                    (default): Linear(in_features=16, out_features=768, bias=False)\n",
            "                  )\n",
            "                  (lora_embedding_A): ParameterDict()\n",
            "                  (lora_embedding_B): ParameterDict()\n",
            "                  (lora_magnitude_vector): ModuleDict()\n",
            "                )\n",
            "                (out_proj): Linear(in_features=768, out_features=768, bias=True)\n",
            "              )\n",
            "            )\n",
            "            (ln_2): LayerNorm((768,), eps=1e-05, elementwise_affine=True)\n",
            "            (mlp): GPTNeoMLP(\n",
            "              (c_fc): Linear(in_features=768, out_features=3072, bias=True)\n",
            "              (c_proj): Linear(in_features=3072, out_features=768, bias=True)\n",
            "              (act): NewGELUActivation()\n",
            "              (dropout): Dropout(p=0.0, inplace=False)\n",
            "            )\n",
            "          )\n",
            "        )\n",
            "        (ln_f): LayerNorm((768,), eps=1e-05, elementwise_affine=True)\n",
            "      )\n",
            "      (lm_head): Linear(in_features=768, out_features=50257, bias=False)\n",
            "    )\n",
            "  )\n",
            ")\n"
          ]
        }
      ]
    },
    {
      "cell_type": "code",
      "source": [
        "# Set model to training mode\n",
        "model.train()\n",
        "\n",
        "# Prepare your dataset (dummy example)\n",
        "from torch.utils.data import Dataset\n",
        "\n",
        "class SimpleDataset(Dataset):\n",
        "    def __init__(self, texts):\n",
        "        self.texts = texts\n",
        "\n",
        "    def __len__(self):\n",
        "        return len(self.texts)\n",
        "\n",
        "    def __getitem__(self, idx):\n",
        "        input_ids = tokenizer(self.texts[idx], return_tensors='pt').input_ids.squeeze()\n",
        "        return {\"input_ids\": input_ids, \"labels\": input_ids}"
      ],
      "metadata": {
        "id": "zv7dlCTTRLIJ"
      },
      "execution_count": 4,
      "outputs": []
    },
    {
      "cell_type": "code",
      "source": [
        "# Sample data\n",
        "texts = [\"Hello, how are you?\", \"What is the weather today?\"]\n",
        "dataset = SimpleDataset(texts)\n",
        "\n",
        "# Create DataLoader\n",
        "from torch.utils.data import DataLoader\n",
        "\n",
        "dataloader = DataLoader(dataset, batch_size=2)\n",
        "\n",
        "# Optimizer\n",
        "from transformers import AdamW\n",
        "\n",
        "optimizer = AdamW(model.parameters(), lr=5e-5)\n",
        "\n",
        "# Training loop\n",
        "for epoch in range(3):  # Number of epochs\n",
        "    for batch in dataloader:\n",
        "        optimizer.zero_grad()\n",
        "        outputs = model(**batch)\n",
        "        loss = outputs.loss\n",
        "        loss.backward()\n",
        "        optimizer.step()\n",
        "        print(f\"Loss: {loss.item()}\")\n",
        "\n",
        "# Save the fine-tuned model\n",
        "model.save_pretrained(\"./lora_finetuned_gpt_neo\")\n",
        "tokenizer.save_pretrained(\"./lora_finetuned_gpt_neo\")"
      ],
      "metadata": {
        "colab": {
          "base_uri": "https://localhost:8080/"
        },
        "id": "oTSAs9z6Q8El",
        "outputId": "0db89c13-a627-41e3-848e-b7d7ff19ecfb"
      },
      "execution_count": 5,
      "outputs": [
        {
          "output_type": "stream",
          "name": "stderr",
          "text": [
            "/usr/local/lib/python3.10/dist-packages/transformers/optimization.py:591: FutureWarning: This implementation of AdamW is deprecated and will be removed in a future version. Use the PyTorch implementation torch.optim.AdamW instead, or set `no_deprecation_warning=True` to disable this warning\n",
            "  warnings.warn(\n"
          ]
        },
        {
          "output_type": "stream",
          "name": "stdout",
          "text": [
            "Loss: 3.1488335132598877\n",
            "Loss: 3.1333861351013184\n",
            "Loss: 3.1175997257232666\n"
          ]
        },
        {
          "output_type": "execute_result",
          "data": {
            "text/plain": [
              "('./lora_finetuned_gpt_neo/tokenizer_config.json',\n",
              " './lora_finetuned_gpt_neo/special_tokens_map.json',\n",
              " './lora_finetuned_gpt_neo/vocab.json',\n",
              " './lora_finetuned_gpt_neo/merges.txt',\n",
              " './lora_finetuned_gpt_neo/added_tokens.json',\n",
              " './lora_finetuned_gpt_neo/tokenizer.json')"
            ]
          },
          "metadata": {},
          "execution_count": 5
        }
      ]
    },
    {
      "cell_type": "code",
      "source": [
        "!pip -q install evaluate rouge_score"
      ],
      "metadata": {
        "id": "Szub0lsaSF4K"
      },
      "execution_count": 6,
      "outputs": []
    },
    {
      "cell_type": "code",
      "source": [
        "import time\n",
        "import torch\n",
        "from transformers import AutoModelForCausalLM, AutoTokenizer\n",
        "from peft import get_peft_model, LoraConfig, TaskType\n",
        "from evaluate import load\n",
        "\n",
        "# Load the model and tokenizer\n",
        "model_name = \"EleutherAI/gpt-neo-125M\"\n",
        "tokenizer = AutoTokenizer.from_pretrained(model_name)\n",
        "\n",
        "# Set the padding token to be the same as the EOS token\n",
        "tokenizer.pad_token = tokenizer.eos_token  # or add a new padding token using tokenizer.add_special_tokens({'pad_token': '[PAD]'})\n",
        "\n",
        "# Load the original model\n",
        "model_original = AutoModelForCausalLM.from_pretrained(model_name)\n",
        "\n",
        "# Configure LoRA\n",
        "lora_config = LoraConfig(\n",
        "    r=16,  # Rank\n",
        "    lora_alpha=32,\n",
        "    lora_dropout=0.1,\n",
        "    task_type=TaskType.CAUSAL_LM,\n",
        ")\n",
        "\n",
        "# Apply LoRA to the model\n",
        "model = get_peft_model(model_original, lora_config)\n",
        "\n",
        "# Load metrics\n",
        "bleu_metric = load(\"bleu\")  # For BLEU score\n",
        "rouge_metric = load(\"rouge\")  # For ROUGE score\n",
        "\n",
        "# Function to generate text and measure time\n",
        "def generate_text(model, tokenizer, prompt):\n",
        "    start_time = time.time()\n",
        "    input_ids = tokenizer(prompt, return_tensors=\"pt\", padding=True, truncation=True, max_length=50).input_ids\n",
        "    attention_mask = (input_ids != tokenizer.pad_token_id).long()  # Create the attention mask\n",
        "    with torch.no_grad():\n",
        "        outputs = model.generate(input_ids, attention_mask=attention_mask, max_length=50)\n",
        "    end_time = time.time()\n",
        "    generated_text = tokenizer.decode(outputs[0], skip_special_tokens=True)\n",
        "    inference_time = end_time - start_time\n",
        "    return generated_text, inference_time"
      ],
      "metadata": {
        "id": "BHCdrX0hRwP3"
      },
      "execution_count": 7,
      "outputs": []
    },
    {
      "cell_type": "code",
      "source": [
        "import time  # Correctly import the time module\n",
        "\n",
        "# Function to generate text and measure time\n",
        "def generate_text(model, tokenizer, prompt):\n",
        "    start_time = time.time()  # Use time.time() correctly\n",
        "    input_ids = tokenizer(prompt, return_tensors=\"pt\", padding=True, truncation=True, max_length=50).input_ids\n",
        "    attention_mask = (input_ids != tokenizer.pad_token_id).long()  # Create the attention mask\n",
        "\n",
        "    # Generate outputs\n",
        "    with torch.no_grad():  # Disable gradient tracking\n",
        "        outputs = model.generate(input_ids=input_ids, attention_mask=attention_mask, max_length=150)\n",
        "    generated_text = tokenizer.decode(outputs[0], skip_special_tokens=True)\n",
        "\n",
        "    inference_time = time.time() - start_time  # Measure inference time\n",
        "    return generated_text, inference_time  # Return the generated text and inference time\n"
      ],
      "metadata": {
        "id": "8j_V_0QySMyS"
      },
      "execution_count": 8,
      "outputs": []
    },
    {
      "cell_type": "code",
      "source": [
        "# Function to evaluate both models\n",
        "def evaluate_models(model_original, model_lora, tokenizer, prompt, reference):\n",
        "    # Timing and generating outputs for the original model\n",
        "    generated_original, time_original = generate_text(model_original, tokenizer, prompt)\n",
        "\n",
        "    # Timing and generating outputs for the LoRA model\n",
        "    generated_lora, time_lora = generate_text(model_lora, tokenizer, prompt)\n",
        "\n",
        "    # Printing Outputs\n",
        "    # print(\"Original Model Output:\", generated_original)\n",
        "    print(\"Original model Time:\", time_original)\n",
        "\n",
        "    # print(\"\\nLoRA Fine-tuned Model Output:\", generated_lora)\n",
        "    print(\"LoRA Fine-tuned Model Time:\", time_lora)\n",
        "\n",
        "    # BLEU and ROUGE Calculation\n",
        "    reference_texts = [[reference], [reference]]  # Two references for BLEU and ROUGE\n",
        "    predictions = [generated_original, generated_lora]\n",
        "\n",
        "    bleu_score = bleu_metric.compute(predictions=predictions, references=reference_texts)\n",
        "    rouge_score = rouge_metric.compute(predictions=predictions, references=reference_texts)\n",
        "\n",
        "    print(\"BLEU Score:\", bleu_score)\n",
        "    print(\"ROUGE Score:\", rouge_score)"
      ],
      "metadata": {
        "id": "gP8dvRwkTmRm"
      },
      "execution_count": 9,
      "outputs": []
    },
    {
      "cell_type": "code",
      "source": [
        "# Define your prompt and reference for evaluation\n",
        "prompt = \"What are the benefits of using Low-Rank Adaptation in machine learning?\"\n",
        "reference = \"Low-Rank Adaptation can improve training efficiency and performance.\"\n",
        "\n",
        "# Call the evaluation function\n",
        "evaluate_models(model_original, model, tokenizer, prompt, reference)"
      ],
      "metadata": {
        "colab": {
          "base_uri": "https://localhost:8080/"
        },
        "id": "A9OfBxp1Um8o",
        "outputId": "4af6e6e1-9d6c-4f46-828a-5779ddc88d7f"
      },
      "execution_count": 10,
      "outputs": [
        {
          "output_type": "stream",
          "name": "stderr",
          "text": [
            "Setting `pad_token_id` to `eos_token_id`:50256 for open-end generation.\n",
            "Setting `pad_token_id` to `eos_token_id`:50256 for open-end generation.\n"
          ]
        },
        {
          "output_type": "stream",
          "name": "stdout",
          "text": [
            "Original model Time: 14.777280569076538\n",
            "LoRA Fine-tuned Model Time: 11.838006258010864\n",
            "BLEU Score: {'bleu': 0.0, 'precisions': [0.03816793893129771, 0.007692307692307693, 0.0, 0.0], 'brevity_penalty': 1.0, 'length_ratio': 14.555555555555555, 'translation_length': 262, 'reference_length': 18}\n",
            "ROUGE Score: {'rouge1': 0.07407407407407407, 'rouge2': 0.03007518796992481, 'rougeL': 0.07407407407407407, 'rougeLsum': 0.05925925925925926}\n"
          ]
        }
      ]
    }
  ]
}