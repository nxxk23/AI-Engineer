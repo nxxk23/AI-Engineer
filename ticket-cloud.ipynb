{
 "cells": [
  {
   "cell_type": "markdown",
   "id": "f138f8f4",
   "metadata": {
    "papermill": {
     "duration": 0.011332,
     "end_time": "2024-07-31T10:11:25.746090",
     "exception": false,
     "start_time": "2024-07-31T10:11:25.734758",
     "status": "completed"
    },
    "tags": []
   },
   "source": [
    "## prompt"
   ]
  },
  {
   "cell_type": "code",
   "execution_count": 1,
   "id": "a1f2cdf7",
   "metadata": {
    "execution": {
     "iopub.execute_input": "2024-07-31T10:11:25.769090Z",
     "iopub.status.busy": "2024-07-31T10:11:25.768747Z",
     "iopub.status.idle": "2024-07-31T10:11:25.774923Z",
     "shell.execute_reply": "2024-07-31T10:11:25.774098Z"
    },
    "papermill": {
     "duration": 0.019912,
     "end_time": "2024-07-31T10:11:25.776919",
     "exception": false,
     "start_time": "2024-07-31T10:11:25.757007",
     "status": "completed"
    },
    "tags": []
   },
   "outputs": [],
   "source": [
    "# import requests\n",
    "# import json\n",
    "# import re\n",
    "\n",
    "# def preprocess_text(text):\n",
    "#     # ตรวจสอบว่ามี IP address หรือคำว่า 'firewall' ในข้อความ\n",
    "#     ip_pattern = re.compile(r'(\\d{1,3}\\.){3}\\d{1,3}')\n",
    "#     if ip_pattern.search(text) or 'firewall' in text.lower():\n",
    "#         return 'close-open port'\n",
    "#     else:\n",
    "#         return 'request'\n",
    "\n",
    "# text = \"\"\n",
    "\n",
    "# category = preprocess_text(text)\n",
    "\n",
    "# chat = f\"\"\"system\n",
    "#     คุณเป็น AI ที่จะช่วยในการจัดประเภทอีเมล โปรดตอบว่าอีเมลนี้ควรอยู่ในประเภท \"close-open port\" หรือ \"request\" พร้อมกับเหตุผลสั้น ๆ ที่สมเหตุสมผลเป็นข้อ ๆ ดังนี้:\n",
    "#     ข้อ 1: \n",
    "#     ข้อ 2: \n",
    "#     {{ end }}user\n",
    "#     ข้อความอีเมล: {text}\n",
    "#     assistant\n",
    "#     \"\"\"\n",
    "# payload = { \n",
    "#     \"inputs\": chat, \n",
    "#     \"parameters\":{  \n",
    "#         \"best_of\": 1,   \n",
    "#         \"decoder_input_details\": False,\n",
    "#         \"details\": False,   \n",
    "#         \"do_sample\": False,   \n",
    "#         \"frequency_penalty\": 1.5,    \n",
    "#         \"max_new_tokens\": 200,\n",
    "#         \"repetition_penalty\": 1.2,      \n",
    "#         \"return_full_text\": False,         \n",
    "#         \"seed\": 42,                          \n",
    "#         \"temperature\": 0.01,             \n",
    "#         \"top_k\": 5,                    \n",
    "#         \"top_p\": 0.9,                                      \n",
    "#         \"watermark\": False\n",
    "#     }\n",
    "# }\n",
    "\n",
    "# url = 'https://ai-api.manageai.co.th/llm-model-02/generate'\n",
    "# headers = {'Content-Type': 'application/json'}\n",
    "\n",
    "# response = requests.post(url, headers=headers, data=json.dumps(payload))\n",
    "# response = response.json()\n",
    "# print(response)\n"
   ]
  },
  {
   "cell_type": "markdown",
   "id": "9fa47e45",
   "metadata": {
    "papermill": {
     "duration": 0.01142,
     "end_time": "2024-07-31T10:11:25.799543",
     "exception": false,
     "start_time": "2024-07-31T10:11:25.788123",
     "status": "completed"
    },
    "tags": []
   },
   "source": [
    "**create function to get IP and can detect is it public or private ip**"
   ]
  },
  {
   "cell_type": "code",
   "execution_count": 2,
   "id": "8b3f1469",
   "metadata": {
    "execution": {
     "iopub.execute_input": "2024-07-31T10:11:25.822920Z",
     "iopub.status.busy": "2024-07-31T10:11:25.822664Z",
     "iopub.status.idle": "2024-07-31T10:11:25.826591Z",
     "shell.execute_reply": "2024-07-31T10:11:25.825792Z"
    },
    "papermill": {
     "duration": 0.017988,
     "end_time": "2024-07-31T10:11:25.828427",
     "exception": false,
     "start_time": "2024-07-31T10:11:25.810439",
     "status": "completed"
    },
    "tags": []
   },
   "outputs": [],
   "source": [
    "# import re\n",
    "# import ipaddress\n",
    "\n",
    "# def extract_and_classify_ips(description):\n",
    "#     ip_pattern = r'\\b(?:[0-9]{1,3}\\.){3}[0-9]{1,3}\\b'\n",
    "#     ips = re.findall(ip_pattern, description)\n",
    "    \n",
    "#     classified_ips = {'Public': [], 'Private': []}\n",
    "#     for ip in ips:\n",
    "#         try:\n",
    "#             ip_obj = ipaddress.ip_address(ip)\n",
    "#             if ip_obj.is_private:\n",
    "#                 classified_ips['Private'].append(ip)\n",
    "#             else:\n",
    "#                 classified_ips['Public'].append(ip)\n",
    "#         except ValueError:\n",
    "#             # Skip the invalid IP address\n",
    "#             continue\n",
    "    \n",
    "#     return classified_ips"
   ]
  },
  {
   "cell_type": "code",
   "execution_count": 3,
   "id": "a14c67c9",
   "metadata": {
    "execution": {
     "iopub.execute_input": "2024-07-31T10:11:25.851508Z",
     "iopub.status.busy": "2024-07-31T10:11:25.851236Z",
     "iopub.status.idle": "2024-07-31T10:11:25.854794Z",
     "shell.execute_reply": "2024-07-31T10:11:25.854077Z"
    },
    "papermill": {
     "duration": 0.017405,
     "end_time": "2024-07-31T10:11:25.856754",
     "exception": false,
     "start_time": "2024-07-31T10:11:25.839349",
     "status": "completed"
    },
    "tags": []
   },
   "outputs": [],
   "source": [
    "# rm -rf /kaggle/working/*"
   ]
  },
  {
   "cell_type": "markdown",
   "id": "c1f76edf",
   "metadata": {
    "papermill": {
     "duration": 0.010883,
     "end_time": "2024-07-31T10:11:25.878487",
     "exception": false,
     "start_time": "2024-07-31T10:11:25.867604",
     "status": "completed"
    },
    "tags": []
   },
   "source": [
    "# input"
   ]
  },
  {
   "cell_type": "code",
   "execution_count": 4,
   "id": "faa80cd1",
   "metadata": {
    "execution": {
     "iopub.execute_input": "2024-07-31T10:11:25.901255Z",
     "iopub.status.busy": "2024-07-31T10:11:25.900751Z",
     "iopub.status.idle": "2024-07-31T10:11:46.222090Z",
     "shell.execute_reply": "2024-07-31T10:11:46.221108Z"
    },
    "papermill": {
     "duration": 20.335334,
     "end_time": "2024-07-31T10:11:46.224507",
     "exception": false,
     "start_time": "2024-07-31T10:11:25.889173",
     "status": "completed"
    },
    "tags": []
   },
   "outputs": [],
   "source": [
    "import pandas as pd\n",
    "port = pd.read_csv('/kaggle/input/ticket/df_open_close_port.csv')\n",
    "prob = pd.read_csv('/kaggle/input/ticket/df_problem_cloud.csv')\n",
    "one = pd.read_csv('/kaggle/input/ticket/df_onemail.csv')\n",
    "data = pd.read_csv('/kaggle/input/ticket/ticket.csv')\n",
    "data = data.drop(columns=['category','sub_category', 'created_at'])"
   ]
  },
  {
   "cell_type": "code",
   "execution_count": 5,
   "id": "a0693dd8",
   "metadata": {
    "execution": {
     "iopub.execute_input": "2024-07-31T10:11:46.248283Z",
     "iopub.status.busy": "2024-07-31T10:11:46.247947Z",
     "iopub.status.idle": "2024-07-31T10:11:46.274126Z",
     "shell.execute_reply": "2024-07-31T10:11:46.273435Z"
    },
    "papermill": {
     "duration": 0.040004,
     "end_time": "2024-07-31T10:11:46.275980",
     "exception": false,
     "start_time": "2024-07-31T10:11:46.235976",
     "status": "completed"
    },
    "tags": []
   },
   "outputs": [],
   "source": [
    "df = data.copy()"
   ]
  },
  {
   "cell_type": "code",
   "execution_count": 6,
   "id": "62d0b4d5",
   "metadata": {
    "execution": {
     "iopub.execute_input": "2024-07-31T10:11:46.299089Z",
     "iopub.status.busy": "2024-07-31T10:11:46.298803Z",
     "iopub.status.idle": "2024-07-31T10:11:46.307746Z",
     "shell.execute_reply": "2024-07-31T10:11:46.306864Z"
    },
    "papermill": {
     "duration": 0.022723,
     "end_time": "2024-07-31T10:11:46.309850",
     "exception": false,
     "start_time": "2024-07-31T10:11:46.287127",
     "status": "completed"
    },
    "tags": []
   },
   "outputs": [
    {
     "name": "stdout",
     "output_type": "stream",
     "text": [
      "['One-Email' 'One-Email [Exchange Mail]']\n"
     ]
    }
   ],
   "source": [
    "print(one['group'].unique())"
   ]
  },
  {
   "cell_type": "markdown",
   "id": "814f279f",
   "metadata": {
    "papermill": {
     "duration": 0.011182,
     "end_time": "2024-07-31T10:11:46.332493",
     "exception": false,
     "start_time": "2024-07-31T10:11:46.321311",
     "status": "completed"
    },
    "tags": []
   },
   "source": [
    "## label"
   ]
  },
  {
   "cell_type": "code",
   "execution_count": 7,
   "id": "f1e20dce",
   "metadata": {
    "execution": {
     "iopub.execute_input": "2024-07-31T10:11:46.355625Z",
     "iopub.status.busy": "2024-07-31T10:11:46.355350Z",
     "iopub.status.idle": "2024-07-31T10:12:07.213727Z",
     "shell.execute_reply": "2024-07-31T10:12:07.212761Z"
    },
    "papermill": {
     "duration": 20.872623,
     "end_time": "2024-07-31T10:12:07.216174",
     "exception": false,
     "start_time": "2024-07-31T10:11:46.343551",
     "status": "completed"
    },
    "tags": []
   },
   "outputs": [],
   "source": [
    "import pandas as pd\n",
    "import re\n",
    "\n",
    "# Convert 'ticket_no' and 'subject' columns in prob and port to sets for fast lookups\n",
    "prob_ticket_subject_set = set(zip(prob['ticket_no'].astype(str).values, prob['subject'].str.lower().values))\n",
    "port_ticket_subject_set = set(zip(port['ticket_no'].astype(str).values, port['subject'].str.lower().values))\n",
    "one_ticket_subject_set = set(zip(one['ticket_no'].astype(str).values, port['subject'].str.lower().values))\n",
    "\n",
    "# Function to classify tickets\n",
    "def classify_ticket(row):\n",
    "    subject = str(row['subject']).lower() if pd.notnull(row['subject']) else \"\"\n",
    "    description = str(row['description']).lower() if pd.notnull(row['description']) else \"\"\n",
    "    group = str(row['group']).lower() if pd.notnull(row['group']) else \"\"\n",
    "    service = str(row['service']).lower() if pd.notnull(row['service']) else \"\"\n",
    "    ticket_no = str(row['ticket_no'])\n",
    "    \n",
    "    ticket_subject = (ticket_no, subject)\n",
    "\n",
    "    # Check if the ticket is in the prob dataframe\n",
    "    if ticket_subject in prob_ticket_subject_set:\n",
    "        return 'problem'\n",
    "    # Check if the ticket is in the port dataframe\n",
    "    if ticket_subject in port_ticket_subject_set:\n",
    "        return 'firewall'\n",
    "    # Check if the ticket is in the one dataframe\n",
    "    if ticket_subject in one_ticket_subject_set:\n",
    "        return 'onemail'\n",
    "    \n",
    "    # Check for 'firewall' or IP address in subject or description\n",
    "    if 'firewall' in subject or 'firewall' in description:\n",
    "        return 'firewall'\n",
    "    if re.search(r'\\b\\d{1,3}\\.\\d{1,3}\\.\\d{1,3}\\.\\d{1,3}\\b', subject) or re.search(r'\\b\\d{1,3}\\.\\d{1,3}\\.\\d{1,3}\\.\\d{1,3}\\b', description):\n",
    "        return 'firewall'\n",
    "    if 'network-security' in group or 'op-network-security' in service:\n",
    "        return 'firewall'\n",
    "    # Check for 'cloud' in any relevant column\n",
    "    if 'cloud' in group or 'vmaas' in service or 'cloud' in service:\n",
    "        return 'problem'\n",
    "    # Check for 'one' in any relevant column\n",
    "    if 'one-email' in group or 'one-email' in service:\n",
    "        return 'onemail'\n",
    "    # Default to 'other'\n",
    "    return 'other'\n",
    "\n",
    "# Apply the classification function\n",
    "df['label'] = df.apply(classify_ticket, axis=1)"
   ]
  },
  {
   "cell_type": "code",
   "execution_count": 8,
   "id": "589bd241",
   "metadata": {
    "execution": {
     "iopub.execute_input": "2024-07-31T10:12:07.240210Z",
     "iopub.status.busy": "2024-07-31T10:12:07.239583Z",
     "iopub.status.idle": "2024-07-31T10:12:07.298095Z",
     "shell.execute_reply": "2024-07-31T10:12:07.296860Z"
    },
    "papermill": {
     "duration": 0.072426,
     "end_time": "2024-07-31T10:12:07.300025",
     "exception": false,
     "start_time": "2024-07-31T10:12:07.227599",
     "status": "completed"
    },
    "tags": []
   },
   "outputs": [
    {
     "name": "stdout",
     "output_type": "stream",
     "text": [
      "label\n",
      "firewall    77098\n",
      "other       66399\n",
      "problem     65228\n",
      "onemail     13764\n",
      "Name: count, dtype: int64\n",
      "0\n"
     ]
    }
   ],
   "source": [
    "print(df['label'].value_counts())\n",
    "print(df['label'].isnull().sum())"
   ]
  },
  {
   "cell_type": "code",
   "execution_count": 9,
   "id": "065f6ccf",
   "metadata": {
    "execution": {
     "iopub.execute_input": "2024-07-31T10:12:07.323948Z",
     "iopub.status.busy": "2024-07-31T10:12:07.323672Z",
     "iopub.status.idle": "2024-07-31T10:12:07.591724Z",
     "shell.execute_reply": "2024-07-31T10:12:07.590939Z"
    },
    "papermill": {
     "duration": 0.28264,
     "end_time": "2024-07-31T10:12:07.593986",
     "exception": false,
     "start_time": "2024-07-31T10:12:07.311346",
     "status": "completed"
    },
    "tags": []
   },
   "outputs": [],
   "source": [
    "sample_size = 13500\n",
    "\n",
    "df_firewall = df[df['label'] == 'firewall'].sample(sample_size, random_state=42)\n",
    "df_problem = df[df['label'] == 'problem'].sample(sample_size, random_state=42)\n",
    "df_one = df[df['label'] == 'onemail'].sample(sample_size, random_state=42)\n",
    "df_other = df[df['label'] == 'other'].sample(sample_size, random_state=42)\n",
    "\n",
    "# Concatenate the samples into a new DataFrame\n",
    "df_balanced = pd.concat([df_problem, df_firewall, df_other, df_one])\n",
    "df_balanced = df_balanced.sample(frac=1, random_state=42).reset_index(drop=True)\n",
    "\n",
    "df = df_balanced.copy()"
   ]
  },
  {
   "cell_type": "markdown",
   "id": "cfc8bac6",
   "metadata": {
    "papermill": {
     "duration": 0.011014,
     "end_time": "2024-07-31T10:12:07.616618",
     "exception": false,
     "start_time": "2024-07-31T10:12:07.605604",
     "status": "completed"
    },
    "tags": []
   },
   "source": [
    "## clean"
   ]
  },
  {
   "cell_type": "code",
   "execution_count": 10,
   "id": "c075c153",
   "metadata": {
    "execution": {
     "iopub.execute_input": "2024-07-31T10:12:07.640024Z",
     "iopub.status.busy": "2024-07-31T10:12:07.639717Z",
     "iopub.status.idle": "2024-07-31T10:12:14.290929Z",
     "shell.execute_reply": "2024-07-31T10:12:14.290194Z"
    },
    "papermill": {
     "duration": 6.66556,
     "end_time": "2024-07-31T10:12:14.293226",
     "exception": false,
     "start_time": "2024-07-31T10:12:07.627666",
     "status": "completed"
    },
    "tags": []
   },
   "outputs": [],
   "source": [
    "import re\n",
    "\n",
    "def extract_email_subject(text):\n",
    "    # Ensure the input is a string\n",
    "    if not isinstance(text, str):\n",
    "        return \"\"\n",
    "    # Extract text after the last colon or bracket\n",
    "    match = re.search(r\"[:\\]]\\s*(.*)\", text)\n",
    "    return match.group(1).strip() if match else text\n",
    "\n",
    "def extract_email_body(text):\n",
    "    # Ensure the input is a string\n",
    "    if not isinstance(text, str):\n",
    "        return \"\"\n",
    "    \n",
    "    def extract_body(text):\n",
    "        end_pos = re.search(r\"(?i)(\\b(best regards|thanks|sincerely|see you soon|regards|ขอบคุณครับ|ขอบคุณค่ะ)\\b)\", text)\n",
    "        return text[:end_pos.start()].strip() if end_pos else text.strip()\n",
    "\n",
    "    # Check if the email format has headers\n",
    "    if re.search(r\"^(From|To|Subject|Date|Message-ID):\", text, re.MULTILINE):\n",
    "        text = re.sub(r\"Subject:.*\\n\", \"\", text, 1)  # Remove 'Subject:' line\n",
    "        text = re.sub(r\"-{50,}\", \"\", text)  # Remove delimiters\n",
    "    return extract_body(text)\n",
    "\n",
    "df['clean_subject'] = df['subject'].apply(extract_email_subject)\n",
    "df['clean_description'] = df['description'].apply(extract_email_body)"
   ]
  },
  {
   "cell_type": "code",
   "execution_count": 11,
   "id": "7987aad8",
   "metadata": {
    "execution": {
     "iopub.execute_input": "2024-07-31T10:12:14.316998Z",
     "iopub.status.busy": "2024-07-31T10:12:14.316728Z",
     "iopub.status.idle": "2024-07-31T10:12:14.418443Z",
     "shell.execute_reply": "2024-07-31T10:12:14.417641Z"
    },
    "papermill": {
     "duration": 0.116146,
     "end_time": "2024-07-31T10:12:14.420735",
     "exception": false,
     "start_time": "2024-07-31T10:12:14.304589",
     "status": "completed"
    },
    "tags": []
   },
   "outputs": [],
   "source": [
    "df['text'] = df['clean_subject'] + ' ' + df['clean_description']"
   ]
  },
  {
   "cell_type": "code",
   "execution_count": 12,
   "id": "b8d8087e",
   "metadata": {
    "execution": {
     "iopub.execute_input": "2024-07-31T10:12:14.444657Z",
     "iopub.status.busy": "2024-07-31T10:12:14.444388Z",
     "iopub.status.idle": "2024-07-31T10:12:42.123277Z",
     "shell.execute_reply": "2024-07-31T10:12:42.122461Z"
    },
    "papermill": {
     "duration": 27.693323,
     "end_time": "2024-07-31T10:12:42.125565",
     "exception": false,
     "start_time": "2024-07-31T10:12:14.432242",
     "status": "completed"
    },
    "tags": []
   },
   "outputs": [
    {
     "name": "stderr",
     "output_type": "stream",
     "text": [
      "2024-07-31 10:12:21.658830: E external/local_xla/xla/stream_executor/cuda/cuda_dnn.cc:9261] Unable to register cuDNN factory: Attempting to register factory for plugin cuDNN when one has already been registered\n",
      "2024-07-31 10:12:21.658931: E external/local_xla/xla/stream_executor/cuda/cuda_fft.cc:607] Unable to register cuFFT factory: Attempting to register factory for plugin cuFFT when one has already been registered\n",
      "2024-07-31 10:12:21.819055: E external/local_xla/xla/stream_executor/cuda/cuda_blas.cc:1515] Unable to register cuBLAS factory: Attempting to register factory for plugin cuBLAS when one has already been registered\n"
     ]
    },
    {
     "data": {
      "application/vnd.jupyter.widget-view+json": {
       "model_id": "c6d67cbbb57b4373a2af70474d9f6e59",
       "version_major": 2,
       "version_minor": 0
      },
      "text/plain": [
       "config.json:   0%|          | 0.00/615 [00:00<?, ?B/s]"
      ]
     },
     "metadata": {},
     "output_type": "display_data"
    },
    {
     "data": {
      "application/vnd.jupyter.widget-view+json": {
       "model_id": "88e3df7b92954a4c9421df36e247d335",
       "version_major": 2,
       "version_minor": 0
      },
      "text/plain": [
       "model.safetensors:   0%|          | 0.00/1.12G [00:00<?, ?B/s]"
      ]
     },
     "metadata": {},
     "output_type": "display_data"
    },
    {
     "name": "stderr",
     "output_type": "stream",
     "text": [
      "Some weights of XLMRobertaForSequenceClassification were not initialized from the model checkpoint at xlm-roberta-base and are newly initialized: ['classifier.dense.bias', 'classifier.dense.weight', 'classifier.out_proj.bias', 'classifier.out_proj.weight']\n",
      "You should probably TRAIN this model on a down-stream task to be able to use it for predictions and inference.\n"
     ]
    },
    {
     "data": {
      "application/vnd.jupyter.widget-view+json": {
       "model_id": "1a58994d464643b1be42e1f5644a11d8",
       "version_major": 2,
       "version_minor": 0
      },
      "text/plain": [
       "tokenizer_config.json:   0%|          | 0.00/25.0 [00:00<?, ?B/s]"
      ]
     },
     "metadata": {},
     "output_type": "display_data"
    },
    {
     "data": {
      "application/vnd.jupyter.widget-view+json": {
       "model_id": "5f0f65c30e8648e98b57a6e12ccd4d38",
       "version_major": 2,
       "version_minor": 0
      },
      "text/plain": [
       "sentencepiece.bpe.model:   0%|          | 0.00/5.07M [00:00<?, ?B/s]"
      ]
     },
     "metadata": {},
     "output_type": "display_data"
    },
    {
     "data": {
      "application/vnd.jupyter.widget-view+json": {
       "model_id": "ff3b92b78e7e48f59122b3125ed32389",
       "version_major": 2,
       "version_minor": 0
      },
      "text/plain": [
       "tokenizer.json:   0%|          | 0.00/9.10M [00:00<?, ?B/s]"
      ]
     },
     "metadata": {},
     "output_type": "display_data"
    }
   ],
   "source": [
    "import pandas as pd\n",
    "from transformers import XLMRobertaTokenizer, XLMRobertaForSequenceClassification, Trainer, TrainingArguments, TrainerCallback\n",
    "from sklearn.model_selection import train_test_split\n",
    "from sklearn.metrics import classification_report, confusion_matrix\n",
    "import torch\n",
    "\n",
    "num_labels = 4\n",
    "model = XLMRobertaForSequenceClassification.from_pretrained('xlm-roberta-base', num_labels=num_labels)\n",
    "tokenizer = XLMRobertaTokenizer.from_pretrained('xlm-roberta-base')"
   ]
  },
  {
   "cell_type": "code",
   "execution_count": 13,
   "id": "27493f9f",
   "metadata": {
    "execution": {
     "iopub.execute_input": "2024-07-31T10:12:42.151672Z",
     "iopub.status.busy": "2024-07-31T10:12:42.151075Z",
     "iopub.status.idle": "2024-07-31T10:14:05.789255Z",
     "shell.execute_reply": "2024-07-31T10:14:05.788207Z"
    },
    "papermill": {
     "duration": 83.654291,
     "end_time": "2024-07-31T10:14:05.792317",
     "exception": false,
     "start_time": "2024-07-31T10:12:42.138026",
     "status": "completed"
    },
    "tags": []
   },
   "outputs": [],
   "source": [
    "import numpy as np\n",
    "\n",
    "label_mapping = {'firewall': 0, 'problem': 1, 'other': 2, 'onemail': 3}  # Adjust based on actual label set\n",
    "df['label'] = df['label'].map(label_mapping)\n",
    "\n",
    "# Split the data into training, validation, and test sets\n",
    "train_df, test_val_df = train_test_split(df, test_size=0.3, random_state=42, stratify=df['label'])\n",
    "val_df, test_df = train_test_split(test_val_df, test_size=0.5, random_state=42, stratify=test_val_df['label'])\n",
    "def tokenize_function(examples):\n",
    "    return tokenizer(examples['text'], truncation=True, padding=True, max_length=512)\n",
    "\n",
    "# Apply tokenization\n",
    "train_texts = train_df['text'].tolist()\n",
    "train_labels = train_df['label'].tolist()\n",
    "\n",
    "val_texts = val_df['text'].tolist()\n",
    "val_labels = val_df['label'].tolist()\n",
    "\n",
    "test_texts = test_df['text'].tolist()\n",
    "test_labels = test_df['label'].tolist()\n",
    "\n",
    "train_encodings = tokenizer(train_texts, truncation=True, padding=True, max_length=512)\n",
    "val_encodings = tokenizer(val_texts, truncation=True, padding=True, max_length=512)\n",
    "test_encodings = tokenizer(test_texts, truncation=True, padding=True, max_length=512)"
   ]
  },
  {
   "cell_type": "code",
   "execution_count": 14,
   "id": "cd582fa9",
   "metadata": {
    "execution": {
     "iopub.execute_input": "2024-07-31T10:14:05.819222Z",
     "iopub.status.busy": "2024-07-31T10:14:05.818587Z",
     "iopub.status.idle": "2024-07-31T10:14:05.848941Z",
     "shell.execute_reply": "2024-07-31T10:14:05.848145Z"
    },
    "papermill": {
     "duration": 0.045773,
     "end_time": "2024-07-31T10:14:05.850932",
     "exception": false,
     "start_time": "2024-07-31T10:14:05.805159",
     "status": "completed"
    },
    "tags": []
   },
   "outputs": [
    {
     "name": "stdout",
     "output_type": "stream",
     "text": [
      "Input IDs shape: 37800\n",
      "Train labels shape: torch.Size([37800])\n"
     ]
    }
   ],
   "source": [
    "# Ensure labels are within range\n",
    "num_labels = 4\n",
    "train_labels = torch.tensor(train_labels, dtype=torch.long)\n",
    "val_labels = torch.tensor(val_labels, dtype=torch.long)\n",
    "\n",
    "assert all(0 <= label < num_labels for label in train_labels.numpy())\n",
    "assert all(0 <= label < num_labels for label in val_labels.numpy())\n",
    "\n",
    "# Check tensor shapes\n",
    "print(\"Input IDs shape:\", len(train_encodings['input_ids']))\n",
    "print(\"Train labels shape:\", train_labels.shape)"
   ]
  },
  {
   "cell_type": "code",
   "execution_count": 15,
   "id": "65c9b2ba",
   "metadata": {
    "execution": {
     "iopub.execute_input": "2024-07-31T10:14:05.876871Z",
     "iopub.status.busy": "2024-07-31T10:14:05.876180Z",
     "iopub.status.idle": "2024-07-31T10:14:05.882768Z",
     "shell.execute_reply": "2024-07-31T10:14:05.882030Z"
    },
    "papermill": {
     "duration": 0.021435,
     "end_time": "2024-07-31T10:14:05.884586",
     "exception": false,
     "start_time": "2024-07-31T10:14:05.863151",
     "status": "completed"
    },
    "tags": []
   },
   "outputs": [],
   "source": [
    "# Create datasets\n",
    "class CustomDataset(torch.utils.data.Dataset):\n",
    "    def __init__(self, encodings, labels):\n",
    "        self.encodings = encodings\n",
    "        self.labels = labels\n",
    "\n",
    "    def __getitem__(self, idx):\n",
    "        item = {key: torch.tensor(val[idx]) for key, val in self.encodings.items()}\n",
    "        item['labels'] = torch.tensor(self.labels[idx])\n",
    "        return item\n",
    "\n",
    "    def __len__(self):\n",
    "        return len(self.labels)\n",
    "\n",
    "train_dataset = CustomDataset(train_encodings, train_labels)\n",
    "val_dataset = CustomDataset(val_encodings, val_labels)\n",
    "test_dataset = CustomDataset(test_encodings, test_labels)"
   ]
  },
  {
   "cell_type": "code",
   "execution_count": 16,
   "id": "74fa2880",
   "metadata": {
    "execution": {
     "iopub.execute_input": "2024-07-31T10:14:05.909976Z",
     "iopub.status.busy": "2024-07-31T10:14:05.909705Z",
     "iopub.status.idle": "2024-07-31T10:14:19.796145Z",
     "shell.execute_reply": "2024-07-31T10:14:19.794715Z"
    },
    "papermill": {
     "duration": 13.901906,
     "end_time": "2024-07-31T10:14:19.798634",
     "exception": false,
     "start_time": "2024-07-31T10:14:05.896728",
     "status": "completed"
    },
    "tags": []
   },
   "outputs": [
    {
     "name": "stderr",
     "output_type": "stream",
     "text": [
      "/opt/conda/lib/python3.10/pty.py:89: RuntimeWarning: os.fork() was called. os.fork() is incompatible with multithreaded code, and JAX is multithreaded, so this will likely lead to a deadlock.\n",
      "  pid, fd = os.forkpty()\n"
     ]
    },
    {
     "name": "stdout",
     "output_type": "stream",
     "text": [
      "Collecting evaluate\r\n",
      "  Downloading evaluate-0.4.2-py3-none-any.whl.metadata (9.3 kB)\r\n",
      "Requirement already satisfied: datasets>=2.0.0 in /opt/conda/lib/python3.10/site-packages (from evaluate) (2.20.0)\r\n",
      "Requirement already satisfied: numpy>=1.17 in /opt/conda/lib/python3.10/site-packages (from evaluate) (1.26.4)\r\n",
      "Requirement already satisfied: dill in /opt/conda/lib/python3.10/site-packages (from evaluate) (0.3.8)\r\n",
      "Requirement already satisfied: pandas in /opt/conda/lib/python3.10/site-packages (from evaluate) (2.2.2)\r\n",
      "Requirement already satisfied: requests>=2.19.0 in /opt/conda/lib/python3.10/site-packages (from evaluate) (2.32.3)\r\n",
      "Requirement already satisfied: tqdm>=4.62.1 in /opt/conda/lib/python3.10/site-packages (from evaluate) (4.66.4)\r\n",
      "Requirement already satisfied: xxhash in /opt/conda/lib/python3.10/site-packages (from evaluate) (3.4.1)\r\n",
      "Requirement already satisfied: multiprocess in /opt/conda/lib/python3.10/site-packages (from evaluate) (0.70.16)\r\n",
      "Requirement already satisfied: fsspec>=2021.05.0 in /opt/conda/lib/python3.10/site-packages (from fsspec[http]>=2021.05.0->evaluate) (2024.5.0)\r\n",
      "Requirement already satisfied: huggingface-hub>=0.7.0 in /opt/conda/lib/python3.10/site-packages (from evaluate) (0.23.4)\r\n",
      "Requirement already satisfied: packaging in /opt/conda/lib/python3.10/site-packages (from evaluate) (21.3)\r\n",
      "Requirement already satisfied: filelock in /opt/conda/lib/python3.10/site-packages (from datasets>=2.0.0->evaluate) (3.13.1)\r\n",
      "Requirement already satisfied: pyarrow>=15.0.0 in /opt/conda/lib/python3.10/site-packages (from datasets>=2.0.0->evaluate) (16.1.0)\r\n",
      "Requirement already satisfied: pyarrow-hotfix in /opt/conda/lib/python3.10/site-packages (from datasets>=2.0.0->evaluate) (0.6)\r\n",
      "Requirement already satisfied: aiohttp in /opt/conda/lib/python3.10/site-packages (from datasets>=2.0.0->evaluate) (3.9.1)\r\n",
      "Requirement already satisfied: pyyaml>=5.1 in /opt/conda/lib/python3.10/site-packages (from datasets>=2.0.0->evaluate) (6.0.1)\r\n",
      "Requirement already satisfied: typing-extensions>=3.7.4.3 in /opt/conda/lib/python3.10/site-packages (from huggingface-hub>=0.7.0->evaluate) (4.9.0)\r\n",
      "Requirement already satisfied: pyparsing!=3.0.5,>=2.0.2 in /opt/conda/lib/python3.10/site-packages (from packaging->evaluate) (3.1.1)\r\n",
      "Requirement already satisfied: charset-normalizer<4,>=2 in /opt/conda/lib/python3.10/site-packages (from requests>=2.19.0->evaluate) (3.3.2)\r\n",
      "Requirement already satisfied: idna<4,>=2.5 in /opt/conda/lib/python3.10/site-packages (from requests>=2.19.0->evaluate) (3.6)\r\n",
      "Requirement already satisfied: urllib3<3,>=1.21.1 in /opt/conda/lib/python3.10/site-packages (from requests>=2.19.0->evaluate) (1.26.18)\r\n",
      "Requirement already satisfied: certifi>=2017.4.17 in /opt/conda/lib/python3.10/site-packages (from requests>=2.19.0->evaluate) (2024.7.4)\r\n",
      "Requirement already satisfied: python-dateutil>=2.8.2 in /opt/conda/lib/python3.10/site-packages (from pandas->evaluate) (2.9.0.post0)\r\n",
      "Requirement already satisfied: pytz>=2020.1 in /opt/conda/lib/python3.10/site-packages (from pandas->evaluate) (2023.3.post1)\r\n",
      "Requirement already satisfied: tzdata>=2022.7 in /opt/conda/lib/python3.10/site-packages (from pandas->evaluate) (2023.4)\r\n",
      "Requirement already satisfied: attrs>=17.3.0 in /opt/conda/lib/python3.10/site-packages (from aiohttp->datasets>=2.0.0->evaluate) (23.2.0)\r\n",
      "Requirement already satisfied: multidict<7.0,>=4.5 in /opt/conda/lib/python3.10/site-packages (from aiohttp->datasets>=2.0.0->evaluate) (6.0.4)\r\n",
      "Requirement already satisfied: yarl<2.0,>=1.0 in /opt/conda/lib/python3.10/site-packages (from aiohttp->datasets>=2.0.0->evaluate) (1.9.3)\r\n",
      "Requirement already satisfied: frozenlist>=1.1.1 in /opt/conda/lib/python3.10/site-packages (from aiohttp->datasets>=2.0.0->evaluate) (1.4.1)\r\n",
      "Requirement already satisfied: aiosignal>=1.1.2 in /opt/conda/lib/python3.10/site-packages (from aiohttp->datasets>=2.0.0->evaluate) (1.3.1)\r\n",
      "Requirement already satisfied: async-timeout<5.0,>=4.0 in /opt/conda/lib/python3.10/site-packages (from aiohttp->datasets>=2.0.0->evaluate) (4.0.3)\r\n",
      "Requirement already satisfied: six>=1.5 in /opt/conda/lib/python3.10/site-packages (from python-dateutil>=2.8.2->pandas->evaluate) (1.16.0)\r\n",
      "Downloading evaluate-0.4.2-py3-none-any.whl (84 kB)\r\n",
      "\u001b[2K   \u001b[90m━━━━━━━━━━━━━━━━━━━━━━━━━━━━━━━━━━━━━━━━\u001b[0m \u001b[32m84.1/84.1 kB\u001b[0m \u001b[31m2.9 MB/s\u001b[0m eta \u001b[36m0:00:00\u001b[0m\r\n",
      "\u001b[?25hInstalling collected packages: evaluate\r\n",
      "Successfully installed evaluate-0.4.2\r\n"
     ]
    }
   ],
   "source": [
    "!pip install evaluate"
   ]
  },
  {
   "cell_type": "code",
   "execution_count": 17,
   "id": "fe50423d",
   "metadata": {
    "execution": {
     "iopub.execute_input": "2024-07-31T10:14:19.827407Z",
     "iopub.status.busy": "2024-07-31T10:14:19.826830Z",
     "iopub.status.idle": "2024-07-31T10:14:22.162446Z",
     "shell.execute_reply": "2024-07-31T10:14:22.161552Z"
    },
    "papermill": {
     "duration": 2.352322,
     "end_time": "2024-07-31T10:14:22.164735",
     "exception": false,
     "start_time": "2024-07-31T10:14:19.812413",
     "status": "completed"
    },
    "tags": []
   },
   "outputs": [
    {
     "data": {
      "application/vnd.jupyter.widget-view+json": {
       "model_id": "15b9503027a746499aa05209ab0652b5",
       "version_major": 2,
       "version_minor": 0
      },
      "text/plain": [
       "Downloading builder script:   0%|          | 0.00/4.20k [00:00<?, ?B/s]"
      ]
     },
     "metadata": {},
     "output_type": "display_data"
    }
   ],
   "source": [
    "import os\n",
    "from transformers import Trainer, TrainingArguments, EarlyStoppingCallback\n",
    "import numpy as np\n",
    "import matplotlib.pyplot as plt\n",
    "from sklearn.metrics import classification_report\n",
    "import evaluate\n",
    "\n",
    "# Disable wandb\n",
    "os.environ[\"WANDB_DISABLED\"] = \"true\"\n",
    "\n",
    "# Define training arguments\n",
    "training_args = TrainingArguments(\n",
    "    output_dir='./results',           # Output directory\n",
    "    num_train_epochs=3,               # Number of training epochs\n",
    "    learning_rate=1e-5,\n",
    "    per_device_train_batch_size=16,   # Batch size for training\n",
    "    per_device_eval_batch_size=16,    # Batch size for evaluation\n",
    "    weight_decay=0.01,                # Strength of weight decay\n",
    "    logging_dir='./logs',             # Directory for storing logs\n",
    "    logging_steps=1000,\n",
    "    eval_strategy=\"epoch\",      # Evaluate every epoch\n",
    "    save_strategy=\"epoch\",            # Save checkpoint every epoch\n",
    "    save_total_limit=1,               # Only save the most recent checkpoint\n",
    "    report_to=\"none\",                 # Disable reporting to wandb and other services\n",
    "    load_best_model_at_end=True,      # Load the best model at the end of training\n",
    "    metric_for_best_model=\"accuracy\"\n",
    ")\n",
    "\n",
    "# Load the accuracy metric\n",
    "accuracy_metric = evaluate.load(\"accuracy\")\n",
    "\n",
    "# Define metrics\n",
    "def compute_metrics(eval_pred):\n",
    "    logits, labels = eval_pred\n",
    "    predictions = np.argmax(logits, axis=-1)\n",
    "    accuracy = accuracy_metric.compute(predictions=predictions, references=labels)\n",
    "    report = classification_report(labels, predictions, output_dict=True)\n",
    "    # Combine accuracy with the classification report\n",
    "    return {**accuracy, **{key: value for key, value in report.items() if isinstance(value, (int, float))}}\n",
    "\n",
    "# Initialize the Trainer\n",
    "trainer = Trainer(\n",
    "    model=model,\n",
    "    args=training_args,\n",
    "    train_dataset=train_dataset,\n",
    "    eval_dataset=val_dataset,\n",
    "    compute_metrics=compute_metrics,\n",
    "    callbacks=[EarlyStoppingCallback(early_stopping_patience=3)]\n",
    ")\n"
   ]
  },
  {
   "cell_type": "markdown",
   "id": "e9c45432",
   "metadata": {
    "papermill": {
     "duration": 0.013094,
     "end_time": "2024-07-31T10:14:22.191443",
     "exception": false,
     "start_time": "2024-07-31T10:14:22.178349",
     "status": "completed"
    },
    "tags": []
   },
   "source": [
    "## train"
   ]
  },
  {
   "cell_type": "code",
   "execution_count": 18,
   "id": "5ec11adc",
   "metadata": {
    "execution": {
     "iopub.execute_input": "2024-07-31T10:14:22.220281Z",
     "iopub.status.busy": "2024-07-31T10:14:22.219774Z",
     "iopub.status.idle": "2024-07-31T12:02:29.352632Z",
     "shell.execute_reply": "2024-07-31T12:02:29.351510Z"
    },
    "papermill": {
     "duration": 6487.164747,
     "end_time": "2024-07-31T12:02:29.369374",
     "exception": false,
     "start_time": "2024-07-31T10:14:22.204627",
     "status": "completed"
    },
    "tags": []
   },
   "outputs": [
    {
     "name": "stderr",
     "output_type": "stream",
     "text": [
      "/tmp/ipykernel_24/581508825.py:9: UserWarning: To copy construct from a tensor, it is recommended to use sourceTensor.clone().detach() or sourceTensor.clone().detach().requires_grad_(True), rather than torch.tensor(sourceTensor).\n",
      "  item['labels'] = torch.tensor(self.labels[idx])\n",
      "/opt/conda/lib/python3.10/site-packages/torch/nn/parallel/_functions.py:68: UserWarning: Was asked to gather along dimension 0, but all input tensors were scalars; will instead unsqueeze and return a vector.\n",
      "  warnings.warn('Was asked to gather along dimension 0, but all '\n"
     ]
    },
    {
     "data": {
      "text/html": [
       "\n",
       "    <div>\n",
       "      \n",
       "      <progress value='3546' max='3546' style='width:300px; height:20px; vertical-align: middle;'></progress>\n",
       "      [3546/3546 1:48:03, Epoch 3/3]\n",
       "    </div>\n",
       "    <table border=\"1\" class=\"dataframe\">\n",
       "  <thead>\n",
       " <tr style=\"text-align: left;\">\n",
       "      <th>Epoch</th>\n",
       "      <th>Training Loss</th>\n",
       "      <th>Validation Loss</th>\n",
       "      <th>Accuracy</th>\n",
       "    </tr>\n",
       "  </thead>\n",
       "  <tbody>\n",
       "    <tr>\n",
       "      <td>1</td>\n",
       "      <td>0.461600</td>\n",
       "      <td>0.267096</td>\n",
       "      <td>0.898395</td>\n",
       "    </tr>\n",
       "    <tr>\n",
       "      <td>2</td>\n",
       "      <td>0.243200</td>\n",
       "      <td>0.233080</td>\n",
       "      <td>0.919012</td>\n",
       "    </tr>\n",
       "    <tr>\n",
       "      <td>3</td>\n",
       "      <td>0.203700</td>\n",
       "      <td>0.228808</td>\n",
       "      <td>0.920617</td>\n",
       "    </tr>\n",
       "  </tbody>\n",
       "</table><p>"
      ],
      "text/plain": [
       "<IPython.core.display.HTML object>"
      ]
     },
     "metadata": {},
     "output_type": "display_data"
    },
    {
     "name": "stderr",
     "output_type": "stream",
     "text": [
      "/tmp/ipykernel_24/581508825.py:9: UserWarning: To copy construct from a tensor, it is recommended to use sourceTensor.clone().detach() or sourceTensor.clone().detach().requires_grad_(True), rather than torch.tensor(sourceTensor).\n",
      "  item['labels'] = torch.tensor(self.labels[idx])\n",
      "/opt/conda/lib/python3.10/site-packages/torch/nn/parallel/_functions.py:68: UserWarning: Was asked to gather along dimension 0, but all input tensors were scalars; will instead unsqueeze and return a vector.\n",
      "  warnings.warn('Was asked to gather along dimension 0, but all '\n",
      "/tmp/ipykernel_24/581508825.py:9: UserWarning: To copy construct from a tensor, it is recommended to use sourceTensor.clone().detach() or sourceTensor.clone().detach().requires_grad_(True), rather than torch.tensor(sourceTensor).\n",
      "  item['labels'] = torch.tensor(self.labels[idx])\n",
      "/opt/conda/lib/python3.10/site-packages/torch/nn/parallel/_functions.py:68: UserWarning: Was asked to gather along dimension 0, but all input tensors were scalars; will instead unsqueeze and return a vector.\n",
      "  warnings.warn('Was asked to gather along dimension 0, but all '\n",
      "/tmp/ipykernel_24/581508825.py:9: UserWarning: To copy construct from a tensor, it is recommended to use sourceTensor.clone().detach() or sourceTensor.clone().detach().requires_grad_(True), rather than torch.tensor(sourceTensor).\n",
      "  item['labels'] = torch.tensor(self.labels[idx])\n",
      "/opt/conda/lib/python3.10/site-packages/torch/nn/parallel/_functions.py:68: UserWarning: Was asked to gather along dimension 0, but all input tensors were scalars; will instead unsqueeze and return a vector.\n",
      "  warnings.warn('Was asked to gather along dimension 0, but all '\n"
     ]
    },
    {
     "data": {
      "text/plain": [
       "TrainOutput(global_step=3546, training_loss=0.28700368658540215, metrics={'train_runtime': 6485.8581, 'train_samples_per_second': 17.484, 'train_steps_per_second': 0.547, 'total_flos': 2.98373294628864e+16, 'train_loss': 0.28700368658540215, 'epoch': 3.0})"
      ]
     },
     "execution_count": 18,
     "metadata": {},
     "output_type": "execute_result"
    }
   ],
   "source": [
    "# Train the model\n",
    "trainer.train()"
   ]
  },
  {
   "cell_type": "code",
   "execution_count": 19,
   "id": "8d0bbe1f",
   "metadata": {
    "execution": {
     "iopub.execute_input": "2024-07-31T12:02:29.401118Z",
     "iopub.status.busy": "2024-07-31T12:02:29.400218Z",
     "iopub.status.idle": "2024-07-31T12:02:30.071998Z",
     "shell.execute_reply": "2024-07-31T12:02:30.071080Z"
    },
    "papermill": {
     "duration": 0.689734,
     "end_time": "2024-07-31T12:02:30.074331",
     "exception": false,
     "start_time": "2024-07-31T12:02:29.384597",
     "status": "completed"
    },
    "tags": []
   },
   "outputs": [
    {
     "data": {
      "image/png": "[encoded data removed]",
      "text/plain": [
       "<Figure size 1400x600 with 2 Axes>"
      ]
     },
     "metadata": {},
     "output_type": "display_data"
    }
   ],
   "source": [
    "# Extract training logs\n",
    "log_history = trainer.state.log_history\n",
    "\n",
    "# Initialize lists to store data\n",
    "epochs = []\n",
    "train_losses = []\n",
    "val_losses = []\n",
    "accuracies = []\n",
    "\n",
    "# Extract data from log history\n",
    "for log in log_history:\n",
    "    if 'epoch' in log:\n",
    "        epochs.append(log['epoch'])\n",
    "    if 'loss' in log:\n",
    "        train_losses.append(log['loss'])\n",
    "    if 'eval_loss' in log:\n",
    "        val_losses.append(log['eval_loss'])\n",
    "    if 'eval_accuracy' in log:\n",
    "        accuracies.append(log['eval_accuracy'])\n",
    "\n",
    "# Ensure the lists are of the same length by filtering out None values\n",
    "filtered_data = [(e, tl, vl, acc) for e, tl, vl, acc in zip(epochs, train_losses, val_losses, accuracies)\n",
    "                 if tl is not None and vl is not None and acc is not None]\n",
    "\n",
    "if not filtered_data:\n",
    "    print(\"No valid data found.\")\n",
    "else:\n",
    "    epochs, train_losses, val_losses, accuracies = zip(*filtered_data)\n",
    "\n",
    "    # Create a figure and axes for subplots\n",
    "    fig, (ax1, ax2) = plt.subplots(1, 2, figsize=(14, 6), sharex=True)\n",
    "\n",
    "    # Plot Training and Validation Loss\n",
    "    ax1.plot(epochs, train_losses, label='Training Loss', marker='o')\n",
    "    ax1.plot(epochs, val_losses, label='Validation Loss', marker='o')\n",
    "    ax1.set_xlabel('Epoch')\n",
    "    ax1.set_ylabel('Loss')\n",
    "    ax1.set_title('Training and Validation Loss')\n",
    "    ax1.legend()\n",
    "    ax1.grid(True)\n",
    "\n",
    "    # Plot Accuracy\n",
    "    ax2.plot(epochs, accuracies, label='Accuracy', marker='o', color='orange')\n",
    "    ax2.set_xlabel('Epoch')\n",
    "    ax2.set_ylabel('Accuracy')\n",
    "    ax2.set_title('Accuracy')\n",
    "    ax2.legend()\n",
    "    ax2.grid(True)\n",
    "\n",
    "    # Show the plots\n",
    "    plt.tight_layout()\n",
    "    plt.show()\n"
   ]
  },
  {
   "cell_type": "code",
   "execution_count": 20,
   "id": "e929df6c",
   "metadata": {
    "execution": {
     "iopub.execute_input": "2024-07-31T12:02:30.106541Z",
     "iopub.status.busy": "2024-07-31T12:02:30.105872Z",
     "iopub.status.idle": "2024-07-31T12:02:33.203715Z",
     "shell.execute_reply": "2024-07-31T12:02:33.202680Z"
    },
    "papermill": {
     "duration": 3.116143,
     "end_time": "2024-07-31T12:02:33.205725",
     "exception": false,
     "start_time": "2024-07-31T12:02:30.089582",
     "status": "completed"
    },
    "tags": []
   },
   "outputs": [
    {
     "name": "stdout",
     "output_type": "stream",
     "text": [
      "Model and tokenizer saved to ./saved_model\n"
     ]
    }
   ],
   "source": [
    "# Save the model\n",
    "model_save_path = './saved_model'\n",
    "trainer.save_model(model_save_path)\n",
    "tokenizer.save_pretrained(model_save_path)\n",
    "\n",
    "print(f\"Model and tokenizer saved to {model_save_path}\")"
   ]
  },
  {
   "cell_type": "code",
   "execution_count": 21,
   "id": "d2c561eb",
   "metadata": {
    "execution": {
     "iopub.execute_input": "2024-07-31T12:02:33.239652Z",
     "iopub.status.busy": "2024-07-31T12:02:33.238903Z",
     "iopub.status.idle": "2024-07-31T12:07:27.744951Z",
     "shell.execute_reply": "2024-07-31T12:07:27.744004Z"
    },
    "papermill": {
     "duration": 294.524957,
     "end_time": "2024-07-31T12:07:27.746935",
     "exception": false,
     "start_time": "2024-07-31T12:02:33.221978",
     "status": "completed"
    },
    "tags": []
   },
   "outputs": [
    {
     "name": "stderr",
     "output_type": "stream",
     "text": [
      "/tmp/ipykernel_24/581508825.py:9: UserWarning: To copy construct from a tensor, it is recommended to use sourceTensor.clone().detach() or sourceTensor.clone().detach().requires_grad_(True), rather than torch.tensor(sourceTensor).\n",
      "  item['labels'] = torch.tensor(self.labels[idx])\n",
      "/opt/conda/lib/python3.10/site-packages/torch/nn/parallel/_functions.py:68: UserWarning: Was asked to gather along dimension 0, but all input tensors were scalars; will instead unsqueeze and return a vector.\n",
      "  warnings.warn('Was asked to gather along dimension 0, but all '\n"
     ]
    },
    {
     "data": {
      "text/html": [],
      "text/plain": [
       "<IPython.core.display.HTML object>"
      ]
     },
     "metadata": {},
     "output_type": "display_data"
    },
    {
     "name": "stderr",
     "output_type": "stream",
     "text": [
      "/tmp/ipykernel_24/581508825.py:9: UserWarning: To copy construct from a tensor, it is recommended to use sourceTensor.clone().detach() or sourceTensor.clone().detach().requires_grad_(True), rather than torch.tensor(sourceTensor).\n",
      "  item['labels'] = torch.tensor(self.labels[idx])\n",
      "/opt/conda/lib/python3.10/site-packages/torch/nn/parallel/_functions.py:68: UserWarning: Was asked to gather along dimension 0, but all input tensors were scalars; will instead unsqueeze and return a vector.\n",
      "  warnings.warn('Was asked to gather along dimension 0, but all '\n"
     ]
    },
    {
     "name": "stdout",
     "output_type": "stream",
     "text": [
      "              precision    recall  f1-score   support\n",
      "\n",
      "    firewall       0.94      0.83      0.88      2025\n",
      "     problem       0.83      0.92      0.87      2025\n",
      "       other       0.96      0.96      0.96      2025\n",
      "     onemail       0.96      0.98      0.97      2025\n",
      "\n",
      "    accuracy                           0.92      8100\n",
      "   macro avg       0.92      0.92      0.92      8100\n",
      "weighted avg       0.92      0.92      0.92      8100\n",
      "\n"
     ]
    }
   ],
   "source": [
    "# Evaluate the model\n",
    "eval_results = trainer.evaluate()\n",
    "\n",
    "# Print classification report\n",
    "val_preds = trainer.predict(val_dataset)\n",
    "val_pred_labels = np.argmax(val_preds.predictions, axis=1)\n",
    "print(classification_report(val_labels, val_pred_labels, target_names=list(label_mapping.keys())))"
   ]
  },
  {
   "cell_type": "code",
   "execution_count": 22,
   "id": "5e1409c6",
   "metadata": {
    "execution": {
     "iopub.execute_input": "2024-07-31T12:07:27.779774Z",
     "iopub.status.busy": "2024-07-31T12:07:27.779507Z",
     "iopub.status.idle": "2024-07-31T12:07:28.325299Z",
     "shell.execute_reply": "2024-07-31T12:07:28.324403Z"
    },
    "papermill": {
     "duration": 0.564459,
     "end_time": "2024-07-31T12:07:28.327473",
     "exception": false,
     "start_time": "2024-07-31T12:07:27.763014",
     "status": "completed"
    },
    "tags": []
   },
   "outputs": [
    {
     "data": {
      "image/png": "[encoded data removed]",
      "text/plain": [
       "<Figure size 1000x800 with 2 Axes>"
      ]
     },
     "metadata": {},
     "output_type": "display_data"
    }
   ],
   "source": [
    "import numpy as np\n",
    "import matplotlib.pyplot as plt\n",
    "import seaborn as sns\n",
    "from sklearn.metrics import confusion_matrix, classification_report\n",
    "\n",
    "# Compute the confusion matrix\n",
    "conf_matrix = confusion_matrix(val_labels, val_pred_labels)\n",
    "\n",
    "# Plot the confusion matrix\n",
    "plt.figure(figsize=(10, 8))\n",
    "sns.heatmap(conf_matrix, annot=True, fmt='d', cmap='Blues', xticklabels=list(label_mapping.values()), yticklabels=list(label_mapping.values()))\n",
    "plt.xlabel('Predicted Labels')\n",
    "plt.ylabel('True Labels')\n",
    "plt.title('Confusion Matrix')\n",
    "plt.show()"
   ]
  },
  {
   "cell_type": "markdown",
   "id": "2e77a0f2",
   "metadata": {
    "papermill": {
     "duration": 0.016682,
     "end_time": "2024-07-31T12:07:28.361297",
     "exception": false,
     "start_time": "2024-07-31T12:07:28.344615",
     "status": "completed"
    },
    "tags": []
   },
   "source": [
    "## test"
   ]
  },
  {
   "cell_type": "code",
   "execution_count": 23,
   "id": "3cb55e6f",
   "metadata": {
    "execution": {
     "iopub.execute_input": "2024-07-31T12:07:28.396469Z",
     "iopub.status.busy": "2024-07-31T12:07:28.396090Z",
     "iopub.status.idle": "2024-07-31T12:07:28.758075Z",
     "shell.execute_reply": "2024-07-31T12:07:28.757029Z"
    },
    "papermill": {
     "duration": 0.381974,
     "end_time": "2024-07-31T12:07:28.760138",
     "exception": false,
     "start_time": "2024-07-31T12:07:28.378164",
     "status": "completed"
    },
    "tags": []
   },
   "outputs": [
    {
     "data": {
      "text/html": [
       "<div>\n",
       "<style scoped>\n",
       "    .dataframe tbody tr th:only-of-type {\n",
       "        vertical-align: middle;\n",
       "    }\n",
       "\n",
       "    .dataframe tbody tr th {\n",
       "        vertical-align: top;\n",
       "    }\n",
       "\n",
       "    .dataframe thead th {\n",
       "        text-align: right;\n",
       "    }\n",
       "</style>\n",
       "<table border=\"1\" class=\"dataframe\">\n",
       "  <thead>\n",
       "    <tr style=\"text-align: right;\">\n",
       "      <th></th>\n",
       "      <th>ticket_no</th>\n",
       "      <th>subject</th>\n",
       "      <th>description</th>\n",
       "      <th>type</th>\n",
       "    </tr>\n",
       "  </thead>\n",
       "  <tbody>\n",
       "    <tr>\n",
       "      <th>0</th>\n",
       "      <td>230609348</td>\n",
       "      <td>Southland Rubber : รบกวนดำเนินการ allow IP 203...</td>\n",
       "      <td>From: Pairat Wattana &lt;pairat.wa@barrelofexcell...</td>\n",
       "      <td>Cloud_issue</td>\n",
       "    </tr>\n",
       "    <tr>\n",
       "      <th>1</th>\n",
       "      <td>240318207</td>\n",
       "      <td>GetOn : รบกวนขอ Report Performance ประจำเดือน ...</td>\n",
       "      <td>From: Prapaporn Panthap &lt;Prapaporn@innoco.co.t...</td>\n",
       "      <td>Cloud_issue</td>\n",
       "    </tr>\n",
       "    <tr>\n",
       "      <th>2</th>\n",
       "      <td>230227126</td>\n",
       "      <td>Summit Computer :แจ้งขอเข้าดำเนินการบำรุงรักษา...</td>\n",
       "      <td>From: Pisit Phantapanichakul &lt;pisit@summitthai...</td>\n",
       "      <td>Other</td>\n",
       "    </tr>\n",
       "    <tr>\n",
       "      <th>3</th>\n",
       "      <td>230316227</td>\n",
       "      <td>Photonics Science : สอบถามวิธีการตรวจสอบ Acco...</td>\n",
       "      <td>From: &lt;chalit.s@photonics-science.com&gt;\\nTo: \"'...</td>\n",
       "      <td>One_Email</td>\n",
       "    </tr>\n",
       "    <tr>\n",
       "      <th>4</th>\n",
       "      <td>230220289</td>\n",
       "      <td>INTERNET COMMUNICATION : Access INET-IDC2 ในวั...</td>\n",
       "      <td>From: &lt;surapong@internetcom.co.th&gt;\\nTo: &lt;noc@i...</td>\n",
       "      <td>Other</td>\n",
       "    </tr>\n",
       "    <tr>\n",
       "      <th>...</th>\n",
       "      <td>...</td>\n",
       "      <td>...</td>\n",
       "      <td>...</td>\n",
       "      <td>...</td>\n",
       "    </tr>\n",
       "    <tr>\n",
       "      <th>3995</th>\n",
       "      <td>230328172</td>\n",
       "      <td>INETMS : รบกวนสร้าง E-mail</td>\n",
       "      <td>From: Linda Groen &lt;linda.gr@inetms.co.th&gt;\\nTo:...</td>\n",
       "      <td>One_Email</td>\n",
       "    </tr>\n",
       "    <tr>\n",
       "      <th>3996</th>\n",
       "      <td>220503121</td>\n",
       "      <td>SCG [SD] : รบกวนขอรูปภาพ ตู้ C100 D100</td>\n",
       "      <td>From: \"Pichitpon Simma\" &lt;pichitpon.si@inet.co....</td>\n",
       "      <td>Other</td>\n",
       "    </tr>\n",
       "    <tr>\n",
       "      <th>3997</th>\n",
       "      <td>230322206</td>\n",
       "      <td>[Closed][OP-Sec] INET-INTERNAL : แจ้งรบกวนขอ L...</td>\n",
       "      <td>From: Peerapon Meekaew &lt;peerapon.me@inet.co.th...</td>\n",
       "      <td>VFW</td>\n",
       "    </tr>\n",
       "    <tr>\n",
       "      <th>3998</th>\n",
       "      <td>24060321</td>\n",
       "      <td>Genex Infotech : NOC ได้รับ Alert VM : [PRD_Ge...</td>\n",
       "      <td>\\n\\nFrom: \"Cloud Monitor\" &lt;Cloud-Monitor@inet....</td>\n",
       "      <td>Cloud_issue</td>\n",
       "    </tr>\n",
       "    <tr>\n",
       "      <th>3999</th>\n",
       "      <td>23071178</td>\n",
       "      <td>M-Focus  : แจ้งไม่สามารถส่งเมล์หาลูกค้าได้ syo...</td>\n",
       "      <td>From: &lt;wichien@m-focus.co.th&gt;\\nTo: &lt;noc@inet.c...</td>\n",
       "      <td>One_Email</td>\n",
       "    </tr>\n",
       "  </tbody>\n",
       "</table>\n",
       "<p>4000 rows × 4 columns</p>\n",
       "</div>"
      ],
      "text/plain": [
       "      ticket_no                                            subject  \\\n",
       "0     230609348  Southland Rubber : รบกวนดำเนินการ allow IP 203...   \n",
       "1     240318207  GetOn : รบกวนขอ Report Performance ประจำเดือน ...   \n",
       "2     230227126  Summit Computer :แจ้งขอเข้าดำเนินการบำรุงรักษา...   \n",
       "3     230316227   Photonics Science : สอบถามวิธีการตรวจสอบ Acco...   \n",
       "4     230220289  INTERNET COMMUNICATION : Access INET-IDC2 ในวั...   \n",
       "...         ...                                                ...   \n",
       "3995  230328172                         INETMS : รบกวนสร้าง E-mail   \n",
       "3996  220503121             SCG [SD] : รบกวนขอรูปภาพ ตู้ C100 D100   \n",
       "3997  230322206  [Closed][OP-Sec] INET-INTERNAL : แจ้งรบกวนขอ L...   \n",
       "3998   24060321  Genex Infotech : NOC ได้รับ Alert VM : [PRD_Ge...   \n",
       "3999   23071178  M-Focus  : แจ้งไม่สามารถส่งเมล์หาลูกค้าได้ syo...   \n",
       "\n",
       "                                            description         type  \n",
       "0     From: Pairat Wattana <pairat.wa@barrelofexcell...  Cloud_issue  \n",
       "1     From: Prapaporn Panthap <Prapaporn@innoco.co.t...  Cloud_issue  \n",
       "2     From: Pisit Phantapanichakul <pisit@summitthai...        Other  \n",
       "3     From: <chalit.s@photonics-science.com>\\nTo: \"'...    One_Email  \n",
       "4     From: <surapong@internetcom.co.th>\\nTo: <noc@i...        Other  \n",
       "...                                                 ...          ...  \n",
       "3995  From: Linda Groen <linda.gr@inetms.co.th>\\nTo:...    One_Email  \n",
       "3996  From: \"Pichitpon Simma\" <pichitpon.si@inet.co....        Other  \n",
       "3997  From: Peerapon Meekaew <peerapon.me@inet.co.th...          VFW  \n",
       "3998  \\n\\nFrom: \"Cloud Monitor\" <Cloud-Monitor@inet....  Cloud_issue  \n",
       "3999  From: <wichien@m-focus.co.th>\\nTo: <noc@inet.c...    One_Email  \n",
       "\n",
       "[4000 rows x 4 columns]"
      ]
     },
     "execution_count": 23,
     "metadata": {},
     "output_type": "execute_result"
    }
   ],
   "source": [
    "testdata = pd.read_csv('/kaggle/input/ticket/df_test_emailv2.csv')\n",
    "testdata"
   ]
  },
  {
   "cell_type": "code",
   "execution_count": 24,
   "id": "db39ea6a",
   "metadata": {
    "execution": {
     "iopub.execute_input": "2024-07-31T12:07:28.795868Z",
     "iopub.status.busy": "2024-07-31T12:07:28.795583Z",
     "iopub.status.idle": "2024-07-31T12:07:28.809386Z",
     "shell.execute_reply": "2024-07-31T12:07:28.808569Z"
    },
    "papermill": {
     "duration": 0.033499,
     "end_time": "2024-07-31T12:07:28.811178",
     "exception": false,
     "start_time": "2024-07-31T12:07:28.777679",
     "status": "completed"
    },
    "tags": []
   },
   "outputs": [
    {
     "data": {
      "text/plain": [
       "label\n",
       "1    1000\n",
       "2    1000\n",
       "3    1000\n",
       "0    1000\n",
       "Name: count, dtype: int64"
      ]
     },
     "execution_count": 24,
     "metadata": {},
     "output_type": "execute_result"
    }
   ],
   "source": [
    "# Create a mapping for the new labels\n",
    "new_label_mapping = {\n",
    "    'Cloud_issue': 'problem',\n",
    "    'VFW': 'firewall',\n",
    "    'One_Email': 'onemail',\n",
    "    'Other': 'other'\n",
    "}\n",
    "\n",
    "# Reverse the label mapping used in training\n",
    "reverse_label_mapping = {v: k for k, v in label_mapping.items()}\n",
    "\n",
    "# Convert the new labels to the format used in the training data\n",
    "testdata['label'] = testdata['type'].map(new_label_mapping).map(label_mapping)\n",
    "testdata['label'].value_counts()"
   ]
  },
  {
   "cell_type": "code",
   "execution_count": 25,
   "id": "045dde78",
   "metadata": {
    "execution": {
     "iopub.execute_input": "2024-07-31T12:07:28.845579Z",
     "iopub.status.busy": "2024-07-31T12:07:28.845321Z",
     "iopub.status.idle": "2024-07-31T12:07:35.257645Z",
     "shell.execute_reply": "2024-07-31T12:07:35.256519Z"
    },
    "papermill": {
     "duration": 6.432298,
     "end_time": "2024-07-31T12:07:35.260376",
     "exception": false,
     "start_time": "2024-07-31T12:07:28.828078",
     "status": "completed"
    },
    "tags": []
   },
   "outputs": [],
   "source": [
    "# Apply preprocessing\n",
    "testdata['clean_subject'] = testdata['subject'].apply(extract_email_subject)\n",
    "testdata['clean_description'] = testdata['description'].apply(extract_email_body)\n",
    "\n",
    "# Combine the cleaned subject and description into a single text field\n",
    "testdata['text'] = testdata['clean_subject'] + ' ' + testdata['clean_description']\n",
    "# Tokenize the new data\n",
    "test_encodings = tokenizer(testdata['text'].tolist(), truncation=True, padding=True, max_length=512)"
   ]
  },
  {
   "cell_type": "code",
   "execution_count": 26,
   "id": "c6890292",
   "metadata": {
    "execution": {
     "iopub.execute_input": "2024-07-31T12:07:35.295567Z",
     "iopub.status.busy": "2024-07-31T12:07:35.295257Z",
     "iopub.status.idle": "2024-07-31T12:07:35.377542Z",
     "shell.execute_reply": "2024-07-31T12:07:35.376723Z"
    },
    "papermill": {
     "duration": 0.102129,
     "end_time": "2024-07-31T12:07:35.379541",
     "exception": false,
     "start_time": "2024-07-31T12:07:35.277412",
     "status": "completed"
    },
    "tags": []
   },
   "outputs": [],
   "source": [
    "class CustomTestDataset(torch.utils.data.Dataset):\n",
    "    def __init__(self, encodings):\n",
    "        self.encodings = encodings\n",
    "\n",
    "    def __getitem__(self, idx):\n",
    "        item = {key: torch.tensor(val[idx]) for key, val in self.encodings.items()}\n",
    "        return item\n",
    "\n",
    "    def __len__(self):\n",
    "        return len(self.encodings['input_ids'])\n",
    "\n",
    "test_dataset = CustomTestDataset(test_encodings)"
   ]
  },
  {
   "cell_type": "code",
   "execution_count": 27,
   "id": "4fc8db84",
   "metadata": {
    "execution": {
     "iopub.execute_input": "2024-07-31T12:07:35.413967Z",
     "iopub.status.busy": "2024-07-31T12:07:35.413713Z",
     "iopub.status.idle": "2024-07-31T12:08:48.711345Z",
     "shell.execute_reply": "2024-07-31T12:08:48.710624Z"
    },
    "papermill": {
     "duration": 73.317508,
     "end_time": "2024-07-31T12:08:48.713607",
     "exception": false,
     "start_time": "2024-07-31T12:07:35.396099",
     "status": "completed"
    },
    "tags": []
   },
   "outputs": [
    {
     "data": {
      "text/html": [],
      "text/plain": [
       "<IPython.core.display.HTML object>"
      ]
     },
     "metadata": {},
     "output_type": "display_data"
    }
   ],
   "source": [
    "# Make predictions\n",
    "test_preds = trainer.predict(test_dataset)\n",
    "test_pred_labels = np.argmax(test_preds.predictions, axis=1)\n",
    "\n",
    "# Map the predicted labels back to the original class names\n",
    "predicted_labels = [reverse_label_mapping[label] for label in test_pred_labels]\n",
    "\n",
    "# Create a DataFrame with predictions\n",
    "testdata['predicted_label'] = predicted_labels"
   ]
  },
  {
   "cell_type": "code",
   "execution_count": 28,
   "id": "c9f165e4",
   "metadata": {
    "execution": {
     "iopub.execute_input": "2024-07-31T12:08:48.748868Z",
     "iopub.status.busy": "2024-07-31T12:08:48.748569Z",
     "iopub.status.idle": "2024-07-31T12:08:49.108728Z",
     "shell.execute_reply": "2024-07-31T12:08:49.107865Z"
    },
    "papermill": {
     "duration": 0.379901,
     "end_time": "2024-07-31T12:08:49.110760",
     "exception": false,
     "start_time": "2024-07-31T12:08:48.730859",
     "status": "completed"
    },
    "tags": []
   },
   "outputs": [
    {
     "name": "stdout",
     "output_type": "stream",
     "text": [
      "              precision    recall  f1-score   support\n",
      "\n",
      "    firewall       0.86      0.97      0.91      1000\n",
      "     problem       0.94      0.94      0.94      1000\n",
      "       other       0.98      0.97      0.97      1000\n",
      "     onemail       1.00      0.90      0.94      1000\n",
      "\n",
      "    accuracy                           0.94      4000\n",
      "   macro avg       0.95      0.94      0.94      4000\n",
      "weighted avg       0.95      0.94      0.94      4000\n",
      "\n"
     ]
    },
    {
     "data": {
      "image/png": "[encoded data removed]",
      "text/plain": [
       "<Figure size 1000x800 with 2 Axes>"
      ]
     },
     "metadata": {},
     "output_type": "display_data"
    }
   ],
   "source": [
    "from sklearn.metrics import classification_report, confusion_matrix\n",
    "import seaborn as sns\n",
    "import matplotlib.pyplot as plt\n",
    "\n",
    "# Assuming you have ground truth labels in a column named 'true_label'\n",
    "# Compute the confusion matrix\n",
    "conf_matrix = confusion_matrix(testdata['label'], test_pred_labels)\n",
    "\n",
    "# Print the classification report\n",
    "print(classification_report(testdata['label'], test_pred_labels, target_names=list(label_mapping.keys())))\n",
    "\n",
    "# Plot the confusion matrix\n",
    "plt.figure(figsize=(10, 8))\n",
    "sns.heatmap(conf_matrix, annot=True, fmt='d', cmap='Blues', xticklabels=list(label_mapping.keys()), yticklabels=list(label_mapping.keys()))\n",
    "plt.xlabel('Predicted Labels')\n",
    "plt.ylabel('True Labels')\n",
    "plt.title('Confusion Matrix')\n",
    "plt.show()"
   ]
  },
  {
   "cell_type": "code",
   "execution_count": 29,
   "id": "f5b190ad",
   "metadata": {
    "execution": {
     "iopub.execute_input": "2024-07-31T12:08:49.147968Z",
     "iopub.status.busy": "2024-07-31T12:08:49.147695Z",
     "iopub.status.idle": "2024-07-31T12:08:49.165183Z",
     "shell.execute_reply": "2024-07-31T12:08:49.164276Z"
    },
    "papermill": {
     "duration": 0.037919,
     "end_time": "2024-07-31T12:08:49.167189",
     "exception": false,
     "start_time": "2024-07-31T12:08:49.129270",
     "status": "completed"
    },
    "tags": []
   },
   "outputs": [
    {
     "data": {
      "text/html": [
       "<div>\n",
       "<style scoped>\n",
       "    .dataframe tbody tr th:only-of-type {\n",
       "        vertical-align: middle;\n",
       "    }\n",
       "\n",
       "    .dataframe tbody tr th {\n",
       "        vertical-align: top;\n",
       "    }\n",
       "\n",
       "    .dataframe thead th {\n",
       "        text-align: right;\n",
       "    }\n",
       "</style>\n",
       "<table border=\"1\" class=\"dataframe\">\n",
       "  <thead>\n",
       "    <tr style=\"text-align: right;\">\n",
       "      <th></th>\n",
       "      <th>ticket_no</th>\n",
       "      <th>subject</th>\n",
       "      <th>description</th>\n",
       "      <th>type</th>\n",
       "      <th>label</th>\n",
       "      <th>clean_subject</th>\n",
       "      <th>clean_description</th>\n",
       "      <th>text</th>\n",
       "      <th>predicted_label</th>\n",
       "    </tr>\n",
       "  </thead>\n",
       "  <tbody>\n",
       "    <tr>\n",
       "      <th>0</th>\n",
       "      <td>230609348</td>\n",
       "      <td>Southland Rubber : รบกวนดำเนินการ allow IP 203...</td>\n",
       "      <td>From: Pairat Wattana &lt;pairat.wa@barrelofexcell...</td>\n",
       "      <td>Cloud_issue</td>\n",
       "      <td>1</td>\n",
       "      <td>รบกวนดำเนินการ allow IP 203.150.207.20  ให้กับ...</td>\n",
       "      <td>From: Pairat Wattana &lt;pairat.wa@barrelofexcell...</td>\n",
       "      <td>รบกวนดำเนินการ allow IP 203.150.207.20  ให้กับ...</td>\n",
       "      <td>problem</td>\n",
       "    </tr>\n",
       "    <tr>\n",
       "      <th>1</th>\n",
       "      <td>240318207</td>\n",
       "      <td>GetOn : รบกวนขอ Report Performance ประจำเดือน ...</td>\n",
       "      <td>From: Prapaporn Panthap &lt;Prapaporn@innoco.co.t...</td>\n",
       "      <td>Cloud_issue</td>\n",
       "      <td>1</td>\n",
       "      <td>รบกวนขอ Report Performance ประจำเดือน กุมภาพัน...</td>\n",
       "      <td>From: Prapaporn Panthap &lt;Prapaporn@innoco.co.t...</td>\n",
       "      <td>รบกวนขอ Report Performance ประจำเดือน กุมภาพัน...</td>\n",
       "      <td>problem</td>\n",
       "    </tr>\n",
       "    <tr>\n",
       "      <th>2</th>\n",
       "      <td>230227126</td>\n",
       "      <td>Summit Computer :แจ้งขอเข้าดำเนินการบำรุงรักษา...</td>\n",
       "      <td>From: Pisit Phantapanichakul &lt;pisit@summitthai...</td>\n",
       "      <td>Other</td>\n",
       "      <td>2</td>\n",
       "      <td>แจ้งขอเข้าดำเนินการบำรุงรักษาอุปกรณ์HSM ที่ Si...</td>\n",
       "      <td>From: Pisit Phantapanichakul &lt;pisit@summitthai...</td>\n",
       "      <td>แจ้งขอเข้าดำเนินการบำรุงรักษาอุปกรณ์HSM ที่ Si...</td>\n",
       "      <td>other</td>\n",
       "    </tr>\n",
       "    <tr>\n",
       "      <th>3</th>\n",
       "      <td>230316227</td>\n",
       "      <td>Photonics Science : สอบถามวิธีการตรวจสอบ Acco...</td>\n",
       "      <td>From: &lt;chalit.s@photonics-science.com&gt;\\nTo: \"'...</td>\n",
       "      <td>One_Email</td>\n",
       "      <td>3</td>\n",
       "      <td>สอบถามวิธีการตรวจสอบ Account ปลายทาง</td>\n",
       "      <td>From: &lt;chalit.s@photonics-science.com&gt;\\nTo: \"'...</td>\n",
       "      <td>สอบถามวิธีการตรวจสอบ Account ปลายทาง From: &lt;ch...</td>\n",
       "      <td>onemail</td>\n",
       "    </tr>\n",
       "    <tr>\n",
       "      <th>4</th>\n",
       "      <td>230220289</td>\n",
       "      <td>INTERNET COMMUNICATION : Access INET-IDC2 ในวั...</td>\n",
       "      <td>From: &lt;surapong@internetcom.co.th&gt;\\nTo: &lt;noc@i...</td>\n",
       "      <td>Other</td>\n",
       "      <td>2</td>\n",
       "      <td>Access INET-IDC2 ในวันที่ 20/02/2023 เวลา 15:3...</td>\n",
       "      <td>From: &lt;surapong@internetcom.co.th&gt;\\nTo: &lt;noc@i...</td>\n",
       "      <td>Access INET-IDC2 ในวันที่ 20/02/2023 เวลา 15:3...</td>\n",
       "      <td>other</td>\n",
       "    </tr>\n",
       "    <tr>\n",
       "      <th>...</th>\n",
       "      <td>...</td>\n",
       "      <td>...</td>\n",
       "      <td>...</td>\n",
       "      <td>...</td>\n",
       "      <td>...</td>\n",
       "      <td>...</td>\n",
       "      <td>...</td>\n",
       "      <td>...</td>\n",
       "      <td>...</td>\n",
       "    </tr>\n",
       "    <tr>\n",
       "      <th>3995</th>\n",
       "      <td>230328172</td>\n",
       "      <td>INETMS : รบกวนสร้าง E-mail</td>\n",
       "      <td>From: Linda Groen &lt;linda.gr@inetms.co.th&gt;\\nTo:...</td>\n",
       "      <td>One_Email</td>\n",
       "      <td>3</td>\n",
       "      <td>รบกวนสร้าง E-mail</td>\n",
       "      <td>From: Linda Groen &lt;linda.gr@inetms.co.th&gt;\\nTo:...</td>\n",
       "      <td>รบกวนสร้าง E-mail From: Linda Groen &lt;linda.gr@...</td>\n",
       "      <td>onemail</td>\n",
       "    </tr>\n",
       "    <tr>\n",
       "      <th>3996</th>\n",
       "      <td>220503121</td>\n",
       "      <td>SCG [SD] : รบกวนขอรูปภาพ ตู้ C100 D100</td>\n",
       "      <td>From: \"Pichitpon Simma\" &lt;pichitpon.si@inet.co....</td>\n",
       "      <td>Other</td>\n",
       "      <td>2</td>\n",
       "      <td>: รบกวนขอรูปภาพ ตู้ C100 D100</td>\n",
       "      <td>From: \"Pichitpon Simma\" &lt;pichitpon.si@inet.co....</td>\n",
       "      <td>: รบกวนขอรูปภาพ ตู้ C100 D100 From: \"Pichitpon...</td>\n",
       "      <td>other</td>\n",
       "    </tr>\n",
       "    <tr>\n",
       "      <th>3997</th>\n",
       "      <td>230322206</td>\n",
       "      <td>[Closed][OP-Sec] INET-INTERNAL : แจ้งรบกวนขอ L...</td>\n",
       "      <td>From: Peerapon Meekaew &lt;peerapon.me@inet.co.th...</td>\n",
       "      <td>VFW</td>\n",
       "      <td>0</td>\n",
       "      <td>[OP-Sec] INET-INTERNAL : แจ้งรบกวนขอ List IP บ...</td>\n",
       "      <td>From: Peerapon Meekaew &lt;peerapon.me@inet.co.th...</td>\n",
       "      <td>[OP-Sec] INET-INTERNAL : แจ้งรบกวนขอ List IP บ...</td>\n",
       "      <td>firewall</td>\n",
       "    </tr>\n",
       "    <tr>\n",
       "      <th>3998</th>\n",
       "      <td>24060321</td>\n",
       "      <td>Genex Infotech : NOC ได้รับ Alert VM : [PRD_Ge...</td>\n",
       "      <td>\\n\\nFrom: \"Cloud Monitor\" &lt;Cloud-Monitor@inet....</td>\n",
       "      <td>Cloud_issue</td>\n",
       "      <td>1</td>\n",
       "      <td>NOC ได้รับ Alert VM : [PRD_GenexInfotech02_Win...</td>\n",
       "      <td>From: \"Cloud Monitor\" &lt;Cloud-Monitor@inet.co.t...</td>\n",
       "      <td>NOC ได้รับ Alert VM : [PRD_GenexInfotech02_Win...</td>\n",
       "      <td>problem</td>\n",
       "    </tr>\n",
       "    <tr>\n",
       "      <th>3999</th>\n",
       "      <td>23071178</td>\n",
       "      <td>M-Focus  : แจ้งไม่สามารถส่งเมล์หาลูกค้าได้ syo...</td>\n",
       "      <td>From: &lt;wichien@m-focus.co.th&gt;\\nTo: &lt;noc@inet.c...</td>\n",
       "      <td>One_Email</td>\n",
       "      <td>3</td>\n",
       "      <td>แจ้งไม่สามารถส่งเมล์หาลูกค้าได้ syong@salesfor...</td>\n",
       "      <td>From: &lt;wichien@m-focus.co.th&gt;\\nTo: &lt;noc@inet.c...</td>\n",
       "      <td>แจ้งไม่สามารถส่งเมล์หาลูกค้าได้ syong@salesfor...</td>\n",
       "      <td>onemail</td>\n",
       "    </tr>\n",
       "  </tbody>\n",
       "</table>\n",
       "<p>4000 rows × 9 columns</p>\n",
       "</div>"
      ],
      "text/plain": [
       "      ticket_no                                            subject  \\\n",
       "0     230609348  Southland Rubber : รบกวนดำเนินการ allow IP 203...   \n",
       "1     240318207  GetOn : รบกวนขอ Report Performance ประจำเดือน ...   \n",
       "2     230227126  Summit Computer :แจ้งขอเข้าดำเนินการบำรุงรักษา...   \n",
       "3     230316227   Photonics Science : สอบถามวิธีการตรวจสอบ Acco...   \n",
       "4     230220289  INTERNET COMMUNICATION : Access INET-IDC2 ในวั...   \n",
       "...         ...                                                ...   \n",
       "3995  230328172                         INETMS : รบกวนสร้าง E-mail   \n",
       "3996  220503121             SCG [SD] : รบกวนขอรูปภาพ ตู้ C100 D100   \n",
       "3997  230322206  [Closed][OP-Sec] INET-INTERNAL : แจ้งรบกวนขอ L...   \n",
       "3998   24060321  Genex Infotech : NOC ได้รับ Alert VM : [PRD_Ge...   \n",
       "3999   23071178  M-Focus  : แจ้งไม่สามารถส่งเมล์หาลูกค้าได้ syo...   \n",
       "\n",
       "                                            description         type  label  \\\n",
       "0     From: Pairat Wattana <pairat.wa@barrelofexcell...  Cloud_issue      1   \n",
       "1     From: Prapaporn Panthap <Prapaporn@innoco.co.t...  Cloud_issue      1   \n",
       "2     From: Pisit Phantapanichakul <pisit@summitthai...        Other      2   \n",
       "3     From: <chalit.s@photonics-science.com>\\nTo: \"'...    One_Email      3   \n",
       "4     From: <surapong@internetcom.co.th>\\nTo: <noc@i...        Other      2   \n",
       "...                                                 ...          ...    ...   \n",
       "3995  From: Linda Groen <linda.gr@inetms.co.th>\\nTo:...    One_Email      3   \n",
       "3996  From: \"Pichitpon Simma\" <pichitpon.si@inet.co....        Other      2   \n",
       "3997  From: Peerapon Meekaew <peerapon.me@inet.co.th...          VFW      0   \n",
       "3998  \\n\\nFrom: \"Cloud Monitor\" <Cloud-Monitor@inet....  Cloud_issue      1   \n",
       "3999  From: <wichien@m-focus.co.th>\\nTo: <noc@inet.c...    One_Email      3   \n",
       "\n",
       "                                          clean_subject  \\\n",
       "0     รบกวนดำเนินการ allow IP 203.150.207.20  ให้กับ...   \n",
       "1     รบกวนขอ Report Performance ประจำเดือน กุมภาพัน...   \n",
       "2     แจ้งขอเข้าดำเนินการบำรุงรักษาอุปกรณ์HSM ที่ Si...   \n",
       "3                  สอบถามวิธีการตรวจสอบ Account ปลายทาง   \n",
       "4     Access INET-IDC2 ในวันที่ 20/02/2023 เวลา 15:3...   \n",
       "...                                                 ...   \n",
       "3995                                  รบกวนสร้าง E-mail   \n",
       "3996                      : รบกวนขอรูปภาพ ตู้ C100 D100   \n",
       "3997  [OP-Sec] INET-INTERNAL : แจ้งรบกวนขอ List IP บ...   \n",
       "3998  NOC ได้รับ Alert VM : [PRD_GenexInfotech02_Win...   \n",
       "3999  แจ้งไม่สามารถส่งเมล์หาลูกค้าได้ syong@salesfor...   \n",
       "\n",
       "                                      clean_description  \\\n",
       "0     From: Pairat Wattana <pairat.wa@barrelofexcell...   \n",
       "1     From: Prapaporn Panthap <Prapaporn@innoco.co.t...   \n",
       "2     From: Pisit Phantapanichakul <pisit@summitthai...   \n",
       "3     From: <chalit.s@photonics-science.com>\\nTo: \"'...   \n",
       "4     From: <surapong@internetcom.co.th>\\nTo: <noc@i...   \n",
       "...                                                 ...   \n",
       "3995  From: Linda Groen <linda.gr@inetms.co.th>\\nTo:...   \n",
       "3996  From: \"Pichitpon Simma\" <pichitpon.si@inet.co....   \n",
       "3997  From: Peerapon Meekaew <peerapon.me@inet.co.th...   \n",
       "3998  From: \"Cloud Monitor\" <Cloud-Monitor@inet.co.t...   \n",
       "3999  From: <wichien@m-focus.co.th>\\nTo: <noc@inet.c...   \n",
       "\n",
       "                                                   text predicted_label  \n",
       "0     รบกวนดำเนินการ allow IP 203.150.207.20  ให้กับ...         problem  \n",
       "1     รบกวนขอ Report Performance ประจำเดือน กุมภาพัน...         problem  \n",
       "2     แจ้งขอเข้าดำเนินการบำรุงรักษาอุปกรณ์HSM ที่ Si...           other  \n",
       "3     สอบถามวิธีการตรวจสอบ Account ปลายทาง From: <ch...         onemail  \n",
       "4     Access INET-IDC2 ในวันที่ 20/02/2023 เวลา 15:3...           other  \n",
       "...                                                 ...             ...  \n",
       "3995  รบกวนสร้าง E-mail From: Linda Groen <linda.gr@...         onemail  \n",
       "3996  : รบกวนขอรูปภาพ ตู้ C100 D100 From: \"Pichitpon...           other  \n",
       "3997  [OP-Sec] INET-INTERNAL : แจ้งรบกวนขอ List IP บ...        firewall  \n",
       "3998  NOC ได้รับ Alert VM : [PRD_GenexInfotech02_Win...         problem  \n",
       "3999  แจ้งไม่สามารถส่งเมล์หาลูกค้าได้ syong@salesfor...         onemail  \n",
       "\n",
       "[4000 rows x 9 columns]"
      ]
     },
     "execution_count": 29,
     "metadata": {},
     "output_type": "execute_result"
    }
   ],
   "source": [
    "testdata"
   ]
  },
  {
   "cell_type": "code",
   "execution_count": 30,
   "id": "c5e91d51",
   "metadata": {
    "execution": {
     "iopub.execute_input": "2024-07-31T12:08:49.205177Z",
     "iopub.status.busy": "2024-07-31T12:08:49.204859Z",
     "iopub.status.idle": "2024-07-31T12:08:49.215859Z",
     "shell.execute_reply": "2024-07-31T12:08:49.215063Z"
    },
    "papermill": {
     "duration": 0.032311,
     "end_time": "2024-07-31T12:08:49.217682",
     "exception": false,
     "start_time": "2024-07-31T12:08:49.185371",
     "status": "completed"
    },
    "tags": []
   },
   "outputs": [],
   "source": [
    "# Define the mapping from 'type' to 'predicted_label'\n",
    "type_to_label_mapping = {\n",
    "    'Cloud_issue': 'problem',\n",
    "    'VFW': 'firewall',\n",
    "    'One_Email': 'onemail',\n",
    "    'Other': 'other'\n",
    "}\n",
    "\n",
    "# Apply the mapping to the 'type' column\n",
    "testdata['mapped_type'] = testdata['type'].map(type_to_label_mapping)\n",
    "testdata['correct'] = testdata['predicted_label'] == testdata['mapped_type']\n",
    "incorrect_predictions = testdata[~testdata['correct']]"
   ]
  },
  {
   "cell_type": "code",
   "execution_count": 31,
   "id": "1f1e51e9",
   "metadata": {
    "execution": {
     "iopub.execute_input": "2024-07-31T12:08:49.254465Z",
     "iopub.status.busy": "2024-07-31T12:08:49.254175Z",
     "iopub.status.idle": "2024-07-31T12:08:49.262031Z",
     "shell.execute_reply": "2024-07-31T12:08:49.260997Z"
    },
    "papermill": {
     "duration": 0.028533,
     "end_time": "2024-07-31T12:08:49.264088",
     "exception": false,
     "start_time": "2024-07-31T12:08:49.235555",
     "status": "completed"
    },
    "tags": []
   },
   "outputs": [
    {
     "data": {
      "text/plain": [
       "predicted_label\n",
       "firewall    1120\n",
       "problem      991\n",
       "other        990\n",
       "onemail      899\n",
       "Name: count, dtype: int64"
      ]
     },
     "execution_count": 31,
     "metadata": {},
     "output_type": "execute_result"
    }
   ],
   "source": [
    "testdata['predicted_label'].value_counts()"
   ]
  },
  {
   "cell_type": "code",
   "execution_count": 32,
   "id": "3a246b7b",
   "metadata": {
    "execution": {
     "iopub.execute_input": "2024-07-31T12:08:49.301074Z",
     "iopub.status.busy": "2024-07-31T12:08:49.300448Z",
     "iopub.status.idle": "2024-07-31T12:08:49.308057Z",
     "shell.execute_reply": "2024-07-31T12:08:49.307201Z"
    },
    "papermill": {
     "duration": 0.028252,
     "end_time": "2024-07-31T12:08:49.309986",
     "exception": false,
     "start_time": "2024-07-31T12:08:49.281734",
     "status": "completed"
    },
    "tags": []
   },
   "outputs": [
    {
     "data": {
      "text/plain": [
       "predicted_label    firewall\n",
       "mapped_type           other\n",
       "Name: 1807, dtype: object"
      ]
     },
     "execution_count": 32,
     "metadata": {},
     "output_type": "execute_result"
    }
   ],
   "source": [
    "incorrect_predictions[['predicted_label','mapped_type']].iloc[100]"
   ]
  },
  {
   "cell_type": "code",
   "execution_count": 33,
   "id": "3299bacc",
   "metadata": {
    "execution": {
     "iopub.execute_input": "2024-07-31T12:08:49.347220Z",
     "iopub.status.busy": "2024-07-31T12:08:49.346722Z",
     "iopub.status.idle": "2024-07-31T12:08:49.351042Z",
     "shell.execute_reply": "2024-07-31T12:08:49.350250Z"
    },
    "papermill": {
     "duration": 0.025047,
     "end_time": "2024-07-31T12:08:49.353014",
     "exception": false,
     "start_time": "2024-07-31T12:08:49.327967",
     "status": "completed"
    },
    "tags": []
   },
   "outputs": [
    {
     "name": "stdout",
     "output_type": "stream",
     "text": [
      "From: \"NETWORK-ALERT\" <NETWORK-ALERT@INET.CO.TH>\n",
      "To: netmon@inet.co.th\n",
      "Sent: Saturday, December 10, 2022 12:10:07 PM\n",
      "\n",
      "Sat Dec 10 12:10:05 2022\n",
      "Device IDC3.BD-02\n",
      "IP:10.11.13.191\n",
      "\n",
      "Interface GigabitEthernet2/1/1\n",
      "Description *** Connected to IDC3-DSW-CLOUD-MGMT-PHASE2 ***\n",
      "Status change UP to DOWN\n"
     ]
    }
   ],
   "source": [
    "print(incorrect_predictions['clean_description'].iloc[100])"
   ]
  },
  {
   "cell_type": "markdown",
   "id": "c293e600",
   "metadata": {
    "papermill": {
     "duration": 0.018135,
     "end_time": "2024-07-31T12:08:49.389074",
     "exception": false,
     "start_time": "2024-07-31T12:08:49.370939",
     "status": "completed"
    },
    "tags": []
   },
   "source": [
    "## clue\n",
    "\n",
    "- ส่วนใหญ่จะทำนาย firewall เนื่องจากเมลมี ip address หรือ คำว่า firewall\n",
    "- ส่วนคลาส other กับ cloud problem คือแยกยากเกินไปจริงๆ คนอ่าน(หนู)ยังแยกไม่ออกเลย"
   ]
  },
  {
   "cell_type": "code",
   "execution_count": 34,
   "id": "b85ac0fb",
   "metadata": {
    "execution": {
     "iopub.execute_input": "2024-07-31T12:08:49.426310Z",
     "iopub.status.busy": "2024-07-31T12:08:49.426032Z",
     "iopub.status.idle": "2024-07-31T12:08:49.429540Z",
     "shell.execute_reply": "2024-07-31T12:08:49.428735Z"
    },
    "papermill": {
     "duration": 0.024144,
     "end_time": "2024-07-31T12:08:49.431373",
     "exception": false,
     "start_time": "2024-07-31T12:08:49.407229",
     "status": "completed"
    },
    "tags": []
   },
   "outputs": [],
   "source": [
    "# import os\n",
    "\n",
    "# # List files in the directory to check if the file exists\n",
    "# print(os.listdir('/kaggle/working/saved_model'))"
   ]
  },
  {
   "cell_type": "code",
   "execution_count": 35,
   "id": "6ce495af",
   "metadata": {
    "execution": {
     "iopub.execute_input": "2024-07-31T12:08:49.468641Z",
     "iopub.status.busy": "2024-07-31T12:08:49.468395Z",
     "iopub.status.idle": "2024-07-31T12:08:49.471892Z",
     "shell.execute_reply": "2024-07-31T12:08:49.471113Z"
    },
    "papermill": {
     "duration": 0.024116,
     "end_time": "2024-07-31T12:08:49.473868",
     "exception": false,
     "start_time": "2024-07-31T12:08:49.449752",
     "status": "completed"
    },
    "tags": []
   },
   "outputs": [],
   "source": [
    "# import shutil\n",
    "\n",
    "# # Path to the directory you want to zip\n",
    "# directory_path = '/kaggle/working/saved_model'\n",
    "# zip_path = '/kaggle/working/saved_model.zip'\n",
    "\n",
    "# # Create a ZIP file from the directory\n",
    "# shutil.make_archive('/kaggle/working/saved_model', 'zip', directory_path)"
   ]
  },
  {
   "cell_type": "code",
   "execution_count": 36,
   "id": "b0366c42",
   "metadata": {
    "execution": {
     "iopub.execute_input": "2024-07-31T12:08:49.510814Z",
     "iopub.status.busy": "2024-07-31T12:08:49.510580Z",
     "iopub.status.idle": "2024-07-31T12:08:49.514372Z",
     "shell.execute_reply": "2024-07-31T12:08:49.513414Z"
    },
    "papermill": {
     "duration": 0.024549,
     "end_time": "2024-07-31T12:08:49.516317",
     "exception": false,
     "start_time": "2024-07-31T12:08:49.491768",
     "status": "completed"
    },
    "tags": []
   },
   "outputs": [],
   "source": [
    "# from IPython.display import FileLink\n",
    "\n",
    "# # Create a downloadable link for the ZIP file\n",
    "# FileLink('/kaggle/working/saved_model.zip')"
   ]
  }
 ],
 "metadata": {
  "kaggle": {
   "accelerator": "nvidiaTeslaT4",
   "dataSources": [
    {
     "datasetId": 5391157,
     "sourceId": 9073051,
     "sourceType": "datasetVersion"
    }
   ],
   "dockerImageVersionId": 30746,
   "isGpuEnabled": true,
   "isInternetEnabled": true,
   "language": "python",
   "sourceType": "notebook"
  },
  "kernelspec": {
   "display_name": "Python 3",
   "language": "python",
   "name": "python3"
  },
  "language_info": {
   "codemirror_mode": {
    "name": "ipython",
    "version": 3
   },
   "file_extension": ".py",
   "mimetype": "text/x-python",
   "name": "python",
   "nbconvert_exporter": "python",
   "pygments_lexer": "ipython3",
   "version": "3.10.13"
  },
  "papermill": {
   "default_parameters": {},
   "duration": 7050.227472,
   "end_time": "2024-07-31T12:08:53.168117",
   "environment_variables": {},
   "exception": null,
   "input_path": "__notebook__.ipynb",
   "output_path": "__notebook__.ipynb",
   "parameters": {},
   "start_time": "2024-07-31T10:11:22.940645",
   "version": "2.5.0"
  },
  "widgets": {
   "application/vnd.jupyter.widget-state+json": {
    "state": {
     "060bb14598574b90afbbd5832e3563c8": {
      "model_module": "@jupyter-widgets/base",
      "model_module_version": "1.2.0",
      "model_name": "LayoutModel",
      "state": {
       "_model_module": "@jupyter-widgets/base",
       "_model_module_version": "1.2.0",
       "_model_name": "LayoutModel",
       "_view_count": null,
       "_view_module": "@jupyter-widgets/base",
       "_view_module_version": "1.2.0",
       "_view_name": "LayoutView",
       "align_content": null,
       "align_items": null,
       "align_self": null,
       "border": null,
       "bottom": null,
       "display": null,
       "flex": null,
       "flex_flow": null,
       "grid_area": null,
       "grid_auto_columns": null,
       "grid_auto_flow": null,
       "grid_auto_rows": null,
       "grid_column": null,
       "grid_gap": null,
       "grid_row": null,
       "grid_template_areas": null,
       "grid_template_columns": null,
       "grid_template_rows": null,
       "height": null,
       "justify_content": null,
       "justify_items": null,
       "left": null,
       "margin": null,
       "max_height": null,
       "max_width": null,
       "min_height": null,
       "min_width": null,
       "object_fit": null,
       "object_position": null,
       "order": null,
       "overflow": null,
       "overflow_x": null,
       "overflow_y": null,
       "padding": null,
       "right": null,
       "top": null,
       "visibility": null,
       "width": null
      }
     },
     "060da6be4d6a4f59a66f6cd371f8302b": {
      "model_module": "@jupyter-widgets/base",
      "model_module_version": "1.2.0",
      "model_name": "LayoutModel",
      "state": {
       "_model_module": "@jupyter-widgets/base",
       "_model_module_version": "1.2.0",
       "_model_name": "LayoutModel",
       "_view_count": null,
       "_view_module": "@jupyter-widgets/base",
       "_view_module_version": "1.2.0",
       "_view_name": "LayoutView",
       "align_content": null,
       "align_items": null,
       "align_self": null,
       "border": null,
       "bottom": null,
       "display": null,
       "flex": null,
       "flex_flow": null,
       "grid_area": null,
       "grid_auto_columns": null,
       "grid_auto_flow": null,
       "grid_auto_rows": null,
       "grid_column": null,
       "grid_gap": null,
       "grid_row": null,
       "grid_template_areas": null,
       "grid_template_columns": null,
       "grid_template_rows": null,
       "height": null,
       "justify_content": null,
       "justify_items": null,
       "left": null,
       "margin": null,
       "max_height": null,
       "max_width": null,
       "min_height": null,
       "min_width": null,
       "object_fit": null,
       "object_position": null,
       "order": null,
       "overflow": null,
       "overflow_x": null,
       "overflow_y": null,
       "padding": null,
       "right": null,
       "top": null,
       "visibility": null,
       "width": null
      }
     },
     "104ba4d438694a0a81ee4d779e0d85e2": {
      "model_module": "@jupyter-widgets/controls",
      "model_module_version": "1.5.0",
      "model_name": "DescriptionStyleModel",
      "state": {
       "_model_module": "@jupyter-widgets/controls",
       "_model_module_version": "1.5.0",
       "_model_name": "DescriptionStyleModel",
       "_view_count": null,
       "_view_module": "@jupyter-widgets/base",
       "_view_module_version": "1.2.0",
       "_view_name": "StyleView",
       "description_width": ""
      }
     },
     "12e94ed4181341689c177c29d4167562": {
      "model_module": "@jupyter-widgets/controls",
      "model_module_version": "1.5.0",
      "model_name": "FloatProgressModel",
      "state": {
       "_dom_classes": [],
       "_model_module": "@jupyter-widgets/controls",
       "_model_module_version": "1.5.0",
       "_model_name": "FloatProgressModel",
       "_view_count": null,
       "_view_module": "@jupyter-widgets/controls",
       "_view_module_version": "1.5.0",
       "_view_name": "ProgressView",
       "bar_style": "success",
       "description": "",
       "description_tooltip": null,
       "layout": "IPY_MODEL_23c839addf7a4ddaa7694b5c5080ac34",
       "max": 615.0,
       "min": 0.0,
       "orientation": "horizontal",
       "style": "IPY_MODEL_a1716292c89d4a1fa393777f8bb7d626",
       "value": 615.0
      }
     },
     "15b9503027a746499aa05209ab0652b5": {
      "model_module": "@jupyter-widgets/controls",
      "model_module_version": "1.5.0",
      "model_name": "HBoxModel",
      "state": {
       "_dom_classes": [],
       "_model_module": "@jupyter-widgets/controls",
       "_model_module_version": "1.5.0",
       "_model_name": "HBoxModel",
       "_view_count": null,
       "_view_module": "@jupyter-widgets/controls",
       "_view_module_version": "1.5.0",
       "_view_name": "HBoxView",
       "box_style": "",
       "children": [
        "IPY_MODEL_defd04eace60497cb8acb6adac1dd7fb",
        "IPY_MODEL_600638f6e2eb4b22b98d0c88382b9c4b",
        "IPY_MODEL_934b0b70a49d4e58bbbc71894bdfba8f"
       ],
       "layout": "IPY_MODEL_060da6be4d6a4f59a66f6cd371f8302b"
      }
     },
     "1a58994d464643b1be42e1f5644a11d8": {
      "model_module": "@jupyter-widgets/controls",
      "model_module_version": "1.5.0",
      "model_name": "HBoxModel",
      "state": {
       "_dom_classes": [],
       "_model_module": "@jupyter-widgets/controls",
       "_model_module_version": "1.5.0",
       "_model_name": "HBoxModel",
       "_view_count": null,
       "_view_module": "@jupyter-widgets/controls",
       "_view_module_version": "1.5.0",
       "_view_name": "HBoxView",
       "box_style": "",
       "children": [
        "IPY_MODEL_88bbd8e46c1c464cb19d84d8d6187541",
        "IPY_MODEL_dd3b5f7ad68d4808902b8d418f63a961",
        "IPY_MODEL_c1a8d942e39c4d52a9a611c69283fcf9"
       ],
       "layout": "IPY_MODEL_824229a7e7a5478a969a59122fd3cef5"
      }
     },
     "1a60af6d07a848ec83c7d1fbbb70241a": {
      "model_module": "@jupyter-widgets/controls",
      "model_module_version": "1.5.0",
      "model_name": "HTMLModel",
      "state": {
       "_dom_classes": [],
       "_model_module": "@jupyter-widgets/controls",
       "_model_module_version": "1.5.0",
       "_model_name": "HTMLModel",
       "_view_count": null,
       "_view_module": "@jupyter-widgets/controls",
       "_view_module_version": "1.5.0",
       "_view_name": "HTMLView",
       "description": "",
       "description_tooltip": null,
       "layout": "IPY_MODEL_5e3042b508a84ac096f3e8e27136c346",
       "placeholder": "​",
       "style": "IPY_MODEL_88a2db8450054e8ca0c7d177db3ff4c2",
       "value": " 9.10M/9.10M [00:00&lt;00:00, 20.1MB/s]"
      }
     },
     "2122201802854e2299a96b6c140a9d17": {
      "model_module": "@jupyter-widgets/controls",
      "model_module_version": "1.5.0",
      "model_name": "HTMLModel",
      "state": {
       "_dom_classes": [],
       "_model_module": "@jupyter-widgets/controls",
       "_model_module_version": "1.5.0",
       "_model_name": "HTMLModel",
       "_view_count": null,
       "_view_module": "@jupyter-widgets/controls",
       "_view_module_version": "1.5.0",
       "_view_name": "HTMLView",
       "description": "",
       "description_tooltip": null,
       "layout": "IPY_MODEL_7f2a7e9fba4447e8b4b7c6f1f40d81b2",
       "placeholder": "​",
       "style": "IPY_MODEL_318730c6ecf14550805df081ebf79c25",
       "value": "sentencepiece.bpe.model: 100%"
      }
     },
     "23c839addf7a4ddaa7694b5c5080ac34": {
      "model_module": "@jupyter-widgets/base",
      "model_module_version": "1.2.0",
      "model_name": "LayoutModel",
      "state": {
       "_model_module": "@jupyter-widgets/base",
       "_model_module_version": "1.2.0",
       "_model_name": "LayoutModel",
       "_view_count": null,
       "_view_module": "@jupyter-widgets/base",
       "_view_module_version": "1.2.0",
       "_view_name": "LayoutView",
       "align_content": null,
       "align_items": null,
       "align_self": null,
       "border": null,
       "bottom": null,
       "display": null,
       "flex": null,
       "flex_flow": null,
       "grid_area": null,
       "grid_auto_columns": null,
       "grid_auto_flow": null,
       "grid_auto_rows": null,
       "grid_column": null,
       "grid_gap": null,
       "grid_row": null,
       "grid_template_areas": null,
       "grid_template_columns": null,
       "grid_template_rows": null,
       "height": null,
       "justify_content": null,
       "justify_items": null,
       "left": null,
       "margin": null,
       "max_height": null,
       "max_width": null,
       "min_height": null,
       "min_width": null,
       "object_fit": null,
       "object_position": null,
       "order": null,
       "overflow": null,
       "overflow_x": null,
       "overflow_y": null,
       "padding": null,
       "right": null,
       "top": null,
       "visibility": null,
       "width": null
      }
     },
     "318730c6ecf14550805df081ebf79c25": {
      "model_module": "@jupyter-widgets/controls",
      "model_module_version": "1.5.0",
      "model_name": "DescriptionStyleModel",
      "state": {
       "_model_module": "@jupyter-widgets/controls",
       "_model_module_version": "1.5.0",
       "_model_name": "DescriptionStyleModel",
       "_view_count": null,
       "_view_module": "@jupyter-widgets/base",
       "_view_module_version": "1.2.0",
       "_view_name": "StyleView",
       "description_width": ""
      }
     },
     "3397611f62f84836b2cdc9a0a31b2694": {
      "model_module": "@jupyter-widgets/controls",
      "model_module_version": "1.5.0",
      "model_name": "HTMLModel",
      "state": {
       "_dom_classes": [],
       "_model_module": "@jupyter-widgets/controls",
       "_model_module_version": "1.5.0",
       "_model_name": "HTMLModel",
       "_view_count": null,
       "_view_module": "@jupyter-widgets/controls",
       "_view_module_version": "1.5.0",
       "_view_name": "HTMLView",
       "description": "",
       "description_tooltip": null,
       "layout": "IPY_MODEL_c031220c5c95415ab56c959f9310395f",
       "placeholder": "​",
       "style": "IPY_MODEL_53303fa03e3344ec8c4406fc6f140dc0",
       "value": "tokenizer.json: 100%"
      }
     },
     "492d1262c8934c3bae9bd0f3918a1684": {
      "model_module": "@jupyter-widgets/controls",
      "model_module_version": "1.5.0",
      "model_name": "ProgressStyleModel",
      "state": {
       "_model_module": "@jupyter-widgets/controls",
       "_model_module_version": "1.5.0",
       "_model_name": "ProgressStyleModel",
       "_view_count": null,
       "_view_module": "@jupyter-widgets/base",
       "_view_module_version": "1.2.0",
       "_view_name": "StyleView",
       "bar_color": null,
       "description_width": ""
      }
     },
     "52237c3b6e8444bfb3ee3d34fb78b08b": {
      "model_module": "@jupyter-widgets/controls",
      "model_module_version": "1.5.0",
      "model_name": "ProgressStyleModel",
      "state": {
       "_model_module": "@jupyter-widgets/controls",
       "_model_module_version": "1.5.0",
       "_model_name": "ProgressStyleModel",
       "_view_count": null,
       "_view_module": "@jupyter-widgets/base",
       "_view_module_version": "1.2.0",
       "_view_name": "StyleView",
       "bar_color": null,
       "description_width": ""
      }
     },
     "53303fa03e3344ec8c4406fc6f140dc0": {
      "model_module": "@jupyter-widgets/controls",
      "model_module_version": "1.5.0",
      "model_name": "DescriptionStyleModel",
      "state": {
       "_model_module": "@jupyter-widgets/controls",
       "_model_module_version": "1.5.0",
       "_model_name": "DescriptionStyleModel",
       "_view_count": null,
       "_view_module": "@jupyter-widgets/base",
       "_view_module_version": "1.2.0",
       "_view_name": "StyleView",
       "description_width": ""
      }
     },
     "570b186ae8104b319436c7ecf8e852e0": {
      "model_module": "@jupyter-widgets/base",
      "model_module_version": "1.2.0",
      "model_name": "LayoutModel",
      "state": {
       "_model_module": "@jupyter-widgets/base",
       "_model_module_version": "1.2.0",
       "_model_name": "LayoutModel",
       "_view_count": null,
       "_view_module": "@jupyter-widgets/base",
       "_view_module_version": "1.2.0",
       "_view_name": "LayoutView",
       "align_content": null,
       "align_items": null,
       "align_self": null,
       "border": null,
       "bottom": null,
       "display": null,
       "flex": null,
       "flex_flow": null,
       "grid_area": null,
       "grid_auto_columns": null,
       "grid_auto_flow": null,
       "grid_auto_rows": null,
       "grid_column": null,
       "grid_gap": null,
       "grid_row": null,
       "grid_template_areas": null,
       "grid_template_columns": null,
       "grid_template_rows": null,
       "height": null,
       "justify_content": null,
       "justify_items": null,
       "left": null,
       "margin": null,
       "max_height": null,
       "max_width": null,
       "min_height": null,
       "min_width": null,
       "object_fit": null,
       "object_position": null,
       "order": null,
       "overflow": null,
       "overflow_x": null,
       "overflow_y": null,
       "padding": null,
       "right": null,
       "top": null,
       "visibility": null,
       "width": null
      }
     },
     "5b8726eab83348ff9a57382b74ebafff": {
      "model_module": "@jupyter-widgets/base",
      "model_module_version": "1.2.0",
      "model_name": "LayoutModel",
      "state": {
       "_model_module": "@jupyter-widgets/base",
       "_model_module_version": "1.2.0",
       "_model_name": "LayoutModel",
       "_view_count": null,
       "_view_module": "@jupyter-widgets/base",
       "_view_module_version": "1.2.0",
       "_view_name": "LayoutView",
       "align_content": null,
       "align_items": null,
       "align_self": null,
       "border": null,
       "bottom": null,
       "display": null,
       "flex": null,
       "flex_flow": null,
       "grid_area": null,
       "grid_auto_columns": null,
       "grid_auto_flow": null,
       "grid_auto_rows": null,
       "grid_column": null,
       "grid_gap": null,
       "grid_row": null,
       "grid_template_areas": null,
       "grid_template_columns": null,
       "grid_template_rows": null,
       "height": null,
       "justify_content": null,
       "justify_items": null,
       "left": null,
       "margin": null,
       "max_height": null,
       "max_width": null,
       "min_height": null,
       "min_width": null,
       "object_fit": null,
       "object_position": null,
       "order": null,
       "overflow": null,
       "overflow_x": null,
       "overflow_y": null,
       "padding": null,
       "right": null,
       "top": null,
       "visibility": null,
       "width": null
      }
     },
     "5e082c90db814121a9aafc0372ca9f30": {
      "model_module": "@jupyter-widgets/controls",
      "model_module_version": "1.5.0",
      "model_name": "DescriptionStyleModel",
      "state": {
       "_model_module": "@jupyter-widgets/controls",
       "_model_module_version": "1.5.0",
       "_model_name": "DescriptionStyleModel",
       "_view_count": null,
       "_view_module": "@jupyter-widgets/base",
       "_view_module_version": "1.2.0",
       "_view_name": "StyleView",
       "description_width": ""
      }
     },
     "5e3042b508a84ac096f3e8e27136c346": {
      "model_module": "@jupyter-widgets/base",
      "model_module_version": "1.2.0",
      "model_name": "LayoutModel",
      "state": {
       "_model_module": "@jupyter-widgets/base",
       "_model_module_version": "1.2.0",
       "_model_name": "LayoutModel",
       "_view_count": null,
       "_view_module": "@jupyter-widgets/base",
       "_view_module_version": "1.2.0",
       "_view_name": "LayoutView",
       "align_content": null,
       "align_items": null,
       "align_self": null,
       "border": null,
       "bottom": null,
       "display": null,
       "flex": null,
       "flex_flow": null,
       "grid_area": null,
       "grid_auto_columns": null,
       "grid_auto_flow": null,
       "grid_auto_rows": null,
       "grid_column": null,
       "grid_gap": null,
       "grid_row": null,
       "grid_template_areas": null,
       "grid_template_columns": null,
       "grid_template_rows": null,
       "height": null,
       "justify_content": null,
       "justify_items": null,
       "left": null,
       "margin": null,
       "max_height": null,
       "max_width": null,
       "min_height": null,
       "min_width": null,
       "object_fit": null,
       "object_position": null,
       "order": null,
       "overflow": null,
       "overflow_x": null,
       "overflow_y": null,
       "padding": null,
       "right": null,
       "top": null,
       "visibility": null,
       "width": null
      }
     },
     "5f0f65c30e8648e98b57a6e12ccd4d38": {
      "model_module": "@jupyter-widgets/controls",
      "model_module_version": "1.5.0",
      "model_name": "HBoxModel",
      "state": {
       "_dom_classes": [],
       "_model_module": "@jupyter-widgets/controls",
       "_model_module_version": "1.5.0",
       "_model_name": "HBoxModel",
       "_view_count": null,
       "_view_module": "@jupyter-widgets/controls",
       "_view_module_version": "1.5.0",
       "_view_name": "HBoxView",
       "box_style": "",
       "children": [
        "IPY_MODEL_2122201802854e2299a96b6c140a9d17",
        "IPY_MODEL_bf33178e1cca47409e1c8b0974c6d9a4",
        "IPY_MODEL_e216215a532b475d938d5a892599b388"
       ],
       "layout": "IPY_MODEL_5b8726eab83348ff9a57382b74ebafff"
      }
     },
     "600638f6e2eb4b22b98d0c88382b9c4b": {
      "model_module": "@jupyter-widgets/controls",
      "model_module_version": "1.5.0",
      "model_name": "FloatProgressModel",
      "state": {
       "_dom_classes": [],
       "_model_module": "@jupyter-widgets/controls",
       "_model_module_version": "1.5.0",
       "_model_name": "FloatProgressModel",
       "_view_count": null,
       "_view_module": "@jupyter-widgets/controls",
       "_view_module_version": "1.5.0",
       "_view_name": "ProgressView",
       "bar_style": "success",
       "description": "",
       "description_tooltip": null,
       "layout": "IPY_MODEL_b333aa35ca8c4b1baad5c02646525e14",
       "max": 4203.0,
       "min": 0.0,
       "orientation": "horizontal",
       "style": "IPY_MODEL_c81507c43a804cbbb1c03d6d43185569",
       "value": 4203.0
      }
     },
     "6890ccecf3b34a57bdaf4696bb31719f": {
      "model_module": "@jupyter-widgets/controls",
      "model_module_version": "1.5.0",
      "model_name": "HTMLModel",
      "state": {
       "_dom_classes": [],
       "_model_module": "@jupyter-widgets/controls",
       "_model_module_version": "1.5.0",
       "_model_name": "HTMLModel",
       "_view_count": null,
       "_view_module": "@jupyter-widgets/controls",
       "_view_module_version": "1.5.0",
       "_view_name": "HTMLView",
       "description": "",
       "description_tooltip": null,
       "layout": "IPY_MODEL_f0cc4a1da8e5433aab7ef65eaadcf54a",
       "placeholder": "​",
       "style": "IPY_MODEL_ae9b06f9ac1c4114b9f82e00b4b304eb",
       "value": " 1.12G/1.12G [00:04&lt;00:00, 308MB/s]"
      }
     },
     "6d9313f1375948bba4c62ff9ccbcd527": {
      "model_module": "@jupyter-widgets/base",
      "model_module_version": "1.2.0",
      "model_name": "LayoutModel",
      "state": {
       "_model_module": "@jupyter-widgets/base",
       "_model_module_version": "1.2.0",
       "_model_name": "LayoutModel",
       "_view_count": null,
       "_view_module": "@jupyter-widgets/base",
       "_view_module_version": "1.2.0",
       "_view_name": "LayoutView",
       "align_content": null,
       "align_items": null,
       "align_self": null,
       "border": null,
       "bottom": null,
       "display": null,
       "flex": null,
       "flex_flow": null,
       "grid_area": null,
       "grid_auto_columns": null,
       "grid_auto_flow": null,
       "grid_auto_rows": null,
       "grid_column": null,
       "grid_gap": null,
       "grid_row": null,
       "grid_template_areas": null,
       "grid_template_columns": null,
       "grid_template_rows": null,
       "height": null,
       "justify_content": null,
       "justify_items": null,
       "left": null,
       "margin": null,
       "max_height": null,
       "max_width": null,
       "min_height": null,
       "min_width": null,
       "object_fit": null,
       "object_position": null,
       "order": null,
       "overflow": null,
       "overflow_x": null,
       "overflow_y": null,
       "padding": null,
       "right": null,
       "top": null,
       "visibility": null,
       "width": null
      }
     },
     "7439137f0ac746c2bf5fe4fd9387eee8": {
      "model_module": "@jupyter-widgets/controls",
      "model_module_version": "1.5.0",
      "model_name": "DescriptionStyleModel",
      "state": {
       "_model_module": "@jupyter-widgets/controls",
       "_model_module_version": "1.5.0",
       "_model_name": "DescriptionStyleModel",
       "_view_count": null,
       "_view_module": "@jupyter-widgets/base",
       "_view_module_version": "1.2.0",
       "_view_name": "StyleView",
       "description_width": ""
      }
     },
     "7f2a7e9fba4447e8b4b7c6f1f40d81b2": {
      "model_module": "@jupyter-widgets/base",
      "model_module_version": "1.2.0",
      "model_name": "LayoutModel",
      "state": {
       "_model_module": "@jupyter-widgets/base",
       "_model_module_version": "1.2.0",
       "_model_name": "LayoutModel",
       "_view_count": null,
       "_view_module": "@jupyter-widgets/base",
       "_view_module_version": "1.2.0",
       "_view_name": "LayoutView",
       "align_content": null,
       "align_items": null,
       "align_self": null,
       "border": null,
       "bottom": null,
       "display": null,
       "flex": null,
       "flex_flow": null,
       "grid_area": null,
       "grid_auto_columns": null,
       "grid_auto_flow": null,
       "grid_auto_rows": null,
       "grid_column": null,
       "grid_gap": null,
       "grid_row": null,
       "grid_template_areas": null,
       "grid_template_columns": null,
       "grid_template_rows": null,
       "height": null,
       "justify_content": null,
       "justify_items": null,
       "left": null,
       "margin": null,
       "max_height": null,
       "max_width": null,
       "min_height": null,
       "min_width": null,
       "object_fit": null,
       "object_position": null,
       "order": null,
       "overflow": null,
       "overflow_x": null,
       "overflow_y": null,
       "padding": null,
       "right": null,
       "top": null,
       "visibility": null,
       "width": null
      }
     },
     "80c17a2cfd804d6b96b5b2784350401e": {
      "model_module": "@jupyter-widgets/controls",
      "model_module_version": "1.5.0",
      "model_name": "HTMLModel",
      "state": {
       "_dom_classes": [],
       "_model_module": "@jupyter-widgets/controls",
       "_model_module_version": "1.5.0",
       "_model_name": "HTMLModel",
       "_view_count": null,
       "_view_module": "@jupyter-widgets/controls",
       "_view_module_version": "1.5.0",
       "_view_name": "HTMLView",
       "description": "",
       "description_tooltip": null,
       "layout": "IPY_MODEL_b3412e0b7e684b59907496014b969c12",
       "placeholder": "​",
       "style": "IPY_MODEL_7439137f0ac746c2bf5fe4fd9387eee8",
       "value": "model.safetensors: 100%"
      }
     },
     "824229a7e7a5478a969a59122fd3cef5": {
      "model_module": "@jupyter-widgets/base",
      "model_module_version": "1.2.0",
      "model_name": "LayoutModel",
      "state": {
       "_model_module": "@jupyter-widgets/base",
       "_model_module_version": "1.2.0",
       "_model_name": "LayoutModel",
       "_view_count": null,
       "_view_module": "@jupyter-widgets/base",
       "_view_module_version": "1.2.0",
       "_view_name": "LayoutView",
       "align_content": null,
       "align_items": null,
       "align_self": null,
       "border": null,
       "bottom": null,
       "display": null,
       "flex": null,
       "flex_flow": null,
       "grid_area": null,
       "grid_auto_columns": null,
       "grid_auto_flow": null,
       "grid_auto_rows": null,
       "grid_column": null,
       "grid_gap": null,
       "grid_row": null,
       "grid_template_areas": null,
       "grid_template_columns": null,
       "grid_template_rows": null,
       "height": null,
       "justify_content": null,
       "justify_items": null,
       "left": null,
       "margin": null,
       "max_height": null,
       "max_width": null,
       "min_height": null,
       "min_width": null,
       "object_fit": null,
       "object_position": null,
       "order": null,
       "overflow": null,
       "overflow_x": null,
       "overflow_y": null,
       "padding": null,
       "right": null,
       "top": null,
       "visibility": null,
       "width": null
      }
     },
     "8551b2ca83fb407cba24c0b9f92e10ab": {
      "model_module": "@jupyter-widgets/controls",
      "model_module_version": "1.5.0",
      "model_name": "FloatProgressModel",
      "state": {
       "_dom_classes": [],
       "_model_module": "@jupyter-widgets/controls",
       "_model_module_version": "1.5.0",
       "_model_name": "FloatProgressModel",
       "_view_count": null,
       "_view_module": "@jupyter-widgets/controls",
       "_view_module_version": "1.5.0",
       "_view_name": "ProgressView",
       "bar_style": "success",
       "description": "",
       "description_tooltip": null,
       "layout": "IPY_MODEL_e0dccfcf18144b41837fca264b3cafad",
       "max": 9096718.0,
       "min": 0.0,
       "orientation": "horizontal",
       "style": "IPY_MODEL_52237c3b6e8444bfb3ee3d34fb78b08b",
       "value": 9096718.0
      }
     },
     "85b8f8a5c6004432a692e50731a6b784": {
      "model_module": "@jupyter-widgets/controls",
      "model_module_version": "1.5.0",
      "model_name": "DescriptionStyleModel",
      "state": {
       "_model_module": "@jupyter-widgets/controls",
       "_model_module_version": "1.5.0",
       "_model_name": "DescriptionStyleModel",
       "_view_count": null,
       "_view_module": "@jupyter-widgets/base",
       "_view_module_version": "1.2.0",
       "_view_name": "StyleView",
       "description_width": ""
      }
     },
     "88a2db8450054e8ca0c7d177db3ff4c2": {
      "model_module": "@jupyter-widgets/controls",
      "model_module_version": "1.5.0",
      "model_name": "DescriptionStyleModel",
      "state": {
       "_model_module": "@jupyter-widgets/controls",
       "_model_module_version": "1.5.0",
       "_model_name": "DescriptionStyleModel",
       "_view_count": null,
       "_view_module": "@jupyter-widgets/base",
       "_view_module_version": "1.2.0",
       "_view_name": "StyleView",
       "description_width": ""
      }
     },
     "88bbd8e46c1c464cb19d84d8d6187541": {
      "model_module": "@jupyter-widgets/controls",
      "model_module_version": "1.5.0",
      "model_name": "HTMLModel",
      "state": {
       "_dom_classes": [],
       "_model_module": "@jupyter-widgets/controls",
       "_model_module_version": "1.5.0",
       "_model_name": "HTMLModel",
       "_view_count": null,
       "_view_module": "@jupyter-widgets/controls",
       "_view_module_version": "1.5.0",
       "_view_name": "HTMLView",
       "description": "",
       "description_tooltip": null,
       "layout": "IPY_MODEL_6d9313f1375948bba4c62ff9ccbcd527",
       "placeholder": "​",
       "style": "IPY_MODEL_104ba4d438694a0a81ee4d779e0d85e2",
       "value": "tokenizer_config.json: 100%"
      }
     },
     "88e3df7b92954a4c9421df36e247d335": {
      "model_module": "@jupyter-widgets/controls",
      "model_module_version": "1.5.0",
      "model_name": "HBoxModel",
      "state": {
       "_dom_classes": [],
       "_model_module": "@jupyter-widgets/controls",
       "_model_module_version": "1.5.0",
       "_model_name": "HBoxModel",
       "_view_count": null,
       "_view_module": "@jupyter-widgets/controls",
       "_view_module_version": "1.5.0",
       "_view_name": "HBoxView",
       "box_style": "",
       "children": [
        "IPY_MODEL_80c17a2cfd804d6b96b5b2784350401e",
        "IPY_MODEL_e8f38ec087064b01b316ca0f1f517c1d",
        "IPY_MODEL_6890ccecf3b34a57bdaf4696bb31719f"
       ],
       "layout": "IPY_MODEL_f756e0e06b2a4829aaa577db3d50649d"
      }
     },
     "89d1b69ef8044f7480872ae52ee1da6c": {
      "model_module": "@jupyter-widgets/controls",
      "model_module_version": "1.5.0",
      "model_name": "ProgressStyleModel",
      "state": {
       "_model_module": "@jupyter-widgets/controls",
       "_model_module_version": "1.5.0",
       "_model_name": "ProgressStyleModel",
       "_view_count": null,
       "_view_module": "@jupyter-widgets/base",
       "_view_module_version": "1.2.0",
       "_view_name": "StyleView",
       "bar_color": null,
       "description_width": ""
      }
     },
     "8c98fe149e4e4b3bbee02ccff4e42fd2": {
      "model_module": "@jupyter-widgets/base",
      "model_module_version": "1.2.0",
      "model_name": "LayoutModel",
      "state": {
       "_model_module": "@jupyter-widgets/base",
       "_model_module_version": "1.2.0",
       "_model_name": "LayoutModel",
       "_view_count": null,
       "_view_module": "@jupyter-widgets/base",
       "_view_module_version": "1.2.0",
       "_view_name": "LayoutView",
       "align_content": null,
       "align_items": null,
       "align_self": null,
       "border": null,
       "bottom": null,
       "display": null,
       "flex": null,
       "flex_flow": null,
       "grid_area": null,
       "grid_auto_columns": null,
       "grid_auto_flow": null,
       "grid_auto_rows": null,
       "grid_column": null,
       "grid_gap": null,
       "grid_row": null,
       "grid_template_areas": null,
       "grid_template_columns": null,
       "grid_template_rows": null,
       "height": null,
       "justify_content": null,
       "justify_items": null,
       "left": null,
       "margin": null,
       "max_height": null,
       "max_width": null,
       "min_height": null,
       "min_width": null,
       "object_fit": null,
       "object_position": null,
       "order": null,
       "overflow": null,
       "overflow_x": null,
       "overflow_y": null,
       "padding": null,
       "right": null,
       "top": null,
       "visibility": null,
       "width": null
      }
     },
     "9043871d820543b1bfa44c422144e9c8": {
      "model_module": "@jupyter-widgets/controls",
      "model_module_version": "1.5.0",
      "model_name": "DescriptionStyleModel",
      "state": {
       "_model_module": "@jupyter-widgets/controls",
       "_model_module_version": "1.5.0",
       "_model_name": "DescriptionStyleModel",
       "_view_count": null,
       "_view_module": "@jupyter-widgets/base",
       "_view_module_version": "1.2.0",
       "_view_name": "StyleView",
       "description_width": ""
      }
     },
     "913365af12ef4c668afea188f074c58f": {
      "model_module": "@jupyter-widgets/controls",
      "model_module_version": "1.5.0",
      "model_name": "HTMLModel",
      "state": {
       "_dom_classes": [],
       "_model_module": "@jupyter-widgets/controls",
       "_model_module_version": "1.5.0",
       "_model_name": "HTMLModel",
       "_view_count": null,
       "_view_module": "@jupyter-widgets/controls",
       "_view_module_version": "1.5.0",
       "_view_name": "HTMLView",
       "description": "",
       "description_tooltip": null,
       "layout": "IPY_MODEL_c4ad8bf480d143258622eecd5769e7e2",
       "placeholder": "​",
       "style": "IPY_MODEL_e35bdbb3c8ca42818836ebf0a93c4b74",
       "value": " 615/615 [00:00&lt;00:00, 54.4kB/s]"
      }
     },
     "934b0b70a49d4e58bbbc71894bdfba8f": {
      "model_module": "@jupyter-widgets/controls",
      "model_module_version": "1.5.0",
      "model_name": "HTMLModel",
      "state": {
       "_dom_classes": [],
       "_model_module": "@jupyter-widgets/controls",
       "_model_module_version": "1.5.0",
       "_model_name": "HTMLModel",
       "_view_count": null,
       "_view_module": "@jupyter-widgets/controls",
       "_view_module_version": "1.5.0",
       "_view_name": "HTMLView",
       "description": "",
       "description_tooltip": null,
       "layout": "IPY_MODEL_8c98fe149e4e4b3bbee02ccff4e42fd2",
       "placeholder": "​",
       "style": "IPY_MODEL_c45798b79d224205ac4f0895f3c79753",
       "value": " 4.20k/4.20k [00:00&lt;00:00, 346kB/s]"
      }
     },
     "97338c6ade374c24aa033a96f601097c": {
      "model_module": "@jupyter-widgets/base",
      "model_module_version": "1.2.0",
      "model_name": "LayoutModel",
      "state": {
       "_model_module": "@jupyter-widgets/base",
       "_model_module_version": "1.2.0",
       "_model_name": "LayoutModel",
       "_view_count": null,
       "_view_module": "@jupyter-widgets/base",
       "_view_module_version": "1.2.0",
       "_view_name": "LayoutView",
       "align_content": null,
       "align_items": null,
       "align_self": null,
       "border": null,
       "bottom": null,
       "display": null,
       "flex": null,
       "flex_flow": null,
       "grid_area": null,
       "grid_auto_columns": null,
       "grid_auto_flow": null,
       "grid_auto_rows": null,
       "grid_column": null,
       "grid_gap": null,
       "grid_row": null,
       "grid_template_areas": null,
       "grid_template_columns": null,
       "grid_template_rows": null,
       "height": null,
       "justify_content": null,
       "justify_items": null,
       "left": null,
       "margin": null,
       "max_height": null,
       "max_width": null,
       "min_height": null,
       "min_width": null,
       "object_fit": null,
       "object_position": null,
       "order": null,
       "overflow": null,
       "overflow_x": null,
       "overflow_y": null,
       "padding": null,
       "right": null,
       "top": null,
       "visibility": null,
       "width": null
      }
     },
     "9a4a06167f3c411f98da8eb38206d6b5": {
      "model_module": "@jupyter-widgets/base",
      "model_module_version": "1.2.0",
      "model_name": "LayoutModel",
      "state": {
       "_model_module": "@jupyter-widgets/base",
       "_model_module_version": "1.2.0",
       "_model_name": "LayoutModel",
       "_view_count": null,
       "_view_module": "@jupyter-widgets/base",
       "_view_module_version": "1.2.0",
       "_view_name": "LayoutView",
       "align_content": null,
       "align_items": null,
       "align_self": null,
       "border": null,
       "bottom": null,
       "display": null,
       "flex": null,
       "flex_flow": null,
       "grid_area": null,
       "grid_auto_columns": null,
       "grid_auto_flow": null,
       "grid_auto_rows": null,
       "grid_column": null,
       "grid_gap": null,
       "grid_row": null,
       "grid_template_areas": null,
       "grid_template_columns": null,
       "grid_template_rows": null,
       "height": null,
       "justify_content": null,
       "justify_items": null,
       "left": null,
       "margin": null,
       "max_height": null,
       "max_width": null,
       "min_height": null,
       "min_width": null,
       "object_fit": null,
       "object_position": null,
       "order": null,
       "overflow": null,
       "overflow_x": null,
       "overflow_y": null,
       "padding": null,
       "right": null,
       "top": null,
       "visibility": null,
       "width": null
      }
     },
     "a1716292c89d4a1fa393777f8bb7d626": {
      "model_module": "@jupyter-widgets/controls",
      "model_module_version": "1.5.0",
      "model_name": "ProgressStyleModel",
      "state": {
       "_model_module": "@jupyter-widgets/controls",
       "_model_module_version": "1.5.0",
       "_model_name": "ProgressStyleModel",
       "_view_count": null,
       "_view_module": "@jupyter-widgets/base",
       "_view_module_version": "1.2.0",
       "_view_name": "StyleView",
       "bar_color": null,
       "description_width": ""
      }
     },
     "a5d5fbabfaf74fb4a2af355e067d8462": {
      "model_module": "@jupyter-widgets/base",
      "model_module_version": "1.2.0",
      "model_name": "LayoutModel",
      "state": {
       "_model_module": "@jupyter-widgets/base",
       "_model_module_version": "1.2.0",
       "_model_name": "LayoutModel",
       "_view_count": null,
       "_view_module": "@jupyter-widgets/base",
       "_view_module_version": "1.2.0",
       "_view_name": "LayoutView",
       "align_content": null,
       "align_items": null,
       "align_self": null,
       "border": null,
       "bottom": null,
       "display": null,
       "flex": null,
       "flex_flow": null,
       "grid_area": null,
       "grid_auto_columns": null,
       "grid_auto_flow": null,
       "grid_auto_rows": null,
       "grid_column": null,
       "grid_gap": null,
       "grid_row": null,
       "grid_template_areas": null,
       "grid_template_columns": null,
       "grid_template_rows": null,
       "height": null,
       "justify_content": null,
       "justify_items": null,
       "left": null,
       "margin": null,
       "max_height": null,
       "max_width": null,
       "min_height": null,
       "min_width": null,
       "object_fit": null,
       "object_position": null,
       "order": null,
       "overflow": null,
       "overflow_x": null,
       "overflow_y": null,
       "padding": null,
       "right": null,
       "top": null,
       "visibility": null,
       "width": null
      }
     },
     "a920694d1fbb48ceaf52858881f2b09a": {
      "model_module": "@jupyter-widgets/base",
      "model_module_version": "1.2.0",
      "model_name": "LayoutModel",
      "state": {
       "_model_module": "@jupyter-widgets/base",
       "_model_module_version": "1.2.0",
       "_model_name": "LayoutModel",
       "_view_count": null,
       "_view_module": "@jupyter-widgets/base",
       "_view_module_version": "1.2.0",
       "_view_name": "LayoutView",
       "align_content": null,
       "align_items": null,
       "align_self": null,
       "border": null,
       "bottom": null,
       "display": null,
       "flex": null,
       "flex_flow": null,
       "grid_area": null,
       "grid_auto_columns": null,
       "grid_auto_flow": null,
       "grid_auto_rows": null,
       "grid_column": null,
       "grid_gap": null,
       "grid_row": null,
       "grid_template_areas": null,
       "grid_template_columns": null,
       "grid_template_rows": null,
       "height": null,
       "justify_content": null,
       "justify_items": null,
       "left": null,
       "margin": null,
       "max_height": null,
       "max_width": null,
       "min_height": null,
       "min_width": null,
       "object_fit": null,
       "object_position": null,
       "order": null,
       "overflow": null,
       "overflow_x": null,
       "overflow_y": null,
       "padding": null,
       "right": null,
       "top": null,
       "visibility": null,
       "width": null
      }
     },
     "adc0cf44e1294204886a20f4c9beaf31": {
      "model_module": "@jupyter-widgets/controls",
      "model_module_version": "1.5.0",
      "model_name": "DescriptionStyleModel",
      "state": {
       "_model_module": "@jupyter-widgets/controls",
       "_model_module_version": "1.5.0",
       "_model_name": "DescriptionStyleModel",
       "_view_count": null,
       "_view_module": "@jupyter-widgets/base",
       "_view_module_version": "1.2.0",
       "_view_name": "StyleView",
       "description_width": ""
      }
     },
     "ae9b06f9ac1c4114b9f82e00b4b304eb": {
      "model_module": "@jupyter-widgets/controls",
      "model_module_version": "1.5.0",
      "model_name": "DescriptionStyleModel",
      "state": {
       "_model_module": "@jupyter-widgets/controls",
       "_model_module_version": "1.5.0",
       "_model_name": "DescriptionStyleModel",
       "_view_count": null,
       "_view_module": "@jupyter-widgets/base",
       "_view_module_version": "1.2.0",
       "_view_name": "StyleView",
       "description_width": ""
      }
     },
     "b333aa35ca8c4b1baad5c02646525e14": {
      "model_module": "@jupyter-widgets/base",
      "model_module_version": "1.2.0",
      "model_name": "LayoutModel",
      "state": {
       "_model_module": "@jupyter-widgets/base",
       "_model_module_version": "1.2.0",
       "_model_name": "LayoutModel",
       "_view_count": null,
       "_view_module": "@jupyter-widgets/base",
       "_view_module_version": "1.2.0",
       "_view_name": "LayoutView",
       "align_content": null,
       "align_items": null,
       "align_self": null,
       "border": null,
       "bottom": null,
       "display": null,
       "flex": null,
       "flex_flow": null,
       "grid_area": null,
       "grid_auto_columns": null,
       "grid_auto_flow": null,
       "grid_auto_rows": null,
       "grid_column": null,
       "grid_gap": null,
       "grid_row": null,
       "grid_template_areas": null,
       "grid_template_columns": null,
       "grid_template_rows": null,
       "height": null,
       "justify_content": null,
       "justify_items": null,
       "left": null,
       "margin": null,
       "max_height": null,
       "max_width": null,
       "min_height": null,
       "min_width": null,
       "object_fit": null,
       "object_position": null,
       "order": null,
       "overflow": null,
       "overflow_x": null,
       "overflow_y": null,
       "padding": null,
       "right": null,
       "top": null,
       "visibility": null,
       "width": null
      }
     },
     "b3412e0b7e684b59907496014b969c12": {
      "model_module": "@jupyter-widgets/base",
      "model_module_version": "1.2.0",
      "model_name": "LayoutModel",
      "state": {
       "_model_module": "@jupyter-widgets/base",
       "_model_module_version": "1.2.0",
       "_model_name": "LayoutModel",
       "_view_count": null,
       "_view_module": "@jupyter-widgets/base",
       "_view_module_version": "1.2.0",
       "_view_name": "LayoutView",
       "align_content": null,
       "align_items": null,
       "align_self": null,
       "border": null,
       "bottom": null,
       "display": null,
       "flex": null,
       "flex_flow": null,
       "grid_area": null,
       "grid_auto_columns": null,
       "grid_auto_flow": null,
       "grid_auto_rows": null,
       "grid_column": null,
       "grid_gap": null,
       "grid_row": null,
       "grid_template_areas": null,
       "grid_template_columns": null,
       "grid_template_rows": null,
       "height": null,
       "justify_content": null,
       "justify_items": null,
       "left": null,
       "margin": null,
       "max_height": null,
       "max_width": null,
       "min_height": null,
       "min_width": null,
       "object_fit": null,
       "object_position": null,
       "order": null,
       "overflow": null,
       "overflow_x": null,
       "overflow_y": null,
       "padding": null,
       "right": null,
       "top": null,
       "visibility": null,
       "width": null
      }
     },
     "bf33178e1cca47409e1c8b0974c6d9a4": {
      "model_module": "@jupyter-widgets/controls",
      "model_module_version": "1.5.0",
      "model_name": "FloatProgressModel",
      "state": {
       "_dom_classes": [],
       "_model_module": "@jupyter-widgets/controls",
       "_model_module_version": "1.5.0",
       "_model_name": "FloatProgressModel",
       "_view_count": null,
       "_view_module": "@jupyter-widgets/controls",
       "_view_module_version": "1.5.0",
       "_view_name": "ProgressView",
       "bar_style": "success",
       "description": "",
       "description_tooltip": null,
       "layout": "IPY_MODEL_eb44c09e08074cf290d3f6b5d74baf59",
       "max": 5069051.0,
       "min": 0.0,
       "orientation": "horizontal",
       "style": "IPY_MODEL_89d1b69ef8044f7480872ae52ee1da6c",
       "value": 5069051.0
      }
     },
     "bfe3f9ab735f43eea8ae543856b18e13": {
      "model_module": "@jupyter-widgets/base",
      "model_module_version": "1.2.0",
      "model_name": "LayoutModel",
      "state": {
       "_model_module": "@jupyter-widgets/base",
       "_model_module_version": "1.2.0",
       "_model_name": "LayoutModel",
       "_view_count": null,
       "_view_module": "@jupyter-widgets/base",
       "_view_module_version": "1.2.0",
       "_view_name": "LayoutView",
       "align_content": null,
       "align_items": null,
       "align_self": null,
       "border": null,
       "bottom": null,
       "display": null,
       "flex": null,
       "flex_flow": null,
       "grid_area": null,
       "grid_auto_columns": null,
       "grid_auto_flow": null,
       "grid_auto_rows": null,
       "grid_column": null,
       "grid_gap": null,
       "grid_row": null,
       "grid_template_areas": null,
       "grid_template_columns": null,
       "grid_template_rows": null,
       "height": null,
       "justify_content": null,
       "justify_items": null,
       "left": null,
       "margin": null,
       "max_height": null,
       "max_width": null,
       "min_height": null,
       "min_width": null,
       "object_fit": null,
       "object_position": null,
       "order": null,
       "overflow": null,
       "overflow_x": null,
       "overflow_y": null,
       "padding": null,
       "right": null,
       "top": null,
       "visibility": null,
       "width": null
      }
     },
     "c031220c5c95415ab56c959f9310395f": {
      "model_module": "@jupyter-widgets/base",
      "model_module_version": "1.2.0",
      "model_name": "LayoutModel",
      "state": {
       "_model_module": "@jupyter-widgets/base",
       "_model_module_version": "1.2.0",
       "_model_name": "LayoutModel",
       "_view_count": null,
       "_view_module": "@jupyter-widgets/base",
       "_view_module_version": "1.2.0",
       "_view_name": "LayoutView",
       "align_content": null,
       "align_items": null,
       "align_self": null,
       "border": null,
       "bottom": null,
       "display": null,
       "flex": null,
       "flex_flow": null,
       "grid_area": null,
       "grid_auto_columns": null,
       "grid_auto_flow": null,
       "grid_auto_rows": null,
       "grid_column": null,
       "grid_gap": null,
       "grid_row": null,
       "grid_template_areas": null,
       "grid_template_columns": null,
       "grid_template_rows": null,
       "height": null,
       "justify_content": null,
       "justify_items": null,
       "left": null,
       "margin": null,
       "max_height": null,
       "max_width": null,
       "min_height": null,
       "min_width": null,
       "object_fit": null,
       "object_position": null,
       "order": null,
       "overflow": null,
       "overflow_x": null,
       "overflow_y": null,
       "padding": null,
       "right": null,
       "top": null,
       "visibility": null,
       "width": null
      }
     },
     "c1a8d942e39c4d52a9a611c69283fcf9": {
      "model_module": "@jupyter-widgets/controls",
      "model_module_version": "1.5.0",
      "model_name": "HTMLModel",
      "state": {
       "_dom_classes": [],
       "_model_module": "@jupyter-widgets/controls",
       "_model_module_version": "1.5.0",
       "_model_name": "HTMLModel",
       "_view_count": null,
       "_view_module": "@jupyter-widgets/controls",
       "_view_module_version": "1.5.0",
       "_view_name": "HTMLView",
       "description": "",
       "description_tooltip": null,
       "layout": "IPY_MODEL_f2fec181d9ff4d6c95d0852364c70b10",
       "placeholder": "​",
       "style": "IPY_MODEL_9043871d820543b1bfa44c422144e9c8",
       "value": " 25.0/25.0 [00:00&lt;00:00, 2.30kB/s]"
      }
     },
     "c45798b79d224205ac4f0895f3c79753": {
      "model_module": "@jupyter-widgets/controls",
      "model_module_version": "1.5.0",
      "model_name": "DescriptionStyleModel",
      "state": {
       "_model_module": "@jupyter-widgets/controls",
       "_model_module_version": "1.5.0",
       "_model_name": "DescriptionStyleModel",
       "_view_count": null,
       "_view_module": "@jupyter-widgets/base",
       "_view_module_version": "1.2.0",
       "_view_name": "StyleView",
       "description_width": ""
      }
     },
     "c4ad8bf480d143258622eecd5769e7e2": {
      "model_module": "@jupyter-widgets/base",
      "model_module_version": "1.2.0",
      "model_name": "LayoutModel",
      "state": {
       "_model_module": "@jupyter-widgets/base",
       "_model_module_version": "1.2.0",
       "_model_name": "LayoutModel",
       "_view_count": null,
       "_view_module": "@jupyter-widgets/base",
       "_view_module_version": "1.2.0",
       "_view_name": "LayoutView",
       "align_content": null,
       "align_items": null,
       "align_self": null,
       "border": null,
       "bottom": null,
       "display": null,
       "flex": null,
       "flex_flow": null,
       "grid_area": null,
       "grid_auto_columns": null,
       "grid_auto_flow": null,
       "grid_auto_rows": null,
       "grid_column": null,
       "grid_gap": null,
       "grid_row": null,
       "grid_template_areas": null,
       "grid_template_columns": null,
       "grid_template_rows": null,
       "height": null,
       "justify_content": null,
       "justify_items": null,
       "left": null,
       "margin": null,
       "max_height": null,
       "max_width": null,
       "min_height": null,
       "min_width": null,
       "object_fit": null,
       "object_position": null,
       "order": null,
       "overflow": null,
       "overflow_x": null,
       "overflow_y": null,
       "padding": null,
       "right": null,
       "top": null,
       "visibility": null,
       "width": null
      }
     },
     "c6d67cbbb57b4373a2af70474d9f6e59": {
      "model_module": "@jupyter-widgets/controls",
      "model_module_version": "1.5.0",
      "model_name": "HBoxModel",
      "state": {
       "_dom_classes": [],
       "_model_module": "@jupyter-widgets/controls",
       "_model_module_version": "1.5.0",
       "_model_name": "HBoxModel",
       "_view_count": null,
       "_view_module": "@jupyter-widgets/controls",
       "_view_module_version": "1.5.0",
       "_view_name": "HBoxView",
       "box_style": "",
       "children": [
        "IPY_MODEL_efe32871a0934b3088f2aa6876f11df1",
        "IPY_MODEL_12e94ed4181341689c177c29d4167562",
        "IPY_MODEL_913365af12ef4c668afea188f074c58f"
       ],
       "layout": "IPY_MODEL_9a4a06167f3c411f98da8eb38206d6b5"
      }
     },
     "c81507c43a804cbbb1c03d6d43185569": {
      "model_module": "@jupyter-widgets/controls",
      "model_module_version": "1.5.0",
      "model_name": "ProgressStyleModel",
      "state": {
       "_model_module": "@jupyter-widgets/controls",
       "_model_module_version": "1.5.0",
       "_model_name": "ProgressStyleModel",
       "_view_count": null,
       "_view_module": "@jupyter-widgets/base",
       "_view_module_version": "1.2.0",
       "_view_name": "StyleView",
       "bar_color": null,
       "description_width": ""
      }
     },
     "dd3b5f7ad68d4808902b8d418f63a961": {
      "model_module": "@jupyter-widgets/controls",
      "model_module_version": "1.5.0",
      "model_name": "FloatProgressModel",
      "state": {
       "_dom_classes": [],
       "_model_module": "@jupyter-widgets/controls",
       "_model_module_version": "1.5.0",
       "_model_name": "FloatProgressModel",
       "_view_count": null,
       "_view_module": "@jupyter-widgets/controls",
       "_view_module_version": "1.5.0",
       "_view_name": "ProgressView",
       "bar_style": "success",
       "description": "",
       "description_tooltip": null,
       "layout": "IPY_MODEL_a5d5fbabfaf74fb4a2af355e067d8462",
       "max": 25.0,
       "min": 0.0,
       "orientation": "horizontal",
       "style": "IPY_MODEL_e67f50841ff34c0c8c2ffa59843ff4cc",
       "value": 25.0
      }
     },
     "defd04eace60497cb8acb6adac1dd7fb": {
      "model_module": "@jupyter-widgets/controls",
      "model_module_version": "1.5.0",
      "model_name": "HTMLModel",
      "state": {
       "_dom_classes": [],
       "_model_module": "@jupyter-widgets/controls",
       "_model_module_version": "1.5.0",
       "_model_name": "HTMLModel",
       "_view_count": null,
       "_view_module": "@jupyter-widgets/controls",
       "_view_module_version": "1.5.0",
       "_view_name": "HTMLView",
       "description": "",
       "description_tooltip": null,
       "layout": "IPY_MODEL_bfe3f9ab735f43eea8ae543856b18e13",
       "placeholder": "​",
       "style": "IPY_MODEL_5e082c90db814121a9aafc0372ca9f30",
       "value": "Downloading builder script: 100%"
      }
     },
     "e0dccfcf18144b41837fca264b3cafad": {
      "model_module": "@jupyter-widgets/base",
      "model_module_version": "1.2.0",
      "model_name": "LayoutModel",
      "state": {
       "_model_module": "@jupyter-widgets/base",
       "_model_module_version": "1.2.0",
       "_model_name": "LayoutModel",
       "_view_count": null,
       "_view_module": "@jupyter-widgets/base",
       "_view_module_version": "1.2.0",
       "_view_name": "LayoutView",
       "align_content": null,
       "align_items": null,
       "align_self": null,
       "border": null,
       "bottom": null,
       "display": null,
       "flex": null,
       "flex_flow": null,
       "grid_area": null,
       "grid_auto_columns": null,
       "grid_auto_flow": null,
       "grid_auto_rows": null,
       "grid_column": null,
       "grid_gap": null,
       "grid_row": null,
       "grid_template_areas": null,
       "grid_template_columns": null,
       "grid_template_rows": null,
       "height": null,
       "justify_content": null,
       "justify_items": null,
       "left": null,
       "margin": null,
       "max_height": null,
       "max_width": null,
       "min_height": null,
       "min_width": null,
       "object_fit": null,
       "object_position": null,
       "order": null,
       "overflow": null,
       "overflow_x": null,
       "overflow_y": null,
       "padding": null,
       "right": null,
       "top": null,
       "visibility": null,
       "width": null
      }
     },
     "e216215a532b475d938d5a892599b388": {
      "model_module": "@jupyter-widgets/controls",
      "model_module_version": "1.5.0",
      "model_name": "HTMLModel",
      "state": {
       "_dom_classes": [],
       "_model_module": "@jupyter-widgets/controls",
       "_model_module_version": "1.5.0",
       "_model_name": "HTMLModel",
       "_view_count": null,
       "_view_module": "@jupyter-widgets/controls",
       "_view_module_version": "1.5.0",
       "_view_name": "HTMLView",
       "description": "",
       "description_tooltip": null,
       "layout": "IPY_MODEL_060bb14598574b90afbbd5832e3563c8",
       "placeholder": "​",
       "style": "IPY_MODEL_85b8f8a5c6004432a692e50731a6b784",
       "value": " 5.07M/5.07M [00:00&lt;00:00, 11.3MB/s]"
      }
     },
     "e35bdbb3c8ca42818836ebf0a93c4b74": {
      "model_module": "@jupyter-widgets/controls",
      "model_module_version": "1.5.0",
      "model_name": "DescriptionStyleModel",
      "state": {
       "_model_module": "@jupyter-widgets/controls",
       "_model_module_version": "1.5.0",
       "_model_name": "DescriptionStyleModel",
       "_view_count": null,
       "_view_module": "@jupyter-widgets/base",
       "_view_module_version": "1.2.0",
       "_view_name": "StyleView",
       "description_width": ""
      }
     },
     "e67f50841ff34c0c8c2ffa59843ff4cc": {
      "model_module": "@jupyter-widgets/controls",
      "model_module_version": "1.5.0",
      "model_name": "ProgressStyleModel",
      "state": {
       "_model_module": "@jupyter-widgets/controls",
       "_model_module_version": "1.5.0",
       "_model_name": "ProgressStyleModel",
       "_view_count": null,
       "_view_module": "@jupyter-widgets/base",
       "_view_module_version": "1.2.0",
       "_view_name": "StyleView",
       "bar_color": null,
       "description_width": ""
      }
     },
     "e8f38ec087064b01b316ca0f1f517c1d": {
      "model_module": "@jupyter-widgets/controls",
      "model_module_version": "1.5.0",
      "model_name": "FloatProgressModel",
      "state": {
       "_dom_classes": [],
       "_model_module": "@jupyter-widgets/controls",
       "_model_module_version": "1.5.0",
       "_model_name": "FloatProgressModel",
       "_view_count": null,
       "_view_module": "@jupyter-widgets/controls",
       "_view_module_version": "1.5.0",
       "_view_name": "ProgressView",
       "bar_style": "success",
       "description": "",
       "description_tooltip": null,
       "layout": "IPY_MODEL_570b186ae8104b319436c7ecf8e852e0",
       "max": 1115567652.0,
       "min": 0.0,
       "orientation": "horizontal",
       "style": "IPY_MODEL_492d1262c8934c3bae9bd0f3918a1684",
       "value": 1115567652.0
      }
     },
     "eb44c09e08074cf290d3f6b5d74baf59": {
      "model_module": "@jupyter-widgets/base",
      "model_module_version": "1.2.0",
      "model_name": "LayoutModel",
      "state": {
       "_model_module": "@jupyter-widgets/base",
       "_model_module_version": "1.2.0",
       "_model_name": "LayoutModel",
       "_view_count": null,
       "_view_module": "@jupyter-widgets/base",
       "_view_module_version": "1.2.0",
       "_view_name": "LayoutView",
       "align_content": null,
       "align_items": null,
       "align_self": null,
       "border": null,
       "bottom": null,
       "display": null,
       "flex": null,
       "flex_flow": null,
       "grid_area": null,
       "grid_auto_columns": null,
       "grid_auto_flow": null,
       "grid_auto_rows": null,
       "grid_column": null,
       "grid_gap": null,
       "grid_row": null,
       "grid_template_areas": null,
       "grid_template_columns": null,
       "grid_template_rows": null,
       "height": null,
       "justify_content": null,
       "justify_items": null,
       "left": null,
       "margin": null,
       "max_height": null,
       "max_width": null,
       "min_height": null,
       "min_width": null,
       "object_fit": null,
       "object_position": null,
       "order": null,
       "overflow": null,
       "overflow_x": null,
       "overflow_y": null,
       "padding": null,
       "right": null,
       "top": null,
       "visibility": null,
       "width": null
      }
     },
     "efe32871a0934b3088f2aa6876f11df1": {
      "model_module": "@jupyter-widgets/controls",
      "model_module_version": "1.5.0",
      "model_name": "HTMLModel",
      "state": {
       "_dom_classes": [],
       "_model_module": "@jupyter-widgets/controls",
       "_model_module_version": "1.5.0",
       "_model_name": "HTMLModel",
       "_view_count": null,
       "_view_module": "@jupyter-widgets/controls",
       "_view_module_version": "1.5.0",
       "_view_name": "HTMLView",
       "description": "",
       "description_tooltip": null,
       "layout": "IPY_MODEL_97338c6ade374c24aa033a96f601097c",
       "placeholder": "​",
       "style": "IPY_MODEL_adc0cf44e1294204886a20f4c9beaf31",
       "value": "config.json: 100%"
      }
     },
     "f0cc4a1da8e5433aab7ef65eaadcf54a": {
      "model_module": "@jupyter-widgets/base",
      "model_module_version": "1.2.0",
      "model_name": "LayoutModel",
      "state": {
       "_model_module": "@jupyter-widgets/base",
       "_model_module_version": "1.2.0",
       "_model_name": "LayoutModel",
       "_view_count": null,
       "_view_module": "@jupyter-widgets/base",
       "_view_module_version": "1.2.0",
       "_view_name": "LayoutView",
       "align_content": null,
       "align_items": null,
       "align_self": null,
       "border": null,
       "bottom": null,
       "display": null,
       "flex": null,
       "flex_flow": null,
       "grid_area": null,
       "grid_auto_columns": null,
       "grid_auto_flow": null,
       "grid_auto_rows": null,
       "grid_column": null,
       "grid_gap": null,
       "grid_row": null,
       "grid_template_areas": null,
       "grid_template_columns": null,
       "grid_template_rows": null,
       "height": null,
       "justify_content": null,
       "justify_items": null,
       "left": null,
       "margin": null,
       "max_height": null,
       "max_width": null,
       "min_height": null,
       "min_width": null,
       "object_fit": null,
       "object_position": null,
       "order": null,
       "overflow": null,
       "overflow_x": null,
       "overflow_y": null,
       "padding": null,
       "right": null,
       "top": null,
       "visibility": null,
       "width": null
      }
     },
     "f2fec181d9ff4d6c95d0852364c70b10": {
      "model_module": "@jupyter-widgets/base",
      "model_module_version": "1.2.0",
      "model_name": "LayoutModel",
      "state": {
       "_model_module": "@jupyter-widgets/base",
       "_model_module_version": "1.2.0",
       "_model_name": "LayoutModel",
       "_view_count": null,
       "_view_module": "@jupyter-widgets/base",
       "_view_module_version": "1.2.0",
       "_view_name": "LayoutView",
       "align_content": null,
       "align_items": null,
       "align_self": null,
       "border": null,
       "bottom": null,
       "display": null,
       "flex": null,
       "flex_flow": null,
       "grid_area": null,
       "grid_auto_columns": null,
       "grid_auto_flow": null,
       "grid_auto_rows": null,
       "grid_column": null,
       "grid_gap": null,
       "grid_row": null,
       "grid_template_areas": null,
       "grid_template_columns": null,
       "grid_template_rows": null,
       "height": null,
       "justify_content": null,
       "justify_items": null,
       "left": null,
       "margin": null,
       "max_height": null,
       "max_width": null,
       "min_height": null,
       "min_width": null,
       "object_fit": null,
       "object_position": null,
       "order": null,
       "overflow": null,
       "overflow_x": null,
       "overflow_y": null,
       "padding": null,
       "right": null,
       "top": null,
       "visibility": null,
       "width": null
      }
     },
     "f756e0e06b2a4829aaa577db3d50649d": {
      "model_module": "@jupyter-widgets/base",
      "model_module_version": "1.2.0",
      "model_name": "LayoutModel",
      "state": {
       "_model_module": "@jupyter-widgets/base",
       "_model_module_version": "1.2.0",
       "_model_name": "LayoutModel",
       "_view_count": null,
       "_view_module": "@jupyter-widgets/base",
       "_view_module_version": "1.2.0",
       "_view_name": "LayoutView",
       "align_content": null,
       "align_items": null,
       "align_self": null,
       "border": null,
       "bottom": null,
       "display": null,
       "flex": null,
       "flex_flow": null,
       "grid_area": null,
       "grid_auto_columns": null,
       "grid_auto_flow": null,
       "grid_auto_rows": null,
       "grid_column": null,
       "grid_gap": null,
       "grid_row": null,
       "grid_template_areas": null,
       "grid_template_columns": null,
       "grid_template_rows": null,
       "height": null,
       "justify_content": null,
       "justify_items": null,
       "left": null,
       "margin": null,
       "max_height": null,
       "max_width": null,
       "min_height": null,
       "min_width": null,
       "object_fit": null,
       "object_position": null,
       "order": null,
       "overflow": null,
       "overflow_x": null,
       "overflow_y": null,
       "padding": null,
       "right": null,
       "top": null,
       "visibility": null,
       "width": null
      }
     },
     "ff3b92b78e7e48f59122b3125ed32389": {
      "model_module": "@jupyter-widgets/controls",
      "model_module_version": "1.5.0",
      "model_name": "HBoxModel",
      "state": {
       "_dom_classes": [],
       "_model_module": "@jupyter-widgets/controls",
       "_model_module_version": "1.5.0",
       "_model_name": "HBoxModel",
       "_view_count": null,
       "_view_module": "@jupyter-widgets/controls",
       "_view_module_version": "1.5.0",
       "_view_name": "HBoxView",
       "box_style": "",
       "children": [
        "IPY_MODEL_3397611f62f84836b2cdc9a0a31b2694",
        "IPY_MODEL_8551b2ca83fb407cba24c0b9f92e10ab",
        "IPY_MODEL_1a60af6d07a848ec83c7d1fbbb70241a"
       ],
       "layout": "IPY_MODEL_a920694d1fbb48ceaf52858881f2b09a"
      }
     }
    },
    "version_major": 2,
    "version_minor": 0
   }
  }
 },
 "nbformat": 4,
 "nbformat_minor": 5
}
