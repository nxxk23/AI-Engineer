{
  "nbformat": 4,
  "nbformat_minor": 0,
  "metadata": {
    "colab": {
      "provenance": [],
      "authorship_tag": "ABX9TyPxDCM0f3m34JGzvrauIBdf",
      "include_colab_link": true
    },
    "kernelspec": {
      "name": "python3",
      "display_name": "Python 3"
    },
    "language_info": {
      "name": "python"
    }
  },
  "cells": [
    {
      "cell_type": "markdown",
      "metadata": {
        "id": "view-in-github",
        "colab_type": "text"
      },
      "source": [
        "<a href=\"https://colab.research.google.com/github/nxxk23/AI-Engineer/blob/main/scraping.ipynb\" target=\"_parent\"><img src=\"https://colab.research.google.com/assets/colab-badge.svg\" alt=\"Open In Colab\"/></a>"
      ]
    },
    {
      "cell_type": "code",
      "execution_count": 9,
      "metadata": {
        "colab": {
          "base_uri": "https://localhost:8080/"
        },
        "id": "GgDiKvYKEg18",
        "outputId": "f780c7c3-4ef7-47da-c4fe-070faddf142d"
      },
      "outputs": [
        {
          "output_type": "stream",
          "name": "stdout",
          "text": [
            "Requirement already satisfied: requests in /usr/local/lib/python3.11/dist-packages (2.32.3)\n",
            "Requirement already satisfied: beautifulsoup4 in /usr/local/lib/python3.11/dist-packages (4.12.3)\n",
            "Requirement already satisfied: charset-normalizer<4,>=2 in /usr/local/lib/python3.11/dist-packages (from requests) (3.4.1)\n",
            "Requirement already satisfied: idna<4,>=2.5 in /usr/local/lib/python3.11/dist-packages (from requests) (3.10)\n",
            "Requirement already satisfied: urllib3<3,>=1.21.1 in /usr/local/lib/python3.11/dist-packages (from requests) (2.3.0)\n",
            "Requirement already satisfied: certifi>=2017.4.17 in /usr/local/lib/python3.11/dist-packages (from requests) (2024.12.14)\n",
            "Requirement already satisfied: soupsieve>1.2 in /usr/local/lib/python3.11/dist-packages (from beautifulsoup4) (2.6)\n"
          ]
        }
      ],
      "source": [
        "!pip install requests beautifulsoup4"
      ]
    },
    {
      "cell_type": "code",
      "source": [
        "import requests\n",
        "from bs4 import BeautifulSoup\n",
        "\n",
        "def scrape_duckduckgo(query):\n",
        "    # Construct DuckDuckGo search URL with the query\n",
        "    url = f\"https://duckduckgo.com/html/?q={query.replace(' ', '+')}\"\n",
        "\n",
        "    # Send GET request\n",
        "    headers = {'User-Agent': 'Mozilla/5.0 (Windows NT 10.0; Win64; x64) AppleWebKit/537.36 (KHTML, like Gecko) Chrome/58.0.3029.110 Safari/537.36'}\n",
        "    response = requests.get(url, headers=headers)\n",
        "\n",
        "    if response.status_code != 200:\n",
        "        print(f\"Failed to retrieve DuckDuckGo search results. Status code: {response.status_code}\")\n",
        "        return None\n",
        "\n",
        "    # Parse the page using BeautifulSoup\n",
        "    soup = BeautifulSoup(response.text, 'html.parser')\n",
        "\n",
        "    # Find all the search result snippets\n",
        "    result_divs = soup.find_all('div', class_='result__body')\n",
        "\n",
        "    if not result_divs:\n",
        "        print(\"No search results found.\")\n",
        "        return\n",
        "\n",
        "    # Loop through the search results and print only the snippet text\n",
        "    for idx, result in enumerate(result_divs[:5]):  # Limit to top 5 results for brevity\n",
        "        title = result.find('a', class_='result__a')\n",
        "        snippet = result.find('a', class_='result__snippet')\n",
        "\n",
        "        if title and snippet:\n",
        "            print(f\"Title: {title.get_text().strip()}\")\n",
        "            print(f\"Snippet: {snippet.get_text().strip()}\")\n",
        "            print(\"-\" * 80)  # To separate the results\n",
        "\n",
        "def main():\n",
        "    # Take input for the search query\n",
        "    query = input(\"Enter the search keyword (e.g., 'COVID'): \").strip()\n",
        "\n",
        "    # Automatically append \"ICD10\" to the query\n",
        "    search_query = f\"{query} ICD-10 Description\"\n",
        "    scrape_duckduckgo(search_query)\n",
        "\n",
        "# Run the main function\n",
        "main()\n"
      ],
      "metadata": {
        "colab": {
          "base_uri": "https://localhost:8080/"
        },
        "id": "byfrS67BOLWp",
        "outputId": "42235da1-32c4-4530-93ae-f136baf61cd1"
      },
      "execution_count": 64,
      "outputs": [
        {
          "output_type": "stream",
          "name": "stdout",
          "text": [
            "Enter the search keyword (e.g., 'COVID'): มะเร็งปอด\n",
            "Title: รายการรหัสโรค(Icd-10) ของโรคมะเร็ง 7 ชนิด - Uc@Kkpho\n",
            "Snippet: รหัสโรค ( ICD-10 ) มะเร็งปอด ( Lung ) C340Malignant neoplasm of main bronchus; C341Malignant neoplasm of upper lobe, bronchus or lung ... ( ICD-10 ) มะเร็งหลอดอาหาร ( Esophagus ) C150Malignant neoplasm of oesophagus, cervical part of oesophagus;\n",
            "--------------------------------------------------------------------------------\n",
            "Title: อัตราตายจากมะเร็งปอด - Health KPI\n",
            "Snippet: จำนวนการตายจากโรคมะเร็งปอด (รหัส icd-10 = c33-c34) หน่วยของค่า b: คน: นิยามของค่า b: จำนวนประชากรกลางปีในช่วงเวลาเดียวกัน: หน่วยของค่า c\n",
            "--------------------------------------------------------------------------------\n",
            "Title: รหัส Icd-10-cm มวลปอด | 2023\n",
            "Snippet: สำรวจรหัส ICD-10 ที่สำคัญสำหรับการวินิจฉัยมวลปอดเรียนรู้ผลกระทบทางคลินิก คำพ้องความหมาย การรักษา และอื่นๆ ด้วยคู่มือที่เป็นประโยชน์ของ Carepatron\n",
            "--------------------------------------------------------------------------------\n",
            "Title: อัตราตายจากมะเร็งปอด - Health KPI\n",
            "Snippet: ตัวแปร: a = จำนวนการตายจากโรคมะเร็งปอด (รหัส icd-10 = c330-c349) (คน). b = จำนวนประชากรกลางปีในช่วงเวลาเดียวกัน (คน). สูตรคำนวณ (a / b)*100000เกณฑ์เป้าหมาย = 20 ...\n",
            "--------------------------------------------------------------------------------\n",
            "Title: อัตราตายจากมะเร็งปอด - Health KPI\n",
            "Snippet: อัตราตายจากโรคมะเร็งปอด หมายถึง จำนวนตายจากโรคมะเร็งปอด (รหัส icd-10 = c330-c349) ทุกกลุ่มอายุต่อประชากรแสนคนในช่วงปีนั้น\n",
            "--------------------------------------------------------------------------------\n"
          ]
        }
      ]
    },
    {
      "cell_type": "code",
      "source": [
        "import requests\n",
        "from bs4 import BeautifulSoup\n",
        "\n",
        "def scrape_duckduckgo(query):\n",
        "    # Construct DuckDuckGo search URL with the query\n",
        "    url = f\"https://duckduckgo.com/html/?q={query.replace(' ', '+')}\"\n",
        "\n",
        "    # Send GET request\n",
        "    headers = {'User-Agent': 'Mozilla/5.0 (Windows NT 10.0; Win64; x64) AppleWebKit/537.36 (KHTML, like Gecko) Chrome/58.0.3029.110 Safari/537.36'}\n",
        "    response = requests.get(url, headers=headers)\n",
        "\n",
        "    if response.status_code != 200:\n",
        "        print(f\"Failed to retrieve DuckDuckGo search results. Status code: {response.status_code}\")\n",
        "        return None\n",
        "\n",
        "    # Parse the page using BeautifulSoup\n",
        "    soup = BeautifulSoup(response.text, 'html.parser')\n",
        "\n",
        "    # Find the first search result snippet\n",
        "    result_div = soup.find('div', class_='result__body')\n",
        "\n",
        "    if not result_div:\n",
        "        print(\"No search results found.\")\n",
        "        return\n",
        "\n",
        "    # Get the title and snippet from the first result\n",
        "    title = result_div.find('a', class_='result__a')\n",
        "    snippet = result_div.find('a', class_='result__snippet')\n",
        "\n",
        "    if title and snippet:\n",
        "        print(f\"Title: {title.get_text().strip()}\")\n",
        "        print(f\"Snippet: {snippet.get_text().strip()}\")\n",
        "\n",
        "def main():\n",
        "    # Take input for the search query\n",
        "    query = input(\"Enter the search keyword (e.g., 'COVID'): \").strip()\n",
        "\n",
        "    # Automatically append \"ICD10\" to the query\n",
        "    search_query = f\"ICD10 {query}\"\n",
        "    scrape_duckduckgo(search_query)\n",
        "\n",
        "# Run the main function\n",
        "main()\n"
      ],
      "metadata": {
        "colab": {
          "base_uri": "https://localhost:8080/"
        },
        "id": "Yt7VePhqON7I",
        "outputId": "7e28b106-c238-4bd0-abc8-562353c865c1"
      },
      "execution_count": 58,
      "outputs": [
        {
          "output_type": "stream",
          "name": "stdout",
          "text": [
            "Enter the search keyword (e.g., 'COVID'): กรดไหลย้อน\n",
            "Title: Icd-10 บทที่ 11: โรคของระบบย่อยอาหาร - วิกิพีเดีย\n",
            "Snippet: icd-10 บทที่ 11: โรคของระบบย่อยอาหาร เป็นบัญชีโรคย่อยหนึ่งจากบัญชีจำแนกทางสถิติระหว่างประเทศของโรคและปัญหาสุขภาพที่เกี่ยวข้อง ฉบับทบทวนครั้ง ...\n"
          ]
        }
      ]
    },
    {
      "cell_type": "code",
      "source": [],
      "metadata": {
        "id": "JkOZeSLviwFe"
      },
      "execution_count": 57,
      "outputs": []
    }
  ]
}