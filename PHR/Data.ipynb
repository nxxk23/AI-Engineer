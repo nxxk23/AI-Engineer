{
  "nbformat": 4,
  "nbformat_minor": 0,
  "metadata": {
    "colab": {
      "provenance": [],
      "mount_file_id": "1Qg8X0x052NdgA6JSE50CXTE53CGXfKb0",
      "authorship_tag": "ABX9TyMdoetKfqdvKO63hymyXSFE",
      "include_colab_link": true
    },
    "kernelspec": {
      "name": "python3",
      "display_name": "Python 3"
    },
    "language_info": {
      "name": "python"
    }
  },
  "cells": [
    {
      "cell_type": "markdown",
      "metadata": {
        "id": "view-in-github",
        "colab_type": "text"
      },
      "source": [
        "<a href=\"https://colab.research.google.com/github/nxxk23/AI-Engineer/blob/main/PHR/Data.ipynb\" target=\"_parent\"><img src=\"https://colab.research.google.com/assets/colab-badge.svg\" alt=\"Open In Colab\"/></a>"
      ]
    },
    {
      "cell_type": "code",
      "source": [
        "import json\n",
        "import pandas as pd\n",
        "import glob\n",
        "import os\n",
        "\n",
        "# Path to your folder (change if your path is different)\n",
        "folder_path = '/content/drive/MyDrive/AIEngineer/PHR/ข้อมูล Allergy intolerance/allergy_intolerance'\n",
        "\n",
        "# Find all .json files in the folder\n",
        "json_files = glob.glob(os.path.join(folder_path, '*.json'))\n",
        "print(json_files)\n",
        "# all_data = []\n",
        "\n",
        "# # Loop through each file and load the data\n",
        "# for file in json_files:\n",
        "#     with open(file, 'r', encoding='utf-8') as f:\n",
        "#         data = json.load(f)\n",
        "#         all_data.extend(data)  # Each file contains a list of records\n",
        "\n",
        "# # Convert to DataFrame\n",
        "# df_allergy = pd.DataFrame(all_data)\n",
        "# print(\"Shape:\", df_allergy.shape)\n",
        "# df_allergy.head()\n"
      ],
      "metadata": {
        "colab": {
          "base_uri": "https://localhost:8080/"
        },
        "id": "h08YJG7o-Kz7",
        "outputId": "8b5b0b9e-974d-420c-d843-f52a30e1cede"
      },
      "execution_count": 2,
      "outputs": [
        {
          "output_type": "stream",
          "name": "stdout",
          "text": [
            "[]\n"
          ]
        }
      ]
    },
    {
      "cell_type": "code",
      "execution_count": null,
      "metadata": {
        "id": "ZVIS5Qw_95Aq"
      },
      "outputs": [],
      "source": [
        "import json\n",
        "import pandas as pd\n",
        "import glob\n",
        "\n",
        "# Example: Load all 'allergy_intolerance_zone*.json' files into a single DataFrame\n",
        "allergy_files = glob.glob('allergy_intolerance_zone*.json')\n",
        "allergy_data = []\n",
        "\n",
        "for file in allergy_files:\n",
        "    with open(file, 'r', encoding='utf-8') as f:\n",
        "        data = json.load(f)\n",
        "        allergy_data.extend(data)  # each file is a list\n",
        "\n",
        "df_allergy = pd.DataFrame(allergy_data)\n",
        "print('Allergy shape:', df_allergy.shape)\n",
        "print(df_allergy.head())\n",
        "\n",
        "# Example: Load all 'patients_zone*.json' files into a single DataFrame\n",
        "patient_files = glob.glob('patients_zone*.json')\n",
        "patient_data = []\n",
        "\n",
        "for file in patient_files:\n",
        "    with open(file, 'r', encoding='utf-8') as f:\n",
        "        data = json.load(f)\n",
        "        patient_data.extend(data)  # each file is a list\n",
        "\n",
        "df_patient = pd.DataFrame(patient_data)\n",
        "print('Patient shape:', df_patient.shape)\n",
        "print(df_patient.head())\n"
      ]
    }
  ]
}