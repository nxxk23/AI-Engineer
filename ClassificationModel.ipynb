{
  "nbformat": 4,
  "nbformat_minor": 0,
  "metadata": {
    "colab": {
      "provenance": [],
      "gpuType": "T4",
      "authorship_tag": "ABX9TyPsEr6PDqCBLI8yInkPqvdX",
      "include_colab_link": true
    },
    "kernelspec": {
      "name": "python3",
      "display_name": "Python 3"
    },
    "language_info": {
      "name": "python"
    },
    "accelerator": "GPU"
  },
  "cells": [
    {
      "cell_type": "markdown",
      "metadata": {
        "id": "view-in-github",
        "colab_type": "text"
      },
      "source": [
        "<a href=\"https://colab.research.google.com/github/nxxk23/AI-Engineer/blob/main/ClassificationModel.ipynb\" target=\"_parent\"><img src=\"https://colab.research.google.com/assets/colab-badge.svg\" alt=\"Open In Colab\"/></a>"
      ]
    },
    {
      "cell_type": "code",
      "source": [
        "from google.colab import drive\n",
        "drive.mount('/content/drive')"
      ],
      "metadata": {
        "colab": {
          "base_uri": "https://localhost:8080/"
        },
        "id": "1aNJOPJkiTEc",
        "outputId": "f0ba4011-4b3c-4ccb-f83d-33fcbef2351c"
      },
      "execution_count": 1,
      "outputs": [
        {
          "output_type": "stream",
          "name": "stdout",
          "text": [
            "Mounted at /content/drive\n"
          ]
        }
      ]
    },
    {
      "cell_type": "code",
      "source": [
        "import pandas as pd\n",
        "df = pd.read_csv(\"/content/drive/MyDrive/AIEngineer/ticket.csv\")\n",
        "df.head(5)"
      ],
      "metadata": {
        "colab": {
          "base_uri": "https://localhost:8080/",
          "height": 451
        },
        "id": "xBjmN5Lqif9B",
        "outputId": "4db5f546-e24b-4b9c-958f-eb2430778865"
      },
      "execution_count": 30,
      "outputs": [
        {
          "output_type": "execute_result",
          "data": {
            "text/plain": [
              "   ticket_no                                            subject  \\\n",
              "0  220711333  Interlink : MA วันที่ 15 กรกฎาคม 2565 เวลา 00....   \n",
              "1   22072423  [Closed]Promessy Corporation : แจ้งตรวจสอบเครื...   \n",
              "2   22081755  BAAC : รบกวนเข้าไปเก็บตัวกล่องสัญญาณที่สาขาสาร...   \n",
              "3   22091574  Transform You : แจ้งขอข้อมูล Lun ดังนี้ Offsit...   \n",
              "4   22090556  GSB[SD] : แบบคำขอเปลี่ยนแปลงทรัพยากรบน GSB Clo...   \n",
              "\n",
              "                                         description  impact urgency priority  \\\n",
              "0  From: \"NQM Interlink Telecom\" <nqm@interlinkte...  Medium     Low       P4   \n",
              "1  From: Werachat Nawaroongruang <werachat.nawaro...  Medium     Low       P4   \n",
              "2  รับสายลูกค้าคุณสุริยา เบอร์ 0818863505 แจ้งมีต...  Medium     Low       P4   \n",
              "3  From: \"Teerayut Saowamok\" <teerayut.sa@transfo...     Low  Medium       P4   \n",
              "4  From: Servicedesk <servicedesk@inetms.co.th>\\n...     Low  Medium       P4   \n",
              "\n",
              "  ticket_type            group                                      service  \\\n",
              "0     Request  Inext Broadband               [Inext Broadband][Maintenance]   \n",
              "1     Request              NOC                       [Nutanix-Cloud][VMaaS]   \n",
              "2     Request  Inext Broadband  [Inext Broadband][Internet-Standard (Node)]   \n",
              "3     Request              NOC                       [Flexpod-Cloud][VMaaS]   \n",
              "4     Request         MS-Cloud                            [MS-Cloud][VMaaS]   \n",
              "\n",
              "                                channel_notification   category sub_category  \\\n",
              "0           R[Inext Broadband][Maintenance][Carrier]  Interlink          NaN   \n",
              "1                  R[Nutanix-Cloud][VMaaS][Customer]      Other          NaN   \n",
              "2  R[Inext Broadband][Internet-Standard (Node)][C...      Other          NaN   \n",
              "3                  R[Flexpod-Cloud][VMaaS][Customer]      Other          NaN   \n",
              "4                       I[MS-Cloud][VMaaS][Customer]        NaN          NaN   \n",
              "\n",
              "                      created_at  \n",
              "0  2022-07-11 21:50:27.039832+00  \n",
              "1  2022-07-24 05:00:51.878427+00  \n",
              "2  2022-08-17 03:50:55.028628+00  \n",
              "3  2022-09-15 03:57:30.501931+00  \n",
              "4  2022-09-05 03:26:02.189656+00  "
            ],
            "text/html": [
              "\n",
              "  <div id=\"df-79faebe6-40c1-4d39-b469-4fa932aa98a3\" class=\"colab-df-container\">\n",
              "    <div>\n",
              "<style scoped>\n",
              "    .dataframe tbody tr th:only-of-type {\n",
              "        vertical-align: middle;\n",
              "    }\n",
              "\n",
              "    .dataframe tbody tr th {\n",
              "        vertical-align: top;\n",
              "    }\n",
              "\n",
              "    .dataframe thead th {\n",
              "        text-align: right;\n",
              "    }\n",
              "</style>\n",
              "<table border=\"1\" class=\"dataframe\">\n",
              "  <thead>\n",
              "    <tr style=\"text-align: right;\">\n",
              "      <th></th>\n",
              "      <th>ticket_no</th>\n",
              "      <th>subject</th>\n",
              "      <th>description</th>\n",
              "      <th>impact</th>\n",
              "      <th>urgency</th>\n",
              "      <th>priority</th>\n",
              "      <th>ticket_type</th>\n",
              "      <th>group</th>\n",
              "      <th>service</th>\n",
              "      <th>channel_notification</th>\n",
              "      <th>category</th>\n",
              "      <th>sub_category</th>\n",
              "      <th>created_at</th>\n",
              "    </tr>\n",
              "  </thead>\n",
              "  <tbody>\n",
              "    <tr>\n",
              "      <th>0</th>\n",
              "      <td>220711333</td>\n",
              "      <td>Interlink : MA วันที่ 15 กรกฎาคม 2565 เวลา 00....</td>\n",
              "      <td>From: \"NQM Interlink Telecom\" &lt;nqm@interlinkte...</td>\n",
              "      <td>Medium</td>\n",
              "      <td>Low</td>\n",
              "      <td>P4</td>\n",
              "      <td>Request</td>\n",
              "      <td>Inext Broadband</td>\n",
              "      <td>[Inext Broadband][Maintenance]</td>\n",
              "      <td>R[Inext Broadband][Maintenance][Carrier]</td>\n",
              "      <td>Interlink</td>\n",
              "      <td>NaN</td>\n",
              "      <td>2022-07-11 21:50:27.039832+00</td>\n",
              "    </tr>\n",
              "    <tr>\n",
              "      <th>1</th>\n",
              "      <td>22072423</td>\n",
              "      <td>[Closed]Promessy Corporation : แจ้งตรวจสอบเครื...</td>\n",
              "      <td>From: Werachat Nawaroongruang &lt;werachat.nawaro...</td>\n",
              "      <td>Medium</td>\n",
              "      <td>Low</td>\n",
              "      <td>P4</td>\n",
              "      <td>Request</td>\n",
              "      <td>NOC</td>\n",
              "      <td>[Nutanix-Cloud][VMaaS]</td>\n",
              "      <td>R[Nutanix-Cloud][VMaaS][Customer]</td>\n",
              "      <td>Other</td>\n",
              "      <td>NaN</td>\n",
              "      <td>2022-07-24 05:00:51.878427+00</td>\n",
              "    </tr>\n",
              "    <tr>\n",
              "      <th>2</th>\n",
              "      <td>22081755</td>\n",
              "      <td>BAAC : รบกวนเข้าไปเก็บตัวกล่องสัญญาณที่สาขาสาร...</td>\n",
              "      <td>รับสายลูกค้าคุณสุริยา เบอร์ 0818863505 แจ้งมีต...</td>\n",
              "      <td>Medium</td>\n",
              "      <td>Low</td>\n",
              "      <td>P4</td>\n",
              "      <td>Request</td>\n",
              "      <td>Inext Broadband</td>\n",
              "      <td>[Inext Broadband][Internet-Standard (Node)]</td>\n",
              "      <td>R[Inext Broadband][Internet-Standard (Node)][C...</td>\n",
              "      <td>Other</td>\n",
              "      <td>NaN</td>\n",
              "      <td>2022-08-17 03:50:55.028628+00</td>\n",
              "    </tr>\n",
              "    <tr>\n",
              "      <th>3</th>\n",
              "      <td>22091574</td>\n",
              "      <td>Transform You : แจ้งขอข้อมูล Lun ดังนี้ Offsit...</td>\n",
              "      <td>From: \"Teerayut Saowamok\" &lt;teerayut.sa@transfo...</td>\n",
              "      <td>Low</td>\n",
              "      <td>Medium</td>\n",
              "      <td>P4</td>\n",
              "      <td>Request</td>\n",
              "      <td>NOC</td>\n",
              "      <td>[Flexpod-Cloud][VMaaS]</td>\n",
              "      <td>R[Flexpod-Cloud][VMaaS][Customer]</td>\n",
              "      <td>Other</td>\n",
              "      <td>NaN</td>\n",
              "      <td>2022-09-15 03:57:30.501931+00</td>\n",
              "    </tr>\n",
              "    <tr>\n",
              "      <th>4</th>\n",
              "      <td>22090556</td>\n",
              "      <td>GSB[SD] : แบบคำขอเปลี่ยนแปลงทรัพยากรบน GSB Clo...</td>\n",
              "      <td>From: Servicedesk &lt;servicedesk@inetms.co.th&gt;\\n...</td>\n",
              "      <td>Low</td>\n",
              "      <td>Medium</td>\n",
              "      <td>P4</td>\n",
              "      <td>Request</td>\n",
              "      <td>MS-Cloud</td>\n",
              "      <td>[MS-Cloud][VMaaS]</td>\n",
              "      <td>I[MS-Cloud][VMaaS][Customer]</td>\n",
              "      <td>NaN</td>\n",
              "      <td>NaN</td>\n",
              "      <td>2022-09-05 03:26:02.189656+00</td>\n",
              "    </tr>\n",
              "  </tbody>\n",
              "</table>\n",
              "</div>\n",
              "    <div class=\"colab-df-buttons\">\n",
              "\n",
              "  <div class=\"colab-df-container\">\n",
              "    <button class=\"colab-df-convert\" onclick=\"convertToInteractive('df-79faebe6-40c1-4d39-b469-4fa932aa98a3')\"\n",
              "            title=\"Convert this dataframe to an interactive table.\"\n",
              "            style=\"display:none;\">\n",
              "\n",
              "  <svg xmlns=\"http://www.w3.org/2000/svg\" height=\"24px\" viewBox=\"0 -960 960 960\">\n",
              "    <path d=\"M120-120v-720h720v720H120Zm60-500h600v-160H180v160Zm220 220h160v-160H400v160Zm0 220h160v-160H400v160ZM180-400h160v-160H180v160Zm440 0h160v-160H620v160ZM180-180h160v-160H180v160Zm440 0h160v-160H620v160Z\"/>\n",
              "  </svg>\n",
              "    </button>\n",
              "\n",
              "  <style>\n",
              "    .colab-df-container {\n",
              "      display:flex;\n",
              "      gap: 12px;\n",
              "    }\n",
              "\n",
              "    .colab-df-convert {\n",
              "      background-color: #E8F0FE;\n",
              "      border: none;\n",
              "      border-radius: 50%;\n",
              "      cursor: pointer;\n",
              "      display: none;\n",
              "      fill: #1967D2;\n",
              "      height: 32px;\n",
              "      padding: 0 0 0 0;\n",
              "      width: 32px;\n",
              "    }\n",
              "\n",
              "    .colab-df-convert:hover {\n",
              "      background-color: #E2EBFA;\n",
              "      box-shadow: 0px 1px 2px rgba(60, 64, 67, 0.3), 0px 1px 3px 1px rgba(60, 64, 67, 0.15);\n",
              "      fill: #174EA6;\n",
              "    }\n",
              "\n",
              "    .colab-df-buttons div {\n",
              "      margin-bottom: 4px;\n",
              "    }\n",
              "\n",
              "    [theme=dark] .colab-df-convert {\n",
              "      background-color: #3B4455;\n",
              "      fill: #D2E3FC;\n",
              "    }\n",
              "\n",
              "    [theme=dark] .colab-df-convert:hover {\n",
              "      background-color: #434B5C;\n",
              "      box-shadow: 0px 1px 3px 1px rgba(0, 0, 0, 0.15);\n",
              "      filter: drop-shadow(0px 1px 2px rgba(0, 0, 0, 0.3));\n",
              "      fill: #FFFFFF;\n",
              "    }\n",
              "  </style>\n",
              "\n",
              "    <script>\n",
              "      const buttonEl =\n",
              "        document.querySelector('#df-79faebe6-40c1-4d39-b469-4fa932aa98a3 button.colab-df-convert');\n",
              "      buttonEl.style.display =\n",
              "        google.colab.kernel.accessAllowed ? 'block' : 'none';\n",
              "\n",
              "      async function convertToInteractive(key) {\n",
              "        const element = document.querySelector('#df-79faebe6-40c1-4d39-b469-4fa932aa98a3');\n",
              "        const dataTable =\n",
              "          await google.colab.kernel.invokeFunction('convertToInteractive',\n",
              "                                                    [key], {});\n",
              "        if (!dataTable) return;\n",
              "\n",
              "        const docLinkHtml = 'Like what you see? Visit the ' +\n",
              "          '<a target=\"_blank\" href=https://colab.research.google.com/notebooks/data_table.ipynb>data table notebook</a>'\n",
              "          + ' to learn more about interactive tables.';\n",
              "        element.innerHTML = '';\n",
              "        dataTable['output_type'] = 'display_data';\n",
              "        await google.colab.output.renderOutput(dataTable, element);\n",
              "        const docLink = document.createElement('div');\n",
              "        docLink.innerHTML = docLinkHtml;\n",
              "        element.appendChild(docLink);\n",
              "      }\n",
              "    </script>\n",
              "  </div>\n",
              "\n",
              "\n",
              "<div id=\"df-c674bd5b-3d15-4ed9-aaf2-34f21fca8ed4\">\n",
              "  <button class=\"colab-df-quickchart\" onclick=\"quickchart('df-c674bd5b-3d15-4ed9-aaf2-34f21fca8ed4')\"\n",
              "            title=\"Suggest charts\"\n",
              "            style=\"display:none;\">\n",
              "\n",
              "<svg xmlns=\"http://www.w3.org/2000/svg\" height=\"24px\"viewBox=\"0 0 24 24\"\n",
              "     width=\"24px\">\n",
              "    <g>\n",
              "        <path d=\"M19 3H5c-1.1 0-2 .9-2 2v14c0 1.1.9 2 2 2h14c1.1 0 2-.9 2-2V5c0-1.1-.9-2-2-2zM9 17H7v-7h2v7zm4 0h-2V7h2v10zm4 0h-2v-4h2v4z\"/>\n",
              "    </g>\n",
              "</svg>\n",
              "  </button>\n",
              "\n",
              "<style>\n",
              "  .colab-df-quickchart {\n",
              "      --bg-color: #E8F0FE;\n",
              "      --fill-color: #1967D2;\n",
              "      --hover-bg-color: #E2EBFA;\n",
              "      --hover-fill-color: #174EA6;\n",
              "      --disabled-fill-color: #AAA;\n",
              "      --disabled-bg-color: #DDD;\n",
              "  }\n",
              "\n",
              "  [theme=dark] .colab-df-quickchart {\n",
              "      --bg-color: #3B4455;\n",
              "      --fill-color: #D2E3FC;\n",
              "      --hover-bg-color: #434B5C;\n",
              "      --hover-fill-color: #FFFFFF;\n",
              "      --disabled-bg-color: #3B4455;\n",
              "      --disabled-fill-color: #666;\n",
              "  }\n",
              "\n",
              "  .colab-df-quickchart {\n",
              "    background-color: var(--bg-color);\n",
              "    border: none;\n",
              "    border-radius: 50%;\n",
              "    cursor: pointer;\n",
              "    display: none;\n",
              "    fill: var(--fill-color);\n",
              "    height: 32px;\n",
              "    padding: 0;\n",
              "    width: 32px;\n",
              "  }\n",
              "\n",
              "  .colab-df-quickchart:hover {\n",
              "    background-color: var(--hover-bg-color);\n",
              "    box-shadow: 0 1px 2px rgba(60, 64, 67, 0.3), 0 1px 3px 1px rgba(60, 64, 67, 0.15);\n",
              "    fill: var(--button-hover-fill-color);\n",
              "  }\n",
              "\n",
              "  .colab-df-quickchart-complete:disabled,\n",
              "  .colab-df-quickchart-complete:disabled:hover {\n",
              "    background-color: var(--disabled-bg-color);\n",
              "    fill: var(--disabled-fill-color);\n",
              "    box-shadow: none;\n",
              "  }\n",
              "\n",
              "  .colab-df-spinner {\n",
              "    border: 2px solid var(--fill-color);\n",
              "    border-color: transparent;\n",
              "    border-bottom-color: var(--fill-color);\n",
              "    animation:\n",
              "      spin 1s steps(1) infinite;\n",
              "  }\n",
              "\n",
              "  @keyframes spin {\n",
              "    0% {\n",
              "      border-color: transparent;\n",
              "      border-bottom-color: var(--fill-color);\n",
              "      border-left-color: var(--fill-color);\n",
              "    }\n",
              "    20% {\n",
              "      border-color: transparent;\n",
              "      border-left-color: var(--fill-color);\n",
              "      border-top-color: var(--fill-color);\n",
              "    }\n",
              "    30% {\n",
              "      border-color: transparent;\n",
              "      border-left-color: var(--fill-color);\n",
              "      border-top-color: var(--fill-color);\n",
              "      border-right-color: var(--fill-color);\n",
              "    }\n",
              "    40% {\n",
              "      border-color: transparent;\n",
              "      border-right-color: var(--fill-color);\n",
              "      border-top-color: var(--fill-color);\n",
              "    }\n",
              "    60% {\n",
              "      border-color: transparent;\n",
              "      border-right-color: var(--fill-color);\n",
              "    }\n",
              "    80% {\n",
              "      border-color: transparent;\n",
              "      border-right-color: var(--fill-color);\n",
              "      border-bottom-color: var(--fill-color);\n",
              "    }\n",
              "    90% {\n",
              "      border-color: transparent;\n",
              "      border-bottom-color: var(--fill-color);\n",
              "    }\n",
              "  }\n",
              "</style>\n",
              "\n",
              "  <script>\n",
              "    async function quickchart(key) {\n",
              "      const quickchartButtonEl =\n",
              "        document.querySelector('#' + key + ' button');\n",
              "      quickchartButtonEl.disabled = true;  // To prevent multiple clicks.\n",
              "      quickchartButtonEl.classList.add('colab-df-spinner');\n",
              "      try {\n",
              "        const charts = await google.colab.kernel.invokeFunction(\n",
              "            'suggestCharts', [key], {});\n",
              "      } catch (error) {\n",
              "        console.error('Error during call to suggestCharts:', error);\n",
              "      }\n",
              "      quickchartButtonEl.classList.remove('colab-df-spinner');\n",
              "      quickchartButtonEl.classList.add('colab-df-quickchart-complete');\n",
              "    }\n",
              "    (() => {\n",
              "      let quickchartButtonEl =\n",
              "        document.querySelector('#df-c674bd5b-3d15-4ed9-aaf2-34f21fca8ed4 button');\n",
              "      quickchartButtonEl.style.display =\n",
              "        google.colab.kernel.accessAllowed ? 'block' : 'none';\n",
              "    })();\n",
              "  </script>\n",
              "</div>\n",
              "\n",
              "    </div>\n",
              "  </div>\n"
            ],
            "application/vnd.google.colaboratory.intrinsic+json": {
              "type": "dataframe",
              "variable_name": "df"
            }
          },
          "metadata": {},
          "execution_count": 30
        }
      ]
    },
    {
      "cell_type": "code",
      "source": [
        "df.info()"
      ],
      "metadata": {
        "colab": {
          "base_uri": "https://localhost:8080/"
        },
        "id": "Nqf1uEdtjEZq",
        "outputId": "18d04fe7-2cb0-49be-fa0f-1a2b245a9888"
      },
      "execution_count": 31,
      "outputs": [
        {
          "output_type": "stream",
          "name": "stdout",
          "text": [
            "<class 'pandas.core.frame.DataFrame'>\n",
            "RangeIndex: 222489 entries, 0 to 222488\n",
            "Data columns (total 13 columns):\n",
            " #   Column                Non-Null Count   Dtype \n",
            "---  ------                --------------   ----- \n",
            " 0   ticket_no             222489 non-null  int64 \n",
            " 1   subject               222489 non-null  object\n",
            " 2   description           222409 non-null  object\n",
            " 3   impact                222489 non-null  object\n",
            " 4   urgency               222489 non-null  object\n",
            " 5   priority              222489 non-null  object\n",
            " 6   ticket_type           222489 non-null  object\n",
            " 7   group                 222192 non-null  object\n",
            " 8   service               210042 non-null  object\n",
            " 9   channel_notification  210000 non-null  object\n",
            " 10  category              165575 non-null  object\n",
            " 11  sub_category          16073 non-null   object\n",
            " 12  created_at            222489 non-null  object\n",
            "dtypes: int64(1), object(12)\n",
            "memory usage: 22.1+ MB\n"
          ]
        }
      ]
    },
    {
      "cell_type": "markdown",
      "source": [
        "## **Predict class**"
      ],
      "metadata": {
        "id": "oHQwvurKjb83"
      }
    },
    {
      "cell_type": "code",
      "source": [
        "df['ticket_type'].unique()"
      ],
      "metadata": {
        "colab": {
          "base_uri": "https://localhost:8080/"
        },
        "id": "FWY2U1nbjF4C",
        "outputId": "e395ce6f-2dd2-4210-921d-2587ca617466"
      },
      "execution_count": 4,
      "outputs": [
        {
          "output_type": "execute_result",
          "data": {
            "text/plain": [
              "array(['Request', 'Incident', 'Problem'], dtype=object)"
            ]
          },
          "metadata": {},
          "execution_count": 4
        }
      ]
    },
    {
      "cell_type": "code",
      "source": [
        "df.shape"
      ],
      "metadata": {
        "colab": {
          "base_uri": "https://localhost:8080/"
        },
        "id": "0EuMoQwRjsy3",
        "outputId": "94e57717-29e5-49eb-affb-d29f2f177419"
      },
      "execution_count": 5,
      "outputs": [
        {
          "output_type": "execute_result",
          "data": {
            "text/plain": [
              "(222489, 13)"
            ]
          },
          "metadata": {},
          "execution_count": 5
        }
      ]
    },
    {
      "cell_type": "code",
      "source": [
        "df.columns"
      ],
      "metadata": {
        "colab": {
          "base_uri": "https://localhost:8080/"
        },
        "id": "hDUJHvX7lLDI",
        "outputId": "5ecb80a2-1da3-4181-cb6f-0d2abd3c53fe"
      },
      "execution_count": 7,
      "outputs": [
        {
          "output_type": "execute_result",
          "data": {
            "text/plain": [
              "Index(['ticket_no', 'subject', 'description', 'impact', 'urgency', 'priority',\n",
              "       'ticket_type', 'group', 'service', 'channel_notification', 'category',\n",
              "       'sub_category', 'created_at'],\n",
              "      dtype='object')"
            ]
          },
          "metadata": {},
          "execution_count": 7
        }
      ]
    },
    {
      "cell_type": "code",
      "source": [
        "import pandas as pd\n",
        "from sklearn.model_selection import train_test_split\n",
        "from sklearn.preprocessing import OneHotEncoder\n",
        "from sklearn.ensemble import RandomForestClassifier\n",
        "from sklearn.metrics import classification_report, accuracy_score\n",
        "from sklearn.feature_extraction.text import CountVectorizer, TfidfVectorizer"
      ],
      "metadata": {
        "id": "NS60ZGKQmBW_"
      },
      "execution_count": 27,
      "outputs": []
    },
    {
      "cell_type": "markdown",
      "source": [
        "### **numerical columns**\n",
        "\n",
        "`numerical_columns=['impact', 'urgency', 'priority', 'ticket_type']`\n",
        "\n",
        "```\n",
        "use mapping value\n",
        "```\n",
        "\n"
      ],
      "metadata": {
        "id": "5-lfrhMUoy-7"
      }
    },
    {
      "cell_type": "code",
      "source": [
        "im_ur_mapping = {'Low': 0, 'Medium': 1, 'High': 2}\n",
        "df['impact'] = df['impact'].map(im_ur_mapping)\n",
        "df['urgency'] = df['urgency'].map(im_ur_mapping)"
      ],
      "metadata": {
        "colab": {
          "base_uri": "https://localhost:8080/"
        },
        "id": "W8ouUpDToDft",
        "outputId": "c0cd5dd4-06e1-4243-cabe-00ff73967201"
      },
      "execution_count": 40,
      "outputs": [
        {
          "output_type": "stream",
          "name": "stdout",
          "text": [
            "[1 0 2]\n"
          ]
        }
      ]
    },
    {
      "cell_type": "code",
      "source": [
        "prior_mapping = {'P1': 1, 'P2': 2, 'P3': 3, 'P4': 4, 'P5':5}\n",
        "df['priority'] = df['priority'].map(prior_mapping)"
      ],
      "metadata": {
        "id": "wXzG4ba8oVbi"
      },
      "execution_count": 41,
      "outputs": []
    },
    {
      "cell_type": "code",
      "source": [
        "label_mapping = {'Request': 0, 'Incident': 1, 'Problem': 2}\n",
        "df['ticket_type'] = df['ticket_type'].map(label_mapping)"
      ],
      "metadata": {
        "id": "DqdVoxAYpISS"
      },
      "execution_count": 42,
      "outputs": []
    },
    {
      "cell_type": "code",
      "source": [
        "df.columns"
      ],
      "metadata": {
        "colab": {
          "base_uri": "https://localhost:8080/"
        },
        "id": "z6_mpPfVpBPW",
        "outputId": "1e35191f-839c-4bac-9db6-5930b43690c4"
      },
      "execution_count": 38,
      "outputs": [
        {
          "output_type": "execute_result",
          "data": {
            "text/plain": [
              "Index(['ticket_no', 'subject', 'description', 'impact', 'urgency', 'priority',\n",
              "       'ticket_type', 'group', 'service', 'channel_notification', 'category',\n",
              "       'sub_category', 'created_at'],\n",
              "      dtype='object')"
            ]
          },
          "metadata": {},
          "execution_count": 38
        }
      ]
    },
    {
      "cell_type": "code",
      "source": [
        "df.head(5)"
      ],
      "metadata": {
        "colab": {
          "base_uri": "https://localhost:8080/",
          "height": 451
        },
        "id": "EntD8-lppUm2",
        "outputId": "68225d99-21d8-4a92-a34b-9db7237f2cda"
      },
      "execution_count": 44,
      "outputs": [
        {
          "output_type": "execute_result",
          "data": {
            "text/plain": [
              "   ticket_no                                            subject  \\\n",
              "0  220711333  Interlink : MA วันที่ 15 กรกฎาคม 2565 เวลา 00....   \n",
              "1   22072423  [Closed]Promessy Corporation : แจ้งตรวจสอบเครื...   \n",
              "2   22081755  BAAC : รบกวนเข้าไปเก็บตัวกล่องสัญญาณที่สาขาสาร...   \n",
              "3   22091574  Transform You : แจ้งขอข้อมูล Lun ดังนี้ Offsit...   \n",
              "4   22090556  GSB[SD] : แบบคำขอเปลี่ยนแปลงทรัพยากรบน GSB Clo...   \n",
              "\n",
              "                                         description  impact  urgency  \\\n",
              "0  From: \"NQM Interlink Telecom\" <nqm@interlinkte...       1        0   \n",
              "1  From: Werachat Nawaroongruang <werachat.nawaro...       1        0   \n",
              "2  รับสายลูกค้าคุณสุริยา เบอร์ 0818863505 แจ้งมีต...       1        0   \n",
              "3  From: \"Teerayut Saowamok\" <teerayut.sa@transfo...       0        1   \n",
              "4  From: Servicedesk <servicedesk@inetms.co.th>\\n...       0        1   \n",
              "\n",
              "   priority  ticket_type            group  \\\n",
              "0         4            0  Inext Broadband   \n",
              "1         4            0              NOC   \n",
              "2         4            0  Inext Broadband   \n",
              "3         4            0              NOC   \n",
              "4         4            0         MS-Cloud   \n",
              "\n",
              "                                       service  \\\n",
              "0               [Inext Broadband][Maintenance]   \n",
              "1                       [Nutanix-Cloud][VMaaS]   \n",
              "2  [Inext Broadband][Internet-Standard (Node)]   \n",
              "3                       [Flexpod-Cloud][VMaaS]   \n",
              "4                            [MS-Cloud][VMaaS]   \n",
              "\n",
              "                                channel_notification   category sub_category  \\\n",
              "0           R[Inext Broadband][Maintenance][Carrier]  Interlink          NaN   \n",
              "1                  R[Nutanix-Cloud][VMaaS][Customer]      Other          NaN   \n",
              "2  R[Inext Broadband][Internet-Standard (Node)][C...      Other          NaN   \n",
              "3                  R[Flexpod-Cloud][VMaaS][Customer]      Other          NaN   \n",
              "4                       I[MS-Cloud][VMaaS][Customer]        NaN          NaN   \n",
              "\n",
              "                      created_at  \n",
              "0  2022-07-11 21:50:27.039832+00  \n",
              "1  2022-07-24 05:00:51.878427+00  \n",
              "2  2022-08-17 03:50:55.028628+00  \n",
              "3  2022-09-15 03:57:30.501931+00  \n",
              "4  2022-09-05 03:26:02.189656+00  "
            ],
            "text/html": [
              "\n",
              "  <div id=\"df-5f87593f-5c20-4cba-bd7c-ff03a088bb7b\" class=\"colab-df-container\">\n",
              "    <div>\n",
              "<style scoped>\n",
              "    .dataframe tbody tr th:only-of-type {\n",
              "        vertical-align: middle;\n",
              "    }\n",
              "\n",
              "    .dataframe tbody tr th {\n",
              "        vertical-align: top;\n",
              "    }\n",
              "\n",
              "    .dataframe thead th {\n",
              "        text-align: right;\n",
              "    }\n",
              "</style>\n",
              "<table border=\"1\" class=\"dataframe\">\n",
              "  <thead>\n",
              "    <tr style=\"text-align: right;\">\n",
              "      <th></th>\n",
              "      <th>ticket_no</th>\n",
              "      <th>subject</th>\n",
              "      <th>description</th>\n",
              "      <th>impact</th>\n",
              "      <th>urgency</th>\n",
              "      <th>priority</th>\n",
              "      <th>ticket_type</th>\n",
              "      <th>group</th>\n",
              "      <th>service</th>\n",
              "      <th>channel_notification</th>\n",
              "      <th>category</th>\n",
              "      <th>sub_category</th>\n",
              "      <th>created_at</th>\n",
              "    </tr>\n",
              "  </thead>\n",
              "  <tbody>\n",
              "    <tr>\n",
              "      <th>0</th>\n",
              "      <td>220711333</td>\n",
              "      <td>Interlink : MA วันที่ 15 กรกฎาคม 2565 เวลา 00....</td>\n",
              "      <td>From: \"NQM Interlink Telecom\" &lt;nqm@interlinkte...</td>\n",
              "      <td>1</td>\n",
              "      <td>0</td>\n",
              "      <td>4</td>\n",
              "      <td>0</td>\n",
              "      <td>Inext Broadband</td>\n",
              "      <td>[Inext Broadband][Maintenance]</td>\n",
              "      <td>R[Inext Broadband][Maintenance][Carrier]</td>\n",
              "      <td>Interlink</td>\n",
              "      <td>NaN</td>\n",
              "      <td>2022-07-11 21:50:27.039832+00</td>\n",
              "    </tr>\n",
              "    <tr>\n",
              "      <th>1</th>\n",
              "      <td>22072423</td>\n",
              "      <td>[Closed]Promessy Corporation : แจ้งตรวจสอบเครื...</td>\n",
              "      <td>From: Werachat Nawaroongruang &lt;werachat.nawaro...</td>\n",
              "      <td>1</td>\n",
              "      <td>0</td>\n",
              "      <td>4</td>\n",
              "      <td>0</td>\n",
              "      <td>NOC</td>\n",
              "      <td>[Nutanix-Cloud][VMaaS]</td>\n",
              "      <td>R[Nutanix-Cloud][VMaaS][Customer]</td>\n",
              "      <td>Other</td>\n",
              "      <td>NaN</td>\n",
              "      <td>2022-07-24 05:00:51.878427+00</td>\n",
              "    </tr>\n",
              "    <tr>\n",
              "      <th>2</th>\n",
              "      <td>22081755</td>\n",
              "      <td>BAAC : รบกวนเข้าไปเก็บตัวกล่องสัญญาณที่สาขาสาร...</td>\n",
              "      <td>รับสายลูกค้าคุณสุริยา เบอร์ 0818863505 แจ้งมีต...</td>\n",
              "      <td>1</td>\n",
              "      <td>0</td>\n",
              "      <td>4</td>\n",
              "      <td>0</td>\n",
              "      <td>Inext Broadband</td>\n",
              "      <td>[Inext Broadband][Internet-Standard (Node)]</td>\n",
              "      <td>R[Inext Broadband][Internet-Standard (Node)][C...</td>\n",
              "      <td>Other</td>\n",
              "      <td>NaN</td>\n",
              "      <td>2022-08-17 03:50:55.028628+00</td>\n",
              "    </tr>\n",
              "    <tr>\n",
              "      <th>3</th>\n",
              "      <td>22091574</td>\n",
              "      <td>Transform You : แจ้งขอข้อมูล Lun ดังนี้ Offsit...</td>\n",
              "      <td>From: \"Teerayut Saowamok\" &lt;teerayut.sa@transfo...</td>\n",
              "      <td>0</td>\n",
              "      <td>1</td>\n",
              "      <td>4</td>\n",
              "      <td>0</td>\n",
              "      <td>NOC</td>\n",
              "      <td>[Flexpod-Cloud][VMaaS]</td>\n",
              "      <td>R[Flexpod-Cloud][VMaaS][Customer]</td>\n",
              "      <td>Other</td>\n",
              "      <td>NaN</td>\n",
              "      <td>2022-09-15 03:57:30.501931+00</td>\n",
              "    </tr>\n",
              "    <tr>\n",
              "      <th>4</th>\n",
              "      <td>22090556</td>\n",
              "      <td>GSB[SD] : แบบคำขอเปลี่ยนแปลงทรัพยากรบน GSB Clo...</td>\n",
              "      <td>From: Servicedesk &lt;servicedesk@inetms.co.th&gt;\\n...</td>\n",
              "      <td>0</td>\n",
              "      <td>1</td>\n",
              "      <td>4</td>\n",
              "      <td>0</td>\n",
              "      <td>MS-Cloud</td>\n",
              "      <td>[MS-Cloud][VMaaS]</td>\n",
              "      <td>I[MS-Cloud][VMaaS][Customer]</td>\n",
              "      <td>NaN</td>\n",
              "      <td>NaN</td>\n",
              "      <td>2022-09-05 03:26:02.189656+00</td>\n",
              "    </tr>\n",
              "  </tbody>\n",
              "</table>\n",
              "</div>\n",
              "    <div class=\"colab-df-buttons\">\n",
              "\n",
              "  <div class=\"colab-df-container\">\n",
              "    <button class=\"colab-df-convert\" onclick=\"convertToInteractive('df-5f87593f-5c20-4cba-bd7c-ff03a088bb7b')\"\n",
              "            title=\"Convert this dataframe to an interactive table.\"\n",
              "            style=\"display:none;\">\n",
              "\n",
              "  <svg xmlns=\"http://www.w3.org/2000/svg\" height=\"24px\" viewBox=\"0 -960 960 960\">\n",
              "    <path d=\"M120-120v-720h720v720H120Zm60-500h600v-160H180v160Zm220 220h160v-160H400v160Zm0 220h160v-160H400v160ZM180-400h160v-160H180v160Zm440 0h160v-160H620v160ZM180-180h160v-160H180v160Zm440 0h160v-160H620v160Z\"/>\n",
              "  </svg>\n",
              "    </button>\n",
              "\n",
              "  <style>\n",
              "    .colab-df-container {\n",
              "      display:flex;\n",
              "      gap: 12px;\n",
              "    }\n",
              "\n",
              "    .colab-df-convert {\n",
              "      background-color: #E8F0FE;\n",
              "      border: none;\n",
              "      border-radius: 50%;\n",
              "      cursor: pointer;\n",
              "      display: none;\n",
              "      fill: #1967D2;\n",
              "      height: 32px;\n",
              "      padding: 0 0 0 0;\n",
              "      width: 32px;\n",
              "    }\n",
              "\n",
              "    .colab-df-convert:hover {\n",
              "      background-color: #E2EBFA;\n",
              "      box-shadow: 0px 1px 2px rgba(60, 64, 67, 0.3), 0px 1px 3px 1px rgba(60, 64, 67, 0.15);\n",
              "      fill: #174EA6;\n",
              "    }\n",
              "\n",
              "    .colab-df-buttons div {\n",
              "      margin-bottom: 4px;\n",
              "    }\n",
              "\n",
              "    [theme=dark] .colab-df-convert {\n",
              "      background-color: #3B4455;\n",
              "      fill: #D2E3FC;\n",
              "    }\n",
              "\n",
              "    [theme=dark] .colab-df-convert:hover {\n",
              "      background-color: #434B5C;\n",
              "      box-shadow: 0px 1px 3px 1px rgba(0, 0, 0, 0.15);\n",
              "      filter: drop-shadow(0px 1px 2px rgba(0, 0, 0, 0.3));\n",
              "      fill: #FFFFFF;\n",
              "    }\n",
              "  </style>\n",
              "\n",
              "    <script>\n",
              "      const buttonEl =\n",
              "        document.querySelector('#df-5f87593f-5c20-4cba-bd7c-ff03a088bb7b button.colab-df-convert');\n",
              "      buttonEl.style.display =\n",
              "        google.colab.kernel.accessAllowed ? 'block' : 'none';\n",
              "\n",
              "      async function convertToInteractive(key) {\n",
              "        const element = document.querySelector('#df-5f87593f-5c20-4cba-bd7c-ff03a088bb7b');\n",
              "        const dataTable =\n",
              "          await google.colab.kernel.invokeFunction('convertToInteractive',\n",
              "                                                    [key], {});\n",
              "        if (!dataTable) return;\n",
              "\n",
              "        const docLinkHtml = 'Like what you see? Visit the ' +\n",
              "          '<a target=\"_blank\" href=https://colab.research.google.com/notebooks/data_table.ipynb>data table notebook</a>'\n",
              "          + ' to learn more about interactive tables.';\n",
              "        element.innerHTML = '';\n",
              "        dataTable['output_type'] = 'display_data';\n",
              "        await google.colab.output.renderOutput(dataTable, element);\n",
              "        const docLink = document.createElement('div');\n",
              "        docLink.innerHTML = docLinkHtml;\n",
              "        element.appendChild(docLink);\n",
              "      }\n",
              "    </script>\n",
              "  </div>\n",
              "\n",
              "\n",
              "<div id=\"df-746266b7-db00-4306-8d9a-ee6aaee06d66\">\n",
              "  <button class=\"colab-df-quickchart\" onclick=\"quickchart('df-746266b7-db00-4306-8d9a-ee6aaee06d66')\"\n",
              "            title=\"Suggest charts\"\n",
              "            style=\"display:none;\">\n",
              "\n",
              "<svg xmlns=\"http://www.w3.org/2000/svg\" height=\"24px\"viewBox=\"0 0 24 24\"\n",
              "     width=\"24px\">\n",
              "    <g>\n",
              "        <path d=\"M19 3H5c-1.1 0-2 .9-2 2v14c0 1.1.9 2 2 2h14c1.1 0 2-.9 2-2V5c0-1.1-.9-2-2-2zM9 17H7v-7h2v7zm4 0h-2V7h2v10zm4 0h-2v-4h2v4z\"/>\n",
              "    </g>\n",
              "</svg>\n",
              "  </button>\n",
              "\n",
              "<style>\n",
              "  .colab-df-quickchart {\n",
              "      --bg-color: #E8F0FE;\n",
              "      --fill-color: #1967D2;\n",
              "      --hover-bg-color: #E2EBFA;\n",
              "      --hover-fill-color: #174EA6;\n",
              "      --disabled-fill-color: #AAA;\n",
              "      --disabled-bg-color: #DDD;\n",
              "  }\n",
              "\n",
              "  [theme=dark] .colab-df-quickchart {\n",
              "      --bg-color: #3B4455;\n",
              "      --fill-color: #D2E3FC;\n",
              "      --hover-bg-color: #434B5C;\n",
              "      --hover-fill-color: #FFFFFF;\n",
              "      --disabled-bg-color: #3B4455;\n",
              "      --disabled-fill-color: #666;\n",
              "  }\n",
              "\n",
              "  .colab-df-quickchart {\n",
              "    background-color: var(--bg-color);\n",
              "    border: none;\n",
              "    border-radius: 50%;\n",
              "    cursor: pointer;\n",
              "    display: none;\n",
              "    fill: var(--fill-color);\n",
              "    height: 32px;\n",
              "    padding: 0;\n",
              "    width: 32px;\n",
              "  }\n",
              "\n",
              "  .colab-df-quickchart:hover {\n",
              "    background-color: var(--hover-bg-color);\n",
              "    box-shadow: 0 1px 2px rgba(60, 64, 67, 0.3), 0 1px 3px 1px rgba(60, 64, 67, 0.15);\n",
              "    fill: var(--button-hover-fill-color);\n",
              "  }\n",
              "\n",
              "  .colab-df-quickchart-complete:disabled,\n",
              "  .colab-df-quickchart-complete:disabled:hover {\n",
              "    background-color: var(--disabled-bg-color);\n",
              "    fill: var(--disabled-fill-color);\n",
              "    box-shadow: none;\n",
              "  }\n",
              "\n",
              "  .colab-df-spinner {\n",
              "    border: 2px solid var(--fill-color);\n",
              "    border-color: transparent;\n",
              "    border-bottom-color: var(--fill-color);\n",
              "    animation:\n",
              "      spin 1s steps(1) infinite;\n",
              "  }\n",
              "\n",
              "  @keyframes spin {\n",
              "    0% {\n",
              "      border-color: transparent;\n",
              "      border-bottom-color: var(--fill-color);\n",
              "      border-left-color: var(--fill-color);\n",
              "    }\n",
              "    20% {\n",
              "      border-color: transparent;\n",
              "      border-left-color: var(--fill-color);\n",
              "      border-top-color: var(--fill-color);\n",
              "    }\n",
              "    30% {\n",
              "      border-color: transparent;\n",
              "      border-left-color: var(--fill-color);\n",
              "      border-top-color: var(--fill-color);\n",
              "      border-right-color: var(--fill-color);\n",
              "    }\n",
              "    40% {\n",
              "      border-color: transparent;\n",
              "      border-right-color: var(--fill-color);\n",
              "      border-top-color: var(--fill-color);\n",
              "    }\n",
              "    60% {\n",
              "      border-color: transparent;\n",
              "      border-right-color: var(--fill-color);\n",
              "    }\n",
              "    80% {\n",
              "      border-color: transparent;\n",
              "      border-right-color: var(--fill-color);\n",
              "      border-bottom-color: var(--fill-color);\n",
              "    }\n",
              "    90% {\n",
              "      border-color: transparent;\n",
              "      border-bottom-color: var(--fill-color);\n",
              "    }\n",
              "  }\n",
              "</style>\n",
              "\n",
              "  <script>\n",
              "    async function quickchart(key) {\n",
              "      const quickchartButtonEl =\n",
              "        document.querySelector('#' + key + ' button');\n",
              "      quickchartButtonEl.disabled = true;  // To prevent multiple clicks.\n",
              "      quickchartButtonEl.classList.add('colab-df-spinner');\n",
              "      try {\n",
              "        const charts = await google.colab.kernel.invokeFunction(\n",
              "            'suggestCharts', [key], {});\n",
              "      } catch (error) {\n",
              "        console.error('Error during call to suggestCharts:', error);\n",
              "      }\n",
              "      quickchartButtonEl.classList.remove('colab-df-spinner');\n",
              "      quickchartButtonEl.classList.add('colab-df-quickchart-complete');\n",
              "    }\n",
              "    (() => {\n",
              "      let quickchartButtonEl =\n",
              "        document.querySelector('#df-746266b7-db00-4306-8d9a-ee6aaee06d66 button');\n",
              "      quickchartButtonEl.style.display =\n",
              "        google.colab.kernel.accessAllowed ? 'block' : 'none';\n",
              "    })();\n",
              "  </script>\n",
              "</div>\n",
              "\n",
              "    </div>\n",
              "  </div>\n"
            ],
            "application/vnd.google.colaboratory.intrinsic+json": {
              "type": "dataframe",
              "variable_name": "df"
            }
          },
          "metadata": {},
          "execution_count": 44
        }
      ]
    },
    {
      "cell_type": "code",
      "source": [
        "df.shape"
      ],
      "metadata": {
        "colab": {
          "base_uri": "https://localhost:8080/"
        },
        "id": "TDwwoY6GtCK8",
        "outputId": "c35e6730-cd2a-45a2-fed8-a9d052b2f75e"
      },
      "execution_count": 69,
      "outputs": [
        {
          "output_type": "execute_result",
          "data": {
            "text/plain": [
              "(222489, 13)"
            ]
          },
          "metadata": {},
          "execution_count": 69
        }
      ]
    },
    {
      "cell_type": "code",
      "source": [
        "df.isnull().sum()"
      ],
      "metadata": {
        "colab": {
          "base_uri": "https://localhost:8080/"
        },
        "id": "ipbV78Ces9Jg",
        "outputId": "58021bcc-c42f-4d6c-b307-202181c4e38d"
      },
      "execution_count": 68,
      "outputs": [
        {
          "output_type": "execute_result",
          "data": {
            "text/plain": [
              "ticket_no                    0\n",
              "subject                      0\n",
              "description                 80\n",
              "impact                       0\n",
              "urgency                      0\n",
              "priority                     0\n",
              "ticket_type                  0\n",
              "group                      297\n",
              "service                  12447\n",
              "channel_notification     12489\n",
              "category                 56914\n",
              "sub_category            206416\n",
              "created_at                   0\n",
              "dtype: int64"
            ]
          },
          "metadata": {},
          "execution_count": 68
        }
      ]
    },
    {
      "cell_type": "markdown",
      "source": [
        "### **categorical columns**\n",
        "\n",
        "\n",
        "`categorical_column = ['group','service','channel_notification','category']`\n",
        "\n",
        "\n",
        "```\n",
        "- get dummies first\n",
        "- using KNN imputation\n",
        "```"
      ],
      "metadata": {
        "id": "pyHsTC84uzSI"
      }
    },
    {
      "cell_type": "code",
      "source": [
        "df['group'].nunique()"
      ],
      "metadata": {
        "colab": {
          "base_uri": "https://localhost:8080/"
        },
        "id": "ycrCCLOXtYyB",
        "outputId": "4ae19c48-0d1e-4438-cda3-2fbb1a7d26ab"
      },
      "execution_count": 70,
      "outputs": [
        {
          "output_type": "execute_result",
          "data": {
            "text/plain": [
              "71"
            ]
          },
          "metadata": {},
          "execution_count": 70
        }
      ]
    },
    {
      "cell_type": "code",
      "source": [
        "df['service'].nunique()"
      ],
      "metadata": {
        "colab": {
          "base_uri": "https://localhost:8080/"
        },
        "id": "xG3jwB54ugg0",
        "outputId": "387924e0-eb1b-4811-d4f1-69e24c94d50e"
      },
      "execution_count": 71,
      "outputs": [
        {
          "output_type": "execute_result",
          "data": {
            "text/plain": [
              "377"
            ]
          },
          "metadata": {},
          "execution_count": 71
        }
      ]
    },
    {
      "cell_type": "code",
      "source": [
        "df['category'].nunique()"
      ],
      "metadata": {
        "colab": {
          "base_uri": "https://localhost:8080/"
        },
        "id": "LBVG4ZsBukFx",
        "outputId": "4d97448c-9db2-4764-d1df-845c55c6adbe"
      },
      "execution_count": 73,
      "outputs": [
        {
          "output_type": "execute_result",
          "data": {
            "text/plain": [
              "407"
            ]
          },
          "metadata": {},
          "execution_count": 73
        }
      ]
    },
    {
      "cell_type": "code",
      "source": [
        "df['channel_notification'].unique()"
      ],
      "metadata": {
        "colab": {
          "base_uri": "https://localhost:8080/",
          "height": 164
        },
        "id": "_vx8IZN7uij8",
        "outputId": "a451ff61-3764-4301-e204-4c2a7da2f9cf"
      },
      "execution_count": 1,
      "outputs": [
        {
          "output_type": "error",
          "ename": "NameError",
          "evalue": "name 'df' is not defined",
          "traceback": [
            "\u001b[0;31m---------------------------------------------------------------------------\u001b[0m",
            "\u001b[0;31mNameError\u001b[0m                                 Traceback (most recent call last)",
            "\u001b[0;32m<ipython-input-1-b38be3f25699>\u001b[0m in \u001b[0;36m<cell line: 1>\u001b[0;34m()\u001b[0m\n\u001b[0;32m----> 1\u001b[0;31m \u001b[0mdf\u001b[0m\u001b[0;34m[\u001b[0m\u001b[0;34m'channel_notification'\u001b[0m\u001b[0;34m]\u001b[0m\u001b[0;34m.\u001b[0m\u001b[0munique\u001b[0m\u001b[0;34m(\u001b[0m\u001b[0;34m)\u001b[0m\u001b[0;34m\u001b[0m\u001b[0;34m\u001b[0m\u001b[0m\n\u001b[0m",
            "\u001b[0;31mNameError\u001b[0m: name 'df' is not defined"
          ]
        }
      ]
    },
    {
      "cell_type": "code",
      "source": [
        "from sklearn.impute import KNNImputer\n",
        "\n",
        "categorical_column = ['group','service','channel_notification','category']\n",
        "df_encoded = pd.get_dummies(df, columns=['categorical_column'], drop_first=True)\n",
        "knn_imputer = KNNImputer(n_neighbors=5)\n",
        "df_imputed = knn_imputer.fit_transform(df_encoded)"
      ],
      "metadata": {
        "id": "lGnChZp7uPvw"
      },
      "execution_count": null,
      "outputs": []
    },
    {
      "cell_type": "code",
      "source": [],
      "metadata": {
        "id": "eunssDj3vN3U"
      },
      "execution_count": null,
      "outputs": []
    },
    {
      "cell_type": "code",
      "source": [
        "df['description']"
      ],
      "metadata": {
        "colab": {
          "base_uri": "https://localhost:8080/"
        },
        "id": "r__9-d803NdM",
        "outputId": "bd1b98aa-0b55-43d6-e9ad-65631d5f1ebe"
      },
      "execution_count": 74,
      "outputs": [
        {
          "output_type": "execute_result",
          "data": {
            "text/plain": [
              "0         From: \"NQM Interlink Telecom\" <nqm@interlinkte...\n",
              "1         From: Werachat Nawaroongruang <werachat.nawaro...\n",
              "2         รับสายลูกค้าคุณสุริยา เบอร์ 0818863505 แจ้งมีต...\n",
              "3         From: \"Teerayut Saowamok\" <teerayut.sa@transfo...\n",
              "4         From: Servicedesk <servicedesk@inetms.co.th>\\n...\n",
              "                                ...                        \n",
              "222484    From: \"servicedesk@inetms.co.th\" <servicedesk@...\n",
              "222485    From: Nantida Vorasutipaibul <nantida.vo@inet....\n",
              "222486    From: Siriporn Tanasin <siriporn.ta@inet.co.th...\n",
              "222487    From: Kunanon Ruanlek <kunanon.ru@inet.co.th>\\...\n",
              "222488    From: Natkamon Thoungnuam <natkamon.th@inet.co...\n",
              "Name: description, Length: 222489, dtype: object"
            ]
          },
          "metadata": {},
          "execution_count": 74
        }
      ]
    },
    {
      "cell_type": "code",
      "source": [
        "df.info()"
      ],
      "metadata": {
        "colab": {
          "base_uri": "https://localhost:8080/"
        },
        "id": "5Mi1ZX7Fp0oC",
        "outputId": "e2533cd6-fa72-4cec-c7fa-10fb0d25683f"
      },
      "execution_count": 49,
      "outputs": [
        {
          "output_type": "stream",
          "name": "stdout",
          "text": [
            "<class 'pandas.core.frame.DataFrame'>\n",
            "RangeIndex: 222489 entries, 0 to 222488\n",
            "Data columns (total 13 columns):\n",
            " #   Column                Non-Null Count   Dtype \n",
            "---  ------                --------------   ----- \n",
            " 0   ticket_no             222489 non-null  int64 \n",
            " 1   subject               222489 non-null  object\n",
            " 2   description           222409 non-null  object\n",
            " 3   impact                222489 non-null  int64 \n",
            " 4   urgency               222489 non-null  int64 \n",
            " 5   priority              222489 non-null  int64 \n",
            " 6   ticket_type           222489 non-null  int64 \n",
            " 7   group                 222192 non-null  object\n",
            " 8   service               210042 non-null  object\n",
            " 9   channel_notification  210000 non-null  object\n",
            " 10  category              165575 non-null  object\n",
            " 11  sub_category          16073 non-null   object\n",
            " 12  created_at            222489 non-null  object\n",
            "dtypes: int64(5), object(8)\n",
            "memory usage: 22.1+ MB\n"
          ]
        }
      ]
    },
    {
      "cell_type": "code",
      "source": [
        "check = df[['impact', 'urgency', 'priority', 'ticket_type']]"
      ],
      "metadata": {
        "id": "Gl9nn6GfqKND"
      },
      "execution_count": 67,
      "outputs": []
    },
    {
      "cell_type": "code",
      "source": [
        "# Calculate the correlation matrix\n",
        "correlation_matrix = check.corr()\n",
        "\n",
        "# Extract the correlation of 'ticket_type' with other columns\n",
        "ticket_type_correlation = correlation_matrix['ticket_type']"
      ],
      "metadata": {
        "id": "4gaAkaRbqE4m"
      },
      "execution_count": 53,
      "outputs": []
    },
    {
      "cell_type": "code",
      "source": [
        "import matplotlib.pyplot as plt\n",
        "import numpy as np\n",
        "\n",
        "plt.figure(figsize=(8, 6))\n",
        "heatmap = plt.imshow(correlation_matrix, cmap='Reds', interpolation='nearest')\n",
        "plt.colorbar(heatmap)\n",
        "\n",
        "# Add the column and row names\n",
        "plt.xticks(np.arange(len(correlation_matrix.columns)), correlation_matrix.columns, rotation=45, ha='right')\n",
        "plt.yticks(np.arange(len(correlation_matrix.index)), correlation_matrix.index)\n",
        "\n",
        "# Add annotations\n",
        "for i in range(len(correlation_matrix.columns)):\n",
        "    for j in range(len(correlation_matrix.index)):\n",
        "        plt.text(i, j, f'{correlation_matrix.iloc[j, i]:.2f}',\n",
        "                 ha='center', va='center', color='black')\n",
        "\n",
        "plt.title('Correlation Matrix Heatmap')\n",
        "plt.tight_layout()\n",
        "\n",
        "# Show the plot\n",
        "plt.show()"
      ],
      "metadata": {
        "colab": {
          "base_uri": "https://localhost:8080/",
          "height": 607
        },
        "id": "XcMatSXGqb2A",
        "outputId": "70b25b2d-1f11-4243-a76d-c51cea249ff1"
      },
      "execution_count": 66,
      "outputs": [
        {
          "output_type": "display_data",
          "data": {
            "text/plain": [
              "<Figure size 800x600 with 2 Axes>"
            ],
            "image/png": "[encoded data removed]"
          },
          "metadata": {}
        }
      ]
    }
  ]
}