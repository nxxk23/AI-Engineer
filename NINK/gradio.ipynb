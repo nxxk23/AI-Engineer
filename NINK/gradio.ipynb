{
  "nbformat": 4,
  "nbformat_minor": 0,
  "metadata": {
    "colab": {
      "provenance": [],
      "authorship_tag": "ABX9TyNGh8hU0BBIh2JUzRab3nj3",
      "include_colab_link": true
    },
    "kernelspec": {
      "name": "python3",
      "display_name": "Python 3"
    },
    "language_info": {
      "name": "python"
    }
  },
  "cells": [
    {
      "cell_type": "markdown",
      "metadata": {
        "id": "view-in-github",
        "colab_type": "text"
      },
      "source": [
        "<a href=\"https://colab.research.google.com/github/nxxk23/AI-Engineer/blob/main/NINK/gradio.ipynb\" target=\"_parent\"><img src=\"https://colab.research.google.com/assets/colab-badge.svg\" alt=\"Open In Colab\"/></a>"
      ]
    },
    {
      "cell_type": "code",
      "source": [
        "!pip -q install gradio"
      ],
      "metadata": {
        "colab": {
          "base_uri": "https://localhost:8080/"
        },
        "id": "tY8RjxBjxOUl",
        "outputId": "0e5af82b-c64b-4aa2-f2a2-23b505ac9b57"
      },
      "execution_count": 2,
      "outputs": [
        {
          "output_type": "stream",
          "name": "stdout",
          "text": [
            "\u001b[2K   \u001b[90m━━━━━━━━━━━━━━━━━━━━━━━━━━━━━━━━━━━━━━━━\u001b[0m \u001b[32m62.3/62.3 MB\u001b[0m \u001b[31m10.9 MB/s\u001b[0m eta \u001b[36m0:00:00\u001b[0m\n",
            "\u001b[2K   \u001b[90m━━━━━━━━━━━━━━━━━━━━━━━━━━━━━━━━━━━━━━━━\u001b[0m \u001b[32m322.1/322.1 kB\u001b[0m \u001b[31m11.3 MB/s\u001b[0m eta \u001b[36m0:00:00\u001b[0m\n",
            "\u001b[2K   \u001b[90m━━━━━━━━━━━━━━━━━━━━━━━━━━━━━━━━━━━━━━━━\u001b[0m \u001b[32m94.8/94.8 kB\u001b[0m \u001b[31m9.0 MB/s\u001b[0m eta \u001b[36m0:00:00\u001b[0m\n",
            "\u001b[2K   \u001b[90m━━━━━━━━━━━━━━━━━━━━━━━━━━━━━━━━━━━━━━━━\u001b[0m \u001b[32m12.6/12.6 MB\u001b[0m \u001b[31m64.9 MB/s\u001b[0m eta \u001b[36m0:00:00\u001b[0m\n",
            "\u001b[2K   \u001b[90m━━━━━━━━━━━━━━━━━━━━━━━━━━━━━━━━━━━━━━━━\u001b[0m \u001b[32m71.5/71.5 kB\u001b[0m \u001b[31m6.2 MB/s\u001b[0m eta \u001b[36m0:00:00\u001b[0m\n",
            "\u001b[2K   \u001b[90m━━━━━━━━━━━━━━━━━━━━━━━━━━━━━━━━━━━━━━━━\u001b[0m \u001b[32m62.3/62.3 kB\u001b[0m \u001b[31m5.6 MB/s\u001b[0m eta \u001b[36m0:00:00\u001b[0m\n",
            "\u001b[?25h"
          ]
        }
      ]
    },
    {
      "cell_type": "code",
      "execution_count": null,
      "metadata": {
        "colab": {
          "base_uri": "https://localhost:8080/",
          "height": 1000
        },
        "id": "r5VN1IYMwbkS",
        "outputId": "4759ac00-87a1-404a-800b-4a805c6e5585"
      },
      "outputs": [
        {
          "output_type": "stream",
          "name": "stdout",
          "text": [
            "Running Gradio in a Colab notebook requires sharing enabled. Automatically setting `share=True` (you can turn this off by setting `share=False` in `launch()` explicitly).\n",
            "\n",
            "Colab notebook detected. This cell will run indefinitely so that you can see errors and logs. To turn off, set debug=False in launch().\n",
            "* Running on public URL: https://835c69b96b25f7a55c.gradio.live\n",
            "\n",
            "This share link expires in 72 hours. For free permanent hosting and GPU upgrades, run `gradio deploy` from the terminal in the working directory to deploy to Hugging Face Spaces (https://huggingface.co/spaces)\n"
          ]
        },
        {
          "output_type": "display_data",
          "data": {
            "text/plain": [
              "<IPython.core.display.HTML object>"
            ],
            "text/html": [
              "<div><iframe src=\"https://835c69b96b25f7a55c.gradio.live\" width=\"100%\" height=\"500\" allow=\"autoplay; camera; microphone; clipboard-read; clipboard-write;\" frameborder=\"0\" allowfullscreen></iframe></div>"
            ]
          },
          "metadata": {}
        },
        {
          "output_type": "stream",
          "name": "stdout",
          "text": [
            "Fetched interactions: ['ATAZANAVIR 300 MG TAB <-> FENTANYL INJ 50 MCG/ML']\n",
            "Interaction Data: [{'tpuid1': 426595, 'tpuid2': 767369, 'drug_name1': 'ATAZANAVIR 300 MG TAB', 'drug_name2': 'FENTANYL INJ 50 MCG/ML', 'interaction_detail': 'OPIOID ANALGESIC plasma concentrations may be increased and the tฝ prolonged, increasing the risk of adverse reactions (eg, respiratory depression).', 'Onset': 2, 'Severity': 2, 'Documentation': 3, 'Significance': 2, 'management': 'Closely monitor respiratory function during OPIOID ANALGESIC administration and for a longer period than usual after stopping the OPIOID ANALGESIC in patients receiving PROTEASE INHIBITORS. If the OPIOID ANALGESIC is administered continuously, it may be n', 'mechanism': 'Possible inhibition of OPIOID ANALGESIC metabolism (CYP3A4) in the gut wall and liver.', 'discussion': 'The effect of ritonavir on fentanyl pharmacokinetics was assessed in 11 healthy volunteers.1 Each subject received ritonavir or placebo for 3 days. Three doses of oral ritonavir 200 mg were given on day 1 and 3 doses of ritonavir 300 mg were administered ', 'upduser': '-', 'reference': 'DRUG INTERACTION FACT 2009'}]\n"
          ]
        },
        {
          "output_type": "stream",
          "name": "stderr",
          "text": [
            "/usr/local/lib/python3.11/dist-packages/gradio/components/dropdown.py:226: UserWarning: The value passed into gr.Dropdown() is not in the list of choices. Please update the list of choices to include:  or set allow_custom_value=True.\n",
            "  warnings.warn(\n"
          ]
        },
        {
          "output_type": "stream",
          "name": "stdout",
          "text": [
            "Selected interaction: ATAZANAVIR 300 MG TAB <-> FENTANYL INJ 50 MCG/ML\n",
            "Found matching interaction: ATAZANAVIR 300 MG TAB <-> FENTANYL INJ 50 MCG/ML\n",
            "Interaction detail: {'tpuid1': 426595, 'tpuid2': 767369, 'drug_name1': 'ATAZANAVIR 300 MG TAB', 'drug_name2': 'FENTANYL INJ 50 MCG/ML', 'interaction_detail': 'OPIOID ANALGESIC plasma concentrations may be increased and the tฝ prolonged, increasing the risk of adverse reactions (eg, respiratory depression).', 'Onset': 2, 'Severity': 2, 'Documentation': 3, 'Significance': 2, 'management': 'Closely monitor respiratory function during OPIOID ANALGESIC administration and for a longer period than usual after stopping the OPIOID ANALGESIC in patients receiving PROTEASE INHIBITORS. If the OPIOID ANALGESIC is administered continuously, it may be n', 'mechanism': 'Possible inhibition of OPIOID ANALGESIC metabolism (CYP3A4) in the gut wall and liver.', 'discussion': 'The effect of ritonavir on fentanyl pharmacokinetics was assessed in 11 healthy volunteers.1 Each subject received ritonavir or placebo for 3 days. Three doses of oral ritonavir 200 mg were given on day 1 and 3 doses of ritonavir 300 mg were administered ', 'upduser': '-', 'reference': 'DRUG INTERACTION FACT 2009'}\n",
            "Found details: {'tpuid1': 426595, 'tpuid2': 767369, 'drug_name1': 'ATAZANAVIR 300 MG TAB', 'drug_name2': 'FENTANYL INJ 50 MCG/ML', 'interaction_detail': 'OPIOID ANALGESIC plasma concentrations may be increased and the tฝ prolonged, increasing the risk of adverse reactions (eg, respiratory depression).', 'Onset': 2, 'Severity': 2, 'Documentation': 3, 'Significance': 2, 'management': 'Closely monitor respiratory function during OPIOID ANALGESIC administration and for a longer period than usual after stopping the OPIOID ANALGESIC in patients receiving PROTEASE INHIBITORS. If the OPIOID ANALGESIC is administered continuously, it may be n', 'mechanism': 'Possible inhibition of OPIOID ANALGESIC metabolism (CYP3A4) in the gut wall and liver.', 'discussion': 'The effect of ritonavir on fentanyl pharmacokinetics was assessed in 11 healthy volunteers.1 Each subject received ritonavir or placebo for 3 days. Three doses of oral ritonavir 200 mg were given on day 1 and 3 doses of ritonavir 300 mg were administered ', 'upduser': '-', 'reference': 'DRUG INTERACTION FACT 2009'}\n",
            "(2, 2, 2, 3, 'OPIOID ANALGESIC plasma concentrations may be increased and the tฝ prolonged, increasing the risk of adverse reactions (eg, respiratory depression).', 'Possible inhibition of OPIOID ANALGESIC metabolism (CYP3A4) in the gut wall and liver.', 'Closely monitor respiratory function during OPIOID ANALGESIC administration and for a longer period than usual after stopping the OPIOID ANALGESIC in patients receiving PROTEASE INHIBITORS. If the OPIOID ANALGESIC is administered continuously, it may be n', 'The effect of ritonavir on fentanyl pharmacokinetics was assessed in 11 healthy volunteers.1 Each subject received ritonavir or placebo for 3 days. Three doses of oral ritonavir 200 mg were given on day 1 and 3 doses of ritonavir 300 mg were administered ')\n",
            "Fetched interactions: ['AMILORIDE+HCTZ TAB. <-> POTASSIUM CHLORIDE INJ 20MEQ/10ML', 'WARFARIN 3 MG TAB <-> ASPIRIN 300 MG TAB']\n",
            "Interaction Data: [{'tpuid1': 262926, 'tpuid2': 519545, 'drug_name1': 'AMILORIDE+HCTZ TAB.', 'drug_name2': 'POTASSIUM CHLORIDE INJ 20MEQ/10ML', 'interaction_detail': 'POTASSIUM SPARING DIURETICS will increase potassium retention and can produce severe hyperkalemia.', 'Onset': 2, 'Severity': 1, 'Documentation': 1, 'Significance': 1, 'management': 'Do not use this combination without documented evidence that a patient has clinical symptoms of hypokalemia unresponsive to either agent alone. If the combination is required, the patient should have strict dietary counseling and close monitoring of serum', 'mechanism': 'A reduction in renal elimination of the potassium ion.', 'discussion': 'One study shows death from hyperkalemia due to potassium supplementation to be one of the more common causes of drug related deaths.3 Studies have shown that potassium sparing diuretics enhance potassium retention.1,2,4 A number of studies and case report', 'upduser': '-', 'reference': 'DRUG INTERACTION FACT 2009'}, {'tpuid1': 108159, 'tpuid2': 226243, 'drug_name1': 'WARFARIN 3 MG TAB', 'drug_name2': 'ASPIRIN 300 MG TAB', 'interaction_detail': 'ANTICOAGULANT activity may be enhanced. The adverse reactions of ASPIRIN on gastric mucosa and platelet function also may enhance the possibility of hemorrhage.', 'Onset': 2, 'Severity': 1, 'Documentation': 1, 'Significance': 1, 'management': 'If concurrent use cannot be avoided, frequently monitor INR and adjust ANTICOAGULANT dose accordingly when starting or stopping SALICYLATE therapy. Instruct patients to report unusual bleeding or bruising if ASPIRIN or topical SALICYLATES and ANTICOAGULAN', 'mechanism': 'See discussion', 'discussion': 'Controlled studies in patients receiving oral anticoagulants consistently demonstrated enhanced anticoagulant activity when aspirin doses exceeded 3 g/day.1 4 Platelet aggregation is inhibited in large and smaller aspirin doses.5,6 Severe hypoprothrombine', 'upduser': '-', 'reference': 'DRUG INTERACTION FACT 2009'}]\n",
            "Selected interaction: AMILORIDE+HCTZ TAB. <-> POTASSIUM CHLORIDE INJ 20MEQ/10ML\n",
            "Found matching interaction: AMILORIDE+HCTZ TAB. <-> POTASSIUM CHLORIDE INJ 20MEQ/10ML\n",
            "Interaction detail: {'tpuid1': 262926, 'tpuid2': 519545, 'drug_name1': 'AMILORIDE+HCTZ TAB.', 'drug_name2': 'POTASSIUM CHLORIDE INJ 20MEQ/10ML', 'interaction_detail': 'POTASSIUM SPARING DIURETICS will increase potassium retention and can produce severe hyperkalemia.', 'Onset': 2, 'Severity': 1, 'Documentation': 1, 'Significance': 1, 'management': 'Do not use this combination without documented evidence that a patient has clinical symptoms of hypokalemia unresponsive to either agent alone. If the combination is required, the patient should have strict dietary counseling and close monitoring of serum', 'mechanism': 'A reduction in renal elimination of the potassium ion.', 'discussion': 'One study shows death from hyperkalemia due to potassium supplementation to be one of the more common causes of drug related deaths.3 Studies have shown that potassium sparing diuretics enhance potassium retention.1,2,4 A number of studies and case report', 'upduser': '-', 'reference': 'DRUG INTERACTION FACT 2009'}\n",
            "Found details: {'tpuid1': 262926, 'tpuid2': 519545, 'drug_name1': 'AMILORIDE+HCTZ TAB.', 'drug_name2': 'POTASSIUM CHLORIDE INJ 20MEQ/10ML', 'interaction_detail': 'POTASSIUM SPARING DIURETICS will increase potassium retention and can produce severe hyperkalemia.', 'Onset': 2, 'Severity': 1, 'Documentation': 1, 'Significance': 1, 'management': 'Do not use this combination without documented evidence that a patient has clinical symptoms of hypokalemia unresponsive to either agent alone. If the combination is required, the patient should have strict dietary counseling and close monitoring of serum', 'mechanism': 'A reduction in renal elimination of the potassium ion.', 'discussion': 'One study shows death from hyperkalemia due to potassium supplementation to be one of the more common causes of drug related deaths.3 Studies have shown that potassium sparing diuretics enhance potassium retention.1,2,4 A number of studies and case report', 'upduser': '-', 'reference': 'DRUG INTERACTION FACT 2009'}\n",
            "(1, 2, 1, 1, 'POTASSIUM SPARING DIURETICS will increase potassium retention and can produce severe hyperkalemia.', 'A reduction in renal elimination of the potassium ion.', 'Do not use this combination without documented evidence that a patient has clinical symptoms of hypokalemia unresponsive to either agent alone. If the combination is required, the patient should have strict dietary counseling and close monitoring of serum', 'One study shows death from hyperkalemia due to potassium supplementation to be one of the more common causes of drug related deaths.3 Studies have shown that potassium sparing diuretics enhance potassium retention.1,2,4 A number of studies and case report')\n",
            "Selected interaction: WARFARIN 3 MG TAB <-> ASPIRIN 300 MG TAB\n",
            "Found matching interaction: WARFARIN 3 MG TAB <-> ASPIRIN 300 MG TAB\n",
            "Interaction detail: {'tpuid1': 108159, 'tpuid2': 226243, 'drug_name1': 'WARFARIN 3 MG TAB', 'drug_name2': 'ASPIRIN 300 MG TAB', 'interaction_detail': 'ANTICOAGULANT activity may be enhanced. The adverse reactions of ASPIRIN on gastric mucosa and platelet function also may enhance the possibility of hemorrhage.', 'Onset': 2, 'Severity': 1, 'Documentation': 1, 'Significance': 1, 'management': 'If concurrent use cannot be avoided, frequently monitor INR and adjust ANTICOAGULANT dose accordingly when starting or stopping SALICYLATE therapy. Instruct patients to report unusual bleeding or bruising if ASPIRIN or topical SALICYLATES and ANTICOAGULAN', 'mechanism': 'See discussion', 'discussion': 'Controlled studies in patients receiving oral anticoagulants consistently demonstrated enhanced anticoagulant activity when aspirin doses exceeded 3 g/day.1 4 Platelet aggregation is inhibited in large and smaller aspirin doses.5,6 Severe hypoprothrombine', 'upduser': '-', 'reference': 'DRUG INTERACTION FACT 2009'}\n",
            "Found details: {'tpuid1': 108159, 'tpuid2': 226243, 'drug_name1': 'WARFARIN 3 MG TAB', 'drug_name2': 'ASPIRIN 300 MG TAB', 'interaction_detail': 'ANTICOAGULANT activity may be enhanced. The adverse reactions of ASPIRIN on gastric mucosa and platelet function also may enhance the possibility of hemorrhage.', 'Onset': 2, 'Severity': 1, 'Documentation': 1, 'Significance': 1, 'management': 'If concurrent use cannot be avoided, frequently monitor INR and adjust ANTICOAGULANT dose accordingly when starting or stopping SALICYLATE therapy. Instruct patients to report unusual bleeding or bruising if ASPIRIN or topical SALICYLATES and ANTICOAGULAN', 'mechanism': 'See discussion', 'discussion': 'Controlled studies in patients receiving oral anticoagulants consistently demonstrated enhanced anticoagulant activity when aspirin doses exceeded 3 g/day.1 4 Platelet aggregation is inhibited in large and smaller aspirin doses.5,6 Severe hypoprothrombine', 'upduser': '-', 'reference': 'DRUG INTERACTION FACT 2009'}\n",
            "(1, 2, 1, 1, 'ANTICOAGULANT activity may be enhanced. The adverse reactions of ASPIRIN on gastric mucosa and platelet function also may enhance the possibility of hemorrhage.', 'See discussion', 'If concurrent use cannot be avoided, frequently monitor INR and adjust ANTICOAGULANT dose accordingly when starting or stopping SALICYLATE therapy. Instruct patients to report unusual bleeding or bruising if ASPIRIN or topical SALICYLATES and ANTICOAGULAN', 'Controlled studies in patients receiving oral anticoagulants consistently demonstrated enhanced anticoagulant activity when aspirin doses exceeded 3 g/day.1 4 Platelet aggregation is inhibited in large and smaller aspirin doses.5,6 Severe hypoprothrombine')\n",
            "Fetched interactions: []\n",
            "Interaction Data: []\n"
          ]
        }
      ],
      "source": [
        "import gradio as gr\n",
        "import requests\n",
        "\n",
        "# Function to call the FastAPI endpoint and get drug interactions\n",
        "def get_interactions(drug_names, tpuid_ids):\n",
        "    url = \"http://quanta2.manageai.co.th:7777/interactions/\"\n",
        "    # Prepare the data to send to FastAPI\n",
        "    data = {\n",
        "        \"input_text\": drug_names.split(\",\"),\n",
        "        \"tpu_id\": [int(x) for x in tpuid_ids.split(\",\")]\n",
        "    }\n",
        "    response = requests.post(url, json=data)\n",
        "\n",
        "    if response.status_code == 200:\n",
        "        interactions_data = response.json().get(\"interactions\", [])\n",
        "        interaction_pairs = []\n",
        "        # Prepare a list of drug pairs to show in the dropdown\n",
        "        for interaction in interactions_data:\n",
        "            pair_name = f\"{interaction['drug_name1']} <-> {interaction['drug_name2']}\"\n",
        "            interaction_pairs.append(pair_name)  # Just names for dropdown\n",
        "        return interaction_pairs, interactions_data  # Return pairs and full interaction data\n",
        "    else:\n",
        "        print(f\"Error fetching data: {response.status_code}\")\n",
        "        return [], []\n",
        "\n",
        "\n",
        "\n",
        "# Define sample input sets for convenience\n",
        "def set_sample_input(sample_set):\n",
        "    samples = {\n",
        "        \"🚫ยาที่ใช้ร่วมกันไม่ได้ทั้งหมด\": (\"AMILORIDE+HCTZ TAB., POTASSIUM CHLORIDE INJ 20MEQ/10ML,ASPIRIN 300 MG TAB,BEFARIN 3\", \"262926, 519545,226243,108159\"),\n",
        "        \"💊ยาที่ใช้ร่วมกันไม่ได้บางชนิด\": (\"FENOFIBRATE 100 MG TAB, ESTROMON (STANDARD CHEM. & PHARM., TAIWAN) (conjugated estrogens 625 mcg) film-coated tablet 1 tablet (TPU), FENTANYL INJ 50 MCG/ML ATAZANAVIR 300 MG TAB\", \"115372,645737,767369,426595\"),\n",
        "        \"✅ ยาที่ใช้ร่วมกันได้ทั้งหมด\": (\"ADRENALINE INJ. 1 MG/ML, IMIPRAMINE 25 MG TAB\", \"537227,715055\")  # No interactions expected\n",
        "    }\n",
        "    return samples.get(sample_set, (\"\", \"\"))\n",
        "\n",
        "css = \"\"\"\n",
        "    #interaction_output {\n",
        "        border: 3px solid #6fc276 !important;\n",
        "        border-radius: 10px;\n",
        "        transition: 0.3s ease-in-out;\n",
        "        padding: 5px;\n",
        "    }\n",
        "\"\"\"\n",
        "\n",
        "with gr.Blocks(css=css) as demo:\n",
        "    # Inject the CSS using Markdown\n",
        "    gr.Markdown(\"## 💊 Drug Interaction Checker\")\n",
        "\n",
        "    # Dropdown for selecting sample set\n",
        "    sample_set_dropdown = gr.Dropdown(\n",
        "        choices=[\"Select Sample Set\", \"🚫ยาที่ใช้ร่วมกันไม่ได้ทั้งหมด\", \"💊ยาที่ใช้ร่วมกันไม่ได้บางชนิด\", \"✅ ยาที่ใช้ร่วมกันได้ทั้งหมด\"],\n",
        "        label=\"Select Test Sample\",\n",
        "        interactive=True,\n",
        "        elem_id=\"interaction_output\"  # Assign an elem_id\n",
        "    )\n",
        "\n",
        "    # Inputs for drug names and TPUIDs\n",
        "    with gr.Row():\n",
        "        drug_input = gr.Textbox(label=\"Enter Drug Names (comma-separated)\")\n",
        "        tpu_input = gr.Textbox(label=\"Enter TPUIDs (comma-separated)\")\n",
        "\n",
        "    submit_btn = gr.Button(\"Check Interactions\")\n",
        "\n",
        "    # Dropdown for displaying interactions\n",
        "    gr.Markdown(\"### เลือกคู่ยาเพื่อดูรายละเอียดปฎิกิริยา ℹ️\")\n",
        "    interaction_output = gr.Dropdown(\n",
        "        label=\"Select Drug Interaction\",\n",
        "        choices=[],  # Start with an empty list\n",
        "        interactive=True,  # Assign an ID for styling\n",
        "        elem_id=\"interaction_output\"  # Assign an elem_id\n",
        "    )\n",
        "\n",
        "    # Textboxes for displaying details of the selected interaction\n",
        "    with gr.Row():\n",
        "        significance_box = gr.Textbox(label=\"Significance\", interactive=False)\n",
        "        onset_box = gr.Textbox(label=\"Onset\", interactive=False)\n",
        "        severity_box = gr.Textbox(label=\"Severity\", interactive=False)\n",
        "        documentation_box = gr.Textbox(label=\"Documentation\", interactive=False)\n",
        "\n",
        "    with gr.Row():\n",
        "        with gr.Accordion(\"Effects\", open=True):\n",
        "            effect_box = gr.Textbox(label=\"Effects\", interactive=False, lines=1.5)\n",
        "\n",
        "        with gr.Accordion(\"Mechanism\", open=True):\n",
        "            mechanism_box = gr.Textbox(label=\"Mechanism\", interactive=False, lines=1.5)\n",
        "\n",
        "    with gr.Row():\n",
        "        with gr.Accordion(\"Management\", open=True):\n",
        "            management_box = gr.Textbox(label=\"Management\", interactive=False, lines=1.5)\n",
        "\n",
        "        with gr.Accordion(\"Discussion\", open=True):\n",
        "            discussion_box = gr.Textbox(label=\"Discussion\", interactive=False, lines=1.5)\n",
        "\n",
        "    footer = gr.Markdown(\"\")\n",
        "\n",
        "    # Link sample set selection to the inputs\n",
        "    sample_set_dropdown.change(\n",
        "        set_sample_input,\n",
        "        inputs=[sample_set_dropdown],\n",
        "        outputs=[drug_input, tpu_input]\n",
        "    )\n",
        "\n",
        "    def on_submit(drug_names, tpuid_ids):\n",
        "        interactions, interaction_data = get_interactions(drug_names, tpuid_ids)\n",
        "        print(f\"Fetched interactions: {interactions}\")\n",
        "        print(f\"Interaction Data: {interaction_data}\")\n",
        "\n",
        "        if not interactions:\n",
        "            return (\n",
        "                gr.update(choices=[\"No opposing drug interactions\"], value=\"No opposing drug interactions\"),  # Show message in dropdown\n",
        "                \"No opposing drug interactions\",  # Show error message\n",
        "                gr.State([]),\n",
        "                \"\", \"\", \"\", \"\", \"\", \"\", \"\", \"\"\n",
        "            )\n",
        "\n",
        "        return (\n",
        "            gr.update(choices=interactions, value=\"\"),\n",
        "            \"\",\n",
        "            gr.State(interaction_data),\n",
        "            \"\", \"\", \"\", \"\", \"\", \"\", \"\", \"\"\n",
        "        )\n",
        "\n",
        "\n",
        "    # Add an error output (gr.Textbox) for error messages\n",
        "    error_message_box = gr.Textbox(label=\"Error\", interactive=False, visible=False)\n",
        "\n",
        "    submit_btn.click(\n",
        "        on_submit,\n",
        "        inputs=[drug_input, tpu_input],\n",
        "        outputs=[\n",
        "            interaction_output,\n",
        "            error_message_box,\n",
        "            gr.State(),\n",
        "            significance_box,\n",
        "            onset_box,\n",
        "            severity_box,\n",
        "            documentation_box,\n",
        "            effect_box,\n",
        "            mechanism_box,\n",
        "            management_box,\n",
        "            discussion_box\n",
        "        ]\n",
        "    )\n",
        "\n",
        "    def store_detail(interaction_data):\n",
        "        # If there's no interaction data, return empty fields\n",
        "        if not interaction_data:\n",
        "            print(\"No interaction data available.\")  # Log when no data exists\n",
        "            return [[\"\", \"\", \"\", \"\", \"\", \"\", \"\"]]  # Return an empty set of values\n",
        "\n",
        "        all_details = []\n",
        "        # Iterate over all interaction data and collect the details\n",
        "        for details in interaction_data:\n",
        "            print(f\"Found details: {details}\")  # Log the found details\n",
        "\n",
        "            # Collect the details for each interaction, defaulting to empty string if not available\n",
        "            interaction_details = [\n",
        "                details.get(\"Significance\", \"\"),\n",
        "                details.get(\"Onset\", \"\"),\n",
        "                details.get(\"Severity\", \"\"),\n",
        "                details.get(\"Documentation\", \"\"),\n",
        "                details.get(\"interaction_detail\",\"\"),\n",
        "                details.get(\"mechanism\", \"\"),\n",
        "                details.get(\"management\", \"\"),\n",
        "                details.get(\"discussion\", \"\"),\n",
        "            ]\n",
        "\n",
        "            all_details.append(interaction_details)\n",
        "        return all_details\n",
        "\n",
        "    def on_interaction_select(selected_interaction, drug_input, tpu_input):\n",
        "        print(f\"Selected interaction: {selected_interaction}\")  # Log the selected interaction\n",
        "        interactions, interaction_detail = get_interactions(drug_input, tpu_input)\n",
        "\n",
        "        for idx, interaction in enumerate(interactions):\n",
        "            if selected_interaction == interaction:\n",
        "                print(f\"Found matching interaction: {selected_interaction}\")  # Log when a match is found\n",
        "\n",
        "                # Extract the corresponding interaction_detail for the matched interaction\n",
        "                matching_interaction_detail = interaction_detail[idx]\n",
        "                print(f\"Interaction detail: {matching_interaction_detail}\")  # Log the corresponding interaction details\n",
        "\n",
        "                # Store the matching details using store_detail function\n",
        "                my_store = store_detail([matching_interaction_detail])  # จะได้ list ซ้อน [[...]]\n",
        "                print(tuple(my_store[0]))\n",
        "                # ต้องแยกค่าออกมาเป็น 8 ตัว ไม่ใช่ list ซ้อน\n",
        "                return tuple(my_store[0])  # ใช้ tuple เพื่อให้แยกค่าเป็น 8 ตัว\n",
        "\n",
        "\n",
        "    # Update the interaction details on selection\n",
        "    interaction_output.select(\n",
        "        on_interaction_select,\n",
        "        inputs=[interaction_output, drug_input, tpu_input],\n",
        "        outputs=[\n",
        "            significance_box, onset_box, severity_box, documentation_box, effect_box, mechanism_box, management_box, discussion_box\n",
        "        ]\n",
        "    )\n",
        "\n",
        "# Launch the Gradio interface\n",
        "demo.launch(debug=True)"
      ]
    },
    {
      "cell_type": "code",
      "source": [],
      "metadata": {
        "id": "dUBnQCoRxJSF"
      },
      "execution_count": null,
      "outputs": []
    }
  ]
}