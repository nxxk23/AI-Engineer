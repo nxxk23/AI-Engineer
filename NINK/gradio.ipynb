{
  "nbformat": 4,
  "nbformat_minor": 0,
  "metadata": {
    "colab": {
      "provenance": [],
      "authorship_tag": "ABX9TyNexwmgtzW+PV70rjoYdiYt",
      "include_colab_link": true
    },
    "kernelspec": {
      "name": "python3",
      "display_name": "Python 3"
    },
    "language_info": {
      "name": "python"
    }
  },
  "cells": [
    {
      "cell_type": "markdown",
      "metadata": {
        "id": "view-in-github",
        "colab_type": "text"
      },
      "source": [
        "<a href=\"https://colab.research.google.com/github/nxxk23/AI-Engineer/blob/main/NINK/gradio.ipynb\" target=\"_parent\"><img src=\"https://colab.research.google.com/assets/colab-badge.svg\" alt=\"Open In Colab\"/></a>"
      ]
    },
    {
      "cell_type": "code",
      "execution_count": 1,
      "metadata": {
        "colab": {
          "base_uri": "https://localhost:8080/"
        },
        "id": "5YCPk3OuhDyJ",
        "outputId": "970e93d6-a6b7-476b-dfd8-5a692242aa05"
      },
      "outputs": [
        {
          "output_type": "stream",
          "name": "stdout",
          "text": [
            "\u001b[2K   \u001b[90m━━━━━━━━━━━━━━━━━━━━━━━━━━━━━━━━━━━━━━━━\u001b[0m \u001b[32m62.3/62.3 MB\u001b[0m \u001b[31m12.8 MB/s\u001b[0m eta \u001b[36m0:00:00\u001b[0m\n",
            "\u001b[2K   \u001b[90m━━━━━━━━━━━━━━━━━━━━━━━━━━━━━━━━━━━━━━━━\u001b[0m \u001b[32m322.1/322.1 kB\u001b[0m \u001b[31m11.1 MB/s\u001b[0m eta \u001b[36m0:00:00\u001b[0m\n",
            "\u001b[2K   \u001b[90m━━━━━━━━━━━━━━━━━━━━━━━━━━━━━━━━━━━━━━━━\u001b[0m \u001b[32m94.8/94.8 kB\u001b[0m \u001b[31m5.2 MB/s\u001b[0m eta \u001b[36m0:00:00\u001b[0m\n",
            "\u001b[2K   \u001b[90m━━━━━━━━━━━━━━━━━━━━━━━━━━━━━━━━━━━━━━━━\u001b[0m \u001b[32m12.6/12.6 MB\u001b[0m \u001b[31m71.7 MB/s\u001b[0m eta \u001b[36m0:00:00\u001b[0m\n",
            "\u001b[2K   \u001b[90m━━━━━━━━━━━━━━━━━━━━━━━━━━━━━━━━━━━━━━━━\u001b[0m \u001b[32m71.5/71.5 kB\u001b[0m \u001b[31m3.8 MB/s\u001b[0m eta \u001b[36m0:00:00\u001b[0m\n",
            "\u001b[2K   \u001b[90m━━━━━━━━━━━━━━━━━━━━━━━━━━━━━━━━━━━━━━━━\u001b[0m \u001b[32m62.3/62.3 kB\u001b[0m \u001b[31m4.2 MB/s\u001b[0m eta \u001b[36m0:00:00\u001b[0m\n",
            "\u001b[?25h"
          ]
        }
      ],
      "source": [
        "!pip -q install gradio requests"
      ]
    },
    {
      "cell_type": "code",
      "source": [
        "import gradio as gr\n",
        "import requests\n",
        "\n",
        "# Function to call the FastAPI endpoint and get drug interactions\n",
        "def get_interactions(drug_names, tpuid_ids):\n",
        "    url = \"http://quanta2.manageai.co.th:7777/interactions/\"\n",
        "    # Prepare the data to send to FastAPI\n",
        "    data = {\n",
        "        \"input_text\": drug_names.split(\",\"),\n",
        "        \"tpu_id\": [int(x) for x in tpuid_ids.split(\",\")]\n",
        "    }\n",
        "    response = requests.post(url, json=data)\n",
        "\n",
        "    if response.status_code == 200:\n",
        "        interactions_data = response.json().get(\"interactions\", [])\n",
        "        interaction_pairs = []\n",
        "        # Prepare a list of drug pairs to show in the dropdown\n",
        "        for interaction in interactions_data:\n",
        "            pair_name = f\"{interaction['drug_name1']} + {interaction['drug_name2']}\"\n",
        "            interaction_pairs.append(pair_name)  # Just names for dropdown\n",
        "        return interaction_pairs, interactions_data  # Return pairs and full interaction data\n",
        "    else:\n",
        "        print(f\"Error fetching data: {response.status_code}\")\n",
        "        return [], []"
      ],
      "metadata": {
        "id": "igQFgFW0O2WK"
      },
      "execution_count": null,
      "outputs": []
    },
    {
      "cell_type": "code",
      "source": [
        "import gradio as gr\n",
        "import requests\n",
        "\n",
        "# Function to call the FastAPI endpoint and get drug interactions\n",
        "def get_interactions(drug_names, tpuid_ids):\n",
        "    url = \"http://quanta2.manageai.co.th:7777/interactions/\"\n",
        "    # Prepare the data to send to FastAPI\n",
        "    data = {\n",
        "        \"input_text\": drug_names.split(\",\"),\n",
        "        \"tpu_id\": [int(x) for x in tpuid_ids.split(\",\")]\n",
        "    }\n",
        "    response = requests.post(url, json=data)\n",
        "\n",
        "    if response.status_code == 200:\n",
        "        interactions_data = response.json().get(\"interactions\", [])\n",
        "        interaction_pairs = []\n",
        "        # Prepare a list of drug pairs to show in the dropdown\n",
        "        for interaction in interactions_data:\n",
        "            pair_name = f\"{interaction['drug_name1']} + {interaction['drug_name2']}\"\n",
        "            interaction_pairs.append(pair_name)  # Just names for dropdown\n",
        "        return interaction_pairs, interactions_data  # Return pairs and full interaction data\n",
        "    else:\n",
        "        print(f\"Error fetching data: {response.status_code}\")\n",
        "        return [], []\n",
        "\n",
        "# Function to fetch details of a selected interaction\n",
        "def get_interaction_details(interaction_data, drug_name1, drug_name2):\n",
        "    details = next((item for item in interaction_data\n",
        "                    if item['drug_name1'].strip() == drug_name1.strip()\n",
        "                    and item['drug_name2'].strip() == drug_name2.strip()), None)\n",
        "    if details:\n",
        "        return {\n",
        "            \"Interaction_detail\": details.get(\"interaction_detail\", \"\"),\n",
        "            \"Significance\": details.get(\"Significance\", \"\"),\n",
        "            \"Onset\": details.get(\"Onset\", \"\"),\n",
        "            \"Severity\": details.get(\"Severity\", \"\"),\n",
        "            \"Documentation\": details.get(\"Documentation\", \"\"),\n",
        "            \"Effect\": details.get(\"Effect\", \"\"),\n",
        "            \"Mechanism\": details.get(\"Mechanism\", \"\"),\n",
        "            \"Management\": details.get(\"Management\", \"\"),\n",
        "            \"Discussion\": details.get(\"Discussion\", \"\")\n",
        "        }\n",
        "    else:\n",
        "        return {key: \"\" for key in [\"Interaction_detail\", \"Significance\", \"Onset\", \"Severity\", \"Documentation\", \"Effect\", \"Mechanism\", \"Management\", \"Discussion\"]}\n",
        "        print(f\"details: {details}\")\n",
        "\n",
        "# Define sample input sets for convenience\n",
        "def set_sample_input(sample_set):\n",
        "    samples = {\n",
        "        \"Set 1\": (\"AMILORIDE+HCTZ TAB., POTASSIUM CHLORIDE INJ 20MEQ/10ML,ASPIRIN 300 MG TAB,BEFARIN 3\", \"262926, 519545,226243,108159\"),\n",
        "        \"Set 2\": (\"AMILORIDE+HCTZ TAB., POTASSIUM CHLORIDE INJ 20MEQ/10ML\", \"262926, 519545\"),\n",
        "        \"Set 3\": (\"AMILORIDE+HCTZ TAB., POTASSIUM CHLORIDE INJ 20MEQ/10ML,ASPIRIN 300 MG TAB,BEFARIN 3\", \"262926, 519545, 226243, 108159\"),\n",
        "        \"Set 4\": (\"AAAA,BBBB\", \"0000000, 0000000\")  # No interactions expected\n",
        "    }\n",
        "    return samples.get(sample_set, (\"\", \"\"))\n",
        "\n",
        "# Gradio UI Setup\n",
        "with gr.Blocks() as demo:\n",
        "    gr.Markdown(\"## 💊 Drug Interaction Checker\")\n",
        "\n",
        "    # Dropdown for selecting sample set\n",
        "    sample_set_dropdown = gr.Dropdown(\n",
        "        choices=[\"Select Sample Set\", \"Set 1\", \"Set 2\", \"Set 3\", \"Set 4\"],\n",
        "        label=\"Select Test Sample\",\n",
        "        interactive=True\n",
        "    )\n",
        "\n",
        "    # Inputs for drug names and TPUIDs\n",
        "    with gr.Row():\n",
        "        drug_input = gr.Textbox(label=\"Enter Drug Names (comma-separated)\")\n",
        "        tpu_input = gr.Textbox(label=\"Enter TPUIDs (comma-separated)\")\n",
        "\n",
        "    submit_btn = gr.Button(\"Check Interactions\")\n",
        "\n",
        "    # Dropdown for displaying interactions\n",
        "    interaction_output = gr.Dropdown(\n",
        "        label=\"Select Drug Interaction\",\n",
        "        choices=[],  # Start with an empty list\n",
        "        interactive=True\n",
        "    )\n",
        "\n",
        "    # Textboxes for displaying details of the selected interaction\n",
        "    with gr.Row():\n",
        "        significance_box = gr.Textbox(label=\"Significance\", interactive=False)\n",
        "        onset_box = gr.Textbox(label=\"Onset\", interactive=False)\n",
        "        severity_box = gr.Textbox(label=\"Severity\", interactive=False)\n",
        "        documentation_box = gr.Textbox(label=\"Documentation\", interactive=False)\n",
        "\n",
        "    with gr.Accordion(\"Effect\", open=True):\n",
        "        effect_box = gr.Textbox(label=\"Effect\", interactive=False, lines=1.5)\n",
        "\n",
        "    with gr.Accordion(\"Mechanism\", open=True):\n",
        "        mechanism_box = gr.Textbox(label=\"Mechanism\", interactive=False, lines=1.5)\n",
        "\n",
        "    with gr.Accordion(\"Management\", open=True):\n",
        "        management_box = gr.Textbox(label=\"Management\", interactive=False, lines=1.5)\n",
        "\n",
        "    with gr.Accordion(\"Discussion\", open=True):\n",
        "        discussion_box = gr.Textbox(label=\"Discussion\", interactive=False, lines=1.5)\n",
        "\n",
        "    footer = gr.Markdown(\"\")\n",
        "\n",
        "    # Link sample set selection to the inputs\n",
        "    sample_set_dropdown.change(\n",
        "        set_sample_input,\n",
        "        inputs=[sample_set_dropdown],\n",
        "        outputs=[drug_input, tpu_input]\n",
        "    )\n",
        "\n",
        "    # Handle the submit button to fetch interactions\n",
        "    def on_submit(drug_names, tpuid_ids):\n",
        "        interactions, interaction_data = get_interactions(drug_names, tpuid_ids)\n",
        "        print(f\"Fetched interactions: {interactions}\")  # Log fetched interactions\n",
        "        print(f\"Interaction Data: {interaction_data}\")  # Log the entire interaction data for inspection\n",
        "\n",
        "        if not interactions:\n",
        "            return [], [], []  # Return empty dropdown if no interactions found\n",
        "        return gr.update(choices=interactions), gr.update(value=interaction_data), gr.State(interaction_data)\n",
        "\n",
        "    # Add an error output (gr.Textbox) for error messages\n",
        "    error_message_box = gr.Textbox(label=\"Error\", interactive=False, visible=False)\n",
        "\n",
        "    submit_btn.click(\n",
        "        on_submit,\n",
        "        inputs=[drug_input, tpu_input],\n",
        "        outputs=[interaction_output, error_message_box, gr.State()]\n",
        "    )\n",
        "\n",
        "    # Function when interaction is selected\n",
        "    def on_interaction_select(selected_interaction, interaction_data):\n",
        "        print(f\"Selected interaction: {selected_interaction}\")  # Log the selected interaction\n",
        "\n",
        "        if not selected_interaction:\n",
        "            print(\"No interaction selected.\")\n",
        "            return [\"\", \"\", \"\", \"\", \"\", \"\", \"\", \"\"]\n",
        "\n",
        "        print(f\"Interaction data available: {interaction_data}\")  # Log the available interaction data\n",
        "\n",
        "        if not interaction_data:\n",
        "            print(\"No interaction data available\")\n",
        "            return [\"\", \"\", \"\", \"\", \"\", \"\", \"\", \"\"]\n",
        "\n",
        "        try:\n",
        "            # Split the selected interaction to extract drug names\n",
        "            drug_name1, drug_name2 = selected_interaction.split(\" + \")\n",
        "            print(f\"Drug 1: {drug_name1.strip()}, Drug 2: {drug_name2.strip()}\")  # Log the split drug names\n",
        "        except Exception as e:\n",
        "            print(f\"Error splitting selected interaction: {e}\")  # Log any error during splitting\n",
        "            return [\"\", \"\", \"\", \"\", \"\", \"\", \"\", \"\"]\n",
        "\n",
        "        # Get the details for the selected drugs\n",
        "        interaction_details = get_interaction_details(interaction_data, drug_name1, drug_name2)\n",
        "\n",
        "        return [\n",
        "            interaction_details.get(\"Significance\", \"\"),\n",
        "            interaction_details.get(\"Onset\", \"\"),\n",
        "            interaction_details.get(\"Severity\", \"\"),\n",
        "            interaction_details.get(\"Documentation\", \"\"),\n",
        "            interaction_details.get(\"Effect\", \"\"),\n",
        "            interaction_details.get(\"Mechanism\", \"\"),\n",
        "            interaction_details.get(\"Management\", \"\"),\n",
        "            interaction_details.get(\"Discussion\", \"\")\n",
        "        ]\n",
        "\n",
        "\n",
        "    # Update the interaction details on selection\n",
        "    interaction_output.select(\n",
        "        on_interaction_select,\n",
        "        inputs=[interaction_output, gr.State()],\n",
        "        outputs=[significance_box, onset_box, severity_box, documentation_box,\n",
        "                 effect_box, mechanism_box, management_box, discussion_box]\n",
        "    )\n",
        "\n",
        "# Launch the Gradio interface\n",
        "demo.launch(debug=True)\n"
      ],
      "metadata": {
        "colab": {
          "base_uri": "https://localhost:8080/",
          "height": 732
        },
        "id": "vz3JI5ffk4cI",
        "outputId": "7de1f624-cd50-40ae-c773-5ce928917b35"
      },
      "execution_count": null,
      "outputs": [
        {
          "output_type": "stream",
          "name": "stdout",
          "text": [
            "Running Gradio in a Colab notebook requires sharing enabled. Automatically setting `share=True` (you can turn this off by setting `share=False` in `launch()` explicitly).\n",
            "\n",
            "Colab notebook detected. This cell will run indefinitely so that you can see errors and logs. To turn off, set debug=False in launch().\n",
            "* Running on public URL: https://7b4f6ea19eea8364bf.gradio.live\n",
            "\n",
            "This share link expires in 72 hours. For free permanent hosting and GPU upgrades, run `gradio deploy` from the terminal in the working directory to deploy to Hugging Face Spaces (https://huggingface.co/spaces)\n"
          ]
        },
        {
          "output_type": "display_data",
          "data": {
            "text/plain": [
              "<IPython.core.display.HTML object>"
            ],
            "text/html": [
              "<div><iframe src=\"https://7b4f6ea19eea8364bf.gradio.live\" width=\"100%\" height=\"500\" allow=\"autoplay; camera; microphone; clipboard-read; clipboard-write;\" frameborder=\"0\" allowfullscreen></iframe></div>"
            ]
          },
          "metadata": {}
        },
        {
          "output_type": "stream",
          "name": "stdout",
          "text": [
            "Fetched interactions: ['AMILORIDE+HCTZ TAB. + POTASSIUM CHLORIDE INJ 20MEQ/10ML', 'WARFARIN 3 MG TAB + ASPIRIN 300 MG TAB']\n",
            "Interaction Data: [{'tpuid1': 262926, 'tpuid2': 519545, 'drug_name1': 'AMILORIDE+HCTZ TAB.', 'drug_name2': 'POTASSIUM CHLORIDE INJ 20MEQ/10ML', 'interaction_detail': 'POTASSIUM SPARING DIURETICS will increase potassium retention and can produce severe hyperkalemia.', 'Onset': 2, 'Severity': 1, 'Documentation': 1, 'Significance': 1, 'management': 'Do not use this combination without documented evidence that a patient has clinical symptoms of hypokalemia unresponsive to either agent alone. If the combination is required, the patient should have strict dietary counseling and close monitoring of serum', 'mechanism': 'A reduction in renal elimination of the potassium ion.', 'discussion': 'One study shows death from hyperkalemia due to potassium supplementation to be one of the more common causes of drug related deaths.3 Studies have shown that potassium sparing diuretics enhance potassium retention.1,2,4 A number of studies and case report', 'upduser': '-', 'reference': 'DRUG INTERACTION FACT 2009'}, {'tpuid1': 108159, 'tpuid2': 226243, 'drug_name1': 'WARFARIN 3 MG TAB', 'drug_name2': 'ASPIRIN 300 MG TAB', 'interaction_detail': 'ANTICOAGULANT activity may be enhanced. The adverse reactions of ASPIRIN on gastric mucosa and platelet function also may enhance the possibility of hemorrhage.', 'Onset': 2, 'Severity': 1, 'Documentation': 1, 'Significance': 1, 'management': 'If concurrent use cannot be avoided, frequently monitor INR and adjust ANTICOAGULANT dose accordingly when starting or stopping SALICYLATE therapy. Instruct patients to report unusual bleeding or bruising if ASPIRIN or topical SALICYLATES and ANTICOAGULAN', 'mechanism': 'See discussion', 'discussion': 'Controlled studies in patients receiving oral anticoagulants consistently demonstrated enhanced anticoagulant activity when aspirin doses exceeded 3 g/day.1 4 Platelet aggregation is inhibited in large and smaller aspirin doses.5,6 Severe hypoprothrombine', 'upduser': '-', 'reference': 'DRUG INTERACTION FACT 2009'}]\n",
            "Selected interaction: WARFARIN 3 MG TAB + ASPIRIN 300 MG TAB\n",
            "Interaction data available: None\n",
            "No interaction data available\n"
          ]
        }
      ]
    },
    {
      "cell_type": "code",
      "source": [],
      "metadata": {
        "id": "GYL_TnU7L-6_"
      },
      "execution_count": null,
      "outputs": []
    }
  ]
}