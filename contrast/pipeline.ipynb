{
  "nbformat": 4,
  "nbformat_minor": 0,
  "metadata": {
    "colab": {
      "provenance": [],
      "authorship_tag": "ABX9TyPpoPxs8VaK+/FNpvZYPm3o",
      "include_colab_link": true
    },
    "kernelspec": {
      "name": "python3",
      "display_name": "Python 3"
    },
    "language_info": {
      "name": "python"
    }
  },
  "cells": [
    {
      "cell_type": "markdown",
      "metadata": {
        "id": "view-in-github",
        "colab_type": "text"
      },
      "source": [
        "<a href=\"https://colab.research.google.com/github/nxxk23/AI-Engineer/blob/main/contrast/pipeline.ipynb\" target=\"_parent\"><img src=\"https://colab.research.google.com/assets/colab-badge.svg\" alt=\"Open In Colab\"/></a>"
      ]
    },
    {
      "cell_type": "code",
      "source": [
        "from google.colab import drive\n",
        "drive.mount('/content/drive')"
      ],
      "metadata": {
        "colab": {
          "base_uri": "https://localhost:8080/"
        },
        "id": "zrAvjtY7f7hI",
        "outputId": "231f9c93-9ec3-4b14-92c7-17f1cc4c10b6"
      },
      "execution_count": 1,
      "outputs": [
        {
          "output_type": "stream",
          "name": "stdout",
          "text": [
            "Mounted at /content/drive\n"
          ]
        }
      ]
    },
    {
      "cell_type": "code",
      "source": [
        "import zipfile\n",
        "\n",
        "zip_path = \"/content/drive/MyDrive/AIEngineer/contrast/pipeline/TMTRF20250303.zip\"\n",
        "\n",
        "# Open the ZIP file and list its contents\n",
        "with zipfile.ZipFile(zip_path, 'r') as zip_ref:\n",
        "    file_list = zip_ref.namelist()\n",
        "\n",
        "print(\"Files in ZIP:\")\n",
        "for file in file_list:\n",
        "    print(file)"
      ],
      "metadata": {
        "colab": {
          "base_uri": "https://localhost:8080/"
        },
        "id": "pAcBc8yBgBd2",
        "outputId": "9ea595a1-1089-440e-fe94-614d8673a59a"
      },
      "execution_count": 2,
      "outputs": [
        {
          "output_type": "stream",
          "name": "stdout",
          "text": [
            "Files in ZIP:\n",
            "TMT in summary V3.pdf\n",
            "TMTRF20250303/\n",
            "TMTRF20250303/TMTRF20250303_DELTA.xls\n",
            "TMTRF20250303/TMTRF20250303_FULL.xls\n",
            "TMTRF20250303/TMTRF20250303_SNAPSHOT.xls\n",
            "TMTRF20250303/TMTRF20250303_SNAPSHOT_GP_F.xls\n",
            "TMTRF20250303_BONUS/\n",
            "TMTRF20250303_BONUS/Concept/\n",
            "TMTRF20250303_BONUS/Concept/GP20250303.xls\n",
            "TMTRF20250303_BONUS/Concept/GPP20250303.xls\n",
            "TMTRF20250303_BONUS/Concept/GPU20250303.xls\n",
            "TMTRF20250303_BONUS/Concept/SUBS20250303.xls\n",
            "TMTRF20250303_BONUS/Concept/TP20250303.xls\n",
            "TMTRF20250303_BONUS/Concept/TPP20250303.xls\n",
            "TMTRF20250303_BONUS/Concept/TPU20250303.xls\n",
            "TMTRF20250303_BONUS/Concept/VTM20250303.xls\n",
            "TMTRF20250303_BONUS/MasterTMT_20250303.xls\n",
            "TMTRF20250303_BONUS/Relationship/\n",
            "TMTRF20250303_BONUS/Relationship/GPPtoGPP20250303.xls\n",
            "TMTRF20250303_BONUS/Relationship/GPPtoTPP20250303.xls\n",
            "TMTRF20250303_BONUS/Relationship/GPtoGPU20250303.xls\n",
            "TMTRF20250303_BONUS/Relationship/GPtoTP20250303.xls\n",
            "TMTRF20250303_BONUS/Relationship/GPUtoGPP20250303.xls\n",
            "TMTRF20250303_BONUS/Relationship/GPUtoTPU20250303.xls\n",
            "TMTRF20250303_BONUS/Relationship/SUBStoVTM20250303.xls\n",
            "TMTRF20250303_BONUS/Relationship/TPPtoTPP20250303.xls\n",
            "TMTRF20250303_BONUS/Relationship/TPtoTPU20250303.xls\n",
            "TMTRF20250303_BONUS/Relationship/TPUtoTPP20250303.xls\n",
            "TMTRF20250303_BONUS/Relationship/VTMtoGP20250303.xls\n",
            "ReleaseNote_TMTRF20250303.pdf\n"
          ]
        }
      ]
    },
    {
      "cell_type": "code",
      "source": [
        "!pip install neo4j"
      ],
      "metadata": {
        "colab": {
          "base_uri": "https://localhost:8080/"
        },
        "id": "l679ovghhn7m",
        "outputId": "ea8aab92-c1dd-40b9-959d-5b0ea0537e07"
      },
      "execution_count": 3,
      "outputs": [
        {
          "output_type": "stream",
          "name": "stdout",
          "text": [
            "Collecting neo4j\n",
            "  Downloading neo4j-5.28.1-py3-none-any.whl.metadata (5.9 kB)\n",
            "Requirement already satisfied: pytz in /usr/local/lib/python3.11/dist-packages (from neo4j) (2025.1)\n",
            "Downloading neo4j-5.28.1-py3-none-any.whl (312 kB)\n",
            "\u001b[?25l   \u001b[90m━━━━━━━━━━━━━━━━━━━━━━━━━━━━━━━━━━━━━━━━\u001b[0m \u001b[32m0.0/312.3 kB\u001b[0m \u001b[31m?\u001b[0m eta \u001b[36m-:--:--\u001b[0m\r\u001b[2K   \u001b[91m━━━━━━━━━━━\u001b[0m\u001b[91m╸\u001b[0m\u001b[90m━━━━━━━━━━━━━━━━━━━━━━━━━━━━\u001b[0m \u001b[32m92.2/312.3 kB\u001b[0m \u001b[31m2.5 MB/s\u001b[0m eta \u001b[36m0:00:01\u001b[0m\r\u001b[2K   \u001b[90m━━━━━━━━━━━━━━━━━━━━━━━━━━━━━━━━━━━━━━━━\u001b[0m \u001b[32m312.3/312.3 kB\u001b[0m \u001b[31m4.6 MB/s\u001b[0m eta \u001b[36m0:00:00\u001b[0m\n",
            "\u001b[?25hInstalling collected packages: neo4j\n",
            "Successfully installed neo4j-5.28.1\n"
          ]
        }
      ]
    },
    {
      "cell_type": "code",
      "source": [
        "import zipfile\n",
        "import pandas as pd\n",
        "from neo4j import GraphDatabase\n",
        "\n",
        "zip_path = \"/content/drive/MyDrive/AIEngineer/contrast/pipeline/TMTRF20250303.zip\"\n",
        "extract_path = \"/content/drive/MyDrive/AIEngineer/contrast/tmt/\"\n",
        "\n",
        "def extract_latest_files(zip_path, extract_path, date_suffix=\"0303\"):\n",
        "    with zipfile.ZipFile(zip_path, 'r') as zip_ref:\n",
        "        for file in zip_ref.namelist():\n",
        "            if date_suffix in file:\n",
        "                zip_ref.extract(file, extract_path)\n",
        "\n",
        "def load_excel_files(base_path, date_suffix):\n",
        "    files = {\n",
        "        \"GP\": f\"{base_path}/Concept/GP{date_suffix}.xls\",\n",
        "        \"VTM\": f\"{base_path}/Concept/VTM{date_suffix}.xls\",\n",
        "        \"SUBS\": f\"{base_path}/Concept/SUBS{date_suffix}.xls\",\n",
        "        \"TP\": f\"{base_path}/Concept/TP{date_suffix}.xls\",\n",
        "        \"TPU\": f\"{base_path}/Concept/TPU{date_suffix}.xls\",\n",
        "        \"GPU\": f\"{base_path}/Concept/GPU{date_suffix}.xls\",\n",
        "        \"tp_tpu\": f\"{base_path}/Relationship/TPtoTPU{date_suffix}.xls\",\n",
        "        \"gp_tp\": f\"{base_path}/Relationship/GPtoTP{date_suffix}.xls\",\n",
        "        \"vtm_gp\": f\"{base_path}/Relationship/VTMtoGP{date_suffix}.xls\",\n",
        "        \"subs_vtm\": f\"{base_path}/Relationship/SUBStoVTM{date_suffix}.xls\",\n",
        "        \"gp_gpu\": f\"{base_path}/Relationship/GPtoGPU{date_suffix}.xls\"\n",
        "    }\n",
        "    return {key: pd.read_excel(path) for key, path in files.items()}\n",
        "\n",
        "def process_data(data):\n",
        "    merge_df = data['tp_tpu'].merge(data['gp_tp'], on='TPID', how='left')\n",
        "    merge_df = merge_df.merge(data['vtm_gp'], on='GPID', how='left')\n",
        "    merge_df = merge_df.merge(data['subs_vtm'], on='VTMID', how='left')\n",
        "    merge_df = merge_df.merge(data['gp_gpu'][['GPID', 'GPUID']], on='GPID', how='left')\n",
        "    merge_df = merge_df.rename(columns={\n",
        "        'GPID': 'TMTID(GP)', 'TPID': 'TMTID(TP)', 'GPUID': 'TMTID(GPU)', 'TPUID': 'TMTID(TPU)',\n",
        "        'VTMID': 'TMTID(VTM)', 'SUBSID': 'TMTID(SUBS)'\n",
        "    })\n",
        "    for key in ['GP', 'TP', 'GPU', 'TPU', 'VTM', 'SUBS']:\n",
        "        merge_df = merge_df.merge(data[key][['TMTID(' + key + ')', 'FSN']], on='TMTID(' + key + ')', how='left')\n",
        "        merge_df = merge_df.rename(columns={'FSN': key + 'NAME'})\n",
        "    merge_df = merge_df.groupby(['TMTID(TPU)', 'TPUNAME','TMTID(TP)', 'TPNAME', 'TMTID(GPU)', 'GPUNAME',\n",
        "                                   'TMTID(GP)', 'GPNAME','TMTID(VTM)','VTMNAME'], as_index=False).agg({\n",
        "        'TMTID(SUBS)': list, 'SUBSNAME': list\n",
        "    })\n",
        "    merge_df = merge_df.rename(columns={'TMTID(SUBS)': 'SUBSID_LIST', 'SUBSNAME': 'SUBS_LIST'})\n",
        "    return merge_df\n",
        "\n",
        "def update_neo4j(df):\n",
        "    uri = \"neo4j+s://707666c5.databases.neo4j.io\"\n",
        "    user = \"neo4j\"\n",
        "    password = \"A_v96H_jhZ7rLXGYAqJa-hN8_fIVlGbjt4IQM3cJE18\"\n",
        "    driver = GraphDatabase.driver(uri, auth=(user, password))\n",
        "\n",
        "    with driver.session() as session:\n",
        "        session.run(\"\"\"\n",
        "            CREATE CONSTRAINT IF NOT EXISTS ON (n:DRUG) ASSERT n.`TMTID(GP)` IS UNIQUE;\n",
        "            CREATE CONSTRAINT IF NOT EXISTS ON (n:SUBS) ASSERT n.`TMTID(SUBS)` IS UNIQUE;\n",
        "            CREATE CONSTRAINT IF NOT EXISTS ON (n:VTM) ASSERT n.`TMTID(VTM)` IS UNIQUE;\n",
        "            CREATE CONSTRAINT IF NOT EXISTS ON (n:TP) ASSERT n.`TMTID(TP)` IS UNIQUE;\n",
        "            CREATE CONSTRAINT IF NOT EXISTS ON (n:GP) ASSERT n.`TMTID(GP)` IS UNIQUE;\n",
        "        \"\"\")\n",
        "        for _, row in df.iterrows():\n",
        "            session.run(\"\"\"\n",
        "                MERGE (n:DRUG { `TMTID(GP)`: $gp_id })\n",
        "                SET n += { `TMTID(TPU)`: $tpu_id, `TPUNAME`: $tpu_name, `TMTID(TP)`: $tp_id, `TPNAME`: $tp_name,\n",
        "                           `TMTID(GPU)`: $gpu_id, `GPUNAME`: $gpu_name, `GPNAME`: $gp_name,\n",
        "                           `TMTID(VTM)`: $vtm_id, `VTMNAME`: $vtm_name, `SUBSID_LIST`: $subs_list, `SUBS_LIST`: $subs_names }\n",
        "\n",
        "                MERGE (s:SUBS { `TMTID(SUBS)`: $subs_list })\n",
        "                SET s.`SUBSNAME` = $subs_names\n",
        "\n",
        "                MERGE (v:VTM { `TMTID(VTM)`: $vtm_id })\n",
        "                SET v.`VTMNAME` = $vtm_name\n",
        "\n",
        "                MERGE (g:GP { `TMTID(GP)`: $gp_id })\n",
        "                SET g.`GPNAME` = $gp_name\n",
        "\n",
        "                MERGE (t:TP { `TMTID(TP)`: $tp_id })\n",
        "                SET t.`TPNAME` = $tp_name\n",
        "\n",
        "                MERGE (n)-[:HAS_SUBSTANCE]->(s)\n",
        "                MERGE (n)-[:CONTAINS_VTM]->(v)\n",
        "                MERGE (n)-[:HAS_GENERIC_NAME]->(g)\n",
        "                MERGE (g)-[:HAS_TRADE_NAME]->(t)\n",
        "            \"\"\",\n",
        "            gp_id=row['TMTID(GP)'], tpu_id=row['TMTID(TPU)'], tpu_name=row['TPUNAME'],\n",
        "            tp_id=row['TMTID(TP)'], tp_name=row['TPNAME'], gpu_id=row['TMTID(GPU)'],\n",
        "            gpu_name=row['GPUNAME'], gp_name=row['GPNAME'], vtm_id=row['TMTID(VTM)'],\n",
        "            vtm_name=row['VTMNAME'], subs_list=row['SUBSID_LIST'], subs_names=row['SUBS_LIST']\n",
        "        )\n",
        "    driver.close()\n",
        "\n",
        "# Run Pipeline\n",
        "date_suffix = \"20250303\"\n",
        "extract_latest_files(zip_path, extract_path, date_suffix)\n",
        "data = load_excel_files(extract_path, date_suffix)\n",
        "merge_df = process_data(data)\n",
        "update_neo4j(merge_df)\n"
      ],
      "metadata": {
        "id": "i9Q3NhI4hl98"
      },
      "execution_count": null,
      "outputs": []
    }
  ]
}